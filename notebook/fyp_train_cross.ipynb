{
 "cells": [
  {
   "cell_type": "markdown",
   "id": "EBPvaANLadO3",
   "metadata": {
    "id": "EBPvaANLadO3",
    "tags": []
   },
   "source": [
    "# Imports"
   ]
  },
  {
   "cell_type": "code",
   "execution_count": 1,
   "id": "06e33a7e-aaf0-4e6d-9e19-6c2a94c81a1f",
   "metadata": {
    "tags": []
   },
   "outputs": [
    {
     "name": "stdout",
     "output_type": "stream",
     "text": [
      "Collecting opencv-python-headless\n",
      "  Using cached opencv_python_headless-4.9.0.80-cp37-abi3-manylinux_2_17_x86_64.manylinux2014_x86_64.whl.metadata (20 kB)\n",
      "Requirement already satisfied: numpy>=1.21.2 in /opt/conda/lib/python3.10/site-packages (from opencv-python-headless) (1.25.2)\n",
      "Using cached opencv_python_headless-4.9.0.80-cp37-abi3-manylinux_2_17_x86_64.manylinux2014_x86_64.whl (49.6 MB)\n",
      "Installing collected packages: opencv-python-headless\n",
      "Successfully installed opencv-python-headless-4.9.0.80\n",
      "Note: you may need to restart the kernel to use updated packages.\n"
     ]
    }
   ],
   "source": [
    "pip install opencv-python-headless"
   ]
  },
  {
   "cell_type": "code",
   "execution_count": 2,
   "id": "88b6d2c3-27cb-4926-884e-50077acfa8d9",
   "metadata": {
    "tags": []
   },
   "outputs": [
    {
     "name": "stdout",
     "output_type": "stream",
     "text": [
      "Collecting albumentations\n",
      "  Using cached albumentations-1.4.3-py3-none-any.whl.metadata (37 kB)\n",
      "Requirement already satisfied: numpy>=1.24.4 in /opt/conda/lib/python3.10/site-packages (from albumentations) (1.25.2)\n",
      "Requirement already satisfied: scipy>=1.10.0 in /opt/conda/lib/python3.10/site-packages (from albumentations) (1.11.4)\n",
      "Requirement already satisfied: scikit-image>=0.21.0 in /opt/conda/lib/python3.10/site-packages (from albumentations) (0.22.0)\n",
      "Requirement already satisfied: PyYAML in /opt/conda/lib/python3.10/site-packages (from albumentations) (6.0.1)\n",
      "Requirement already satisfied: typing-extensions>=4.9.0 in /opt/conda/lib/python3.10/site-packages (from albumentations) (4.10.0)\n",
      "Requirement already satisfied: scikit-learn>=1.3.2 in /opt/conda/lib/python3.10/site-packages (from albumentations) (1.4.1.post1)\n",
      "Requirement already satisfied: opencv-python-headless>=4.9.0 in /opt/conda/lib/python3.10/site-packages (from albumentations) (4.9.0.80)\n",
      "Requirement already satisfied: networkx>=2.8 in /opt/conda/lib/python3.10/site-packages (from scikit-image>=0.21.0->albumentations) (3.2.1)\n",
      "Requirement already satisfied: pillow>=9.0.1 in /opt/conda/lib/python3.10/site-packages (from scikit-image>=0.21.0->albumentations) (10.2.0)\n",
      "Requirement already satisfied: imageio>=2.27 in /opt/conda/lib/python3.10/site-packages (from scikit-image>=0.21.0->albumentations) (2.34.0)\n",
      "Requirement already satisfied: tifffile>=2022.8.12 in /opt/conda/lib/python3.10/site-packages (from scikit-image>=0.21.0->albumentations) (2024.2.12)\n",
      "Requirement already satisfied: packaging>=21 in /opt/conda/lib/python3.10/site-packages (from scikit-image>=0.21.0->albumentations) (24.0)\n",
      "Requirement already satisfied: lazy_loader>=0.3 in /opt/conda/lib/python3.10/site-packages (from scikit-image>=0.21.0->albumentations) (0.3)\n",
      "Requirement already satisfied: joblib>=1.2.0 in /opt/conda/lib/python3.10/site-packages (from scikit-learn>=1.3.2->albumentations) (1.3.2)\n",
      "Requirement already satisfied: threadpoolctl>=2.0.0 in /opt/conda/lib/python3.10/site-packages (from scikit-learn>=1.3.2->albumentations) (3.3.0)\n",
      "Using cached albumentations-1.4.3-py3-none-any.whl (137 kB)\n",
      "Installing collected packages: albumentations\n",
      "Successfully installed albumentations-1.4.3\n",
      "Note: you may need to restart the kernel to use updated packages.\n"
     ]
    }
   ],
   "source": [
    "pip install -U albumentations"
   ]
  },
  {
   "cell_type": "code",
   "execution_count": 88,
   "id": "a2acf731-3c8f-4152-8457-a3feedd86695",
   "metadata": {
    "tags": []
   },
   "outputs": [],
   "source": [
    "import torch\n",
    "import cv2\n",
    "import shutil\n",
    "import os\n",
    "import zipfile\n",
    "import gzip\n",
    "import random\n",
    "from pprint import pprint\n",
    "\n",
    "from sklearn.model_selection import train_test_split\n",
    "\n",
    "import torchvision.transforms as transforms\n",
    "from torchvision.datasets import ImageFolder\n",
    "from torchvision.transforms import ToTensor\n",
    "import torchvision.transforms.functional as TF\n",
    "import torchvision.models as models\n",
    "\n",
    "from torch.utils.data import Dataset\n",
    "from torch.utils.data import DataLoader\n",
    "import torch.nn as nn\n",
    "import torch.optim as optim\n",
    "\n",
    "import albumentations as A\n",
    "from albumentations.pytorch import ToTensorV2\n",
    "\n",
    "from sklearn.preprocessing import LabelEncoder\n",
    "from sklearn.model_selection import KFold\n",
    "\n",
    "import numpy as np\n",
    "import matplotlib.pyplot as plt\n",
    "import random\n",
    "import pickle"
   ]
  },
  {
   "cell_type": "markdown",
   "id": "2ee6f16f-05fd-41cd-81b5-7875513a5032",
   "metadata": {
    "jp-MarkdownHeadingCollapsed": true,
    "tags": []
   },
   "source": [
    "## Unzipping the dataset"
   ]
  },
  {
   "cell_type": "markdown",
   "id": "5d24c8d5-ae15-40d4-974d-3c7221344bb9",
   "metadata": {
    "tags": []
   },
   "source": [
    "### DONT USE UNTIL PORTING A NEW DATASET"
   ]
  },
  {
   "cell_type": "code",
   "execution_count": null,
   "id": "yb5zCzk2pOVv",
   "metadata": {
    "colab": {
     "base_uri": "https://localhost:8080/"
    },
    "executionInfo": {
     "elapsed": 1051,
     "status": "ok",
     "timestamp": 1710291501576,
     "user": {
      "displayName": "",
      "userId": ""
     },
     "user_tz": 0
    },
    "id": "yb5zCzk2pOVv",
    "outputId": "0c6b2a32-f147-47bf-8a8b-6db099dd424d",
    "tags": []
   },
   "outputs": [],
   "source": [
    "directory_to_remove = 'data_cloud_final/data_cloud_final/imgs/train_set'\n",
    "\n",
    "try:\n",
    "    shutil.rmtree(directory_to_remove)\n",
    "    print(f\"Directory '{directory_to_remove}' successfully removed.\")\n",
    "except OSError as e:\n",
    "    print(f\"Error: {directory_to_remove} : {e.strerror}\")"
   ]
  },
  {
   "cell_type": "code",
   "execution_count": null,
   "id": "8uaQG_XKsouR",
   "metadata": {
    "colab": {
     "base_uri": "https://localhost:8080/"
    },
    "executionInfo": {
     "elapsed": 150,
     "status": "ok",
     "timestamp": 1710291532134,
     "user": {
      "displayName": "",
      "userId": ""
     },
     "user_tz": 0
    },
    "id": "8uaQG_XKsouR",
    "outputId": "beb4cdaf-0ac8-4527-e533-564bc82d8c7f",
    "tags": []
   },
   "outputs": [],
   "source": [
    "current_directory = os.getcwd()\n",
    "print(\"Current working directory:\", current_directory)\n",
    "\n",
    "# Change the working directory to the parent directory\n",
    "os.chdir('..')\n",
    "\n",
    "# Verify the change\n",
    "new_directory = os.getcwd()\n",
    "print(\"New working directory:\", new_directory)"
   ]
  },
  {
   "cell_type": "code",
   "execution_count": 33,
   "id": "RqgOperxU4Uq",
   "metadata": {
    "colab": {
     "base_uri": "https://localhost:8080/"
    },
    "executionInfo": {
     "elapsed": 8797,
     "status": "ok",
     "timestamp": 1710291545625,
     "user": {
      "displayName": "",
      "userId": ""
     },
     "user_tz": 0
    },
    "id": "RqgOperxU4Uq",
    "outputId": "df38980d-7e9f-425c-a628-95fee4f4ec89",
    "tags": []
   },
   "outputs": [
    {
     "name": "stdout",
     "output_type": "stream",
     "text": [
      "Files unzipped successfully.\n"
     ]
    }
   ],
   "source": [
    "# Path to your ZIP file\n",
    "zip_file = \"data_cloud_final.zip\"\n",
    "destination_folder = \"data_cloud_final\"\n",
    "\n",
    "try:\n",
    "    # Create the destination folder if it doesn't exist\n",
    "    if not os.path.exists(destination_folder):\n",
    "        os.makedirs(destination_folder)\n",
    "\n",
    "        # Unzip the contents of the gzip file\n",
    "        with zipfile.ZipFile(zip_file, 'r') as zip_ref:\n",
    "            zip_ref.extractall(destination_folder)\n",
    "\n",
    "        print(\"Files unzipped successfully.\")\n",
    "    else:\n",
    "        print(\"Destination folder already exists. Skipping extraction.\")\n",
    "except Exception as e:\n",
    "    print(f\"Error: {e}\")"
   ]
  },
  {
   "cell_type": "markdown",
   "id": "ca9ea696-83dd-46ba-ac84-37f2b9d440fe",
   "metadata": {
    "jp-MarkdownHeadingCollapsed": true,
    "tags": []
   },
   "source": [
    "# Original Data check"
   ]
  },
  {
   "cell_type": "code",
   "execution_count": 22,
   "id": "O4R8fSj1VVli",
   "metadata": {
    "executionInfo": {
     "elapsed": 20,
     "status": "ok",
     "timestamp": 1710291545626,
     "user": {
      "displayName": "",
      "userId": ""
     },
     "user_tz": 0
    },
    "id": "O4R8fSj1VVli",
    "tags": []
   },
   "outputs": [],
   "source": [
    "imgs = r'data_cloud_final/data_cloud_final/imgs/train'"
   ]
  },
  {
   "cell_type": "code",
   "execution_count": 23,
   "id": "i7C6wIZlWn0z",
   "metadata": {
    "colab": {
     "base_uri": "https://localhost:8080/"
    },
    "executionInfo": {
     "elapsed": 19,
     "status": "ok",
     "timestamp": 1710291545626,
     "user": {
      "displayName": "",
      "userId": ""
     },
     "user_tz": 0
    },
    "id": "i7C6wIZlWn0z",
    "outputId": "dc0f5357-0222-4d34-e6d1-d0433dd9c3c7",
    "tags": []
   },
   "outputs": [
    {
     "name": "stdout",
     "output_type": "stream",
     "text": [
      "['data_cloud_final/data_cloud_final/imgs/train/YES', 'data_cloud_final/data_cloud_final/imgs/train/NO', 'data_cloud_final/data_cloud_final/imgs/train/.ipynb_checkpoints']\n"
     ]
    }
   ],
   "source": [
    "# Get the list of subfolders in the main directory\n",
    "subfolders = [f.path for f in os.scandir(imgs) if f.is_dir()]\n",
    "print(subfolders)"
   ]
  },
  {
   "cell_type": "code",
   "execution_count": 24,
   "id": "dcQ0taVJWrz3",
   "metadata": {
    "colab": {
     "base_uri": "https://localhost:8080/",
     "height": 35
    },
    "executionInfo": {
     "elapsed": 18,
     "status": "ok",
     "timestamp": 1710291545626,
     "user": {
      "displayName": "",
      "userId": ""
     },
     "user_tz": 0
    },
    "id": "dcQ0taVJWrz3",
    "outputId": "0648b7ff-fcfb-4f00-ef6a-5c7dda22bb31",
    "tags": []
   },
   "outputs": [
    {
     "data": {
      "text/plain": [
       "'data_cloud_final/data_cloud_final/imgs/train/YES'"
      ]
     },
     "execution_count": 24,
     "metadata": {},
     "output_type": "execute_result"
    }
   ],
   "source": [
    "yes_subfolder = subfolders[0]\n",
    "yes_subfolder"
   ]
  },
  {
   "cell_type": "code",
   "execution_count": 25,
   "id": "js8eewr5WysR",
   "metadata": {
    "colab": {
     "base_uri": "https://localhost:8080/"
    },
    "executionInfo": {
     "elapsed": 17,
     "status": "ok",
     "timestamp": 1710291545626,
     "user": {
      "displayName": "",
      "userId": ""
     },
     "user_tz": 0
    },
    "id": "js8eewr5WysR",
    "outputId": "06329d86-9219-44fa-9914-ed78017cd2ab",
    "tags": []
   },
   "outputs": [
    {
     "data": {
      "text/plain": [
       "['data_cloud_final/data_cloud_final/imgs/train/YES/c3',\n",
       " 'data_cloud_final/data_cloud_final/imgs/train/YES/c1',\n",
       " 'data_cloud_final/data_cloud_final/imgs/train/YES/c6',\n",
       " 'data_cloud_final/data_cloud_final/imgs/train/YES/c7',\n",
       " 'data_cloud_final/data_cloud_final/imgs/train/YES/c4',\n",
       " 'data_cloud_final/data_cloud_final/imgs/train/YES/c5',\n",
       " 'data_cloud_final/data_cloud_final/imgs/train/YES/c2',\n",
       " 'data_cloud_final/data_cloud_final/imgs/train/YES/c8',\n",
       " 'data_cloud_final/data_cloud_final/imgs/train/YES/c9']"
      ]
     },
     "execution_count": 25,
     "metadata": {},
     "output_type": "execute_result"
    }
   ],
   "source": [
    "yes_subfolder_subfolder = [f.path for f in os.scandir(yes_subfolder) if f.is_dir()]\n",
    "yes_subfolder_subfolder"
   ]
  },
  {
   "cell_type": "code",
   "execution_count": 26,
   "id": "sgYytBMvW0oW",
   "metadata": {
    "colab": {
     "base_uri": "https://localhost:8080/",
     "height": 35
    },
    "executionInfo": {
     "elapsed": 15,
     "status": "ok",
     "timestamp": 1710291545626,
     "user": {
      "displayName": "",
      "userId": ""
     },
     "user_tz": 0
    },
    "id": "sgYytBMvW0oW",
    "outputId": "af7e5d9b-403c-4317-dbc7-34af47c71b88",
    "tags": []
   },
   "outputs": [
    {
     "data": {
      "text/plain": [
       "'data_cloud_final/data_cloud_final/imgs/train/NO'"
      ]
     },
     "execution_count": 26,
     "metadata": {},
     "output_type": "execute_result"
    }
   ],
   "source": [
    "no_subfolder=subfolders[1]\n",
    "no_subfolder"
   ]
  },
  {
   "cell_type": "code",
   "execution_count": 27,
   "id": "iNYu8-zy-TXQ",
   "metadata": {
    "colab": {
     "base_uri": "https://localhost:8080/"
    },
    "executionInfo": {
     "elapsed": 13,
     "status": "ok",
     "timestamp": 1710291545626,
     "user": {
      "displayName": "",
      "userId": ""
     },
     "user_tz": 0
    },
    "id": "iNYu8-zy-TXQ",
    "outputId": "4997de0c-93d6-4e59-e532-ef1e2ec3cea8",
    "tags": []
   },
   "outputs": [
    {
     "data": {
      "text/plain": [
       "['data_cloud_final/data_cloud_final/imgs/train/NO/c0']"
      ]
     },
     "execution_count": 27,
     "metadata": {},
     "output_type": "execute_result"
    }
   ],
   "source": [
    "no_subfolder_subfolder = [f.path for f in os.scandir(no_subfolder) if f.is_dir()]\n",
    "no_subfolder_subfolder"
   ]
  },
  {
   "cell_type": "code",
   "execution_count": 28,
   "id": "nRc9PBUaW178",
   "metadata": {
    "executionInfo": {
     "elapsed": 12,
     "status": "ok",
     "timestamp": 1710291545627,
     "user": {
      "displayName": "",
      "userId": ""
     },
     "user_tz": 0
    },
    "id": "nRc9PBUaW178",
    "tags": []
   },
   "outputs": [],
   "source": [
    "images_yes = []\n",
    "\n",
    "for subfolder in yes_subfolder_subfolder:\n",
    "    files = [f.path for f in os.scandir(subfolder) if f.is_file() and f.name.endswith('.jpg')]\n",
    "    images_yes.extend(files)"
   ]
  },
  {
   "cell_type": "code",
   "execution_count": 29,
   "id": "hHivO3FiW3bA",
   "metadata": {
    "colab": {
     "base_uri": "https://localhost:8080/"
    },
    "executionInfo": {
     "elapsed": 12,
     "status": "ok",
     "timestamp": 1710291545627,
     "user": {
      "displayName": "",
      "userId": ""
     },
     "user_tz": 0
    },
    "id": "hHivO3FiW3bA",
    "outputId": "0cb0003e-d942-4058-b47a-49f6532cd2b6",
    "tags": []
   },
   "outputs": [
    {
     "data": {
      "text/plain": [
       "2259"
      ]
     },
     "execution_count": 29,
     "metadata": {},
     "output_type": "execute_result"
    }
   ],
   "source": [
    "len(images_yes)"
   ]
  },
  {
   "cell_type": "code",
   "execution_count": 30,
   "id": "uBW8JpTBZLz-",
   "metadata": {
    "executionInfo": {
     "elapsed": 100,
     "status": "ok",
     "timestamp": 1710291549239,
     "user": {
      "displayName": "",
      "userId": ""
     },
     "user_tz": 0
    },
    "id": "uBW8JpTBZLz-",
    "tags": []
   },
   "outputs": [],
   "source": [
    "image_no=[]\n",
    "\n",
    "for subfolder in no_subfolder_subfolder:\n",
    "    files = [f.path for f in os.scandir(subfolder) if f.is_file() and f.name.endswith('.jpg')]\n",
    "    image_no.extend(files)"
   ]
  },
  {
   "cell_type": "code",
   "execution_count": 31,
   "id": "dkzRqdkZaE_c",
   "metadata": {
    "colab": {
     "base_uri": "https://localhost:8080/"
    },
    "executionInfo": {
     "elapsed": 124,
     "status": "ok",
     "timestamp": 1710291549882,
     "user": {
      "displayName": "",
      "userId": ""
     },
     "user_tz": 0
    },
    "id": "dkzRqdkZaE_c",
    "outputId": "a3956895-c196-40ff-d56a-da0e938c2b56",
    "tags": []
   },
   "outputs": [
    {
     "data": {
      "text/plain": [
       "2259"
      ]
     },
     "execution_count": 31,
     "metadata": {},
     "output_type": "execute_result"
    }
   ],
   "source": [
    "len(image_no)"
   ]
  },
  {
   "cell_type": "markdown",
   "id": "wxD1H7YMaVyv",
   "metadata": {
    "id": "wxD1H7YMaVyv",
    "jp-MarkdownHeadingCollapsed": true,
    "tags": []
   },
   "source": [
    "# Training set creation {Balanced}"
   ]
  },
  {
   "cell_type": "code",
   "execution_count": 32,
   "id": "767b2be0-345d-43a7-8740-7f461655e7d9",
   "metadata": {
    "tags": []
   },
   "outputs": [],
   "source": [
    "def count_jpg_files_in_directory(path):\n",
    "    # Initialize a counter\n",
    "    jpg_count = 0\n",
    "\n",
    "    # Walk through the directory and count JPG files\n",
    "    for root, dirs, files in os.walk(path):\n",
    "        for file in files:\n",
    "            if file.lower().endswith('.jpg'):\n",
    "                jpg_count += 1\n",
    "\n",
    "    return jpg_count"
   ]
  },
  {
   "cell_type": "code",
   "execution_count": 33,
   "id": "ec5d2e27-0482-4af2-90e0-adca5ee33ce0",
   "metadata": {
    "tags": []
   },
   "outputs": [],
   "source": [
    "# Number of images to pick from each subfolder\n",
    "num_images_to_train_test = 900"
   ]
  },
  {
   "cell_type": "markdown",
   "id": "4tN4D_RLayvy",
   "metadata": {
    "id": "4tN4D_RLayvy"
   },
   "source": [
    "### NO"
   ]
  },
  {
   "cell_type": "code",
   "execution_count": 34,
   "id": "c2ePhEN4akSC",
   "metadata": {
    "colab": {
     "base_uri": "https://localhost:8080/"
    },
    "executionInfo": {
     "elapsed": 447,
     "status": "ok",
     "timestamp": 1710291558729,
     "user": {
      "displayName": "",
      "userId": ""
     },
     "user_tz": 0
    },
    "id": "c2ePhEN4akSC",
    "outputId": "37ab5c27-596f-46ac-d368-7f34b218a8ba",
    "tags": []
   },
   "outputs": [
    {
     "name": "stdout",
     "output_type": "stream",
     "text": [
      "900 images from each subfolder have been copied to training_set/.\n"
     ]
    }
   ],
   "source": [
    "# Pick the specified number of images\n",
    "selected_images_train = random.sample(image_no, num_images_to_train_test)\n",
    "\n",
    "# make destination directory\n",
    "destination_dir_train = r'training_set/'\n",
    "\n",
    "# Remove existing directories and create new ones\n",
    "shutil.rmtree(destination_dir_train, ignore_errors=True)\n",
    "os.makedirs(destination_dir_train)\n",
    "\n",
    "for image_path in selected_images_train:\n",
    "    # Create the destination subfolder structure in the destination directory\n",
    "    relative_path = os.path.relpath(image_path, imgs)\n",
    "    relative_path = relative_path.replace(\"/c0\",\"\")\n",
    "    destination_path = os.path.join(destination_dir_train, relative_path)\n",
    "    os.makedirs(os.path.dirname(destination_path), exist_ok=True)\n",
    "    # Copy the image\n",
    "    shutil.copyfile(image_path, destination_path)\n",
    "\n",
    "print(f\"{num_images_to_train_test} images from each subfolder have been copied to {destination_dir_train}.\")"
   ]
  },
  {
   "cell_type": "code",
   "execution_count": 35,
   "id": "b4e05e37-dfb4-4949-8d69-e7bbdcff3973",
   "metadata": {
    "tags": []
   },
   "outputs": [
    {
     "name": "stdout",
     "output_type": "stream",
     "text": [
      "Number of NO images in directory: 900\n"
     ]
    }
   ],
   "source": [
    "path = r'training_set/NO'\n",
    "file_count = count_jpg_files_in_directory(path)\n",
    "print(\"Number of NO images in directory:\", file_count)"
   ]
  },
  {
   "cell_type": "markdown",
   "id": "pV-nQGk7bEnZ",
   "metadata": {
    "id": "pV-nQGk7bEnZ"
   },
   "source": [
    "### YES"
   ]
  },
  {
   "cell_type": "code",
   "execution_count": 36,
   "id": "BrcP4Uw1bG6v",
   "metadata": {
    "colab": {
     "base_uri": "https://localhost:8080/"
    },
    "executionInfo": {
     "elapsed": 284,
     "status": "ok",
     "timestamp": 1710291562218,
     "user": {
      "displayName": "",
      "userId": ""
     },
     "user_tz": 0
    },
    "id": "BrcP4Uw1bG6v",
    "outputId": "3b91a9ea-5a6d-4084-f33e-2365e4000f3c",
    "tags": []
   },
   "outputs": [
    {
     "name": "stdout",
     "output_type": "stream",
     "text": [
      "100 images from  data_cloud_final/data_cloud_final/imgs/train/YES/c3 have been copied to training_set/.\n",
      "100 images from  data_cloud_final/data_cloud_final/imgs/train/YES/c1 have been copied to training_set/.\n",
      "100 images from  data_cloud_final/data_cloud_final/imgs/train/YES/c6 have been copied to training_set/.\n",
      "100 images from  data_cloud_final/data_cloud_final/imgs/train/YES/c7 have been copied to training_set/.\n",
      "100 images from  data_cloud_final/data_cloud_final/imgs/train/YES/c4 have been copied to training_set/.\n",
      "100 images from  data_cloud_final/data_cloud_final/imgs/train/YES/c5 have been copied to training_set/.\n",
      "100 images from  data_cloud_final/data_cloud_final/imgs/train/YES/c2 have been copied to training_set/.\n",
      "100 images from  data_cloud_final/data_cloud_final/imgs/train/YES/c8 have been copied to training_set/.\n",
      "100 images from  data_cloud_final/data_cloud_final/imgs/train/YES/c9 have been copied to training_set/.\n"
     ]
    }
   ],
   "source": [
    "for folder in yes_subfolder_subfolder:\n",
    "\n",
    "    images = [f.path for f in os.scandir(folder) if f.is_file() and f.name.endswith(('.jpg'))]\n",
    "    # print(images[:3])\n",
    "    # Pick the specified number of images\n",
    "    selected_images_train = random.sample(images, int(num_images_to_train_test / 9))\n",
    "\n",
    "    # make destination directory\n",
    "    destination_dir_train = r'training_set/'\n",
    "\n",
    "    os.makedirs(destination_dir_train,exist_ok=True)\n",
    "\n",
    "    for image_path in selected_images_train:\n",
    "        # Create the destination subfolder structure in the destination directory\n",
    "        relative_path = os.path.relpath(image_path, imgs)\n",
    "\n",
    "         # Define the list of 'cX' values to replace\n",
    "        c_values_to_replace = [f'/c{i}' for i in range(10)]\n",
    "\n",
    "        # Remove 'cX' values from the relative_path\n",
    "        for c_value in c_values_to_replace:\n",
    "            relative_path = relative_path.replace(c_value, '')\n",
    "\n",
    "        destination_path = os.path.join(destination_dir_train, relative_path)\n",
    "        os.makedirs(os.path.dirname(destination_path), exist_ok=True)\n",
    "        # Copy the image\n",
    "        shutil.copyfile(image_path, destination_path)\n",
    "\n",
    "    print(f\"{int(num_images_to_train_test / 9)} images from  {folder} have been copied to {destination_dir_train}.\")"
   ]
  },
  {
   "cell_type": "code",
   "execution_count": 38,
   "id": "69f063b3-8a43-409d-ba69-33a21d0fd315",
   "metadata": {
    "tags": []
   },
   "outputs": [
    {
     "name": "stdout",
     "output_type": "stream",
     "text": [
      "Number of YES images in directory: 900\n"
     ]
    }
   ],
   "source": [
    "path = r'training_set/YES'\n",
    "file_count = count_jpg_files_in_directory(path)\n",
    "print(\"Number of YES images in directory:\", file_count)"
   ]
  },
  {
   "cell_type": "markdown",
   "id": "4eWw9fvGbfEt",
   "metadata": {
    "id": "4eWw9fvGbfEt",
    "jp-MarkdownHeadingCollapsed": true,
    "tags": []
   },
   "source": [
    "# Loading Images"
   ]
  },
  {
   "cell_type": "code",
   "execution_count": 4,
   "id": "eXl9h4ZFbjgl",
   "metadata": {
    "colab": {
     "base_uri": "https://localhost:8080/"
    },
    "executionInfo": {
     "elapsed": 792,
     "status": "ok",
     "timestamp": 1710291566697,
     "user": {
      "displayName": "",
      "userId": ""
     },
     "user_tz": 0
    },
    "id": "eXl9h4ZFbjgl",
    "outputId": "584bd064-41d3-4f52-c6dc-1cf81ba35d47",
    "tags": []
   },
   "outputs": [],
   "source": [
    "# Define the directory path\n",
    "directory = 'training_set/'\n",
    "\n",
    "# Function to recursively find image files in subfolders\n",
    "def find_images(directory):\n",
    "    image_files = []\n",
    "    for root, dirs, files in os.walk(directory):\n",
    "        for file in files:\n",
    "            # Check if the file has an image extension\n",
    "            if file.lower().endswith(('.png', '.jpg', '.jpeg', '.gif', '.bmp')):\n",
    "                image_files.append(os.path.join(root, file))\n",
    "    return image_files\n",
    "\n",
    "# Find all image files in subfolders\n",
    "all_image_paths = find_images(directory)"
   ]
  },
  {
   "cell_type": "code",
   "execution_count": 5,
   "id": "KlskbvCxbtN1",
   "metadata": {
    "executionInfo": {
     "elapsed": 130,
     "status": "ok",
     "timestamp": 1710291570149,
     "user": {
      "displayName": "",
      "userId": ""
     },
     "user_tz": 0
    },
    "id": "KlskbvCxbtN1",
    "tags": []
   },
   "outputs": [],
   "source": [
    "all_image_paths_sorted = sorted(all_image_paths)"
   ]
  },
  {
   "cell_type": "code",
   "execution_count": 6,
   "id": "5z0S5fwlc5GL",
   "metadata": {
    "colab": {
     "base_uri": "https://localhost:8080/"
    },
    "executionInfo": {
     "elapsed": 215,
     "status": "ok",
     "timestamp": 1710291570798,
     "user": {
      "displayName": "",
      "userId": ""
     },
     "user_tz": 0
    },
    "id": "5z0S5fwlc5GL",
    "outputId": "5af77681-e853-469b-ae53-23e9c97988e9",
    "tags": []
   },
   "outputs": [
    {
     "data": {
      "text/plain": [
       "1800"
      ]
     },
     "execution_count": 6,
     "metadata": {},
     "output_type": "execute_result"
    }
   ],
   "source": [
    "len(all_image_paths_sorted)"
   ]
  },
  {
   "cell_type": "markdown",
   "id": "bb2f35c1-50b0-41d1-a515-a221800a54e4",
   "metadata": {
    "jp-MarkdownHeadingCollapsed": true,
    "tags": []
   },
   "source": [
    "# Import CUDA"
   ]
  },
  {
   "cell_type": "code",
   "execution_count": 8,
   "id": "4z1QaDP5bor5",
   "metadata": {
    "colab": {
     "base_uri": "https://localhost:8080/"
    },
    "executionInfo": {
     "elapsed": 3,
     "status": "ok",
     "timestamp": 1710291568571,
     "user": {
      "displayName": "",
      "userId": ""
     },
     "user_tz": 0
    },
    "id": "4z1QaDP5bor5",
    "outputId": "d56c29fa-adcb-4d34-ce3a-4ca25ffe3b7a",
    "tags": []
   },
   "outputs": [
    {
     "name": "stdout",
     "output_type": "stream",
     "text": [
      "Number of available GPUs: 1\n",
      "GPU 0: Tesla T4\n"
     ]
    }
   ],
   "source": [
    "# Check if GPU is available\n",
    "if torch.cuda.is_available():\n",
    "    # Get the number of available GPUs\n",
    "    num_gpus = torch.cuda.device_count()\n",
    "\n",
    "    print(f\"Number of available GPUs: {num_gpus}\")\n",
    "\n",
    "    # Print information about each GPU\n",
    "    for i in range(num_gpus):\n",
    "        print(f\"GPU {i}: {torch.cuda.get_device_name(i)}\")\n",
    "else:\n",
    "    print(\"No GPU available. PyTorch is using CPU.\")"
   ]
  },
  {
   "cell_type": "markdown",
   "id": "15255462-deda-48eb-845a-a4c40a2ed973",
   "metadata": {
    "tags": []
   },
   "source": [
    "# Train / Test {Creation}"
   ]
  },
  {
   "cell_type": "code",
   "execution_count": 9,
   "id": "HEL2X3alc6Mh",
   "metadata": {
    "executionInfo": {
     "elapsed": 124,
     "status": "ok",
     "timestamp": 1710291572139,
     "user": {
      "displayName": "",
      "userId": ""
     },
     "user_tz": 0
    },
    "id": "HEL2X3alc6Mh",
    "tags": []
   },
   "outputs": [],
   "source": [
    "train_x = all_image_paths_sorted\n",
    "train_y = [path.split('/')[-2] for path in all_image_paths_sorted]"
   ]
  },
  {
   "cell_type": "code",
   "execution_count": 10,
   "id": "duyuoLXwdODU",
   "metadata": {
    "executionInfo": {
     "elapsed": 129,
     "status": "ok",
     "timestamp": 1710291572948,
     "user": {
      "displayName": "",
      "userId": ""
     },
     "user_tz": 0
    },
    "id": "duyuoLXwdODU",
    "tags": []
   },
   "outputs": [],
   "source": [
    "train_x, test_x, train_y, test_y = train_test_split(train_x, train_y, test_size=0.2, random_state=5, stratify=train_y)"
   ]
  },
  {
   "cell_type": "markdown",
   "id": "d5ba7da8-9ba7-4903-af5e-09920bc058de",
   "metadata": {
    "tags": []
   },
   "source": [
    "## Transforms"
   ]
  },
  {
   "cell_type": "code",
   "execution_count": 11,
   "id": "7IFcFl5JdSlv",
   "metadata": {
    "executionInfo": {
     "elapsed": 184,
     "status": "ok",
     "timestamp": 1710291575867,
     "user": {
      "displayName": "",
      "userId": ""
     },
     "user_tz": 0
    },
    "id": "7IFcFl5JdSlv",
    "tags": []
   },
   "outputs": [],
   "source": [
    "transforms = A.Compose(\n",
    "    [\n",
    "        A.Resize(height=300, width=300), # Resize to 300x300\"\n",
    "        A.ToFloat(),\n",
    "        ToTensorV2(),\n",
    "    ]\n",
    ")"
   ]
  },
  {
   "cell_type": "code",
   "execution_count": 12,
   "id": "X2_jXph-dYTh",
   "metadata": {
    "colab": {
     "base_uri": "https://localhost:8080/"
    },
    "executionInfo": {
     "elapsed": 140,
     "status": "ok",
     "timestamp": 1710291577009,
     "user": {
      "displayName": "",
      "userId": ""
     },
     "user_tz": 0
    },
    "id": "X2_jXph-dYTh",
    "outputId": "95968e55-d6c9-491f-c636-39a2084e060e",
    "tags": []
   },
   "outputs": [
    {
     "name": "stdout",
     "output_type": "stream",
     "text": [
      "tensor([0, 0, 1,  ..., 0, 0, 0])\n",
      "tensor([1, 1, 1, 1, 1, 0, 1, 0, 1, 0, 0, 1, 0, 0, 0, 1, 1, 0, 1, 1, 1, 0, 0, 1,\n",
      "        1, 0, 0, 0, 0, 0, 1, 1, 1, 1, 1, 0, 0, 1, 1, 1, 0, 0, 1, 1, 1, 0, 0, 0,\n",
      "        0, 0, 0, 0, 0, 0, 0, 0, 0, 1, 0, 1, 1, 1, 1, 1, 1, 1, 1, 0, 1, 1, 1, 0,\n",
      "        1, 0, 0, 1, 1, 1, 1, 0, 0, 1, 1, 1, 0, 1, 0, 1, 0, 1, 1, 0, 0, 0, 0, 1,\n",
      "        1, 1, 0, 1, 1, 1, 0, 0, 0, 1, 1, 0, 0, 0, 0, 1, 1, 0, 1, 0, 0, 1, 1, 0,\n",
      "        0, 0, 0, 0, 1, 0, 0, 0, 0, 0, 0, 1, 1, 1, 1, 1, 0, 1, 1, 1, 1, 0, 1, 1,\n",
      "        1, 1, 0, 1, 0, 1, 0, 1, 0, 0, 1, 1, 0, 1, 0, 1, 0, 1, 1, 0, 1, 0, 0, 0,\n",
      "        0, 0, 0, 1, 1, 0, 1, 0, 0, 0, 1, 1, 1, 0, 1, 1, 0, 1, 0, 0, 0, 0, 1, 0,\n",
      "        0, 0, 0, 1, 1, 1, 0, 0, 1, 1, 0, 0, 0, 1, 1, 0, 0, 1, 1, 0, 1, 1, 1, 1,\n",
      "        1, 0, 0, 0, 0, 1, 0, 0, 1, 1, 1, 1, 1, 1, 0, 0, 0, 0, 1, 0, 0, 0, 1, 0,\n",
      "        0, 0, 1, 0, 0, 0, 1, 1, 0, 0, 0, 0, 0, 0, 1, 1, 1, 0, 0, 1, 1, 0, 1, 0,\n",
      "        0, 0, 0, 1, 0, 0, 0, 1, 0, 1, 1, 0, 0, 0, 0, 1, 1, 0, 0, 0, 0, 1, 0, 1,\n",
      "        1, 0, 1, 1, 0, 1, 1, 1, 1, 1, 0, 1, 0, 0, 0, 1, 1, 1, 0, 1, 1, 1, 1, 0,\n",
      "        0, 1, 0, 0, 1, 1, 1, 1, 1, 0, 1, 1, 1, 1, 1, 0, 1, 0, 0, 0, 1, 0, 0, 1,\n",
      "        1, 0, 1, 0, 0, 0, 1, 1, 1, 0, 0, 1, 0, 1, 1, 1, 0, 1, 1, 1, 0, 0, 1, 0])\n"
     ]
    }
   ],
   "source": [
    "# Initialize the label encoder\n",
    "label_encoder = LabelEncoder()\n",
    "\n",
    "# Fit label encoder and transform labels\n",
    "encoded_labels_train = label_encoder.fit_transform(train_y)\n",
    "tensor_encoded_labels_train = torch.tensor(encoded_labels_train)\n",
    "pprint(tensor_encoded_labels_train)\n",
    "\n",
    "\n",
    "# Fit label encoder and transform labels\n",
    "encoded_labels_test = label_encoder.fit_transform(test_y)\n",
    "tensor_encoded_labels_test = torch.tensor(encoded_labels_test)\n",
    "pprint(tensor_encoded_labels_test)"
   ]
  },
  {
   "cell_type": "markdown",
   "id": "486cab70-474c-4c3f-b03f-06bae7a404d4",
   "metadata": {
    "tags": []
   },
   "source": [
    "# Image Dataset Class"
   ]
  },
  {
   "cell_type": "code",
   "execution_count": 13,
   "id": "zbu2gpGadpGY",
   "metadata": {
    "executionInfo": {
     "elapsed": 2,
     "status": "ok",
     "timestamp": 1710291579259,
     "user": {
      "displayName": "",
      "userId": ""
     },
     "user_tz": 0
    },
    "id": "zbu2gpGadpGY",
    "tags": []
   },
   "outputs": [],
   "source": [
    "class image_Dataset(Dataset):\n",
    "    def __init__(self, image_paths, tensor_encoded_labels, transform=None):\n",
    "        \"\"\"\n",
    "        Args:\n",
    "            image_paths (list): List of file paths to images.\n",
    "            labels (list): List of labels corresponding to the images.\n",
    "            transform (callable, optional): Optional transform to be applied on a sample.\n",
    "        \"\"\"\n",
    "        self.image_paths = image_paths\n",
    "        self.labels = tensor_encoded_labels\n",
    "        self.transform = transform\n",
    "\n",
    "\n",
    "    def __len__(self):\n",
    "        return len(self.image_paths)\n",
    "\n",
    "    def __getitem__(self, idx):\n",
    "        image_filepath = self.image_paths[idx]\n",
    "        image = cv2.imread(image_filepath)\n",
    "        image = cv2.cvtColor(image, cv2.COLOR_BGR2RGB)\n",
    "\n",
    "        if self.transform is not None and callable(self.transform):\n",
    "            image = self.transform(image=image)[\"image\"]\n",
    "\n",
    "        # Convert label to PyTorch tensor\n",
    "        label = self.labels[idx]\n",
    "\n",
    "        return image, label"
   ]
  },
  {
   "cell_type": "markdown",
   "id": "03874653-06dc-4281-8ef7-52d99822ae49",
   "metadata": {
    "tags": []
   },
   "source": [
    "## Dataset check"
   ]
  },
  {
   "cell_type": "code",
   "execution_count": 14,
   "id": "9c1FJiJSds5G",
   "metadata": {
    "executionInfo": {
     "elapsed": 157,
     "status": "ok",
     "timestamp": 1710291580112,
     "user": {
      "displayName": "",
      "userId": ""
     },
     "user_tz": 0
    },
    "id": "9c1FJiJSds5G",
    "tags": []
   },
   "outputs": [],
   "source": [
    "#######################################################\n",
    "#                  Create Dataset\n",
    "#######################################################\n",
    "\n",
    "train_dataset = image_Dataset(train_x,tensor_encoded_labels_train,transforms)\n",
    "test_dataset = image_Dataset(test_x,tensor_encoded_labels_test,transforms)"
   ]
  },
  {
   "cell_type": "code",
   "execution_count": 15,
   "id": "hKckYCVedwcE",
   "metadata": {
    "colab": {
     "base_uri": "https://localhost:8080/",
     "height": 463
    },
    "executionInfo": {
     "elapsed": 376,
     "status": "ok",
     "timestamp": 1710291582044,
     "user": {
      "displayName": "",
      "userId": ""
     },
     "user_tz": 0
    },
    "id": "hKckYCVedwcE",
    "outputId": "0f3164f4-e958-4a0e-cfa0-75396dfa2d32",
    "tags": []
   },
   "outputs": [
    {
     "data": {
      "image/png": "[encoded data removed]",
      "text/plain": [
       "<Figure size 640x480 with 1 Axes>"
      ]
     },
     "metadata": {},
     "output_type": "display_data"
    },
    {
     "name": "stdout",
     "output_type": "stream",
     "text": [
      "The shape of tensor for 50th image in train dataset:  torch.Size([3, 300, 300])\n",
      "The label for 50th image in train dataset:  tensor(0)\n"
     ]
    }
   ],
   "source": [
    "for i in range(1):\n",
    "  image, label = train_dataset[i]\n",
    "  image = TF.to_pil_image(image)  # Convert the tensor to a PIL Image\n",
    "  image = np.array(image)\n",
    "  plt.imshow(image)\n",
    "  plt.title(f\"Label: {label}\")\n",
    "  plt.axis('off')  # Turn off axis\n",
    "  plt.show()\n",
    "\n",
    "print('The shape of tensor for 50th image in train dataset: ',train_dataset[0][0].shape)\n",
    "print('The label for 50th image in train dataset: ',train_dataset[0][1])"
   ]
  },
  {
   "cell_type": "code",
   "execution_count": 16,
   "id": "IAtQlb1Bdv-6",
   "metadata": {
    "executionInfo": {
     "elapsed": 2,
     "status": "ok",
     "timestamp": 1710291580820,
     "user": {
      "displayName": "",
      "userId": ""
     },
     "user_tz": 0
    },
    "id": "IAtQlb1Bdv-6",
    "tags": []
   },
   "outputs": [],
   "source": [
    "#######################################################\n",
    "#                  load Dataset\n",
    "#######################################################\n",
    "\n",
    "train_loader = DataLoader(train_dataset, batch_size=64, shuffle=False)\n",
    "test_loader = DataLoader(test_dataset, batch_size=64, shuffle=True)"
   ]
  },
  {
   "cell_type": "markdown",
   "id": "95868fe5-2b16-409b-81ac-03632e21cddd",
   "metadata": {
    "tags": []
   },
   "source": [
    "# Different Model Architectures Training"
   ]
  },
  {
   "cell_type": "markdown",
   "id": "lhgroKKweFln",
   "metadata": {
    "id": "lhgroKKweFln",
    "jp-MarkdownHeadingCollapsed": true,
    "tags": []
   },
   "source": [
    "## Architecture-1"
   ]
  },
  {
   "cell_type": "code",
   "execution_count": 24,
   "id": "ryyuI8lneM36",
   "metadata": {
    "executionInfo": {
     "elapsed": 192,
     "status": "ok",
     "timestamp": 1710291585264,
     "user": {
      "displayName": "",
      "userId": ""
     },
     "user_tz": 0
    },
    "id": "ryyuI8lneM36",
    "tags": []
   },
   "outputs": [],
   "source": [
    "class ImageClassifier(nn.Module):\n",
    "    def __init__(self, num_classes=2):\n",
    "        super(ImageClassifier, self).__init__()\n",
    "        self.conv_layer_1 = nn.Sequential(\n",
    "            nn.Conv2d(in_channels=3, out_channels=64, kernel_size=3, padding=1),\n",
    "            nn.ReLU(),\n",
    "            nn.BatchNorm2d(64),\n",
    "            nn.MaxPool2d(3))\n",
    "        self.conv_layer_2 = nn.Sequential(\n",
    "            nn.Conv2d(in_channels=64, out_channels=128, kernel_size=3, padding=1),\n",
    "            nn.ReLU(),\n",
    "            nn.BatchNorm2d(128),\n",
    "            nn.MaxPool2d(3))\n",
    "        self.classifier = nn.Sequential(\n",
    "            nn.Flatten(),\n",
    "            nn.Linear(in_features=128*33*33, out_features=num_classes))\n",
    "\n",
    "    def forward(self, x: torch.Tensor):\n",
    "        x = self.conv_layer_1(x)\n",
    "        x = self.conv_layer_2(x)\n",
    "        x = self.classifier(x)\n",
    "        return x"
   ]
  },
  {
   "cell_type": "markdown",
   "id": "81d1d36f-f5b8-4824-ae7b-446422d5bff7",
   "metadata": {
    "jp-MarkdownHeadingCollapsed": true,
    "tags": []
   },
   "source": [
    "### Version 1"
   ]
  },
  {
   "cell_type": "markdown",
   "id": "e1f76ae6-a415-4664-b9bc-6bd3dafcc7f4",
   "metadata": {
    "jp-MarkdownHeadingCollapsed": true,
    "tags": []
   },
   "source": [
    "#### V1.0"
   ]
  },
  {
   "cell_type": "code",
   "execution_count": 52,
   "id": "a2bf1401-7f59-4fb2-81aa-c5f3e2cb0e9e",
   "metadata": {
    "tags": []
   },
   "outputs": [
    {
     "data": {
      "text/plain": [
       "ImageClassifier(\n",
       "  (conv_layer_1): Sequential(\n",
       "    (0): Conv2d(3, 64, kernel_size=(3, 3), stride=(1, 1), padding=(1, 1))\n",
       "    (1): ReLU()\n",
       "    (2): BatchNorm2d(64, eps=1e-05, momentum=0.1, affine=True, track_running_stats=True)\n",
       "    (3): MaxPool2d(kernel_size=3, stride=3, padding=0, dilation=1, ceil_mode=False)\n",
       "  )\n",
       "  (conv_layer_2): Sequential(\n",
       "    (0): Conv2d(64, 128, kernel_size=(3, 3), stride=(1, 1), padding=(1, 1))\n",
       "    (1): ReLU()\n",
       "    (2): BatchNorm2d(128, eps=1e-05, momentum=0.1, affine=True, track_running_stats=True)\n",
       "    (3): MaxPool2d(kernel_size=3, stride=3, padding=0, dilation=1, ceil_mode=False)\n",
       "  )\n",
       "  (classifier): Sequential(\n",
       "    (0): Flatten(start_dim=1, end_dim=-1)\n",
       "    (1): Linear(in_features=139392, out_features=2, bias=True)\n",
       "  )\n",
       ")"
      ]
     },
     "execution_count": 52,
     "metadata": {},
     "output_type": "execute_result"
    }
   ],
   "source": [
    "modelV1_0 = ImageClassifier()\n",
    "modelV1_0.cuda()\n",
    "modelV1_0.train()"
   ]
  },
  {
   "cell_type": "code",
   "execution_count": 53,
   "id": "34f20b36-0cf6-4f1b-9f80-724eb5491c2b",
   "metadata": {
    "tags": []
   },
   "outputs": [],
   "source": [
    "criterion = nn.CrossEntropyLoss()\n",
    "optimizer = torch.optim.SGD(modelV1_0.parameters(), lr=0.001, momentum=0.75)\n",
    "num_epochs = 20"
   ]
  },
  {
   "cell_type": "code",
   "execution_count": 54,
   "id": "1f852d36-fe9f-4ba1-9e66-bb8012f3ae33",
   "metadata": {
    "tags": []
   },
   "outputs": [
    {
     "name": "stdout",
     "output_type": "stream",
     "text": [
      "Epoch [1/20], Loss: 7.9078\n",
      "Epoch [2/20], Loss: 1.0761\n",
      "Epoch [3/20], Loss: 1.7510\n",
      "Epoch [4/20], Loss: 0.5155\n",
      "Epoch [5/20], Loss: 0.0493\n",
      "Epoch [6/20], Loss: 0.0195\n",
      "Epoch [7/20], Loss: 0.0011\n",
      "Epoch [8/20], Loss: 0.0006\n",
      "Epoch [9/20], Loss: 0.0001\n",
      "Epoch [10/20], Loss: 0.0000\n",
      "Epoch [11/20], Loss: 0.0000\n",
      "Epoch [12/20], Loss: 0.0000\n",
      "Epoch [13/20], Loss: 0.0000\n",
      "Epoch [14/20], Loss: 0.0000\n",
      "Epoch [15/20], Loss: 0.0000\n",
      "Epoch [16/20], Loss: 0.0000\n",
      "Epoch [17/20], Loss: 0.0000\n",
      "Epoch [18/20], Loss: 0.0000\n",
      "Epoch [19/20], Loss: 0.0000\n",
      "Epoch [20/20], Loss: 0.0000\n"
     ]
    }
   ],
   "source": [
    "for epoch in range(num_epochs):\n",
    "    total_loss = 0.0\n",
    "    for inputs, labels in train_loader:\n",
    "        inputs, labels = inputs.cuda(), labels.cuda()\n",
    "        optimizer.zero_grad()\n",
    "        outputs = modelV1_0(inputs)\n",
    "        loss = criterion(outputs, labels)\n",
    "        loss.backward()\n",
    "        optimizer.step()\n",
    "        total_loss += loss.item()*inputs.size(0)\n",
    "\n",
    "    average_loss = total_loss / len(train_loader.sampler)\n",
    "    print(f'Epoch [{epoch + 1}/{num_epochs}], Loss: {average_loss:.4f}')"
   ]
  },
  {
   "cell_type": "code",
   "execution_count": 55,
   "id": "37a69380-5ca3-42f7-bddd-3b30bf7602f1",
   "metadata": {
    "tags": []
   },
   "outputs": [],
   "source": [
    "torch.save(modelV1_0, 'modelV1_0.pth')"
   ]
  },
  {
   "cell_type": "markdown",
   "id": "488782f6-9b76-4148-ac1c-af843ffed04c",
   "metadata": {
    "jp-MarkdownHeadingCollapsed": true,
    "tags": []
   },
   "source": [
    "#### V1.1"
   ]
  },
  {
   "cell_type": "code",
   "execution_count": 56,
   "id": "05_o2KcYeNNb",
   "metadata": {
    "executionInfo": {
     "elapsed": 179,
     "status": "ok",
     "timestamp": 1710291586120,
     "user": {
      "displayName": "",
      "userId": ""
     },
     "user_tz": 0
    },
    "id": "05_o2KcYeNNb",
    "tags": []
   },
   "outputs": [
    {
     "data": {
      "text/plain": [
       "ImageClassifier(\n",
       "  (conv_layer_1): Sequential(\n",
       "    (0): Conv2d(3, 64, kernel_size=(3, 3), stride=(1, 1), padding=(1, 1))\n",
       "    (1): ReLU()\n",
       "    (2): BatchNorm2d(64, eps=1e-05, momentum=0.1, affine=True, track_running_stats=True)\n",
       "    (3): MaxPool2d(kernel_size=3, stride=3, padding=0, dilation=1, ceil_mode=False)\n",
       "  )\n",
       "  (conv_layer_2): Sequential(\n",
       "    (0): Conv2d(64, 128, kernel_size=(3, 3), stride=(1, 1), padding=(1, 1))\n",
       "    (1): ReLU()\n",
       "    (2): BatchNorm2d(128, eps=1e-05, momentum=0.1, affine=True, track_running_stats=True)\n",
       "    (3): MaxPool2d(kernel_size=3, stride=3, padding=0, dilation=1, ceil_mode=False)\n",
       "  )\n",
       "  (classifier): Sequential(\n",
       "    (0): Flatten(start_dim=1, end_dim=-1)\n",
       "    (1): Linear(in_features=139392, out_features=2, bias=True)\n",
       "  )\n",
       ")"
      ]
     },
     "execution_count": 56,
     "metadata": {},
     "output_type": "execute_result"
    }
   ],
   "source": [
    "modelV1_1 = ImageClassifier()\n",
    "modelV1_1 = modelV1_1.to('cuda')\n",
    "modelV1_1.train()"
   ]
  },
  {
   "cell_type": "code",
   "execution_count": 57,
   "id": "s3V7lVS0eOlN",
   "metadata": {
    "colab": {
     "base_uri": "https://localhost:8080/"
    },
    "executionInfo": {
     "elapsed": 166,
     "status": "ok",
     "timestamp": 1710291586941,
     "user": {
      "displayName": "",
      "userId": ""
     },
     "user_tz": 0
    },
    "id": "s3V7lVS0eOlN",
    "outputId": "e66835a0-e069-48cc-ed44-877f4f46f6cc",
    "tags": []
   },
   "outputs": [],
   "source": [
    "criterion = nn.CrossEntropyLoss()\n",
    "optimizer = torch.optim.SGD(modelV1_1.parameters(), lr=0.0001, momentum=0.50)\n",
    "num_epochs = 20"
   ]
  },
  {
   "cell_type": "code",
   "execution_count": 58,
   "id": "2gV_jx_sEw9F",
   "metadata": {
    "colab": {
     "base_uri": "https://localhost:8080/"
    },
    "executionInfo": {
     "elapsed": 262858,
     "status": "ok",
     "timestamp": 1710291850709,
     "user": {
      "displayName": "",
      "userId": ""
     },
     "user_tz": 0
    },
    "id": "2gV_jx_sEw9F",
    "outputId": "dd2038a3-dd1f-4e88-a989-59c3753d265e",
    "tags": []
   },
   "outputs": [
    {
     "name": "stdout",
     "output_type": "stream",
     "text": [
      "Epoch [1/20], Loss: 1.2609\n",
      "Epoch [2/20], Loss: 0.3261\n",
      "Epoch [3/20], Loss: 0.1339\n",
      "Epoch [4/20], Loss: 0.1013\n",
      "Epoch [5/20], Loss: 0.0552\n",
      "Epoch [6/20], Loss: 0.0393\n",
      "Epoch [7/20], Loss: 0.0317\n",
      "Epoch [8/20], Loss: 0.0271\n",
      "Epoch [9/20], Loss: 0.0238\n",
      "Epoch [10/20], Loss: 0.0213\n",
      "Epoch [11/20], Loss: 0.0192\n",
      "Epoch [12/20], Loss: 0.0176\n",
      "Epoch [13/20], Loss: 0.0163\n",
      "Epoch [14/20], Loss: 0.0152\n",
      "Epoch [15/20], Loss: 0.0142\n",
      "Epoch [16/20], Loss: 0.0134\n",
      "Epoch [17/20], Loss: 0.0127\n",
      "Epoch [18/20], Loss: 0.0121\n",
      "Epoch [19/20], Loss: 0.0115\n",
      "Epoch [20/20], Loss: 0.0110\n"
     ]
    }
   ],
   "source": [
    "for epoch in range(num_epochs):\n",
    "    total_loss = 0.0\n",
    "    for inputs, labels in train_loader:\n",
    "        inputs, labels = inputs.cuda(), labels.cuda()\n",
    "        optimizer.zero_grad()\n",
    "        outputs = modelV1_1(inputs)\n",
    "        loss = criterion(outputs, labels)\n",
    "        loss.backward()\n",
    "        optimizer.step()\n",
    "        total_loss += loss.item()*inputs.size(0)\n",
    "\n",
    "    average_loss = total_loss / len(train_loader.sampler)\n",
    "    print(f'Epoch [{epoch + 1}/{num_epochs}], Loss: {average_loss:.4f}')"
   ]
  },
  {
   "cell_type": "code",
   "execution_count": 59,
   "id": "3zB5J4JBJ8V1",
   "metadata": {
    "executionInfo": {
     "elapsed": 115,
     "status": "ok",
     "timestamp": 1710291878122,
     "user": {
      "displayName": "",
      "userId": ""
     },
     "user_tz": 0
    },
    "id": "3zB5J4JBJ8V1",
    "tags": []
   },
   "outputs": [],
   "source": [
    "torch.save(modelV1_1, 'modelV1_1.pth')"
   ]
  },
  {
   "cell_type": "markdown",
   "id": "055cceee-d147-44de-a233-d27d6bc87156",
   "metadata": {
    "jp-MarkdownHeadingCollapsed": true,
    "tags": []
   },
   "source": [
    "#### V1.2"
   ]
  },
  {
   "cell_type": "code",
   "execution_count": 60,
   "id": "b08e1bc2-ac09-4876-ae1c-20b8638ca74e",
   "metadata": {
    "tags": []
   },
   "outputs": [
    {
     "data": {
      "text/plain": [
       "ImageClassifier(\n",
       "  (conv_layer_1): Sequential(\n",
       "    (0): Conv2d(3, 64, kernel_size=(3, 3), stride=(1, 1), padding=(1, 1))\n",
       "    (1): ReLU()\n",
       "    (2): BatchNorm2d(64, eps=1e-05, momentum=0.1, affine=True, track_running_stats=True)\n",
       "    (3): MaxPool2d(kernel_size=3, stride=3, padding=0, dilation=1, ceil_mode=False)\n",
       "  )\n",
       "  (conv_layer_2): Sequential(\n",
       "    (0): Conv2d(64, 128, kernel_size=(3, 3), stride=(1, 1), padding=(1, 1))\n",
       "    (1): ReLU()\n",
       "    (2): BatchNorm2d(128, eps=1e-05, momentum=0.1, affine=True, track_running_stats=True)\n",
       "    (3): MaxPool2d(kernel_size=3, stride=3, padding=0, dilation=1, ceil_mode=False)\n",
       "  )\n",
       "  (classifier): Sequential(\n",
       "    (0): Flatten(start_dim=1, end_dim=-1)\n",
       "    (1): Linear(in_features=139392, out_features=2, bias=True)\n",
       "  )\n",
       ")"
      ]
     },
     "execution_count": 60,
     "metadata": {},
     "output_type": "execute_result"
    }
   ],
   "source": [
    "modelV1_2 = ImageClassifier()\n",
    "modelV1_2 = modelV1_2.to('cuda')\n",
    "modelV1_2.train()"
   ]
  },
  {
   "cell_type": "code",
   "execution_count": 61,
   "id": "22cfda17-34fc-4034-81fc-018805f2f8eb",
   "metadata": {
    "tags": []
   },
   "outputs": [],
   "source": [
    "criterion = nn.CrossEntropyLoss()\n",
    "optimizer = optim.Adam(modelV1_2.parameters(), lr=0.0001)\n",
    "num_epochs = 20"
   ]
  },
  {
   "cell_type": "code",
   "execution_count": 62,
   "id": "0c8f0b74-8d24-4b07-a80e-5dc389fc9187",
   "metadata": {
    "tags": []
   },
   "outputs": [
    {
     "name": "stdout",
     "output_type": "stream",
     "text": [
      "Epoch [1/20], Loss: 2.0248\n",
      "Epoch [2/20], Loss: 0.2243\n",
      "Epoch [3/20], Loss: 0.0764\n",
      "Epoch [4/20], Loss: 0.0348\n",
      "Epoch [5/20], Loss: 0.0184\n",
      "Epoch [6/20], Loss: 0.0088\n",
      "Epoch [7/20], Loss: 0.0052\n",
      "Epoch [8/20], Loss: 0.0038\n",
      "Epoch [9/20], Loss: 0.0028\n",
      "Epoch [10/20], Loss: 0.0021\n",
      "Epoch [11/20], Loss: 0.0019\n",
      "Epoch [12/20], Loss: 0.0018\n",
      "Epoch [13/20], Loss: 0.0016\n",
      "Epoch [14/20], Loss: 0.0015\n",
      "Epoch [15/20], Loss: 0.0014\n",
      "Epoch [16/20], Loss: 0.0013\n",
      "Epoch [17/20], Loss: 0.0013\n",
      "Epoch [18/20], Loss: 0.0012\n",
      "Epoch [19/20], Loss: 0.0011\n",
      "Epoch [20/20], Loss: 0.0011\n"
     ]
    }
   ],
   "source": [
    "for epoch in range(num_epochs):\n",
    "    total_loss = 0.0\n",
    "    for inputs, labels in train_loader:\n",
    "        inputs, labels = inputs.cuda(), labels.cuda()\n",
    "        optimizer.zero_grad()\n",
    "        outputs = modelV1_2(inputs)\n",
    "        loss = criterion(outputs, labels)\n",
    "        loss.backward()\n",
    "        optimizer.step()\n",
    "        total_loss += loss.item()*inputs.size(0)\n",
    "\n",
    "    average_loss = total_loss / len(train_loader.sampler)\n",
    "    print(f'Epoch [{epoch + 1}/{num_epochs}], Loss: {average_loss:.4f}')"
   ]
  },
  {
   "cell_type": "code",
   "execution_count": 63,
   "id": "8ce05024-57be-4b47-b13b-91c635c71053",
   "metadata": {
    "tags": []
   },
   "outputs": [],
   "source": [
    "torch.save(modelV1_2, 'modelV1_2.pth')"
   ]
  },
  {
   "cell_type": "markdown",
   "id": "EWtqYSVle1DL",
   "metadata": {
    "id": "EWtqYSVle1DL",
    "jp-MarkdownHeadingCollapsed": true,
    "tags": []
   },
   "source": [
    "## Architecture-2"
   ]
  },
  {
   "cell_type": "code",
   "execution_count": 25,
   "id": "9d93c057-f106-45f3-b0f4-2b10741c1f23",
   "metadata": {
    "executionInfo": {
     "elapsed": 3,
     "status": "ok",
     "timestamp": 1710291881838,
     "user": {
      "displayName": "",
      "userId": ""
     },
     "user_tz": 0
    },
    "id": "0SCBGfKoe6Og",
    "tags": []
   },
   "outputs": [],
   "source": [
    "class ImageClassifier_V2(nn.Module):\n",
    "    def __init__(self, num_classes=2):\n",
    "        super(ImageClassifier_V2, self).__init__()\n",
    "        self.conv_layer_1 = nn.Sequential(\n",
    "            nn.Conv2d(in_channels=3, out_channels=128, kernel_size=7, padding=3),\n",
    "            nn.ReLU(),\n",
    "            nn.BatchNorm2d(128),\n",
    "            nn.MaxPool2d(kernel_size=3, stride=3))\n",
    "\n",
    "        self.conv_layer_2 = nn.Sequential(\n",
    "            nn.Conv2d(in_channels=128, out_channels=256, kernel_size=3, padding=2),\n",
    "            nn.ReLU(),\n",
    "            nn.BatchNorm2d(256),\n",
    "            nn.MaxPool2d(kernel_size=3, stride=3))\n",
    "\n",
    "        self.conv_layer_3 = nn.Sequential(\n",
    "            nn.Conv2d(in_channels=256, out_channels=512, kernel_size=3, padding=2),  # Adjusted kernel_size\n",
    "            nn.ReLU(),\n",
    "            nn.BatchNorm2d(512),\n",
    "            nn.MaxPool2d(kernel_size=3, stride=1))  # Adjusted kernel_size and stride\n",
    "\n",
    "        # Calculate the input size for the linear layer based on the output of conv_layer_3\n",
    "        self.classifier_input_size = 512*34*34  # Adjusted based on the spatial dimensions\n",
    "\n",
    "        self.classifier = nn.Sequential(\n",
    "            nn.Flatten(),\n",
    "            nn.Linear(in_features=self.classifier_input_size, out_features=num_classes)\n",
    "        )\n",
    "\n",
    "    def forward(self, x: torch.Tensor):\n",
    "        x = self.conv_layer_1(x)\n",
    "        #print(\"Shape after conv_layer_1:\", x.shape)\n",
    "\n",
    "        x = self.conv_layer_2(x)\n",
    "\n",
    "        #print(\"Shape after conv_layer_2:\", x.shape)\n",
    "        x = self.conv_layer_3(x)\n",
    "\n",
    "        #print(\"Shape after conv_layer_3:\", x.shape)\n",
    "\n",
    "\n",
    "        x = self.classifier(x)\n",
    "        return x"
   ]
  },
  {
   "cell_type": "markdown",
   "id": "37944900-8d50-44d4-b8e9-42cc766eaf6e",
   "metadata": {
    "jp-MarkdownHeadingCollapsed": true,
    "tags": []
   },
   "source": [
    "### Version 2"
   ]
  },
  {
   "cell_type": "markdown",
   "id": "3d355908-235a-49b3-a848-304393bc9001",
   "metadata": {
    "jp-MarkdownHeadingCollapsed": true,
    "tags": []
   },
   "source": [
    "#### V2.0"
   ]
  },
  {
   "cell_type": "code",
   "execution_count": 24,
   "id": "38a82c19-b18a-4323-85e2-16b85f596e6e",
   "metadata": {
    "tags": []
   },
   "outputs": [],
   "source": [
    "torch.cuda.empty_cache()"
   ]
  },
  {
   "cell_type": "code",
   "execution_count": 67,
   "id": "de04a925-bc89-49ec-b845-7c5da008cfb4",
   "metadata": {},
   "outputs": [
    {
     "data": {
      "text/plain": [
       "'|===========================================================================|\\n|                  PyTorch CUDA memory summary, device ID 0                 |\\n|---------------------------------------------------------------------------|\\n|            CUDA OOMs: 0            |        cudaMalloc retries: 0         |\\n|===========================================================================|\\n|        Metric         | Cur Usage  | Peak Usage | Tot Alloc  | Tot Freed  |\\n|---------------------------------------------------------------------------|\\n| Allocated memory      |  73814 KiB |   4910 MiB |  18868 GiB |  18868 GiB |\\n|---------------------------------------------------------------------------|\\n| Active memory         |  73814 KiB |   4910 MiB |  18868 GiB |  18868 GiB |\\n|---------------------------------------------------------------------------|\\n| Requested memory      |  71958 KiB |   4909 MiB |  18866 GiB |  18866 GiB |\\n|---------------------------------------------------------------------------|\\n| GPU reserved memory   |   2868 MiB |   7212 MiB |   7212 MiB |   4344 MiB |\\n|---------------------------------------------------------------------------|\\n| Non-releasable memory |   2795 MiB |   3150 MiB |   6494 GiB |   6492 GiB |\\n|---------------------------------------------------------------------------|\\n| Allocations           |     127    |     147    |   75553    |   75426    |\\n|---------------------------------------------------------------------------|\\n| Active allocs         |     127    |     147    |   75553    |   75426    |\\n|---------------------------------------------------------------------------|\\n| GPU reserved segments |       7    |      12    |      12    |       5    |\\n|---------------------------------------------------------------------------|\\n| Non-releasable allocs |      10    |      18    |   41927    |   41917    |\\n|---------------------------------------------------------------------------|\\n| Oversize allocations  |       0    |       0    |       0    |       0    |\\n|---------------------------------------------------------------------------|\\n| Oversize GPU segments |       0    |       0    |       0    |       0    |\\n|===========================================================================|\\n'"
      ]
     },
     "execution_count": 67,
     "metadata": {},
     "output_type": "execute_result"
    }
   ],
   "source": [
    "torch.cuda.memory_summary(device=None, abbreviated=True)"
   ]
  },
  {
   "cell_type": "code",
   "execution_count": 68,
   "id": "vrn2JRg3eRuU",
   "metadata": {
    "executionInfo": {
     "elapsed": 139,
     "status": "ok",
     "timestamp": 1710291885541,
     "user": {
      "displayName": "",
      "userId": ""
     },
     "user_tz": 0
    },
    "id": "vrn2JRg3eRuU",
    "tags": []
   },
   "outputs": [
    {
     "data": {
      "text/plain": [
       "ImageClassifier_V2(\n",
       "  (conv_layer_1): Sequential(\n",
       "    (0): Conv2d(3, 128, kernel_size=(7, 7), stride=(1, 1), padding=(3, 3))\n",
       "    (1): ReLU()\n",
       "    (2): BatchNorm2d(128, eps=1e-05, momentum=0.1, affine=True, track_running_stats=True)\n",
       "    (3): MaxPool2d(kernel_size=3, stride=3, padding=0, dilation=1, ceil_mode=False)\n",
       "  )\n",
       "  (conv_layer_2): Sequential(\n",
       "    (0): Conv2d(128, 256, kernel_size=(3, 3), stride=(1, 1), padding=(2, 2))\n",
       "    (1): ReLU()\n",
       "    (2): BatchNorm2d(256, eps=1e-05, momentum=0.1, affine=True, track_running_stats=True)\n",
       "    (3): MaxPool2d(kernel_size=3, stride=3, padding=0, dilation=1, ceil_mode=False)\n",
       "  )\n",
       "  (conv_layer_3): Sequential(\n",
       "    (0): Conv2d(256, 512, kernel_size=(3, 3), stride=(1, 1), padding=(2, 2))\n",
       "    (1): ReLU()\n",
       "    (2): BatchNorm2d(512, eps=1e-05, momentum=0.1, affine=True, track_running_stats=True)\n",
       "    (3): MaxPool2d(kernel_size=3, stride=1, padding=0, dilation=1, ceil_mode=False)\n",
       "  )\n",
       "  (classifier): Sequential(\n",
       "    (0): Flatten(start_dim=1, end_dim=-1)\n",
       "    (1): Linear(in_features=591872, out_features=2, bias=True)\n",
       "  )\n",
       ")"
      ]
     },
     "execution_count": 68,
     "metadata": {},
     "output_type": "execute_result"
    }
   ],
   "source": [
    "modelV2_0 = ImageClassifier_V2()\n",
    "modelV2_0 = modelV2_0.to('cuda')\n",
    "modelV2_0.train()"
   ]
  },
  {
   "cell_type": "code",
   "execution_count": 69,
   "id": "NZfYuNU3hP0y",
   "metadata": {
    "colab": {
     "base_uri": "https://localhost:8080/"
    },
    "executionInfo": {
     "elapsed": 4,
     "status": "ok",
     "timestamp": 1710291907689,
     "user": {
      "displayName": "",
      "userId": ""
     },
     "user_tz": 0
    },
    "id": "NZfYuNU3hP0y",
    "outputId": "0b70de11-1c73-4e77-df8f-663ad9eea77c",
    "tags": []
   },
   "outputs": [],
   "source": [
    "criterion = nn.CrossEntropyLoss()\n",
    "optimizer = torch.optim.SGD(modelV2_0.parameters(), lr=0.005, momentum=0.03)\n",
    "num_epochs = 20"
   ]
  },
  {
   "cell_type": "code",
   "execution_count": 70,
   "id": "Da3eqWMbffYJ",
   "metadata": {
    "colab": {
     "base_uri": "https://localhost:8080/"
    },
    "executionInfo": {
     "elapsed": 470860,
     "status": "ok",
     "timestamp": 1710292380395,
     "user": {
      "displayName": "",
      "userId": ""
     },
     "user_tz": 0
    },
    "id": "Da3eqWMbffYJ",
    "outputId": "ce325713-942e-47ad-8a63-9ba3f9e0a690",
    "tags": []
   },
   "outputs": [
    {
     "name": "stdout",
     "output_type": "stream",
     "text": [
      "Epoch [1/20], Loss: 548.7681\n",
      "Epoch [2/20], Loss: 200.1508\n",
      "Epoch [3/20], Loss: 76.6271\n",
      "Epoch [4/20], Loss: 48.4247\n",
      "Epoch [5/20], Loss: 29.3480\n",
      "Epoch [6/20], Loss: 19.6634\n",
      "Epoch [7/20], Loss: 24.5027\n",
      "Epoch [8/20], Loss: 11.8800\n",
      "Epoch [9/20], Loss: 5.0428\n",
      "Epoch [10/20], Loss: 5.9622\n",
      "Epoch [11/20], Loss: 4.4721\n",
      "Epoch [12/20], Loss: 2.5547\n",
      "Epoch [13/20], Loss: 2.5249\n",
      "Epoch [14/20], Loss: 23.8425\n",
      "Epoch [15/20], Loss: 2.8775\n",
      "Epoch [16/20], Loss: 2.0994\n",
      "Epoch [17/20], Loss: 1.4300\n",
      "Epoch [18/20], Loss: 1.2479\n",
      "Epoch [19/20], Loss: 0.7647\n",
      "Epoch [20/20], Loss: 0.4781\n"
     ]
    }
   ],
   "source": [
    "# Assuming you have a DataLoader named 'train_loader'\n",
    "for epoch in range(num_epochs):\n",
    "    total_loss = 0.0\n",
    "    for inputs, labels in train_loader:\n",
    "        inputs, labels = inputs.cuda(), labels.cuda()\n",
    "        optimizer.zero_grad()\n",
    "        outputs = modelV2_0(inputs)\n",
    "        loss = criterion(outputs, labels)\n",
    "        loss.backward()\n",
    "        optimizer.step()\n",
    "        total_loss += loss.item()*inputs.size(0)\n",
    "\n",
    "    average_loss = total_loss / len(train_loader.sampler)\n",
    "    print(f'Epoch [{epoch + 1}/{num_epochs}], Loss: {average_loss:.4f}')"
   ]
  },
  {
   "cell_type": "code",
   "execution_count": 75,
   "id": "3258f0b6-d771-485a-ac3a-bb855efde2cb",
   "metadata": {
    "tags": []
   },
   "outputs": [],
   "source": [
    "torch.save(modelV2_0, 'modelV2_0.pth')"
   ]
  },
  {
   "cell_type": "markdown",
   "id": "b9861f8b-33dc-4901-a8eb-e77ada9c28b2",
   "metadata": {
    "id": "v6yP2n1UcB0i",
    "jp-MarkdownHeadingCollapsed": true,
    "tags": []
   },
   "source": [
    "#### V2.1"
   ]
  },
  {
   "cell_type": "code",
   "execution_count": 71,
   "id": "u5EFrcDZYam3",
   "metadata": {
    "colab": {
     "base_uri": "https://localhost:8080/"
    },
    "executionInfo": {
     "elapsed": 147,
     "status": "ok",
     "timestamp": 1710292633448,
     "user": {
      "displayName": "",
      "userId": ""
     },
     "user_tz": 0
    },
    "id": "u5EFrcDZYam3",
    "outputId": "7b736428-a9f2-4ce6-9eab-79be6a6d1a35",
    "tags": []
   },
   "outputs": [
    {
     "data": {
      "text/plain": [
       "ImageClassifier_V2(\n",
       "  (conv_layer_1): Sequential(\n",
       "    (0): Conv2d(3, 128, kernel_size=(7, 7), stride=(1, 1), padding=(3, 3))\n",
       "    (1): ReLU()\n",
       "    (2): BatchNorm2d(128, eps=1e-05, momentum=0.1, affine=True, track_running_stats=True)\n",
       "    (3): MaxPool2d(kernel_size=3, stride=3, padding=0, dilation=1, ceil_mode=False)\n",
       "  )\n",
       "  (conv_layer_2): Sequential(\n",
       "    (0): Conv2d(128, 256, kernel_size=(3, 3), stride=(1, 1), padding=(2, 2))\n",
       "    (1): ReLU()\n",
       "    (2): BatchNorm2d(256, eps=1e-05, momentum=0.1, affine=True, track_running_stats=True)\n",
       "    (3): MaxPool2d(kernel_size=3, stride=3, padding=0, dilation=1, ceil_mode=False)\n",
       "  )\n",
       "  (conv_layer_3): Sequential(\n",
       "    (0): Conv2d(256, 512, kernel_size=(3, 3), stride=(1, 1), padding=(2, 2))\n",
       "    (1): ReLU()\n",
       "    (2): BatchNorm2d(512, eps=1e-05, momentum=0.1, affine=True, track_running_stats=True)\n",
       "    (3): MaxPool2d(kernel_size=3, stride=1, padding=0, dilation=1, ceil_mode=False)\n",
       "  )\n",
       "  (classifier): Sequential(\n",
       "    (0): Flatten(start_dim=1, end_dim=-1)\n",
       "    (1): Linear(in_features=591872, out_features=2, bias=True)\n",
       "  )\n",
       ")"
      ]
     },
     "execution_count": 71,
     "metadata": {},
     "output_type": "execute_result"
    }
   ],
   "source": [
    "modelV2_1 = ImageClassifier_V2()\n",
    "modelV2_1 = modelV2_1.to('cuda')\n",
    "modelV2_1.train()"
   ]
  },
  {
   "cell_type": "code",
   "execution_count": 72,
   "id": "PykKvrURaXYt",
   "metadata": {
    "executionInfo": {
     "elapsed": 119,
     "status": "ok",
     "timestamp": 1710293319752,
     "user": {
      "displayName": "",
      "userId": ""
     },
     "user_tz": 0
    },
    "id": "PykKvrURaXYt",
    "tags": []
   },
   "outputs": [],
   "source": [
    "criterion = nn.CrossEntropyLoss()\n",
    "optimizer = optim.Adam(modelV2_1.parameters(), lr=0.0001)\n",
    "num_epochs = 20"
   ]
  },
  {
   "cell_type": "code",
   "execution_count": 73,
   "id": "gSOxrhk1RZeI",
   "metadata": {
    "colab": {
     "base_uri": "https://localhost:8080/"
    },
    "executionInfo": {
     "elapsed": 475152,
     "status": "ok",
     "timestamp": 1710293844800,
     "user": {
      "displayName": "",
      "userId": ""
     },
     "user_tz": 0
    },
    "id": "gSOxrhk1RZeI",
    "outputId": "c3cb31f7-038d-4ca9-8994-b10a9f929129",
    "tags": []
   },
   "outputs": [
    {
     "name": "stdout",
     "output_type": "stream",
     "text": [
      "Epoch [1/20], Loss: 8.3365\n",
      "Epoch [2/20], Loss: 1.3942\n",
      "Epoch [3/20], Loss: 0.2351\n",
      "Epoch [4/20], Loss: 0.0691\n",
      "Epoch [5/20], Loss: 0.1152\n",
      "Epoch [6/20], Loss: 0.1939\n",
      "Epoch [7/20], Loss: 0.0586\n",
      "Epoch [8/20], Loss: 0.0235\n",
      "Epoch [9/20], Loss: 0.0033\n",
      "Epoch [10/20], Loss: 0.0131\n",
      "Epoch [11/20], Loss: 0.0194\n",
      "Epoch [12/20], Loss: 0.0010\n",
      "Epoch [13/20], Loss: 0.0021\n",
      "Epoch [14/20], Loss: 0.0005\n",
      "Epoch [15/20], Loss: 0.0002\n",
      "Epoch [16/20], Loss: 0.0000\n",
      "Epoch [17/20], Loss: 0.0000\n",
      "Epoch [18/20], Loss: 0.0000\n",
      "Epoch [19/20], Loss: 0.0000\n",
      "Epoch [20/20], Loss: 0.0000\n"
     ]
    }
   ],
   "source": [
    "for epoch in range(num_epochs):\n",
    "    total_loss = 0.0\n",
    "    for inputs, labels in train_loader:\n",
    "        inputs, labels  = inputs.cuda(), labels.cuda()\n",
    "        optimizer.zero_grad()\n",
    "        outputs = modelV2_1(inputs)\n",
    "        loss1 = criterion(outputs, labels)\n",
    "        loss1.backward()\n",
    "        optimizer.step()\n",
    "        total_loss += (loss1.item())*inputs.size(0)\n",
    "\n",
    "\n",
    "    average_loss = total_loss / len(train_loader.sampler)\n",
    "    print(f'Epoch [{epoch + 1}/{num_epochs}], Loss: {average_loss:.4f}')"
   ]
  },
  {
   "cell_type": "code",
   "execution_count": 74,
   "id": "ckT2s5FcSvg_",
   "metadata": {
    "executionInfo": {
     "elapsed": 139,
     "status": "ok",
     "timestamp": 1710293848893,
     "user": {
      "displayName": "",
      "userId": ""
     },
     "user_tz": 0
    },
    "id": "ckT2s5FcSvg_",
    "tags": []
   },
   "outputs": [],
   "source": [
    "torch.save(modelV2_1, 'modelV2_1.pth')"
   ]
  },
  {
   "cell_type": "markdown",
   "id": "L2iq2l1hhzca",
   "metadata": {
    "id": "L2iq2l1hhzca",
    "tags": []
   },
   "source": [
    "# Basic Evaluation"
   ]
  },
  {
   "cell_type": "code",
   "execution_count": 18,
   "id": "nZ3d-Kv8I3V9",
   "metadata": {
    "executionInfo": {
     "elapsed": 167,
     "status": "ok",
     "timestamp": 1710292387687,
     "user": {
      "displayName": "",
      "userId": ""
     },
     "user_tz": 0
    },
    "id": "nZ3d-Kv8I3V9",
    "tags": []
   },
   "outputs": [],
   "source": [
    "def check_accuracy(loader, model):\n",
    "    num_correct = 0\n",
    "    num_samples = 0\n",
    "    model.eval()\n",
    "    \n",
    "    with torch.no_grad():\n",
    "        for x, y in loader:\n",
    "            x = x.cuda()\n",
    "            y = y.cuda()\n",
    "\n",
    "            scores = model(x)\n",
    "            _, predictions = scores.max(1)\n",
    "            num_correct += (predictions == y).sum()\n",
    "            num_samples += predictions.size(0)\n",
    "            \n",
    "            accuracy = float(num_correct) / float(num_samples) * 100\n",
    "\n",
    "    return accuracy , num_correct , num_samples"
   ]
  },
  {
   "cell_type": "markdown",
   "id": "3c293c56-b342-4c00-8cba-3409165f84b8",
   "metadata": {
    "jp-MarkdownHeadingCollapsed": true,
    "tags": []
   },
   "source": [
    "## Architecture - 1"
   ]
  },
  {
   "cell_type": "markdown",
   "id": "V0Y3ljM7X99r",
   "metadata": {
    "id": "V0Y3ljM7X99r",
    "jp-MarkdownHeadingCollapsed": true,
    "tags": []
   },
   "source": [
    "### modelV1_0"
   ]
  },
  {
   "cell_type": "code",
   "execution_count": 45,
   "id": "119decc5-3eac-4593-8da1-3dcc1cf86d69",
   "metadata": {
    "tags": []
   },
   "outputs": [],
   "source": [
    "modelV1_0 = torch.load(\"modelV1_0.pth\").to('cuda')"
   ]
  },
  {
   "cell_type": "code",
   "execution_count": 29,
   "id": "7e14409e-355c-44b8-b3c1-27e8470f63c1",
   "metadata": {
    "tags": []
   },
   "outputs": [
    {
     "name": "stdout",
     "output_type": "stream",
     "text": [
      "Train Set Accuracy: 100.00%, Correct: 1440, Total: 1440\n",
      "Test Set Accuracy: 97.22%, Correct: 350, Total: 360\n"
     ]
    }
   ],
   "source": [
    "train_accuracy, train_correct, train_total = check_accuracy(train_loader, modelV1_0)\n",
    "test_accuracy, test_correct, test_total = check_accuracy(test_loader, modelV1_0)\n",
    "\n",
    "print(f\"Train Set Accuracy: {train_accuracy:.2f}%, Correct: {train_correct}, Total: {train_total}\")\n",
    "print(f\"Test Set Accuracy: {test_accuracy:.2f}%, Correct: {test_correct}, Total: {test_total}\")"
   ]
  },
  {
   "cell_type": "markdown",
   "id": "G3sywYOEiX26",
   "metadata": {
    "id": "G3sywYOEiX26",
    "jp-MarkdownHeadingCollapsed": true,
    "tags": []
   },
   "source": [
    "### modelV1_1"
   ]
  },
  {
   "cell_type": "code",
   "execution_count": null,
   "id": "5f2b3d16-d4cf-4d79-a411-abb4e4658d6a",
   "metadata": {},
   "outputs": [],
   "source": [
    "modelV1_1 = torch.load(\"modelV1_1.pth\").to('cuda')"
   ]
  },
  {
   "cell_type": "code",
   "execution_count": 30,
   "id": "XBdQYGZzI6Z9",
   "metadata": {
    "colab": {
     "base_uri": "https://localhost:8080/"
    },
    "executionInfo": {
     "elapsed": 2055,
     "status": "ok",
     "timestamp": 1710293889177,
     "user": {
      "displayName": "",
      "userId": ""
     },
     "user_tz": 0
    },
    "id": "XBdQYGZzI6Z9",
    "outputId": "cf1827a5-808b-4f58-9412-b44f4210b10b",
    "tags": []
   },
   "outputs": [
    {
     "name": "stdout",
     "output_type": "stream",
     "text": [
      "Train Set Accuracy: 100.00%, Correct: 1440, Total: 1440\n",
      "Test Set Accuracy: 98.06%, Correct: 353, Total: 360\n"
     ]
    }
   ],
   "source": [
    "train_accuracy, train_correct, train_total = check_accuracy(train_loader, modelV1_1)\n",
    "test_accuracy, test_correct, test_total = check_accuracy(test_loader, modelV1_1)\n",
    "\n",
    "print(f\"Train Set Accuracy: {train_accuracy:.2f}%, Correct: {train_correct}, Total: {train_total}\")\n",
    "print(f\"Test Set Accuracy: {test_accuracy:.2f}%, Correct: {test_correct}, Total: {test_total}\")"
   ]
  },
  {
   "cell_type": "markdown",
   "id": "N0X2lM7-kQhs",
   "metadata": {
    "id": "N0X2lM7-kQhs",
    "jp-MarkdownHeadingCollapsed": true,
    "tags": []
   },
   "source": [
    "### modelV1_2"
   ]
  },
  {
   "cell_type": "code",
   "execution_count": null,
   "id": "73b52ecc-f646-43a4-8122-9104f994e5c2",
   "metadata": {},
   "outputs": [],
   "source": [
    "modelV1_2 = torch.load(\"modelV1_2.pth\").to('cuda')"
   ]
  },
  {
   "cell_type": "code",
   "execution_count": 31,
   "id": "c8c6a1ab-8b60-49a4-9af4-3a8836eed222",
   "metadata": {
    "tags": []
   },
   "outputs": [
    {
     "name": "stdout",
     "output_type": "stream",
     "text": [
      "Train Set Accuracy: 100.00%, Correct: 1440, Total: 1440\n",
      "Test Set Accuracy: 98.33%, Correct: 354, Total: 360\n"
     ]
    }
   ],
   "source": [
    "train_accuracy, train_correct, train_total = check_accuracy(train_loader, modelV1_2)\n",
    "test_accuracy, test_correct, test_total = check_accuracy(test_loader, modelV1_2)\n",
    "\n",
    "print(f\"Train Set Accuracy: {train_accuracy:.2f}%, Correct: {train_correct}, Total: {train_total}\")\n",
    "print(f\"Test Set Accuracy: {test_accuracy:.2f}%, Correct: {test_correct}, Total: {test_total}\")"
   ]
  },
  {
   "cell_type": "markdown",
   "id": "42197268-2b38-46c5-bc77-fe55c221ba1f",
   "metadata": {
    "jp-MarkdownHeadingCollapsed": true,
    "tags": []
   },
   "source": [
    "##  Architecture - 2"
   ]
  },
  {
   "cell_type": "markdown",
   "id": "a0e9694a-8485-4baf-960f-2be9418e6644",
   "metadata": {
    "tags": []
   },
   "source": [
    "### modelV2_0"
   ]
  },
  {
   "cell_type": "code",
   "execution_count": 32,
   "id": "f63d90af-4434-4a35-9c94-c55a7896da4c",
   "metadata": {
    "tags": []
   },
   "outputs": [
    {
     "name": "stdout",
     "output_type": "stream",
     "text": [
      "Train Set Accuracy: 98.75%, Correct: 1422, Total: 1440\n",
      "Test Set Accuracy: 91.67%, Correct: 330, Total: 360\n"
     ]
    }
   ],
   "source": [
    "modelV2_0 = torch.load(\"modelV2_0.pth\").to('cuda')\n",
    "train_accuracy, train_correct, train_total = check_accuracy(train_loader, modelV2_0)\n",
    "test_accuracy, test_correct, test_total = check_accuracy(test_loader, modelV2_0)\n",
    "\n",
    "print(f\"Train Set Accuracy: {train_accuracy:.2f}%, Correct: {train_correct}, Total: {train_total}\")\n",
    "print(f\"Test Set Accuracy: {test_accuracy:.2f}%, Correct: {test_correct}, Total: {test_total}\")"
   ]
  },
  {
   "cell_type": "markdown",
   "id": "a0667065-4af0-4f96-bc58-295b2aff2928",
   "metadata": {},
   "source": [
    "### modelV2_1"
   ]
  },
  {
   "cell_type": "code",
   "execution_count": 33,
   "id": "5bc765a7-7fe5-4a7e-8322-838747b41957",
   "metadata": {
    "tags": []
   },
   "outputs": [
    {
     "name": "stdout",
     "output_type": "stream",
     "text": [
      "Train Set Accuracy: 100.00%, Correct: 1440, Total: 1440\n",
      "Test Set Accuracy: 99.17%, Correct: 357, Total: 360\n"
     ]
    }
   ],
   "source": [
    "modelV2_1 = torch.load(\"modelV2_1.pth\").to('cuda')\n",
    "train_accuracy, train_correct, train_total = check_accuracy(train_loader, modelV2_1)\n",
    "test_accuracy, test_correct, test_total = check_accuracy(test_loader, modelV2_1)\n",
    "\n",
    "print(f\"Train Set Accuracy: {train_accuracy:.2f}%, Correct: {train_correct}, Total: {train_total}\")\n",
    "print(f\"Test Set Accuracy: {test_accuracy:.2f}%, Correct: {test_correct}, Total: {test_total}\")"
   ]
  },
  {
   "cell_type": "markdown",
   "id": "9bdc98c9-6a36-41bf-8d21-0abe7368da85",
   "metadata": {
    "jp-MarkdownHeadingCollapsed": true,
    "tags": []
   },
   "source": [
    "# Loss and train loss graph"
   ]
  },
  {
   "cell_type": "code",
   "execution_count": 57,
   "id": "9e4b165d-b94d-47d9-917c-02cb65234a28",
   "metadata": {},
   "outputs": [],
   "source": [
    "def get_loss(model, train_loader, test_loader, optimizer, criterion, num_epochs):\n",
    "    train_losses = []  # Store train losses\n",
    "    test_losses = []   # Store test losses\n",
    "\n",
    "    \n",
    "    for epoch in range(num_epochs):\n",
    "        train_loss = 0.0\n",
    "        model.train()\n",
    "        for inputs, labels in train_loader:\n",
    "            inputs, labels = inputs.cuda(), labels.cuda()\n",
    "            optimizer.zero_grad()\n",
    "            outputs = model(inputs)\n",
    "            loss = criterion(outputs, labels)\n",
    "            loss.backward()\n",
    "            optimizer.step()\n",
    "            train_loss += loss.item() * inputs.size(0)\n",
    "\n",
    "        average_train_loss = train_loss / len(train_loader.dataset)\n",
    "        train_losses.append(average_train_loss)\n",
    "\n",
    "        # Evaluate on test set\n",
    "        test_loss = 0.0\n",
    "        with torch.no_grad():\n",
    "            model.eval()\n",
    "            for inputs, labels in test_loader:\n",
    "                inputs, labels = inputs.to(device), labels.to(device)\n",
    "                outputs = model(inputs)\n",
    "                loss = criterion(outputs, labels)\n",
    "                test_loss += loss.item() * inputs.size(0)\n",
    "\n",
    "        average_test_loss = test_loss / len(test_loader.dataset)\n",
    "        test_losses.append(average_test_loss)\n",
    "        \n",
    "        print(f'Epoch [{epoch + 1}/{num_epochs}], Train Loss: {average_train_loss:.4f}, Test Loss: {average_test_loss:.4f}')\n",
    "\n",
    "    return train_losses, test_losses"
   ]
  },
  {
   "cell_type": "markdown",
   "id": "c327b341-5296-4e25-bd29-d68d0f1a8559",
   "metadata": {
    "jp-MarkdownHeadingCollapsed": true,
    "tags": []
   },
   "source": [
    "## Architecture_1"
   ]
  },
  {
   "cell_type": "markdown",
   "id": "1287a9bf-ecf0-49f2-a9af-003f740585e7",
   "metadata": {
    "jp-MarkdownHeadingCollapsed": true,
    "tags": []
   },
   "source": [
    "### V1.0"
   ]
  },
  {
   "cell_type": "code",
   "execution_count": 79,
   "id": "f31b94a5-7d67-454e-a54e-3d39687fcbfe",
   "metadata": {},
   "outputs": [
    {
     "name": "stdout",
     "output_type": "stream",
     "text": [
      "Epoch [1/20], Train Loss: 10.1849, Test Loss: 2.3221\n",
      "Epoch [2/20], Train Loss: 2.8590, Test Loss: 1.0386\n",
      "Epoch [3/20], Train Loss: 0.5129, Test Loss: 2.4251\n",
      "Epoch [4/20], Train Loss: 0.3278, Test Loss: 0.7227\n",
      "Epoch [5/20], Train Loss: 0.1816, Test Loss: 0.6382\n",
      "Epoch [6/20], Train Loss: 0.1883, Test Loss: 0.5980\n",
      "Epoch [7/20], Train Loss: 0.0461, Test Loss: 0.4956\n",
      "Epoch [8/20], Train Loss: 0.0074, Test Loss: 0.5302\n",
      "Epoch [9/20], Train Loss: 0.0141, Test Loss: 0.5249\n",
      "Epoch [10/20], Train Loss: 0.0017, Test Loss: 0.4647\n",
      "Epoch [11/20], Train Loss: 0.0000, Test Loss: 0.4049\n",
      "Epoch [12/20], Train Loss: 0.0000, Test Loss: 0.4048\n",
      "Epoch [13/20], Train Loss: 0.0000, Test Loss: 0.4052\n",
      "Epoch [14/20], Train Loss: 0.0000, Test Loss: 0.4055\n",
      "Epoch [15/20], Train Loss: 0.0000, Test Loss: 0.4058\n",
      "Epoch [16/20], Train Loss: 0.0000, Test Loss: 0.4061\n",
      "Epoch [17/20], Train Loss: 0.0000, Test Loss: 0.4063\n",
      "Epoch [18/20], Train Loss: 0.0000, Test Loss: 0.4065\n",
      "Epoch [19/20], Train Loss: 0.0000, Test Loss: 0.4067\n",
      "Epoch [20/20], Train Loss: 0.0000, Test Loss: 0.4068\n"
     ]
    }
   ],
   "source": [
    "modelV1_0 = ImageClassifier()\n",
    "modelV1_0.cuda()\n",
    "modelV1_0.train()\n",
    "\n",
    "criterion = nn.CrossEntropyLoss()\n",
    "optimizer = torch.optim.SGD(modelV1_0.parameters(), lr=0.001, momentum=0.75)\n",
    "num_epochs = 20\n",
    "\n",
    "train_losses, test_losses = get_loss(modelV1_0,train_loader, test_loader, optimizer, criterion, num_epochs)"
   ]
  },
  {
   "cell_type": "code",
   "execution_count": 80,
   "id": "8931c508-1952-447e-a924-27087cc433c4",
   "metadata": {
    "tags": []
   },
   "outputs": [
    {
     "name": "stdout",
     "output_type": "stream",
     "text": [
      "Train Set Accuracy: 100.00%, Correct: 1440, Total: 1440\n",
      "Test Set Accuracy: 98.33%, Correct: 354, Total: 360\n"
     ]
    }
   ],
   "source": [
    "train_accuracy, train_correct, train_total = check_accuracy(train_loader, modelV1_0)\n",
    "test_accuracy, test_correct, test_total = check_accuracy(test_loader, modelV1_0)\n",
    "\n",
    "print(f\"Train Set Accuracy: {train_accuracy:.2f}%, Correct: {train_correct}, Total: {train_total}\")\n",
    "print(f\"Test Set Accuracy: {test_accuracy:.2f}%, Correct: {test_correct}, Total: {test_total}\")"
   ]
  },
  {
   "cell_type": "code",
   "execution_count": 81,
   "id": "4aac97f4-13f5-47e7-9117-4eb1e744a4de",
   "metadata": {},
   "outputs": [
    {
     "data": {
      "image/png": "[encoded data removed]",
      "text/plain": [
       "<Figure size 1000x500 with 1 Axes>"
      ]
     },
     "metadata": {},
     "output_type": "display_data"
    }
   ],
   "source": [
    "epochs = range(1, num_epochs + 1)\n",
    "plt.figure(figsize=(10, 5))\n",
    "plt.plot(epochs, train_losses, label='Train Loss')\n",
    "plt.plot(epochs, test_losses, label='Test Loss')\n",
    "plt.xlabel('Epochs')\n",
    "plt.ylabel('Loss')\n",
    "plt.title('Train/Test Losses {V1.0}')\n",
    "plt.legend()\n",
    "plt.grid(True)\n",
    "plt.savefig('Losses{V1_0}.png')\n",
    "plt.show()"
   ]
  },
  {
   "cell_type": "markdown",
   "id": "026c933e-c60a-41a2-8add-a20fea168cb1",
   "metadata": {
    "jp-MarkdownHeadingCollapsed": true,
    "tags": []
   },
   "source": [
    "###  V1.1"
   ]
  },
  {
   "cell_type": "code",
   "execution_count": 65,
   "id": "6ad1f619-2c62-4792-b908-bc4f01dccb1d",
   "metadata": {},
   "outputs": [
    {
     "name": "stdout",
     "output_type": "stream",
     "text": [
      "Epoch [1/20], Train Loss: 1.0991, Test Loss: 0.7780\n",
      "Epoch [2/20], Train Loss: 0.2201, Test Loss: 0.5283\n",
      "Epoch [3/20], Train Loss: 0.1198, Test Loss: 0.2642\n",
      "Epoch [4/20], Train Loss: 0.0880, Test Loss: 0.1698\n",
      "Epoch [5/20], Train Loss: 0.0634, Test Loss: 0.1554\n",
      "Epoch [6/20], Train Loss: 0.0485, Test Loss: 0.1448\n",
      "Epoch [7/20], Train Loss: 0.0381, Test Loss: 0.1251\n",
      "Epoch [8/20], Train Loss: 0.0318, Test Loss: 0.1126\n",
      "Epoch [9/20], Train Loss: 0.0276, Test Loss: 0.1062\n",
      "Epoch [10/20], Train Loss: 0.0245, Test Loss: 0.1024\n",
      "Epoch [11/20], Train Loss: 0.0222, Test Loss: 0.0996\n",
      "Epoch [12/20], Train Loss: 0.0203, Test Loss: 0.0975\n",
      "Epoch [13/20], Train Loss: 0.0188, Test Loss: 0.0957\n",
      "Epoch [14/20], Train Loss: 0.0174, Test Loss: 0.0942\n",
      "Epoch [15/20], Train Loss: 0.0163, Test Loss: 0.0930\n",
      "Epoch [16/20], Train Loss: 0.0153, Test Loss: 0.0919\n",
      "Epoch [17/20], Train Loss: 0.0145, Test Loss: 0.0910\n",
      "Epoch [18/20], Train Loss: 0.0137, Test Loss: 0.0902\n",
      "Epoch [19/20], Train Loss: 0.0130, Test Loss: 0.0895\n",
      "Epoch [20/20], Train Loss: 0.0124, Test Loss: 0.0888\n"
     ]
    }
   ],
   "source": [
    "modelV1_1 = ImageClassifier()\n",
    "modelV1_1 = modelV1_1.to('cuda')\n",
    "modelV1_1.train()\n",
    "\n",
    "criterion = nn.CrossEntropyLoss()\n",
    "optimizer = torch.optim.SGD(modelV1_1.parameters(), lr=0.0001, momentum=0.50)\n",
    "num_epochs = 20\n",
    "\n",
    "train_losses, test_losses = get_loss(modelV1_1,train_loader, test_loader, optimizer, criterion, num_epochs)"
   ]
  },
  {
   "cell_type": "code",
   "execution_count": 66,
   "id": "74a54a35-7980-4571-b43b-e772dd212962",
   "metadata": {
    "tags": []
   },
   "outputs": [
    {
     "name": "stdout",
     "output_type": "stream",
     "text": [
      "Train Set Accuracy: 100.00%, Correct: 1440, Total: 1440\n",
      "Test Set Accuracy: 97.78%, Correct: 352, Total: 360\n"
     ]
    }
   ],
   "source": [
    "train_accuracy, train_correct, train_total = check_accuracy(train_loader, modelV1_1)\n",
    "test_accuracy, test_correct, test_total = check_accuracy(test_loader, modelV1_1)\n",
    "\n",
    "print(f\"Train Set Accuracy: {train_accuracy:.2f}%, Correct: {train_correct}, Total: {train_total}\")\n",
    "print(f\"Test Set Accuracy: {test_accuracy:.2f}%, Correct: {test_correct}, Total: {test_total}\")"
   ]
  },
  {
   "cell_type": "code",
   "execution_count": 68,
   "id": "e62fe21e-b24c-4e86-8f85-764cbec71fe5",
   "metadata": {
    "tags": []
   },
   "outputs": [
    {
     "data": {
      "image/png": "[encoded data removed]",
      "text/plain": [
       "<Figure size 1000x500 with 1 Axes>"
      ]
     },
     "metadata": {},
     "output_type": "display_data"
    }
   ],
   "source": [
    "epochs = range(1, num_epochs + 1)\n",
    "plt.figure(figsize=(10, 5))\n",
    "plt.plot(epochs, train_losses, label='Train Loss')\n",
    "plt.plot(epochs, test_losses, label='Test Loss')\n",
    "plt.xlabel('Epochs')\n",
    "plt.ylabel('Loss')\n",
    "plt.title('Train/Test Losses {V1.1}')\n",
    "plt.legend()\n",
    "plt.grid(True)\n",
    "plt.savefig('Losses{V1_1}.png')\n",
    "plt.show()"
   ]
  },
  {
   "cell_type": "markdown",
   "id": "2ba9b28a-f20c-49e7-951e-9c496daa7533",
   "metadata": {
    "jp-MarkdownHeadingCollapsed": true,
    "tags": []
   },
   "source": [
    "###  V1.2"
   ]
  },
  {
   "cell_type": "code",
   "execution_count": 69,
   "id": "cf8d6733-f885-4454-ab11-5fb8a2c99930",
   "metadata": {
    "tags": []
   },
   "outputs": [
    {
     "name": "stdout",
     "output_type": "stream",
     "text": [
      "Epoch [1/20], Train Loss: 1.8293, Test Loss: 0.7290\n",
      "Epoch [2/20], Train Loss: 0.1699, Test Loss: 0.6624\n",
      "Epoch [3/20], Train Loss: 0.0685, Test Loss: 0.2075\n",
      "Epoch [4/20], Train Loss: 0.0504, Test Loss: 0.2087\n",
      "Epoch [5/20], Train Loss: 0.0636, Test Loss: 0.1214\n",
      "Epoch [6/20], Train Loss: 0.0784, Test Loss: 0.1589\n",
      "Epoch [7/20], Train Loss: 0.0399, Test Loss: 0.0981\n",
      "Epoch [8/20], Train Loss: 0.0070, Test Loss: 0.1011\n",
      "Epoch [9/20], Train Loss: 0.0021, Test Loss: 0.0938\n",
      "Epoch [10/20], Train Loss: 0.0012, Test Loss: 0.0914\n",
      "Epoch [11/20], Train Loss: 0.0008, Test Loss: 0.0883\n",
      "Epoch [12/20], Train Loss: 0.0007, Test Loss: 0.0880\n",
      "Epoch [13/20], Train Loss: 0.0007, Test Loss: 0.0878\n",
      "Epoch [14/20], Train Loss: 0.0006, Test Loss: 0.0875\n",
      "Epoch [15/20], Train Loss: 0.0006, Test Loss: 0.0873\n",
      "Epoch [16/20], Train Loss: 0.0006, Test Loss: 0.0871\n",
      "Epoch [17/20], Train Loss: 0.0005, Test Loss: 0.0870\n",
      "Epoch [18/20], Train Loss: 0.0005, Test Loss: 0.0868\n",
      "Epoch [19/20], Train Loss: 0.0005, Test Loss: 0.0867\n",
      "Epoch [20/20], Train Loss: 0.0005, Test Loss: 0.0866\n"
     ]
    }
   ],
   "source": [
    "modelV1_2 = ImageClassifier()\n",
    "modelV1_2 = modelV1_2.to('cuda')\n",
    "modelV1_2.train()\n",
    "\n",
    "criterion = nn.CrossEntropyLoss()\n",
    "optimizer = optim.Adam(modelV1_2.parameters(), lr=0.0001)\n",
    "num_epochs = 20\n",
    "\n",
    "train_losses, test_losses = get_loss(modelV1_2,train_loader, test_loader, optimizer, criterion, num_epochs)"
   ]
  },
  {
   "cell_type": "code",
   "execution_count": 70,
   "id": "c12183fe-c8d6-4bec-9699-b3c9156a4e4b",
   "metadata": {
    "tags": []
   },
   "outputs": [
    {
     "name": "stdout",
     "output_type": "stream",
     "text": [
      "Train Set Accuracy: 100.00%, Correct: 1440, Total: 1440\n",
      "Test Set Accuracy: 98.61%, Correct: 355, Total: 360\n"
     ]
    }
   ],
   "source": [
    "train_accuracy, train_correct, train_total = check_accuracy(train_loader, modelV1_2)\n",
    "test_accuracy, test_correct, test_total = check_accuracy(test_loader, modelV1_2)\n",
    "\n",
    "print(f\"Train Set Accuracy: {train_accuracy:.2f}%, Correct: {train_correct}, Total: {train_total}\")\n",
    "print(f\"Test Set Accuracy: {test_accuracy:.2f}%, Correct: {test_correct}, Total: {test_total}\")"
   ]
  },
  {
   "cell_type": "code",
   "execution_count": 71,
   "id": "50218fc2-f385-4e1b-9f2f-2a8f16f4c812",
   "metadata": {
    "tags": []
   },
   "outputs": [
    {
     "data": {
      "image/png": "[encoded data removed]",
      "text/plain": [
       "<Figure size 1000x500 with 1 Axes>"
      ]
     },
     "metadata": {},
     "output_type": "display_data"
    }
   ],
   "source": [
    "epochs = range(1, num_epochs + 1)\n",
    "plt.figure(figsize=(10, 5))\n",
    "plt.plot(epochs, train_losses, label='Train Loss')\n",
    "plt.plot(epochs, test_losses, label='Test Loss')\n",
    "plt.xlabel('Epochs')\n",
    "plt.ylabel('Loss')\n",
    "plt.title('Train/Test Losses {V1.2}')\n",
    "plt.legend()\n",
    "plt.grid(True)\n",
    "plt.savefig('Losses{V1_2}.png')\n",
    "plt.show()"
   ]
  },
  {
   "cell_type": "markdown",
   "id": "cb868f7f-c7cc-4bcd-8dc3-bb84ab527574",
   "metadata": {
    "jp-MarkdownHeadingCollapsed": true,
    "tags": []
   },
   "source": [
    "## Architecture_2"
   ]
  },
  {
   "cell_type": "markdown",
   "id": "5d62f42d-c8a8-40fe-ba1a-7460a394ae76",
   "metadata": {
    "tags": []
   },
   "source": [
    "### V2.0"
   ]
  },
  {
   "cell_type": "code",
   "execution_count": 73,
   "id": "3de9bfee-bac4-4de9-b6e7-6cc72e51e18e",
   "metadata": {
    "tags": []
   },
   "outputs": [],
   "source": [
    "modelV2_0 = ImageClassifier_V2()\n",
    "modelV2_0 = modelV2_0.to('cuda')\n",
    "modelV2_0.train()\n",
    "\n",
    "criterion = nn.CrossEntropyLoss()\n",
    "optimizer = torch.optim.SGD(modelV2_0.parameters(), lr=0.005, momentum=0.03)\n",
    "num_epochs = 20"
   ]
  },
  {
   "cell_type": "code",
   "execution_count": 74,
   "id": "7a156e5d-03be-46ff-add8-619a33f4d00c",
   "metadata": {
    "tags": []
   },
   "outputs": [
    {
     "name": "stdout",
     "output_type": "stream",
     "text": [
      "Epoch [1/20], Train Loss: 463.4915, Test Loss: 233.5156\n",
      "Epoch [2/20], Train Loss: 256.1009, Test Loss: 104.8177\n",
      "Epoch [3/20], Train Loss: 69.1352, Test Loss: 35.0461\n",
      "Epoch [4/20], Train Loss: 48.5356, Test Loss: 24.2186\n",
      "Epoch [5/20], Train Loss: 35.4914, Test Loss: 38.2687\n",
      "Epoch [6/20], Train Loss: 30.3113, Test Loss: 26.2992\n",
      "Epoch [7/20], Train Loss: 18.0830, Test Loss: 22.1242\n",
      "Epoch [8/20], Train Loss: 9.5220, Test Loss: 12.1926\n",
      "Epoch [9/20], Train Loss: 9.1815, Test Loss: 18.7095\n",
      "Epoch [10/20], Train Loss: 8.0152, Test Loss: 10.2065\n",
      "Epoch [11/20], Train Loss: 3.0965, Test Loss: 10.1025\n",
      "Epoch [12/20], Train Loss: 2.4586, Test Loss: 9.2473\n",
      "Epoch [13/20], Train Loss: 1.2941, Test Loss: 7.9803\n",
      "Epoch [14/20], Train Loss: 1.1116, Test Loss: 7.0741\n",
      "Epoch [15/20], Train Loss: 1.1701, Test Loss: 6.9138\n",
      "Epoch [16/20], Train Loss: 4.0753, Test Loss: 8.0031\n",
      "Epoch [17/20], Train Loss: 1.8823, Test Loss: 25.3902\n",
      "Epoch [18/20], Train Loss: 2.9987, Test Loss: 8.7530\n",
      "Epoch [19/20], Train Loss: 0.6635, Test Loss: 8.3954\n",
      "Epoch [20/20], Train Loss: 0.3221, Test Loss: 6.8083\n"
     ]
    }
   ],
   "source": [
    "train_losses, test_losses = get_loss(modelV2_0,train_loader, test_loader, optimizer, criterion, num_epochs)"
   ]
  },
  {
   "cell_type": "code",
   "execution_count": 86,
   "id": "dbf701f7-01b0-4805-ba2a-9433baeb7dc7",
   "metadata": {
    "tags": []
   },
   "outputs": [
    {
     "name": "stdout",
     "output_type": "stream",
     "text": [
      "Train Set Accuracy: 98.82%, Correct: 1423, Total: 1440\n",
      "Test Set Accuracy: 91.94%, Correct: 331, Total: 360\n"
     ]
    }
   ],
   "source": [
    "train_accuracy, train_correct, train_total = check_accuracy(train_loader, modelV2_0)\n",
    "test_accuracy, test_correct, test_total = check_accuracy(test_loader, modelV2_0)\n",
    "\n",
    "print(f\"Train Set Accuracy: {train_accuracy:.2f}%, Correct: {train_correct}, Total: {train_total}\")\n",
    "print(f\"Test Set Accuracy: {test_accuracy:.2f}%, Correct: {test_correct}, Total: {test_total}\")"
   ]
  },
  {
   "cell_type": "code",
   "execution_count": 75,
   "id": "9505ac51-0291-4923-9ad8-df8e8008f16b",
   "metadata": {
    "tags": []
   },
   "outputs": [
    {
     "data": {
      "image/png": "[encoded data removed]",
      "text/plain": [
       "<Figure size 1000x500 with 1 Axes>"
      ]
     },
     "metadata": {},
     "output_type": "display_data"
    }
   ],
   "source": [
    "epochs = range(1, num_epochs + 1)\n",
    "plt.figure(figsize=(10, 5))\n",
    "plt.plot(epochs, train_losses, label='Train Loss')\n",
    "plt.plot(epochs, test_losses, label='Test Loss')\n",
    "plt.xlabel('Epochs')\n",
    "plt.ylabel('Loss')\n",
    "plt.title('Train/Test Losses {V2.0}')\n",
    "plt.legend()\n",
    "plt.grid(True)\n",
    "plt.savefig('Losses{V2_0}.png')\n",
    "plt.show()"
   ]
  },
  {
   "cell_type": "markdown",
   "id": "0059c943-6280-419f-bdd2-a067b4b62c0e",
   "metadata": {
    "jp-MarkdownHeadingCollapsed": true,
    "tags": []
   },
   "source": [
    "### V2.1"
   ]
  },
  {
   "cell_type": "code",
   "execution_count": 76,
   "id": "0aafd87d-2a9d-4084-89d1-02964c0c7724",
   "metadata": {
    "tags": []
   },
   "outputs": [],
   "source": [
    "modelV2_1 = ImageClassifier_V2()\n",
    "modelV2_1 = modelV2_1.to('cuda')\n",
    "modelV2_1.train()\n",
    "\n",
    "criterion = nn.CrossEntropyLoss()\n",
    "optimizer = optim.Adam(modelV2_1.parameters(), lr=0.0001)\n",
    "num_epochs = 20"
   ]
  },
  {
   "cell_type": "code",
   "execution_count": 77,
   "id": "bd97ffcc-244b-4130-810e-d170de532a3f",
   "metadata": {
    "tags": []
   },
   "outputs": [
    {
     "name": "stdout",
     "output_type": "stream",
     "text": [
      "Epoch [1/20], Train Loss: 22.6241, Test Loss: 10.0473\n",
      "Epoch [2/20], Train Loss: 3.8906, Test Loss: 15.9250\n",
      "Epoch [3/20], Train Loss: 0.6060, Test Loss: 6.1064\n",
      "Epoch [4/20], Train Loss: 0.2374, Test Loss: 0.7776\n",
      "Epoch [5/20], Train Loss: 0.1828, Test Loss: 0.5082\n",
      "Epoch [6/20], Train Loss: 0.1320, Test Loss: 0.9129\n",
      "Epoch [7/20], Train Loss: 0.1672, Test Loss: 1.8946\n",
      "Epoch [8/20], Train Loss: 0.1343, Test Loss: 1.0144\n",
      "Epoch [9/20], Train Loss: 0.3543, Test Loss: 0.7724\n",
      "Epoch [10/20], Train Loss: 0.1512, Test Loss: 2.5815\n",
      "Epoch [11/20], Train Loss: 0.3254, Test Loss: 1.2161\n",
      "Epoch [12/20], Train Loss: 0.3192, Test Loss: 2.6177\n",
      "Epoch [13/20], Train Loss: 0.3562, Test Loss: 1.3169\n",
      "Epoch [14/20], Train Loss: 0.6239, Test Loss: 0.8542\n",
      "Epoch [15/20], Train Loss: 0.7304, Test Loss: 0.7760\n",
      "Epoch [16/20], Train Loss: 0.5920, Test Loss: 2.5812\n",
      "Epoch [17/20], Train Loss: 0.9024, Test Loss: 1.9277\n",
      "Epoch [18/20], Train Loss: 0.4694, Test Loss: 0.9729\n",
      "Epoch [19/20], Train Loss: 0.1487, Test Loss: 0.7368\n",
      "Epoch [20/20], Train Loss: 0.0289, Test Loss: 0.8187\n"
     ]
    }
   ],
   "source": [
    "train_losses, test_losses = get_loss(modelV2_1,train_loader, test_loader, optimizer, criterion, num_epochs)"
   ]
  },
  {
   "cell_type": "code",
   "execution_count": 84,
   "id": "6b80c93d-8f92-4ae4-b95e-81b68c1c8513",
   "metadata": {
    "tags": []
   },
   "outputs": [
    {
     "name": "stdout",
     "output_type": "stream",
     "text": [
      "Train Set Accuracy: 99.86%, Correct: 1438, Total: 1440\n",
      "Test Set Accuracy: 96.11%, Correct: 346, Total: 360\n"
     ]
    }
   ],
   "source": [
    "train_accuracy, train_correct, train_total = check_accuracy(train_loader, modelV2_1)\n",
    "test_accuracy, test_correct, test_total = check_accuracy(test_loader, modelV2_1)\n",
    "\n",
    "print(f\"Train Set Accuracy: {train_accuracy:.2f}%, Correct: {train_correct}, Total: {train_total}\")\n",
    "print(f\"Test Set Accuracy: {test_accuracy:.2f}%, Correct: {test_correct}, Total: {test_total}\")"
   ]
  },
  {
   "cell_type": "code",
   "execution_count": 78,
   "id": "54a2a2d0-14ab-4e6b-b7f7-47f12c6ad84e",
   "metadata": {
    "tags": []
   },
   "outputs": [
    {
     "data": {
      "image/png": "[encoded data removed]",
      "text/plain": [
       "<Figure size 1000x500 with 1 Axes>"
      ]
     },
     "metadata": {},
     "output_type": "display_data"
    }
   ],
   "source": [
    "epochs = range(1, num_epochs + 1)\n",
    "plt.figure(figsize=(10, 5))\n",
    "plt.plot(epochs, train_losses, label='Train Loss')\n",
    "plt.plot(epochs, test_losses, label='Test Loss')\n",
    "plt.xlabel('Epochs')\n",
    "plt.ylabel('Loss')\n",
    "plt.title('Train/Test Losses {V2.1}')\n",
    "plt.legend()\n",
    "plt.grid(True)\n",
    "plt.savefig('Losses{V2_1}.png')\n",
    "plt.show()"
   ]
  },
  {
   "cell_type": "markdown",
   "id": "23540dc0-548f-4249-8dab-4a461521bbe3",
   "metadata": {
    "tags": []
   },
   "source": [
    "# CROSS VALIDATION TEST"
   ]
  },
  {
   "cell_type": "code",
   "execution_count": 89,
   "id": "916692dd-793f-49f9-98e5-2309e593ef9c",
   "metadata": {
    "tags": []
   },
   "outputs": [],
   "source": [
    "# Save train_loader\n",
    "with open('train_loader.pkl', 'wb') as f:\n",
    "    pickle.dump(train_loader, f)\n",
    "\n",
    "# Save test_loader\n",
    "with open('test_loader.pkl', 'wb') as f:\n",
    "    pickle.dump(test_loader, f)\n",
    "    \n",
    "# Save train_dataset\n",
    "with open('train_dataset.pkl', 'wb') as f:\n",
    "    pickle.dump(train_dataset, f)\n",
    "\n",
    "# Save test_dataset\n",
    "with open('test_dataset.pkl', 'wb') as f:\n",
    "    pickle.dump(test_dataset, f)"
   ]
  },
  {
   "cell_type": "code",
   "execution_count": null,
   "id": "a959f987-779a-4eb9-9efe-9cc26af9a656",
   "metadata": {
    "tags": []
   },
   "outputs": [],
   "source": [
    "def train_test(model, device, train_loader, test_loader,optimizer,criterion, num_epochs):\n",
    "    model.train()\n",
    "    \n",
    "    for epoch in range(num_epochs):\n",
    "        total_loss = 0.0\n",
    "        for inputs, labels in train_loader:\n",
    "            inputs, labels  = inputs.to(device), labels.to(device)\n",
    "            optimizer.zero_grad()\n",
    "            outputs = model(inputs)\n",
    "            loss = criterion(outputs, labels)\n",
    "            loss.backward()\n",
    "            optimizer.step()\n",
    "            total_loss += (loss.item())*inputs.size(0)\n",
    "        \n",
    "    \n",
    "        average_loss = total_loss / len(train_loader.sampler)\n",
    "        print(f'Epoch [{epoch + 1}/{num_epochs}], Loss: {average_loss:.4f}')\n",
    "        \n",
    "    model.eval()\n",
    "        \n",
    "    train_accuracy, train_correct, train_total = check_accuracy(train_loader, model)\n",
    "    test_accuracy, test_correct, test_total = check_accuracy(test_loader, model)\n",
    "\n",
    "    print(f\"Train Set Accuracy: {train_accuracy:.2f}%, Correct: {train_correct}, Total: {train_total}\")\n",
    "    print(f\"Test Set Accuracy: {test_accuracy:.2f}%, Correct: {test_correct}, Total: {test_total}\")    \n",
    "    \n",
    "    return train_accuracy, test_accuracy"
   ]
  },
  {
   "cell_type": "markdown",
   "id": "b0d32cf3-1b3b-4a48-bbfc-111449666527",
   "metadata": {
    "jp-MarkdownHeadingCollapsed": true,
    "tags": []
   },
   "source": [
    "### validation / test / train split for Kfold"
   ]
  },
  {
   "cell_type": "code",
   "execution_count": 13,
   "id": "ec8e8a1d-fded-44d8-98bd-8bf017fcd2f1",
   "metadata": {
    "tags": []
   },
   "outputs": [],
   "source": [
    "yes_image_paths = [path for path in all_image_paths_sorted if 'YES' in path]\n",
    "no_image_paths = [path for path in all_image_paths_sorted if 'NO' in path]\n",
    "\n",
    "# Randomly select 50 YES and 50 NO image paths\n",
    "selected_yes_image_paths = random.sample(yes_image_paths, 50)\n",
    "selected_no_image_paths = random.sample(no_image_paths, 50)\n",
    "\n",
    "# Create validation set containing selected image paths\n",
    "validation_set = selected_yes_image_paths + selected_no_image_paths"
   ]
  },
  {
   "cell_type": "code",
   "execution_count": 14,
   "id": "d7de562a-159f-49e6-b725-000f52c1f091",
   "metadata": {
    "tags": []
   },
   "outputs": [],
   "source": [
    "validation_X = validation_set"
   ]
  },
  {
   "cell_type": "code",
   "execution_count": 15,
   "id": "671e22f1-98f4-4882-a389-51345c26ab36",
   "metadata": {
    "tags": []
   },
   "outputs": [],
   "source": [
    "validation_Y = [path.split('/')[-2] for path in validation_X]"
   ]
  },
  {
   "cell_type": "code",
   "execution_count": 16,
   "id": "002a1c8a-6e2a-4452-8b38-dab8f15a23c2",
   "metadata": {
    "tags": []
   },
   "outputs": [
    {
     "name": "stdout",
     "output_type": "stream",
     "text": [
      "tensor([1, 1, 1, 1, 1, 1, 1, 1, 1, 1, 1, 1, 1, 1, 1, 1, 1, 1, 1, 1, 1, 1, 1, 1,\n",
      "        1, 1, 1, 1, 1, 1, 1, 1, 1, 1, 1, 1, 1, 1, 1, 1, 1, 1, 1, 1, 1, 1, 1, 1,\n",
      "        1, 1, 0, 0, 0, 0, 0, 0, 0, 0, 0, 0, 0, 0, 0, 0, 0, 0, 0, 0, 0, 0, 0, 0,\n",
      "        0, 0, 0, 0, 0, 0, 0, 0, 0, 0, 0, 0, 0, 0, 0, 0, 0, 0, 0, 0, 0, 0, 0, 0,\n",
      "        0, 0, 0, 0])\n"
     ]
    }
   ],
   "source": [
    "label_encoder = LabelEncoder()\n",
    "encoded_labels_validation_dataset = label_encoder.fit_transform(validation_Y)\n",
    "tensor_encoded_labels_validation_dataset = torch.tensor(encoded_labels_validation_dataset)\n",
    "pprint(tensor_encoded_labels_validation_dataset)"
   ]
  },
  {
   "cell_type": "code",
   "execution_count": 17,
   "id": "3c8f49c4-779c-4639-8730-103838c0be85",
   "metadata": {
    "tags": []
   },
   "outputs": [],
   "source": [
    "validation_dataset = image_Dataset(validation_X,tensor_encoded_labels_validation_dataset,transforms)"
   ]
  },
  {
   "cell_type": "code",
   "execution_count": 18,
   "id": "53e6acb0-7488-4790-94bf-17ec8eb438ff",
   "metadata": {
    "tags": []
   },
   "outputs": [
    {
     "data": {
      "text/plain": [
       "(tensor([[[0.0353, 0.0314, 0.0275,  ..., 0.9098, 0.9255, 0.9255],\n",
       "          [0.0353, 0.0314, 0.0314,  ..., 0.9098, 0.9255, 0.9255],\n",
       "          [0.0314, 0.0314, 0.0314,  ..., 0.9176, 0.9294, 0.9255],\n",
       "          ...,\n",
       "          [0.2863, 0.3451, 0.3686,  ..., 0.0471, 0.0431, 0.0471],\n",
       "          [0.0157, 0.0510, 0.0471,  ..., 0.0392, 0.0510, 0.0627],\n",
       "          [0.1059, 0.0824, 0.0863,  ..., 0.0431, 0.0510, 0.0588]],\n",
       " \n",
       "         [[0.0353, 0.0314, 0.0275,  ..., 1.0000, 1.0000, 1.0000],\n",
       "          [0.0353, 0.0314, 0.0314,  ..., 1.0000, 0.9961, 1.0000],\n",
       "          [0.0314, 0.0314, 0.0314,  ..., 1.0000, 0.9961, 1.0000],\n",
       "          ...,\n",
       "          [0.3686, 0.4275, 0.4510,  ..., 0.0314, 0.0275, 0.0314],\n",
       "          [0.0980, 0.1333, 0.1294,  ..., 0.0235, 0.0353, 0.0471],\n",
       "          [0.1882, 0.1647, 0.1647,  ..., 0.0275, 0.0353, 0.0431]],\n",
       " \n",
       "         [[0.0275, 0.0235, 0.0196,  ..., 1.0000, 1.0000, 0.9961],\n",
       "          [0.0275, 0.0235, 0.0235,  ..., 1.0000, 0.9961, 0.9961],\n",
       "          [0.0235, 0.0235, 0.0235,  ..., 1.0000, 0.9961, 0.9922],\n",
       "          ...,\n",
       "          [0.3882, 0.4471, 0.4706,  ..., 0.0275, 0.0235, 0.0275],\n",
       "          [0.1176, 0.1529, 0.1490,  ..., 0.0196, 0.0314, 0.0431],\n",
       "          [0.2078, 0.1843, 0.1843,  ..., 0.0235, 0.0314, 0.0392]]]),\n",
       " tensor(1))"
      ]
     },
     "execution_count": 18,
     "metadata": {},
     "output_type": "execute_result"
    }
   ],
   "source": [
    "validation_dataset[0]"
   ]
  },
  {
   "cell_type": "code",
   "execution_count": 19,
   "id": "3ce3ccf3-1419-4327-a3e5-24b0daba5c83",
   "metadata": {
    "tags": []
   },
   "outputs": [],
   "source": [
    "train_set = [path for path in all_image_paths_sorted if path not in validation_set]"
   ]
  },
  {
   "cell_type": "code",
   "execution_count": 20,
   "id": "3a8148d8-a252-4f72-9595-8e7d13b7c220",
   "metadata": {
    "tags": []
   },
   "outputs": [],
   "source": [
    "X = train_set\n",
    "Y = [path.split('/')[-2] for path in train_set]"
   ]
  },
  {
   "cell_type": "code",
   "execution_count": 21,
   "id": "a7481606-7b39-4f25-a2a6-58a61c08a385",
   "metadata": {
    "tags": []
   },
   "outputs": [],
   "source": [
    "dataset = list(zip(X, Y))"
   ]
  },
  {
   "cell_type": "code",
   "execution_count": 22,
   "id": "98d8bc24-61ce-4c88-996c-bb5624a65067",
   "metadata": {
    "tags": []
   },
   "outputs": [
    {
     "data": {
      "text/plain": [
       "('training_set/NO/img_16990.jpg', 'NO')"
      ]
     },
     "execution_count": 22,
     "metadata": {},
     "output_type": "execute_result"
    }
   ],
   "source": [
    "dataset[0]"
   ]
  },
  {
   "cell_type": "code",
   "execution_count": 23,
   "id": "5a565ac6-1494-4736-89c3-5d4d89ef44d7",
   "metadata": {
    "tags": []
   },
   "outputs": [
    {
     "name": "stdout",
     "output_type": "stream",
     "text": [
      "tensor([0, 0, 0,  ..., 1, 1, 1])\n"
     ]
    }
   ],
   "source": [
    "encoded_labels_Kfold_dataset = label_encoder.fit_transform(Y)\n",
    "tensor_encoded_labels_Kfold_dataset = torch.tensor(encoded_labels_Kfold_dataset)\n",
    "pprint(tensor_encoded_labels_Kfold_dataset)"
   ]
  },
  {
   "cell_type": "code",
   "execution_count": 24,
   "id": "b681e200-9f1b-480e-afd2-e79f19d58662",
   "metadata": {
    "tags": []
   },
   "outputs": [],
   "source": [
    "#######################################################\n",
    "#                  Create Dataset\n",
    "#######################################################\n",
    "\n",
    "cross_dataset = image_Dataset(X,tensor_encoded_labels_Kfold_dataset,transforms)"
   ]
  },
  {
   "cell_type": "code",
   "execution_count": 25,
   "id": "e492f3b1-ebd8-434f-8b29-78f3d4f025c0",
   "metadata": {
    "tags": []
   },
   "outputs": [],
   "source": [
    "validation_loader = DataLoader(dataset=validation_dataset, batch_size=64)"
   ]
  },
  {
   "cell_type": "code",
   "execution_count": 26,
   "id": "3eea7f18-9dd0-496a-b696-4539a71f2a01",
   "metadata": {
    "tags": []
   },
   "outputs": [],
   "source": [
    "# Define the number of folds and batch size\n",
    "k_folds = 10\n",
    "batch_size = 64\n",
    "\n",
    "# Define the device (CPU or GPU)\n",
    "device = torch.device(\"cuda\" if torch.cuda.is_available() else \"cpu\")\n",
    "\n",
    "# Initialize the k-fold cross validation\n",
    "kf = KFold(n_splits=k_folds, shuffle=True)"
   ]
  },
  {
   "cell_type": "markdown",
   "id": "decf7546-64f2-4ece-a715-2911966fa3db",
   "metadata": {
    "jp-MarkdownHeadingCollapsed": true,
    "tags": []
   },
   "source": [
    "## Cross validation of Version 1"
   ]
  },
  {
   "cell_type": "markdown",
   "id": "44294a79-2030-4f7e-8b24-9e77699cb1a2",
   "metadata": {
    "jp-MarkdownHeadingCollapsed": true,
    "tags": []
   },
   "source": [
    "### Cross validation of V1.0"
   ]
  },
  {
   "cell_type": "code",
   "execution_count": 71,
   "id": "63c9aeed-7677-410f-b7fa-2d89cc349b63",
   "metadata": {
    "tags": []
   },
   "outputs": [],
   "source": [
    "train_accuracies_V1_0 = []\n",
    "test_accuracies_V1_0 = []"
   ]
  },
  {
   "cell_type": "code",
   "execution_count": 72,
   "id": "4983e89b-70b0-479b-b7c5-97c13ce9f17c",
   "metadata": {
    "tags": []
   },
   "outputs": [
    {
     "name": "stdout",
     "output_type": "stream",
     "text": [
      "Fold 1\n",
      "-------\n",
      "Epoch [1/20], Loss: 12.4184\n",
      "Epoch [2/20], Loss: 1.3795\n",
      "Epoch [3/20], Loss: 0.2342\n",
      "Epoch [4/20], Loss: 0.0869\n",
      "Epoch [5/20], Loss: 0.0562\n",
      "Epoch [6/20], Loss: 0.0169\n",
      "Epoch [7/20], Loss: 0.0173\n",
      "Epoch [8/20], Loss: 0.0040\n",
      "Epoch [9/20], Loss: 0.0011\n",
      "Epoch [10/20], Loss: 0.0006\n",
      "Epoch [11/20], Loss: 0.0003\n",
      "Epoch [12/20], Loss: 0.0002\n",
      "Epoch [13/20], Loss: 0.0002\n",
      "Epoch [14/20], Loss: 0.0002\n",
      "Epoch [15/20], Loss: 0.0002\n",
      "Epoch [16/20], Loss: 0.0002\n",
      "Epoch [17/20], Loss: 0.0001\n",
      "Epoch [18/20], Loss: 0.0002\n",
      "Epoch [19/20], Loss: 0.0001\n",
      "Epoch [20/20], Loss: 0.0002\n",
      "Train Set Accuracy: 100.00%, Correct: 1530, Total: 1530\n",
      "Test Set Accuracy: 97.65%, Correct: 166, Total: 170\n",
      "Fold 2\n",
      "-------\n",
      "Epoch [1/20], Loss: 19.2928\n",
      "Epoch [2/20], Loss: 1.9742\n",
      "Epoch [3/20], Loss: 0.4999\n",
      "Epoch [4/20], Loss: 0.2158\n",
      "Epoch [5/20], Loss: 0.1003\n",
      "Epoch [6/20], Loss: 0.0499\n",
      "Epoch [7/20], Loss: 0.0414\n",
      "Epoch [8/20], Loss: 0.0185\n",
      "Epoch [9/20], Loss: 0.0100\n",
      "Epoch [10/20], Loss: 0.0085\n",
      "Epoch [11/20], Loss: 0.0021\n",
      "Epoch [12/20], Loss: 0.0014\n",
      "Epoch [13/20], Loss: 0.0005\n",
      "Epoch [14/20], Loss: 0.0004\n",
      "Epoch [15/20], Loss: 0.0004\n",
      "Epoch [16/20], Loss: 0.0003\n",
      "Epoch [17/20], Loss: 0.0003\n",
      "Epoch [18/20], Loss: 0.0003\n",
      "Epoch [19/20], Loss: 0.0003\n",
      "Epoch [20/20], Loss: 0.0003\n",
      "Train Set Accuracy: 100.00%, Correct: 1530, Total: 1530\n",
      "Test Set Accuracy: 96.47%, Correct: 164, Total: 170\n",
      "Fold 3\n",
      "-------\n",
      "Epoch [1/20], Loss: 21.1580\n",
      "Epoch [2/20], Loss: 3.0040\n",
      "Epoch [3/20], Loss: 0.7087\n",
      "Epoch [4/20], Loss: 0.2130\n",
      "Epoch [5/20], Loss: 0.1431\n",
      "Epoch [6/20], Loss: 0.0603\n",
      "Epoch [7/20], Loss: 0.0440\n",
      "Epoch [8/20], Loss: 0.0328\n",
      "Epoch [9/20], Loss: 0.0591\n",
      "Epoch [10/20], Loss: 0.0187\n",
      "Epoch [11/20], Loss: 0.0099\n",
      "Epoch [12/20], Loss: 0.0051\n",
      "Epoch [13/20], Loss: 0.0014\n",
      "Epoch [14/20], Loss: 0.0002\n",
      "Epoch [15/20], Loss: 0.0003\n",
      "Epoch [16/20], Loss: 0.0003\n",
      "Epoch [17/20], Loss: 0.0003\n",
      "Epoch [18/20], Loss: 0.0002\n",
      "Epoch [19/20], Loss: 0.0002\n",
      "Epoch [20/20], Loss: 0.0002\n",
      "Train Set Accuracy: 100.00%, Correct: 1530, Total: 1530\n",
      "Test Set Accuracy: 98.24%, Correct: 167, Total: 170\n",
      "Fold 4\n",
      "-------\n",
      "Epoch [1/20], Loss: 20.6038\n",
      "Epoch [2/20], Loss: 5.6286\n",
      "Epoch [3/20], Loss: 0.9040\n",
      "Epoch [4/20], Loss: 0.3286\n",
      "Epoch [5/20], Loss: 0.2103\n",
      "Epoch [6/20], Loss: 0.1090\n",
      "Epoch [7/20], Loss: 0.0448\n",
      "Epoch [8/20], Loss: 0.0268\n",
      "Epoch [9/20], Loss: 0.0182\n",
      "Epoch [10/20], Loss: 0.0094\n",
      "Epoch [11/20], Loss: 0.0032\n",
      "Epoch [12/20], Loss: 0.0009\n",
      "Epoch [13/20], Loss: 0.0005\n",
      "Epoch [14/20], Loss: 0.0004\n",
      "Epoch [15/20], Loss: 0.0004\n",
      "Epoch [16/20], Loss: 0.0004\n",
      "Epoch [17/20], Loss: 0.0003\n",
      "Epoch [18/20], Loss: 0.0003\n",
      "Epoch [19/20], Loss: 0.0003\n",
      "Epoch [20/20], Loss: 0.0002\n",
      "Train Set Accuracy: 100.00%, Correct: 1530, Total: 1530\n",
      "Test Set Accuracy: 96.47%, Correct: 164, Total: 170\n",
      "Fold 5\n",
      "-------\n",
      "Epoch [1/20], Loss: 25.2904\n",
      "Epoch [2/20], Loss: 1.8888\n",
      "Epoch [3/20], Loss: 0.4680\n",
      "Epoch [4/20], Loss: 0.2160\n",
      "Epoch [5/20], Loss: 0.2876\n",
      "Epoch [6/20], Loss: 0.2036\n",
      "Epoch [7/20], Loss: 0.0423\n",
      "Epoch [8/20], Loss: 0.0180\n",
      "Epoch [9/20], Loss: 0.0107\n",
      "Epoch [10/20], Loss: 0.0086\n",
      "Epoch [11/20], Loss: 0.0014\n",
      "Epoch [12/20], Loss: 0.0005\n",
      "Epoch [13/20], Loss: 0.0004\n",
      "Epoch [14/20], Loss: 0.0003\n",
      "Epoch [15/20], Loss: 0.0003\n",
      "Epoch [16/20], Loss: 0.0004\n",
      "Epoch [17/20], Loss: 0.0003\n",
      "Epoch [18/20], Loss: 0.0003\n",
      "Epoch [19/20], Loss: 0.0002\n",
      "Epoch [20/20], Loss: 0.0002\n",
      "Train Set Accuracy: 100.00%, Correct: 1530, Total: 1530\n",
      "Test Set Accuracy: 96.47%, Correct: 164, Total: 170\n",
      "Fold 6\n",
      "-------\n",
      "Epoch [1/20], Loss: 17.2901\n",
      "Epoch [2/20], Loss: 6.3149\n",
      "Epoch [3/20], Loss: 1.0547\n",
      "Epoch [4/20], Loss: 0.4808\n",
      "Epoch [5/20], Loss: 0.1169\n",
      "Epoch [6/20], Loss: 0.0793\n",
      "Epoch [7/20], Loss: 0.0397\n",
      "Epoch [8/20], Loss: 0.0435\n",
      "Epoch [9/20], Loss: 0.0167\n",
      "Epoch [10/20], Loss: 0.0086\n",
      "Epoch [11/20], Loss: 0.0023\n",
      "Epoch [12/20], Loss: 0.0002\n",
      "Epoch [13/20], Loss: 0.0002\n",
      "Epoch [14/20], Loss: 0.0001\n",
      "Epoch [15/20], Loss: 0.0001\n",
      "Epoch [16/20], Loss: 0.0001\n",
      "Epoch [17/20], Loss: 0.0001\n",
      "Epoch [18/20], Loss: 0.0001\n",
      "Epoch [19/20], Loss: 0.0001\n",
      "Epoch [20/20], Loss: 0.0001\n",
      "Train Set Accuracy: 100.00%, Correct: 1530, Total: 1530\n",
      "Test Set Accuracy: 96.47%, Correct: 164, Total: 170\n",
      "Fold 7\n",
      "-------\n",
      "Epoch [1/20], Loss: 14.6196\n",
      "Epoch [2/20], Loss: 2.8056\n",
      "Epoch [3/20], Loss: 0.5913\n",
      "Epoch [4/20], Loss: 0.3193\n",
      "Epoch [5/20], Loss: 0.0803\n",
      "Epoch [6/20], Loss: 0.0484\n",
      "Epoch [7/20], Loss: 0.0195\n",
      "Epoch [8/20], Loss: 0.0256\n",
      "Epoch [9/20], Loss: 0.0029\n",
      "Epoch [10/20], Loss: 0.0009\n",
      "Epoch [11/20], Loss: 0.0004\n",
      "Epoch [12/20], Loss: 0.0001\n",
      "Epoch [13/20], Loss: 0.0001\n",
      "Epoch [14/20], Loss: 0.0001\n",
      "Epoch [15/20], Loss: 0.0001\n",
      "Epoch [16/20], Loss: 0.0001\n",
      "Epoch [17/20], Loss: 0.0000\n",
      "Epoch [18/20], Loss: 0.0001\n",
      "Epoch [19/20], Loss: 0.0000\n",
      "Epoch [20/20], Loss: 0.0000\n",
      "Train Set Accuracy: 100.00%, Correct: 1530, Total: 1530\n",
      "Test Set Accuracy: 96.47%, Correct: 164, Total: 170\n",
      "Fold 8\n",
      "-------\n",
      "Epoch [1/20], Loss: 29.5078\n",
      "Epoch [2/20], Loss: 4.5548\n",
      "Epoch [3/20], Loss: 1.1782\n",
      "Epoch [4/20], Loss: 0.5065\n",
      "Epoch [5/20], Loss: 0.1717\n",
      "Epoch [6/20], Loss: 0.1020\n",
      "Epoch [7/20], Loss: 0.0594\n",
      "Epoch [8/20], Loss: 0.0421\n",
      "Epoch [9/20], Loss: 0.0215\n",
      "Epoch [10/20], Loss: 0.0152\n",
      "Epoch [11/20], Loss: 0.0119\n",
      "Epoch [12/20], Loss: 0.0061\n",
      "Epoch [13/20], Loss: 0.0031\n",
      "Epoch [14/20], Loss: 0.0006\n",
      "Epoch [15/20], Loss: 0.0002\n",
      "Epoch [16/20], Loss: 0.0003\n",
      "Epoch [17/20], Loss: 0.0002\n",
      "Epoch [18/20], Loss: 0.0002\n",
      "Epoch [19/20], Loss: 0.0001\n",
      "Epoch [20/20], Loss: 0.0001\n",
      "Train Set Accuracy: 100.00%, Correct: 1530, Total: 1530\n",
      "Test Set Accuracy: 98.24%, Correct: 167, Total: 170\n",
      "Fold 9\n",
      "-------\n",
      "Epoch [1/20], Loss: 26.7108\n",
      "Epoch [2/20], Loss: 4.6113\n",
      "Epoch [3/20], Loss: 0.6790\n",
      "Epoch [4/20], Loss: 0.2982\n",
      "Epoch [5/20], Loss: 0.2205\n",
      "Epoch [6/20], Loss: 0.1074\n",
      "Epoch [7/20], Loss: 0.0624\n",
      "Epoch [8/20], Loss: 0.0691\n",
      "Epoch [9/20], Loss: 0.1266\n",
      "Epoch [10/20], Loss: 0.0347\n",
      "Epoch [11/20], Loss: 0.0163\n",
      "Epoch [12/20], Loss: 0.0077\n",
      "Epoch [13/20], Loss: 0.0020\n",
      "Epoch [14/20], Loss: 0.0005\n",
      "Epoch [15/20], Loss: 0.0003\n",
      "Epoch [16/20], Loss: 0.0002\n",
      "Epoch [17/20], Loss: 0.0002\n",
      "Epoch [18/20], Loss: 0.0002\n",
      "Epoch [19/20], Loss: 0.0012\n",
      "Epoch [20/20], Loss: 0.0009\n",
      "Train Set Accuracy: 100.00%, Correct: 1530, Total: 1530\n",
      "Test Set Accuracy: 98.24%, Correct: 167, Total: 170\n",
      "Fold 10\n",
      "-------\n",
      "Epoch [1/20], Loss: 10.6948\n",
      "Epoch [2/20], Loss: 1.5388\n",
      "Epoch [3/20], Loss: 0.3027\n",
      "Epoch [4/20], Loss: 0.0943\n",
      "Epoch [5/20], Loss: 0.0702\n",
      "Epoch [6/20], Loss: 0.0169\n",
      "Epoch [7/20], Loss: 0.0038\n",
      "Epoch [8/20], Loss: 0.0019\n",
      "Epoch [9/20], Loss: 0.0015\n",
      "Epoch [10/20], Loss: 0.0019\n",
      "Epoch [11/20], Loss: 0.0033\n",
      "Epoch [12/20], Loss: 0.0004\n",
      "Epoch [13/20], Loss: 0.0001\n",
      "Epoch [14/20], Loss: 0.0001\n",
      "Epoch [15/20], Loss: 0.0001\n",
      "Epoch [16/20], Loss: 0.0001\n",
      "Epoch [17/20], Loss: 0.0001\n",
      "Epoch [18/20], Loss: 0.0001\n",
      "Epoch [19/20], Loss: 0.0001\n",
      "Epoch [20/20], Loss: 0.0001\n",
      "Train Set Accuracy: 100.00%, Correct: 1530, Total: 1530\n",
      "Test Set Accuracy: 98.24%, Correct: 167, Total: 170\n"
     ]
    }
   ],
   "source": [
    "for fold, (train_idx, test_idx) in enumerate(kf.split(cross_dataset)):\n",
    "    print(f\"Fold {fold + 1}\")\n",
    "    print(\"-------\")\n",
    "    \n",
    "    epoch  = 20\n",
    "    \n",
    "    # Define the data loaders for the current fold\n",
    "    train_loader = DataLoader(\n",
    "        dataset=cross_dataset,\n",
    "        batch_size=128,\n",
    "        sampler=torch.utils.data.SubsetRandomSampler(train_idx),\n",
    "    )\n",
    "    test_loader = DataLoader(\n",
    "        dataset=cross_dataset,\n",
    "        batch_size=128,\n",
    "        sampler=torch.utils.data.SubsetRandomSampler(test_idx),\n",
    "    )\n",
    "\n",
    "    # Initialize the model and optimizer\n",
    "    model = ImageClassifier().to(device)\n",
    "    criterion = nn.CrossEntropyLoss()\n",
    "    optimizer = torch.optim.SGD(model.parameters(), lr=0.001, momentum=0.75)\n",
    "\n",
    "    # Train the model on the current fold\n",
    "    train_accuracy,test_accuracy = train_test(model, device, train_loader,test_loader, optimizer,criterion, epoch)\n",
    "        \n",
    "    # Append accuracies to lists\n",
    "    train_accuracies_V1_0.append(train_accuracy)\n",
    "    test_accuracies_V1_0.append(test_accuracy)"
   ]
  },
  {
   "cell_type": "code",
   "execution_count": 73,
   "id": "3ddcc149-06d8-44e3-aa18-6c459330a3b8",
   "metadata": {
    "tags": []
   },
   "outputs": [
    {
     "name": "stdout",
     "output_type": "stream",
     "text": [
      "Average Train Set Accuracy: 100.00%\n",
      "Average Test Set Accuracy: 97.29%\n"
     ]
    }
   ],
   "source": [
    "# Calculate average accuracies\n",
    "avg_train_accuracy = np.mean(train_accuracies_V1_0)\n",
    "avg_test_accuracy = np.mean(test_accuracies_V1_0)\n",
    "\n",
    "print(f\"Average Train Set Accuracy: {avg_train_accuracy:.2f}%\")\n",
    "print(f\"Average Test Set Accuracy: {avg_test_accuracy:.2f}%\")"
   ]
  },
  {
   "cell_type": "markdown",
   "id": "2a8de346-0acf-442e-881c-053bb8e8b6bb",
   "metadata": {
    "jp-MarkdownHeadingCollapsed": true,
    "tags": []
   },
   "source": [
    "#### Check on validation set"
   ]
  },
  {
   "cell_type": "code",
   "execution_count": 92,
   "id": "5e137961-86b0-499c-bcbf-809995b3735b",
   "metadata": {
    "tags": []
   },
   "outputs": [
    {
     "name": "stdout",
     "output_type": "stream",
     "text": [
      "Validation Set Accuracy: 96.00%, Correct: 96, Total: 100\n"
     ]
    }
   ],
   "source": [
    "validation_accuracy, validation_correct, validation_total = check_accuracy(validation_loader, model)\n",
    "\n",
    "print(f\"Validation Set Accuracy: {validation_accuracy:.2f}%, Correct: {validation_correct}, Total: {validation_total}\")"
   ]
  },
  {
   "cell_type": "markdown",
   "id": "48443c1c-9996-41a4-8a79-bce52713726f",
   "metadata": {
    "jp-MarkdownHeadingCollapsed": true,
    "tags": []
   },
   "source": [
    "### Cross validation of V1.1"
   ]
  },
  {
   "cell_type": "code",
   "execution_count": 29,
   "id": "5d572aef-c0d0-431d-99ed-5340794c594e",
   "metadata": {
    "tags": []
   },
   "outputs": [],
   "source": [
    "train_accuracies_V1_1 = []\n",
    "test_accuracies_V1_1 = []"
   ]
  },
  {
   "cell_type": "code",
   "execution_count": 30,
   "id": "baa21431-e38e-4123-a238-f73ce74ab2b1",
   "metadata": {
    "tags": []
   },
   "outputs": [
    {
     "name": "stdout",
     "output_type": "stream",
     "text": [
      "Fold 1\n",
      "-------\n",
      "Epoch [1/20], Loss: 1.4049\n",
      "Epoch [2/20], Loss: 0.2402\n",
      "Epoch [3/20], Loss: 0.0980\n",
      "Epoch [4/20], Loss: 0.0694\n",
      "Epoch [5/20], Loss: 0.0572\n",
      "Epoch [6/20], Loss: 0.0442\n",
      "Epoch [7/20], Loss: 0.0393\n",
      "Epoch [8/20], Loss: 0.0321\n",
      "Epoch [9/20], Loss: 0.0287\n",
      "Epoch [10/20], Loss: 0.0255\n",
      "Epoch [11/20], Loss: 0.0240\n",
      "Epoch [12/20], Loss: 0.0228\n",
      "Epoch [13/20], Loss: 0.0204\n",
      "Epoch [14/20], Loss: 0.0194\n",
      "Epoch [15/20], Loss: 0.0176\n",
      "Epoch [16/20], Loss: 0.0164\n",
      "Epoch [17/20], Loss: 0.0155\n",
      "Epoch [18/20], Loss: 0.0147\n",
      "Epoch [19/20], Loss: 0.0141\n",
      "Epoch [20/20], Loss: 0.0134\n",
      "Train Set Accuracy: 100.00%, Correct: 1530, Total: 1530\n",
      "Test Set Accuracy: 96.47%, Correct: 164, Total: 170\n",
      "Fold 2\n",
      "-------\n",
      "Epoch [1/20], Loss: 1.3474\n",
      "Epoch [2/20], Loss: 0.2008\n",
      "Epoch [3/20], Loss: 0.0899\n",
      "Epoch [4/20], Loss: 0.0680\n",
      "Epoch [5/20], Loss: 0.0522\n",
      "Epoch [6/20], Loss: 0.0454\n",
      "Epoch [7/20], Loss: 0.0382\n",
      "Epoch [8/20], Loss: 0.0317\n",
      "Epoch [9/20], Loss: 0.0292\n",
      "Epoch [10/20], Loss: 0.0273\n",
      "Epoch [11/20], Loss: 0.0235\n",
      "Epoch [12/20], Loss: 0.0223\n",
      "Epoch [13/20], Loss: 0.0199\n",
      "Epoch [14/20], Loss: 0.0187\n",
      "Epoch [15/20], Loss: 0.0175\n",
      "Epoch [16/20], Loss: 0.0160\n",
      "Epoch [17/20], Loss: 0.0154\n",
      "Epoch [18/20], Loss: 0.0145\n",
      "Epoch [19/20], Loss: 0.0136\n",
      "Epoch [20/20], Loss: 0.0132\n",
      "Train Set Accuracy: 100.00%, Correct: 1530, Total: 1530\n",
      "Test Set Accuracy: 97.06%, Correct: 165, Total: 170\n",
      "Fold 3\n",
      "-------\n",
      "Epoch [1/20], Loss: 1.2510\n",
      "Epoch [2/20], Loss: 0.2662\n",
      "Epoch [3/20], Loss: 0.0852\n",
      "Epoch [4/20], Loss: 0.0654\n",
      "Epoch [5/20], Loss: 0.0483\n",
      "Epoch [6/20], Loss: 0.0404\n",
      "Epoch [7/20], Loss: 0.0365\n",
      "Epoch [8/20], Loss: 0.0309\n",
      "Epoch [9/20], Loss: 0.0283\n",
      "Epoch [10/20], Loss: 0.0247\n",
      "Epoch [11/20], Loss: 0.0225\n",
      "Epoch [12/20], Loss: 0.0207\n",
      "Epoch [13/20], Loss: 0.0197\n",
      "Epoch [14/20], Loss: 0.0179\n",
      "Epoch [15/20], Loss: 0.0168\n",
      "Epoch [16/20], Loss: 0.0157\n",
      "Epoch [17/20], Loss: 0.0152\n",
      "Epoch [18/20], Loss: 0.0141\n",
      "Epoch [19/20], Loss: 0.0135\n",
      "Epoch [20/20], Loss: 0.0124\n",
      "Train Set Accuracy: 100.00%, Correct: 1530, Total: 1530\n",
      "Test Set Accuracy: 97.65%, Correct: 166, Total: 170\n",
      "Fold 4\n",
      "-------\n",
      "Epoch [1/20], Loss: 1.6906\n",
      "Epoch [2/20], Loss: 0.1588\n",
      "Epoch [3/20], Loss: 0.1237\n",
      "Epoch [4/20], Loss: 0.0719\n",
      "Epoch [5/20], Loss: 0.0505\n",
      "Epoch [6/20], Loss: 0.0390\n",
      "Epoch [7/20], Loss: 0.0344\n",
      "Epoch [8/20], Loss: 0.0297\n",
      "Epoch [9/20], Loss: 0.0260\n",
      "Epoch [10/20], Loss: 0.0239\n",
      "Epoch [11/20], Loss: 0.0223\n",
      "Epoch [12/20], Loss: 0.0202\n",
      "Epoch [13/20], Loss: 0.0190\n",
      "Epoch [14/20], Loss: 0.0185\n",
      "Epoch [15/20], Loss: 0.0161\n",
      "Epoch [16/20], Loss: 0.0154\n",
      "Epoch [17/20], Loss: 0.0144\n",
      "Epoch [18/20], Loss: 0.0137\n",
      "Epoch [19/20], Loss: 0.0134\n",
      "Epoch [20/20], Loss: 0.0125\n",
      "Train Set Accuracy: 100.00%, Correct: 1530, Total: 1530\n",
      "Test Set Accuracy: 98.82%, Correct: 168, Total: 170\n",
      "Fold 5\n",
      "-------\n",
      "Epoch [1/20], Loss: 1.4594\n",
      "Epoch [2/20], Loss: 0.1875\n",
      "Epoch [3/20], Loss: 0.1028\n",
      "Epoch [4/20], Loss: 0.0763\n",
      "Epoch [5/20], Loss: 0.0601\n",
      "Epoch [6/20], Loss: 0.0487\n",
      "Epoch [7/20], Loss: 0.0425\n",
      "Epoch [8/20], Loss: 0.0384\n",
      "Epoch [9/20], Loss: 0.0330\n",
      "Epoch [10/20], Loss: 0.0308\n",
      "Epoch [11/20], Loss: 0.0270\n",
      "Epoch [12/20], Loss: 0.0248\n",
      "Epoch [13/20], Loss: 0.0233\n",
      "Epoch [14/20], Loss: 0.0211\n",
      "Epoch [15/20], Loss: 0.0195\n",
      "Epoch [16/20], Loss: 0.0182\n",
      "Epoch [17/20], Loss: 0.0173\n",
      "Epoch [18/20], Loss: 0.0161\n",
      "Epoch [19/20], Loss: 0.0154\n",
      "Epoch [20/20], Loss: 0.0146\n",
      "Train Set Accuracy: 100.00%, Correct: 1530, Total: 1530\n",
      "Test Set Accuracy: 98.24%, Correct: 167, Total: 170\n",
      "Fold 6\n",
      "-------\n",
      "Epoch [1/20], Loss: 1.5930\n",
      "Epoch [2/20], Loss: 0.1725\n",
      "Epoch [3/20], Loss: 0.0973\n",
      "Epoch [4/20], Loss: 0.0788\n",
      "Epoch [5/20], Loss: 0.0554\n",
      "Epoch [6/20], Loss: 0.0485\n",
      "Epoch [7/20], Loss: 0.0435\n",
      "Epoch [8/20], Loss: 0.0367\n",
      "Epoch [9/20], Loss: 0.0336\n",
      "Epoch [10/20], Loss: 0.0288\n",
      "Epoch [11/20], Loss: 0.0258\n",
      "Epoch [12/20], Loss: 0.0236\n",
      "Epoch [13/20], Loss: 0.0226\n",
      "Epoch [14/20], Loss: 0.0205\n",
      "Epoch [15/20], Loss: 0.0189\n",
      "Epoch [16/20], Loss: 0.0180\n",
      "Epoch [17/20], Loss: 0.0169\n",
      "Epoch [18/20], Loss: 0.0161\n",
      "Epoch [19/20], Loss: 0.0157\n",
      "Epoch [20/20], Loss: 0.0144\n",
      "Train Set Accuracy: 100.00%, Correct: 1530, Total: 1530\n",
      "Test Set Accuracy: 98.24%, Correct: 167, Total: 170\n",
      "Fold 7\n",
      "-------\n",
      "Epoch [1/20], Loss: 1.8483\n",
      "Epoch [2/20], Loss: 0.1644\n",
      "Epoch [3/20], Loss: 0.0995\n",
      "Epoch [4/20], Loss: 0.0725\n",
      "Epoch [5/20], Loss: 0.0592\n",
      "Epoch [6/20], Loss: 0.0455\n",
      "Epoch [7/20], Loss: 0.0366\n",
      "Epoch [8/20], Loss: 0.0332\n",
      "Epoch [9/20], Loss: 0.0292\n",
      "Epoch [10/20], Loss: 0.0266\n",
      "Epoch [11/20], Loss: 0.0239\n",
      "Epoch [12/20], Loss: 0.0221\n",
      "Epoch [13/20], Loss: 0.0201\n",
      "Epoch [14/20], Loss: 0.0197\n",
      "Epoch [15/20], Loss: 0.0179\n",
      "Epoch [16/20], Loss: 0.0166\n",
      "Epoch [17/20], Loss: 0.0157\n",
      "Epoch [18/20], Loss: 0.0149\n",
      "Epoch [19/20], Loss: 0.0141\n",
      "Epoch [20/20], Loss: 0.0135\n",
      "Train Set Accuracy: 100.00%, Correct: 1530, Total: 1530\n",
      "Test Set Accuracy: 98.82%, Correct: 168, Total: 170\n",
      "Fold 8\n",
      "-------\n",
      "Epoch [1/20], Loss: 1.7693\n",
      "Epoch [2/20], Loss: 0.2519\n",
      "Epoch [3/20], Loss: 0.1272\n",
      "Epoch [4/20], Loss: 0.0704\n",
      "Epoch [5/20], Loss: 0.0564\n",
      "Epoch [6/20], Loss: 0.0461\n",
      "Epoch [7/20], Loss: 0.0385\n",
      "Epoch [8/20], Loss: 0.0357\n",
      "Epoch [9/20], Loss: 0.0316\n",
      "Epoch [10/20], Loss: 0.0282\n",
      "Epoch [11/20], Loss: 0.0256\n",
      "Epoch [12/20], Loss: 0.0244\n",
      "Epoch [13/20], Loss: 0.0213\n",
      "Epoch [14/20], Loss: 0.0206\n",
      "Epoch [15/20], Loss: 0.0190\n",
      "Epoch [16/20], Loss: 0.0175\n",
      "Epoch [17/20], Loss: 0.0167\n",
      "Epoch [18/20], Loss: 0.0157\n",
      "Epoch [19/20], Loss: 0.0150\n",
      "Epoch [20/20], Loss: 0.0145\n",
      "Train Set Accuracy: 100.00%, Correct: 1530, Total: 1530\n",
      "Test Set Accuracy: 98.24%, Correct: 167, Total: 170\n",
      "Fold 9\n",
      "-------\n",
      "Epoch [1/20], Loss: 1.8056\n",
      "Epoch [2/20], Loss: 0.2408\n",
      "Epoch [3/20], Loss: 0.0943\n",
      "Epoch [4/20], Loss: 0.0625\n",
      "Epoch [5/20], Loss: 0.0523\n",
      "Epoch [6/20], Loss: 0.0429\n",
      "Epoch [7/20], Loss: 0.0359\n",
      "Epoch [8/20], Loss: 0.0310\n",
      "Epoch [9/20], Loss: 0.0271\n",
      "Epoch [10/20], Loss: 0.0259\n",
      "Epoch [11/20], Loss: 0.0222\n",
      "Epoch [12/20], Loss: 0.0200\n",
      "Epoch [13/20], Loss: 0.0189\n",
      "Epoch [14/20], Loss: 0.0177\n",
      "Epoch [15/20], Loss: 0.0163\n",
      "Epoch [16/20], Loss: 0.0155\n",
      "Epoch [17/20], Loss: 0.0146\n",
      "Epoch [18/20], Loss: 0.0136\n",
      "Epoch [19/20], Loss: 0.0131\n",
      "Epoch [20/20], Loss: 0.0125\n",
      "Train Set Accuracy: 100.00%, Correct: 1530, Total: 1530\n",
      "Test Set Accuracy: 98.82%, Correct: 168, Total: 170\n",
      "Fold 10\n",
      "-------\n",
      "Epoch [1/20], Loss: 1.6853\n",
      "Epoch [2/20], Loss: 0.3004\n",
      "Epoch [3/20], Loss: 0.0980\n",
      "Epoch [4/20], Loss: 0.0771\n",
      "Epoch [5/20], Loss: 0.0531\n",
      "Epoch [6/20], Loss: 0.0447\n",
      "Epoch [7/20], Loss: 0.0397\n",
      "Epoch [8/20], Loss: 0.0329\n",
      "Epoch [9/20], Loss: 0.0297\n",
      "Epoch [10/20], Loss: 0.0263\n",
      "Epoch [11/20], Loss: 0.0233\n",
      "Epoch [12/20], Loss: 0.0218\n",
      "Epoch [13/20], Loss: 0.0202\n",
      "Epoch [14/20], Loss: 0.0189\n",
      "Epoch [15/20], Loss: 0.0180\n",
      "Epoch [16/20], Loss: 0.0168\n",
      "Epoch [17/20], Loss: 0.0159\n",
      "Epoch [18/20], Loss: 0.0148\n",
      "Epoch [19/20], Loss: 0.0144\n",
      "Epoch [20/20], Loss: 0.0133\n",
      "Train Set Accuracy: 100.00%, Correct: 1530, Total: 1530\n",
      "Test Set Accuracy: 99.41%, Correct: 169, Total: 170\n"
     ]
    }
   ],
   "source": [
    "for fold, (train_idx, test_idx) in enumerate(kf.split(cross_dataset)):\n",
    "    print(f\"Fold {fold + 1}\")\n",
    "    print(\"-------\")\n",
    "    \n",
    "    epoch  = 20\n",
    "    \n",
    "    # Define the data loaders for the current fold\n",
    "    train_loader = DataLoader(\n",
    "        dataset=cross_dataset,\n",
    "        batch_size=64,\n",
    "        sampler=torch.utils.data.SubsetRandomSampler(train_idx),\n",
    "    )\n",
    "    test_loader = DataLoader(\n",
    "        dataset=cross_dataset,\n",
    "        batch_size=64,\n",
    "        sampler=torch.utils.data.SubsetRandomSampler(test_idx),\n",
    "    )\n",
    "\n",
    "    # Initialize the model and optimizer\n",
    "    model = ImageClassifier().to(device)\n",
    "    criterion = nn.CrossEntropyLoss()\n",
    "    optimizer = torch.optim.SGD(model.parameters(), lr=0.0001, momentum=0.50)\n",
    "\n",
    "    # Train the model on the current fold\n",
    "    train_accuracy,test_accuracy = train_test(model, device, train_loader,test_loader, optimizer,criterion, epoch)\n",
    "        \n",
    "    # Append accuracies to lists\n",
    "    train_accuracies_V1_1.append(train_accuracy)\n",
    "    test_accuracies_V1_1.append(test_accuracy)"
   ]
  },
  {
   "cell_type": "code",
   "execution_count": 31,
   "id": "e684ddd6-0340-4abe-940d-e6accf0ba264",
   "metadata": {
    "tags": []
   },
   "outputs": [
    {
     "name": "stdout",
     "output_type": "stream",
     "text": [
      "Average Train Set Accuracy: 100.00%\n",
      "Average Test Set Accuracy: 98.18%\n"
     ]
    }
   ],
   "source": [
    "# Calculate average accuracies\n",
    "avg_train_accuracy = np.mean(train_accuracies_V1_1)\n",
    "avg_test_accuracy = np.mean(test_accuracies_V1_1)\n",
    "\n",
    "print(f\"Average Train Set Accuracy: {avg_train_accuracy:.2f}%\")\n",
    "print(f\"Average Test Set Accuracy: {avg_test_accuracy:.2f}%\")"
   ]
  },
  {
   "cell_type": "markdown",
   "id": "9e21eff8-dee8-419c-bb64-01c13c65914f",
   "metadata": {
    "jp-MarkdownHeadingCollapsed": true,
    "tags": []
   },
   "source": [
    "#### Check on validation set"
   ]
  },
  {
   "cell_type": "code",
   "execution_count": 32,
   "id": "e4bb36de-e89c-4d38-959c-83e69e251a64",
   "metadata": {
    "tags": []
   },
   "outputs": [
    {
     "name": "stdout",
     "output_type": "stream",
     "text": [
      "Validation Set Accuracy: 100.00%, Correct: 100, Total: 100\n"
     ]
    }
   ],
   "source": [
    "validation_accuracy, validation_correct, validation_total = check_accuracy(validation_loader, model)\n",
    "\n",
    "print(f\"Validation Set Accuracy: {validation_accuracy:.2f}%, Correct: {validation_correct}, Total: {validation_total}\")"
   ]
  },
  {
   "cell_type": "markdown",
   "id": "97e90dc9-b66e-40bf-811e-732add05a42e",
   "metadata": {
    "jp-MarkdownHeadingCollapsed": true,
    "tags": []
   },
   "source": [
    "### Cross validation of V1.2"
   ]
  },
  {
   "cell_type": "code",
   "execution_count": 36,
   "id": "f22b274c-7c11-468b-a6d9-429fb2fb80da",
   "metadata": {
    "tags": []
   },
   "outputs": [],
   "source": [
    "train_accuracies_V1_2 = []\n",
    "test_accuracies_V1_2 = []"
   ]
  },
  {
   "cell_type": "code",
   "execution_count": 37,
   "id": "2a46f9ad-2b36-4ec2-b2fb-a8da12312a12",
   "metadata": {
    "tags": []
   },
   "outputs": [
    {
     "name": "stdout",
     "output_type": "stream",
     "text": [
      "Fold 1\n",
      "-------\n",
      "Epoch [1/20], Loss: 0.9954\n",
      "Epoch [2/20], Loss: 0.1616\n",
      "Epoch [3/20], Loss: 0.0335\n",
      "Epoch [4/20], Loss: 0.0170\n",
      "Epoch [5/20], Loss: 0.0058\n",
      "Epoch [6/20], Loss: 0.0026\n",
      "Epoch [7/20], Loss: 0.0021\n",
      "Epoch [8/20], Loss: 0.0017\n",
      "Epoch [9/20], Loss: 0.0015\n",
      "Epoch [10/20], Loss: 0.0012\n",
      "Epoch [11/20], Loss: 0.0011\n",
      "Epoch [12/20], Loss: 0.0010\n",
      "Epoch [13/20], Loss: 0.0009\n",
      "Epoch [14/20], Loss: 0.0008\n",
      "Epoch [15/20], Loss: 0.0008\n",
      "Epoch [16/20], Loss: 0.0007\n",
      "Epoch [17/20], Loss: 0.0007\n",
      "Epoch [18/20], Loss: 0.0007\n",
      "Epoch [19/20], Loss: 0.0006\n",
      "Epoch [20/20], Loss: 0.0006\n",
      "Train Set Accuracy: 100.00%, Correct: 1530, Total: 1530\n",
      "Test Set Accuracy: 97.65%, Correct: 166, Total: 170\n",
      "Fold 2\n",
      "-------\n",
      "Epoch [1/20], Loss: 1.8689\n",
      "Epoch [2/20], Loss: 0.1685\n",
      "Epoch [3/20], Loss: 0.0545\n",
      "Epoch [4/20], Loss: 0.0237\n",
      "Epoch [5/20], Loss: 0.0118\n",
      "Epoch [6/20], Loss: 0.0075\n",
      "Epoch [7/20], Loss: 0.0058\n",
      "Epoch [8/20], Loss: 0.0047\n",
      "Epoch [9/20], Loss: 0.0043\n",
      "Epoch [10/20], Loss: 0.0038\n",
      "Epoch [11/20], Loss: 0.0035\n",
      "Epoch [12/20], Loss: 0.0030\n",
      "Epoch [13/20], Loss: 0.0026\n",
      "Epoch [14/20], Loss: 0.0024\n",
      "Epoch [15/20], Loss: 0.0022\n",
      "Epoch [16/20], Loss: 0.0020\n",
      "Epoch [17/20], Loss: 0.0018\n",
      "Epoch [18/20], Loss: 0.0017\n",
      "Epoch [19/20], Loss: 0.0016\n",
      "Epoch [20/20], Loss: 0.0015\n",
      "Train Set Accuracy: 100.00%, Correct: 1530, Total: 1530\n",
      "Test Set Accuracy: 100.00%, Correct: 170, Total: 170\n",
      "Fold 3\n",
      "-------\n",
      "Epoch [1/20], Loss: 2.5600\n",
      "Epoch [2/20], Loss: 0.3450\n",
      "Epoch [3/20], Loss: 0.0659\n",
      "Epoch [4/20], Loss: 0.0335\n",
      "Epoch [5/20], Loss: 0.0142\n",
      "Epoch [6/20], Loss: 0.0085\n",
      "Epoch [7/20], Loss: 0.0061\n",
      "Epoch [8/20], Loss: 0.0051\n",
      "Epoch [9/20], Loss: 0.0045\n",
      "Epoch [10/20], Loss: 0.0038\n",
      "Epoch [11/20], Loss: 0.0033\n",
      "Epoch [12/20], Loss: 0.0031\n",
      "Epoch [13/20], Loss: 0.0028\n",
      "Epoch [14/20], Loss: 0.0026\n",
      "Epoch [15/20], Loss: 0.0024\n",
      "Epoch [16/20], Loss: 0.0022\n",
      "Epoch [17/20], Loss: 0.0020\n",
      "Epoch [18/20], Loss: 0.0019\n",
      "Epoch [19/20], Loss: 0.0017\n",
      "Epoch [20/20], Loss: 0.0016\n",
      "Train Set Accuracy: 100.00%, Correct: 1530, Total: 1530\n",
      "Test Set Accuracy: 99.41%, Correct: 169, Total: 170\n",
      "Fold 4\n",
      "-------\n",
      "Epoch [1/20], Loss: 2.0659\n",
      "Epoch [2/20], Loss: 0.2577\n",
      "Epoch [3/20], Loss: 0.0714\n",
      "Epoch [4/20], Loss: 0.0255\n",
      "Epoch [5/20], Loss: 0.0176\n",
      "Epoch [6/20], Loss: 0.0080\n",
      "Epoch [7/20], Loss: 0.0056\n",
      "Epoch [8/20], Loss: 0.0046\n",
      "Epoch [9/20], Loss: 0.0037\n",
      "Epoch [10/20], Loss: 0.0034\n",
      "Epoch [11/20], Loss: 0.0031\n",
      "Epoch [12/20], Loss: 0.0026\n",
      "Epoch [13/20], Loss: 0.0024\n",
      "Epoch [14/20], Loss: 0.0022\n",
      "Epoch [15/20], Loss: 0.0020\n",
      "Epoch [16/20], Loss: 0.0019\n",
      "Epoch [17/20], Loss: 0.0017\n",
      "Epoch [18/20], Loss: 0.0016\n",
      "Epoch [19/20], Loss: 0.0015\n",
      "Epoch [20/20], Loss: 0.0014\n",
      "Train Set Accuracy: 100.00%, Correct: 1530, Total: 1530\n",
      "Test Set Accuracy: 99.41%, Correct: 169, Total: 170\n",
      "Fold 5\n",
      "-------\n",
      "Epoch [1/20], Loss: 2.6256\n",
      "Epoch [2/20], Loss: 0.2871\n",
      "Epoch [3/20], Loss: 0.0657\n",
      "Epoch [4/20], Loss: 0.0199\n",
      "Epoch [5/20], Loss: 0.0153\n",
      "Epoch [6/20], Loss: 0.0091\n",
      "Epoch [7/20], Loss: 0.0062\n",
      "Epoch [8/20], Loss: 0.0050\n",
      "Epoch [9/20], Loss: 0.0042\n",
      "Epoch [10/20], Loss: 0.0037\n",
      "Epoch [11/20], Loss: 0.0033\n",
      "Epoch [12/20], Loss: 0.0028\n",
      "Epoch [13/20], Loss: 0.0026\n",
      "Epoch [14/20], Loss: 0.0024\n",
      "Epoch [15/20], Loss: 0.0023\n",
      "Epoch [16/20], Loss: 0.0021\n",
      "Epoch [17/20], Loss: 0.0018\n",
      "Epoch [18/20], Loss: 0.0018\n",
      "Epoch [19/20], Loss: 0.0016\n",
      "Epoch [20/20], Loss: 0.0015\n",
      "Train Set Accuracy: 100.00%, Correct: 1530, Total: 1530\n",
      "Test Set Accuracy: 98.82%, Correct: 168, Total: 170\n",
      "Fold 6\n",
      "-------\n",
      "Epoch [1/20], Loss: 2.5001\n",
      "Epoch [2/20], Loss: 0.2489\n",
      "Epoch [3/20], Loss: 0.0921\n",
      "Epoch [4/20], Loss: 0.0365\n",
      "Epoch [5/20], Loss: 0.0153\n",
      "Epoch [6/20], Loss: 0.0086\n",
      "Epoch [7/20], Loss: 0.0065\n",
      "Epoch [8/20], Loss: 0.0055\n",
      "Epoch [9/20], Loss: 0.0047\n",
      "Epoch [10/20], Loss: 0.0042\n",
      "Epoch [11/20], Loss: 0.0037\n",
      "Epoch [12/20], Loss: 0.0032\n",
      "Epoch [13/20], Loss: 0.0030\n",
      "Epoch [14/20], Loss: 0.0027\n",
      "Epoch [15/20], Loss: 0.0025\n",
      "Epoch [16/20], Loss: 0.0023\n",
      "Epoch [17/20], Loss: 0.0021\n",
      "Epoch [18/20], Loss: 0.0019\n",
      "Epoch [19/20], Loss: 0.0017\n",
      "Epoch [20/20], Loss: 0.0017\n",
      "Train Set Accuracy: 100.00%, Correct: 1530, Total: 1530\n",
      "Test Set Accuracy: 97.65%, Correct: 166, Total: 170\n",
      "Fold 7\n",
      "-------\n",
      "Epoch [1/20], Loss: 0.9592\n",
      "Epoch [2/20], Loss: 0.1407\n",
      "Epoch [3/20], Loss: 0.0484\n",
      "Epoch [4/20], Loss: 0.0335\n",
      "Epoch [5/20], Loss: 0.0121\n",
      "Epoch [6/20], Loss: 0.0040\n",
      "Epoch [7/20], Loss: 0.0027\n",
      "Epoch [8/20], Loss: 0.0022\n",
      "Epoch [9/20], Loss: 0.0020\n",
      "Epoch [10/20], Loss: 0.0018\n",
      "Epoch [11/20], Loss: 0.0016\n",
      "Epoch [12/20], Loss: 0.0015\n",
      "Epoch [13/20], Loss: 0.0014\n",
      "Epoch [14/20], Loss: 0.0013\n",
      "Epoch [15/20], Loss: 0.0012\n",
      "Epoch [16/20], Loss: 0.0011\n",
      "Epoch [17/20], Loss: 0.0010\n",
      "Epoch [18/20], Loss: 0.0010\n",
      "Epoch [19/20], Loss: 0.0009\n",
      "Epoch [20/20], Loss: 0.0009\n",
      "Train Set Accuracy: 100.00%, Correct: 1530, Total: 1530\n",
      "Test Set Accuracy: 99.41%, Correct: 169, Total: 170\n",
      "Fold 8\n",
      "-------\n",
      "Epoch [1/20], Loss: 2.2431\n",
      "Epoch [2/20], Loss: 0.3313\n",
      "Epoch [3/20], Loss: 0.0617\n",
      "Epoch [4/20], Loss: 0.0339\n",
      "Epoch [5/20], Loss: 0.0086\n",
      "Epoch [6/20], Loss: 0.0063\n",
      "Epoch [7/20], Loss: 0.0043\n",
      "Epoch [8/20], Loss: 0.0035\n",
      "Epoch [9/20], Loss: 0.0032\n",
      "Epoch [10/20], Loss: 0.0026\n",
      "Epoch [11/20], Loss: 0.0023\n",
      "Epoch [12/20], Loss: 0.0021\n",
      "Epoch [13/20], Loss: 0.0020\n",
      "Epoch [14/20], Loss: 0.0018\n",
      "Epoch [15/20], Loss: 0.0017\n",
      "Epoch [16/20], Loss: 0.0015\n",
      "Epoch [17/20], Loss: 0.0014\n",
      "Epoch [18/20], Loss: 0.0013\n",
      "Epoch [19/20], Loss: 0.0013\n",
      "Epoch [20/20], Loss: 0.0012\n",
      "Train Set Accuracy: 100.00%, Correct: 1530, Total: 1530\n",
      "Test Set Accuracy: 97.06%, Correct: 165, Total: 170\n",
      "Fold 9\n",
      "-------\n",
      "Epoch [1/20], Loss: 1.7997\n",
      "Epoch [2/20], Loss: 0.2801\n",
      "Epoch [3/20], Loss: 0.0712\n",
      "Epoch [4/20], Loss: 0.0347\n",
      "Epoch [5/20], Loss: 0.0160\n",
      "Epoch [6/20], Loss: 0.0080\n",
      "Epoch [7/20], Loss: 0.0056\n",
      "Epoch [8/20], Loss: 0.0039\n",
      "Epoch [9/20], Loss: 0.0036\n",
      "Epoch [10/20], Loss: 0.0030\n",
      "Epoch [11/20], Loss: 0.0026\n",
      "Epoch [12/20], Loss: 0.0024\n",
      "Epoch [13/20], Loss: 0.0022\n",
      "Epoch [14/20], Loss: 0.0020\n",
      "Epoch [15/20], Loss: 0.0018\n",
      "Epoch [16/20], Loss: 0.0017\n",
      "Epoch [17/20], Loss: 0.0015\n",
      "Epoch [18/20], Loss: 0.0015\n",
      "Epoch [19/20], Loss: 0.0014\n",
      "Epoch [20/20], Loss: 0.0013\n",
      "Train Set Accuracy: 100.00%, Correct: 1530, Total: 1530\n",
      "Test Set Accuracy: 97.06%, Correct: 165, Total: 170\n",
      "Fold 10\n",
      "-------\n",
      "Epoch [1/20], Loss: 2.3018\n",
      "Epoch [2/20], Loss: 0.1774\n",
      "Epoch [3/20], Loss: 0.0592\n",
      "Epoch [4/20], Loss: 0.0380\n",
      "Epoch [5/20], Loss: 0.0160\n",
      "Epoch [6/20], Loss: 0.0080\n",
      "Epoch [7/20], Loss: 0.0053\n",
      "Epoch [8/20], Loss: 0.0046\n",
      "Epoch [9/20], Loss: 0.0042\n",
      "Epoch [10/20], Loss: 0.0033\n",
      "Epoch [11/20], Loss: 0.0031\n",
      "Epoch [12/20], Loss: 0.0027\n",
      "Epoch [13/20], Loss: 0.0025\n",
      "Epoch [14/20], Loss: 0.0023\n",
      "Epoch [15/20], Loss: 0.0021\n",
      "Epoch [16/20], Loss: 0.0019\n",
      "Epoch [17/20], Loss: 0.0018\n",
      "Epoch [18/20], Loss: 0.0017\n",
      "Epoch [19/20], Loss: 0.0015\n",
      "Epoch [20/20], Loss: 0.0014\n",
      "Train Set Accuracy: 100.00%, Correct: 1530, Total: 1530\n",
      "Test Set Accuracy: 98.24%, Correct: 167, Total: 170\n"
     ]
    }
   ],
   "source": [
    "for fold, (train_idx, test_idx) in enumerate(kf.split(cross_dataset)):\n",
    "    print(f\"Fold {fold + 1}\")\n",
    "    print(\"-------\")\n",
    "    \n",
    "    epoch  = 20\n",
    "    \n",
    "    # Define the data loaders for the current fold\n",
    "    train_loader = DataLoader(\n",
    "        dataset=cross_dataset,\n",
    "        batch_size=64,\n",
    "        sampler=torch.utils.data.SubsetRandomSampler(train_idx),\n",
    "    )\n",
    "    test_loader = DataLoader(\n",
    "        dataset=cross_dataset,\n",
    "        batch_size=64,\n",
    "        sampler=torch.utils.data.SubsetRandomSampler(test_idx),\n",
    "    )\n",
    "\n",
    "    # Initialize the model and optimizer\n",
    "    model = ImageClassifier().to(device)\n",
    "    criterion = nn.CrossEntropyLoss()\n",
    "    optimizer = optim.Adam(model.parameters(), lr=0.0001)\n",
    "\n",
    "    # Train the model on the current fold\n",
    "    train_accuracy,test_accuracy = train_test(model, device, train_loader,test_loader, optimizer,criterion, epoch)\n",
    "        \n",
    "    # Append accuracies to lists\n",
    "    train_accuracies_V1_2.append(train_accuracy)\n",
    "    test_accuracies_V1_2.append(test_accuracy)"
   ]
  },
  {
   "cell_type": "code",
   "execution_count": 38,
   "id": "6c47889a-457e-49c2-b4f2-f29b7ea2a25f",
   "metadata": {
    "tags": []
   },
   "outputs": [
    {
     "name": "stdout",
     "output_type": "stream",
     "text": [
      "Average Train Set Accuracy: 100.00%\n",
      "Average Test Set Accuracy: 98.47%\n"
     ]
    }
   ],
   "source": [
    "# Calculate average accuracies\n",
    "avg_train_accuracy = np.mean(train_accuracies_V1_2)\n",
    "avg_test_accuracy = np.mean(test_accuracies_V1_2)\n",
    "\n",
    "print(f\"Average Train Set Accuracy: {avg_train_accuracy:.2f}%\")\n",
    "print(f\"Average Test Set Accuracy: {avg_test_accuracy:.2f}%\")"
   ]
  },
  {
   "cell_type": "markdown",
   "id": "d05cbb36-9902-416c-825f-21da2bebadc6",
   "metadata": {},
   "source": [
    "#### Check on validation set"
   ]
  },
  {
   "cell_type": "code",
   "execution_count": 39,
   "id": "d9af76c0-fb12-4ce3-9e5a-16fa4e6d3b32",
   "metadata": {
    "tags": []
   },
   "outputs": [
    {
     "name": "stdout",
     "output_type": "stream",
     "text": [
      "Validation Set Accuracy: 99.00%, Correct: 99, Total: 100\n"
     ]
    }
   ],
   "source": [
    "validation_accuracy, validation_correct, validation_total = check_accuracy(validation_loader, model)\n",
    "\n",
    "print(f\"Validation Set Accuracy: {validation_accuracy:.2f}%, Correct: {validation_correct}, Total: {validation_total}\")"
   ]
  },
  {
   "cell_type": "markdown",
   "id": "c6adeb2f-3ae6-4a0b-96b8-5991e306dd0c",
   "metadata": {
    "jp-MarkdownHeadingCollapsed": true,
    "tags": []
   },
   "source": [
    "## Cross validation Version 2"
   ]
  },
  {
   "cell_type": "markdown",
   "id": "394f1f12-15c9-4043-a70b-36464526e4b4",
   "metadata": {
    "jp-MarkdownHeadingCollapsed": true,
    "tags": []
   },
   "source": [
    "### Cross validation of V2.0"
   ]
  },
  {
   "cell_type": "code",
   "execution_count": 47,
   "id": "a4d12074-a126-4e7f-999e-6bdbf1c0ed29",
   "metadata": {
    "tags": []
   },
   "outputs": [],
   "source": [
    "train_accuracies_V2_0 = []\n",
    "test_accuracies_V2_0 = []"
   ]
  },
  {
   "cell_type": "code",
   "execution_count": null,
   "id": "21260adf-0935-4f65-9e5d-8c5b6815d604",
   "metadata": {
    "tags": []
   },
   "outputs": [
    {
     "name": "stdout",
     "output_type": "stream",
     "text": [
      "Fold 1\n",
      "-------\n",
      "Epoch [1/20], Loss: 468.6245\n",
      "Epoch [2/20], Loss: 179.4656\n",
      "Epoch [3/20], Loss: 80.2180\n",
      "Epoch [4/20], Loss: 33.9763\n",
      "Epoch [5/20], Loss: 17.8997\n",
      "Epoch [6/20], Loss: 18.9034\n",
      "Epoch [7/20], Loss: 9.1181\n",
      "Epoch [8/20], Loss: 10.3172\n",
      "Epoch [9/20], Loss: 9.3901\n",
      "Epoch [10/20], Loss: 3.8601\n",
      "Epoch [11/20], Loss: 2.8133\n",
      "Epoch [12/20], Loss: 2.5427\n",
      "Epoch [13/20], Loss: 9.0570\n",
      "Epoch [14/20], Loss: 2.7813\n",
      "Epoch [15/20], Loss: 3.3621\n",
      "Epoch [16/20], Loss: 1.2287\n",
      "Epoch [17/20], Loss: 0.9860\n",
      "Epoch [18/20], Loss: 0.7887\n",
      "Epoch [19/20], Loss: 0.8214\n",
      "Epoch [20/20], Loss: 0.7111\n",
      "Train Set Accuracy: 99.61%, Correct: 1524, Total: 1530\n",
      "Test Set Accuracy: 95.29%, Correct: 162, Total: 170\n",
      "Fold 2\n",
      "-------\n",
      "Epoch [1/20], Loss: 499.8443\n",
      "Epoch [2/20], Loss: 217.9579\n",
      "Epoch [3/20], Loss: 94.6130\n",
      "Epoch [4/20], Loss: 59.7703\n",
      "Epoch [5/20], Loss: 28.5379\n",
      "Epoch [6/20], Loss: 27.8436\n",
      "Epoch [7/20], Loss: 16.6020\n",
      "Epoch [8/20], Loss: 8.1324\n",
      "Epoch [9/20], Loss: 14.4589\n",
      "Epoch [10/20], Loss: 6.9188\n",
      "Epoch [11/20], Loss: 4.9191\n",
      "Epoch [12/20], Loss: 5.0716\n",
      "Epoch [13/20], Loss: 3.9366\n",
      "Epoch [14/20], Loss: 3.9037\n",
      "Epoch [15/20], Loss: 3.0600\n",
      "Epoch [16/20], Loss: 1.5487\n",
      "Epoch [17/20], Loss: 0.9820\n",
      "Epoch [18/20], Loss: 1.0491\n",
      "Epoch [19/20], Loss: 0.7186\n",
      "Epoch [20/20], Loss: 1.6534\n",
      "Train Set Accuracy: 98.95%, Correct: 1514, Total: 1530\n",
      "Test Set Accuracy: 95.88%, Correct: 163, Total: 170\n",
      "Fold 3\n",
      "-------\n",
      "Epoch [1/20], Loss: 513.4173\n",
      "Epoch [2/20], Loss: 183.7298\n",
      "Epoch [3/20], Loss: 104.9614\n",
      "Epoch [4/20], Loss: 55.5658\n",
      "Epoch [5/20], Loss: 39.9654\n",
      "Epoch [6/20], Loss: 21.4765\n",
      "Epoch [7/20], Loss: 14.8176\n",
      "Epoch [8/20], Loss: 26.4826\n",
      "Epoch [9/20], Loss: 9.0140\n",
      "Epoch [10/20], Loss: 19.4744\n",
      "Epoch [11/20], Loss: 11.0463\n",
      "Epoch [12/20], Loss: 5.3575\n",
      "Epoch [13/20], Loss: 7.5218\n",
      "Epoch [14/20], Loss: 3.5144\n",
      "Epoch [15/20], Loss: 2.1399\n",
      "Epoch [16/20], Loss: 2.5254\n",
      "Epoch [17/20], Loss: 6.3755\n",
      "Epoch [18/20], Loss: 3.9606\n",
      "Epoch [19/20], Loss: 1.4238\n",
      "Epoch [20/20], Loss: 0.9258\n",
      "Train Set Accuracy: 98.63%, Correct: 1509, Total: 1530\n",
      "Test Set Accuracy: 92.35%, Correct: 157, Total: 170\n",
      "Fold 4\n",
      "-------\n",
      "Epoch [1/20], Loss: 493.6438\n",
      "Epoch [2/20], Loss: 192.0169\n",
      "Epoch [3/20], Loss: 95.4757\n",
      "Epoch [4/20], Loss: 50.8930\n",
      "Epoch [5/20], Loss: 40.5058\n",
      "Epoch [6/20], Loss: 30.7748\n",
      "Epoch [7/20], Loss: 17.0248\n",
      "Epoch [8/20], Loss: 15.4092\n",
      "Epoch [9/20], Loss: 18.6730\n",
      "Epoch [10/20], Loss: 12.4361\n",
      "Epoch [11/20], Loss: 3.8247\n",
      "Epoch [12/20], Loss: 17.1284\n",
      "Epoch [13/20], Loss: 3.9816\n",
      "Epoch [14/20], Loss: 7.6620\n",
      "Epoch [15/20], Loss: 4.7623\n",
      "Epoch [16/20], Loss: 1.6697\n",
      "Epoch [17/20], Loss: 1.5686\n",
      "Epoch [18/20], Loss: 1.2598\n",
      "Epoch [19/20], Loss: 0.6917\n",
      "Epoch [20/20], Loss: 0.6785\n",
      "Train Set Accuracy: 99.22%, Correct: 1518, Total: 1530\n",
      "Test Set Accuracy: 97.06%, Correct: 165, Total: 170\n",
      "Fold 5\n",
      "-------\n",
      "Epoch [1/20], Loss: 467.3167\n",
      "Epoch [2/20], Loss: 210.3721\n",
      "Epoch [3/20], Loss: 83.0083\n",
      "Epoch [4/20], Loss: 51.4887\n",
      "Epoch [5/20], Loss: 17.0035\n",
      "Epoch [6/20], Loss: 13.8441\n",
      "Epoch [7/20], Loss: 6.8685\n",
      "Epoch [8/20], Loss: 11.0065\n",
      "Epoch [9/20], Loss: 7.6903\n",
      "Epoch [10/20], Loss: 6.2322\n",
      "Epoch [11/20], Loss: 2.9370\n",
      "Epoch [12/20], Loss: 9.3931\n",
      "Epoch [13/20], Loss: 1.4291\n",
      "Epoch [14/20], Loss: 1.8029\n",
      "Epoch [15/20], Loss: 1.7680\n",
      "Epoch [16/20], Loss: 1.2894\n",
      "Epoch [17/20], Loss: 0.5019\n",
      "Epoch [18/20], Loss: 0.3623\n",
      "Epoch [19/20], Loss: 0.5088\n",
      "Epoch [20/20], Loss: 0.2022\n",
      "Train Set Accuracy: 99.67%, Correct: 1525, Total: 1530\n",
      "Test Set Accuracy: 95.88%, Correct: 163, Total: 170\n",
      "Fold 6\n",
      "-------\n",
      "Epoch [1/20], Loss: 553.1789\n",
      "Epoch [2/20], Loss: 221.5413\n",
      "Epoch [3/20], Loss: 134.3837\n",
      "Epoch [4/20], Loss: 46.7685\n",
      "Epoch [5/20], Loss: 36.1156\n",
      "Epoch [6/20], Loss: 11.0966\n",
      "Epoch [7/20], Loss: 11.3265\n",
      "Epoch [8/20], Loss: 13.9133\n",
      "Epoch [9/20], Loss: 4.8111\n",
      "Epoch [10/20], Loss: 6.0792\n",
      "Epoch [11/20], Loss: 3.4131\n",
      "Epoch [12/20], Loss: 2.5562\n",
      "Epoch [13/20], Loss: 4.4229\n",
      "Epoch [14/20], Loss: 0.8853\n",
      "Epoch [15/20], Loss: 0.8529\n",
      "Epoch [16/20], Loss: 1.3711\n",
      "Epoch [17/20], Loss: 0.9595\n",
      "Epoch [18/20], Loss: 0.3685\n",
      "Epoch [19/20], Loss: 0.2432\n",
      "Epoch [20/20], Loss: 0.1489\n",
      "Train Set Accuracy: 99.35%, Correct: 1520, Total: 1530\n",
      "Test Set Accuracy: 94.71%, Correct: 161, Total: 170\n",
      "Fold 7\n",
      "-------\n",
      "Epoch [1/20], Loss: 508.7531\n",
      "Epoch [2/20], Loss: 228.9502\n",
      "Epoch [3/20], Loss: 52.7750\n",
      "Epoch [4/20], Loss: 28.5342\n",
      "Epoch [5/20], Loss: 23.1359\n",
      "Epoch [6/20], Loss: 10.8272\n",
      "Epoch [7/20], Loss: 9.1897\n",
      "Epoch [8/20], Loss: 15.7437\n",
      "Epoch [9/20], Loss: 5.7008\n",
      "Epoch [10/20], Loss: 2.5551\n",
      "Epoch [11/20], Loss: 3.5256\n",
      "Epoch [12/20], Loss: 4.4847\n",
      "Epoch [13/20], Loss: 1.5727\n",
      "Epoch [14/20], Loss: 0.9364\n",
      "Epoch [15/20], Loss: 0.7437\n",
      "Epoch [16/20], Loss: 0.5102\n",
      "Epoch [17/20], Loss: 0.3468\n",
      "Epoch [18/20], Loss: 0.4942\n",
      "Epoch [19/20], Loss: 0.4036\n",
      "Epoch [20/20], Loss: 0.3386\n",
      "Train Set Accuracy: 99.08%, Correct: 1516, Total: 1530\n",
      "Test Set Accuracy: 94.12%, Correct: 160, Total: 170\n",
      "Fold 8\n",
      "-------\n",
      "Epoch [1/20], Loss: 444.3962\n",
      "Epoch [2/20], Loss: 254.7182\n",
      "Epoch [3/20], Loss: 102.0314\n",
      "Epoch [4/20], Loss: 78.4679\n",
      "Epoch [5/20], Loss: 38.9427\n",
      "Epoch [6/20], Loss: 19.3651\n",
      "Epoch [7/20], Loss: 9.6115\n",
      "Epoch [8/20], Loss: 6.6207\n",
      "Epoch [9/20], Loss: 13.9202\n",
      "Epoch [10/20], Loss: 3.5055\n",
      "Epoch [11/20], Loss: 5.6472\n",
      "Epoch [12/20], Loss: 2.9855\n",
      "Epoch [13/20], Loss: 1.5696\n",
      "Epoch [14/20], Loss: 0.9988\n",
      "Epoch [15/20], Loss: 1.0021\n",
      "Epoch [16/20], Loss: 1.5398\n",
      "Epoch [17/20], Loss: 1.0132\n",
      "Epoch [18/20], Loss: 6.8234\n",
      "Epoch [19/20], Loss: 0.7391\n",
      "Epoch [20/20], Loss: 0.4062\n",
      "Train Set Accuracy: 97.91%, Correct: 1498, Total: 1530\n",
      "Test Set Accuracy: 94.12%, Correct: 160, Total: 170\n",
      "Fold 9\n",
      "-------\n",
      "Epoch [1/20], Loss: 464.8166\n",
      "Epoch [2/20], Loss: 210.9516\n",
      "Epoch [3/20], Loss: 93.0614\n",
      "Epoch [4/20], Loss: 55.8528\n",
      "Epoch [5/20], Loss: 50.5544\n",
      "Epoch [6/20], Loss: 29.8722\n",
      "Epoch [7/20], Loss: 32.9182\n",
      "Epoch [8/20], Loss: 12.6802\n",
      "Epoch [9/20], Loss: 29.5711\n",
      "Epoch [10/20], Loss: 7.0714\n",
      "Epoch [11/20], Loss: 16.1103\n",
      "Epoch [12/20], Loss: 8.4563\n",
      "Epoch [13/20], Loss: 3.2802\n",
      "Epoch [14/20], Loss: 2.6977\n",
      "Epoch [15/20], Loss: 6.5203\n",
      "Epoch [16/20], Loss: 2.1244\n",
      "Epoch [17/20], Loss: 1.9028\n",
      "Epoch [18/20], Loss: 3.7530\n",
      "Epoch [19/20], Loss: 27.1689\n",
      "Epoch [20/20], Loss: 2.0873\n",
      "Train Set Accuracy: 97.65%, Correct: 1494, Total: 1530\n",
      "Test Set Accuracy: 94.12%, Correct: 160, Total: 170\n",
      "Fold 10\n",
      "-------\n",
      "Epoch [1/20], Loss: 468.5577\n",
      "Epoch [2/20], Loss: 219.0644\n",
      "Epoch [3/20], Loss: 90.7219\n",
      "Epoch [4/20], Loss: 39.8184\n",
      "Epoch [5/20], Loss: 30.0361\n",
      "Epoch [7/20], Loss: 31.5149\n",
      "Epoch [8/20], Loss: 12.6961\n",
      "Epoch [9/20], Loss: 10.8937\n",
      "Epoch [11/20], Loss: 5.0814\n",
      "Epoch [12/20], Loss: 6.0769\n",
      "Epoch [13/20], Loss: 3.4894\n",
      "Epoch [14/20], Loss: 2.0437\n",
      "Epoch [15/20], Loss: 1.4348\n",
      "Epoch [16/20], Loss: 1.6642\n",
      "Epoch [17/20], Loss: 2.7891\n",
      "Epoch [18/20], Loss: 0.7112\n",
      "Epoch [19/20], Loss: 1.0644\n",
      "Epoch [20/20], Loss: 0.4772\n",
      "Train Set Accuracy: 99.28%, Correct: 1519, Total: 1530\n",
      "Test Set Accuracy: 95.88%, Correct: 163, Total: 170\n"
     ]
    }
   ],
   "source": [
    "for fold, (train_idx, test_idx) in enumerate(kf.split(cross_dataset)):\n",
    "    print(f\"Fold {fold + 1}\")\n",
    "    print(\"-------\")\n",
    "    \n",
    "    epoch  = 20\n",
    "    \n",
    "    # Define the data loaders for the current fold\n",
    "    train_loader = DataLoader(\n",
    "        dataset=cross_dataset,\n",
    "        batch_size=64,\n",
    "        sampler=torch.utils.data.SubsetRandomSampler(train_idx),\n",
    "    )\n",
    "    test_loader = DataLoader(\n",
    "        dataset=cross_dataset,\n",
    "        batch_size=64,\n",
    "        sampler=torch.utils.data.SubsetRandomSampler(test_idx),\n",
    "    )\n",
    "\n",
    "    # Initialize the model and optimizer\n",
    "    model = ImageClassifier_V2().to(device)\n",
    "    criterion = nn.CrossEntropyLoss()\n",
    "    optimizer = torch.optim.SGD(model.parameters(), lr=0.005, momentum=0.03)\n",
    "\n",
    "    # Train the model on the current fold\n",
    "    train_accuracy,test_accuracy = train_test(model, device, train_loader,test_loader, optimizer,criterion, epoch)\n",
    "        \n",
    "    # Append accuracies to lists\n",
    "    train_accuracies_V2_0.append(train_accuracy)\n",
    "    test_accuracies_V2_0.append(test_accuracy)"
   ]
  },
  {
   "cell_type": "code",
   "execution_count": null,
   "id": "48507da2-c1bf-4a8b-a799-a6ba9e932859",
   "metadata": {
    "tags": []
   },
   "outputs": [
    {
     "name": "stdout",
     "output_type": "stream",
     "text": [
      "Average Train Set Accuracy: 98.93%\n",
      "Average Test Set Accuracy: 94.94%\n"
     ]
    }
   ],
   "source": [
    "# Calculate average accuracies\n",
    "avg_train_accuracy = np.mean(train_accuracies_V2_0)\n",
    "avg_test_accuracy = np.mean(test_accuracies_V2_0)\n",
    "\n",
    "print(f\"Average Train Set Accuracy: {avg_train_accuracy:.2f}%\")\n",
    "print(f\"Average Test Set Accuracy: {avg_test_accuracy:.2f}%\")"
   ]
  },
  {
   "cell_type": "markdown",
   "id": "e041e93f-701e-4a1c-916e-ae60dfb99cf1",
   "metadata": {
    "jp-MarkdownHeadingCollapsed": true,
    "tags": []
   },
   "source": [
    "#### Check on validation set"
   ]
  },
  {
   "cell_type": "code",
   "execution_count": null,
   "id": "1f7e6a58-20c9-470c-b5c3-e610ff6554fe",
   "metadata": {
    "tags": []
   },
   "outputs": [
    {
     "name": "stdout",
     "output_type": "stream",
     "text": [
      "Validation Set Accuracy: 94.00%, Correct: 94, Total: 100\n"
     ]
    }
   ],
   "source": [
    "validation_accuracy, validation_correct, validation_total = check_accuracy(validation_loader, model)\n",
    "\n",
    "print(f\"Validation Set Accuracy: {validation_accuracy:.2f}%, Correct: {validation_correct}, Total: {validation_total}\")"
   ]
  },
  {
   "cell_type": "markdown",
   "id": "9ee2c853-6fc8-4b1d-884f-432972da714f",
   "metadata": {
    "jp-MarkdownHeadingCollapsed": true,
    "tags": []
   },
   "source": [
    "### Cross validation of V2.1\n"
   ]
  },
  {
   "cell_type": "code",
   "execution_count": null,
   "id": "aabba836-3397-4107-9cbc-2aaf37a98695",
   "metadata": {
    "tags": []
   },
   "outputs": [],
   "source": [
    "train_accuracies_V2_1 = []\n",
    "test_accuracies_V2_1 = []"
   ]
  },
  {
   "cell_type": "code",
   "execution_count": null,
   "id": "b92b78c4-1d7e-4e8d-9da6-74700736560d",
   "metadata": {
    "tags": []
   },
   "outputs": [
    {
     "name": "stdout",
     "output_type": "stream",
     "text": [
      "Fold 1\n",
      "-------\n",
      "Epoch [1/20], Loss: 18.9897\n",
      "Epoch [2/20], Loss: 2.5581\n",
      "Epoch [3/20], Loss: 0.3938\n",
      "Epoch [4/20], Loss: 0.1363\n",
      "Epoch [5/20], Loss: 0.0743\n",
      "Epoch [6/20], Loss: 0.0372\n",
      "Epoch [7/20], Loss: 0.0149\n",
      "Epoch [8/20], Loss: 0.0073\n",
      "Epoch [9/20], Loss: 0.0197\n",
      "Epoch [10/20], Loss: 0.0062\n",
      "Epoch [11/20], Loss: 0.0027\n",
      "Epoch [12/20], Loss: 0.0014\n",
      "Epoch [13/20], Loss: 0.0002\n",
      "Epoch [14/20], Loss: 0.0001\n",
      "Epoch [15/20], Loss: 0.0001\n",
      "Epoch [16/20], Loss: 0.0001\n",
      "Epoch [17/20], Loss: 0.0001\n",
      "Epoch [18/20], Loss: 0.0001\n",
      "Epoch [19/20], Loss: 0.0001\n",
      "Epoch [20/20], Loss: 0.0001\n",
      "Train Set Accuracy: 100.00%, Correct: 1530, Total: 1530\n",
      "Test Set Accuracy: 97.65%, Correct: 166, Total: 170\n",
      "Fold 2\n",
      "-------\n",
      "Epoch [1/20], Loss: 14.9379\n",
      "Epoch [2/20], Loss: 2.6918\n",
      "Epoch [3/20], Loss: 0.8248\n",
      "Epoch [4/20], Loss: 0.2509\n",
      "Epoch [5/20], Loss: 0.0914\n",
      "Epoch [6/20], Loss: 0.0189\n",
      "Epoch [7/20], Loss: 0.0068\n",
      "Epoch [8/20], Loss: 0.0015\n",
      "Epoch [9/20], Loss: 0.0007\n",
      "Epoch [10/20], Loss: 0.0001\n",
      "Epoch [11/20], Loss: 0.0001\n",
      "Epoch [12/20], Loss: 0.0001\n",
      "Epoch [13/20], Loss: 0.0001\n",
      "Epoch [14/20], Loss: 0.0001\n",
      "Epoch [15/20], Loss: 0.0001\n",
      "Epoch [16/20], Loss: 0.0001\n",
      "Epoch [17/20], Loss: 0.0001\n",
      "Epoch [18/20], Loss: 0.0001\n",
      "Epoch [19/20], Loss: 0.0000\n",
      "Epoch [20/20], Loss: 0.0001\n",
      "Train Set Accuracy: 100.00%, Correct: 1530, Total: 1530\n",
      "Test Set Accuracy: 95.88%, Correct: 163, Total: 170\n",
      "Fold 3\n",
      "-------\n",
      "Epoch [1/20], Loss: 17.6168\n",
      "Epoch [2/20], Loss: 3.6683\n",
      "Epoch [3/20], Loss: 0.6451\n",
      "Epoch [4/20], Loss: 0.2562\n",
      "Epoch [5/20], Loss: 0.0622\n",
      "Epoch [6/20], Loss: 0.0424\n",
      "Epoch [7/20], Loss: 0.0105\n",
      "Epoch [8/20], Loss: 0.0022\n",
      "Epoch [9/20], Loss: 0.0004\n",
      "Epoch [10/20], Loss: 0.0002\n",
      "Epoch [11/20], Loss: 0.0001\n",
      "Epoch [12/20], Loss: 0.0001\n",
      "Epoch [13/20], Loss: 0.0001\n",
      "Epoch [14/20], Loss: 0.0001\n",
      "Epoch [15/20], Loss: 0.0001\n",
      "Epoch [16/20], Loss: 0.0001\n",
      "Epoch [17/20], Loss: 0.0001\n",
      "Epoch [18/20], Loss: 0.0001\n",
      "Epoch [19/20], Loss: 0.0001\n",
      "Epoch [20/20], Loss: 0.0001\n",
      "Train Set Accuracy: 100.00%, Correct: 1530, Total: 1530\n",
      "Test Set Accuracy: 97.65%, Correct: 166, Total: 170\n",
      "Fold 4\n",
      "-------\n",
      "Epoch [1/20], Loss: 13.1965\n",
      "Epoch [2/20], Loss: 1.7675\n",
      "Epoch [3/20], Loss: 0.2429\n",
      "Epoch [4/20], Loss: 0.0836\n",
      "Epoch [5/20], Loss: 0.0281\n",
      "Epoch [6/20], Loss: 0.0032\n",
      "Epoch [7/20], Loss: 0.0028\n",
      "Epoch [8/20], Loss: 0.0011\n",
      "Epoch [9/20], Loss: 0.0004\n",
      "Epoch [10/20], Loss: 0.0003\n",
      "Epoch [11/20], Loss: 0.0002\n",
      "Epoch [12/20], Loss: 0.0002\n",
      "Epoch [13/20], Loss: 0.0002\n",
      "Epoch [14/20], Loss: 0.0002\n",
      "Epoch [15/20], Loss: 0.0001\n",
      "Epoch [16/20], Loss: 0.0001\n",
      "Epoch [17/20], Loss: 0.0001\n",
      "Epoch [18/20], Loss: 0.0001\n",
      "Epoch [19/20], Loss: 0.0001\n",
      "Epoch [20/20], Loss: 0.0001\n",
      "Train Set Accuracy: 100.00%, Correct: 1530, Total: 1530\n",
      "Test Set Accuracy: 98.24%, Correct: 167, Total: 170\n",
      "Fold 5\n",
      "-------\n",
      "Epoch [1/20], Loss: 5.3940\n",
      "Epoch [2/20], Loss: 0.8298\n",
      "Epoch [3/20], Loss: 0.2445\n",
      "Epoch [4/20], Loss: 0.0853\n",
      "Epoch [5/20], Loss: 0.0425\n",
      "Epoch [6/20], Loss: 0.0277\n",
      "Epoch [7/20], Loss: 0.0615\n",
      "Epoch [8/20], Loss: 0.0076\n",
      "Epoch [9/20], Loss: 0.0163\n",
      "Epoch [10/20], Loss: 0.0344\n",
      "Epoch [11/20], Loss: 0.0982\n",
      "Epoch [12/20], Loss: 0.0185\n",
      "Epoch [13/20], Loss: 0.0200\n",
      "Epoch [14/20], Loss: 0.0684\n",
      "Epoch [15/20], Loss: 0.2172\n",
      "Epoch [16/20], Loss: 0.0950\n",
      "Epoch [17/20], Loss: 0.0449\n",
      "Epoch [18/20], Loss: 0.0386\n",
      "Epoch [19/20], Loss: 0.0196\n",
      "Epoch [20/20], Loss: 0.0283\n",
      "Train Set Accuracy: 99.93%, Correct: 1529, Total: 1530\n",
      "Test Set Accuracy: 97.65%, Correct: 166, Total: 170\n",
      "Fold 6\n",
      "-------\n",
      "Epoch [1/20], Loss: 10.4900\n",
      "Epoch [2/20], Loss: 2.1180\n",
      "Epoch [3/20], Loss: 0.8686\n",
      "Epoch [4/20], Loss: 0.2212\n",
      "Epoch [5/20], Loss: 0.0590\n",
      "Epoch [6/20], Loss: 0.0104\n",
      "Epoch [7/20], Loss: 0.0034\n",
      "Epoch [8/20], Loss: 0.0023\n",
      "Epoch [9/20], Loss: 0.0039\n",
      "Epoch [10/20], Loss: 0.0017\n",
      "Epoch [11/20], Loss: 0.0004\n",
      "Epoch [12/20], Loss: 0.0002\n",
      "Epoch [13/20], Loss: 0.0000\n",
      "Epoch [14/20], Loss: 0.0001\n",
      "Epoch [15/20], Loss: 0.0000\n",
      "Epoch [16/20], Loss: 0.0000\n",
      "Epoch [17/20], Loss: 0.0000\n",
      "Epoch [18/20], Loss: 0.0000\n",
      "Epoch [19/20], Loss: 0.0000\n",
      "Epoch [20/20], Loss: 0.0000\n",
      "Train Set Accuracy: 100.00%, Correct: 1530, Total: 1530\n",
      "Test Set Accuracy: 99.41%, Correct: 169, Total: 170\n",
      "Fold 7\n",
      "-------\n",
      "Epoch [1/20], Loss: 19.3129\n",
      "Epoch [2/20], Loss: 2.8952\n",
      "Epoch [3/20], Loss: 0.5998\n",
      "Epoch [4/20], Loss: 0.1544\n",
      "Epoch [5/20], Loss: 0.1072\n",
      "Epoch [6/20], Loss: 0.0407\n",
      "Epoch [7/20], Loss: 0.0171\n",
      "Epoch [8/20], Loss: 0.0157\n",
      "Epoch [9/20], Loss: 0.0086\n",
      "Epoch [10/20], Loss: 0.0023\n",
      "Epoch [11/20], Loss: 0.0008\n",
      "Epoch [12/20], Loss: 0.0006\n",
      "Epoch [13/20], Loss: 0.0004\n",
      "Epoch [14/20], Loss: 0.0003\n",
      "Epoch [15/20], Loss: 0.0002\n",
      "Epoch [16/20], Loss: 0.0002\n",
      "Epoch [17/20], Loss: 0.0002\n",
      "Epoch [18/20], Loss: 0.0002\n",
      "Epoch [19/20], Loss: 0.0002\n",
      "Epoch [20/20], Loss: 0.0002\n",
      "Train Set Accuracy: 100.00%, Correct: 1530, Total: 1530\n",
      "Test Set Accuracy: 98.24%, Correct: 167, Total: 170\n",
      "Fold 8\n",
      "-------\n",
      "Epoch [1/20], Loss: 6.7351\n",
      "Epoch [2/20], Loss: 0.7160\n",
      "Epoch [3/20], Loss: 0.2025\n",
      "Epoch [4/20], Loss: 0.0848\n",
      "Epoch [5/20], Loss: 0.0218\n",
      "Epoch [6/20], Loss: 0.1029\n",
      "Epoch [7/20], Loss: 0.2587\n",
      "Epoch [8/20], Loss: 0.1025\n",
      "Epoch [9/20], Loss: 0.0759\n",
      "Epoch [10/20], Loss: 0.3539\n",
      "Epoch [11/20], Loss: 0.1132\n",
      "Epoch [12/20], Loss: 0.0323\n",
      "Epoch [13/20], Loss: 0.0039\n",
      "Epoch [14/20], Loss: 0.0063\n",
      "Epoch [15/20], Loss: 0.0003\n",
      "Epoch [16/20], Loss: 0.0109\n",
      "Epoch [17/20], Loss: 0.0006\n",
      "Epoch [18/20], Loss: 0.0106\n",
      "Epoch [19/20], Loss: 0.0005\n",
      "Epoch [20/20], Loss: 0.0002\n",
      "Train Set Accuracy: 100.00%, Correct: 1530, Total: 1530\n",
      "Test Set Accuracy: 100.00%, Correct: 170, Total: 170\n",
      "Fold 9\n",
      "-------\n",
      "Epoch [1/20], Loss: 10.1948\n",
      "Epoch [2/20], Loss: 0.9926\n",
      "Epoch [3/20], Loss: 0.3239\n",
      "Epoch [4/20], Loss: 0.1621\n",
      "Epoch [5/20], Loss: 0.0562\n",
      "Epoch [6/20], Loss: 0.0280\n",
      "Epoch [7/20], Loss: 0.0647\n",
      "Epoch [8/20], Loss: 0.0349\n",
      "Epoch [9/20], Loss: 0.0077\n",
      "Epoch [10/20], Loss: 0.0007\n",
      "Epoch [11/20], Loss: 0.0007\n",
      "Epoch [12/20], Loss: 0.0001\n",
      "Epoch [13/20], Loss: 0.0001\n",
      "Epoch [14/20], Loss: 0.0000\n",
      "Epoch [15/20], Loss: 0.0000\n",
      "Epoch [16/20], Loss: 0.0000\n",
      "Epoch [17/20], Loss: 0.0000\n",
      "Epoch [18/20], Loss: 0.0000\n",
      "Epoch [19/20], Loss: 0.0000\n",
      "Epoch [20/20], Loss: 0.0000\n",
      "Train Set Accuracy: 100.00%, Correct: 1530, Total: 1530\n",
      "Test Set Accuracy: 98.82%, Correct: 168, Total: 170\n",
      "Fold 10\n",
      "-------\n",
      "Epoch [1/20], Loss: 16.0652\n",
      "Epoch [2/20], Loss: 1.5519\n",
      "Epoch [3/20], Loss: 0.6871\n",
      "Epoch [4/20], Loss: 0.3056\n",
      "Epoch [5/20], Loss: 0.2927\n",
      "Epoch [6/20], Loss: 0.0992\n",
      "Epoch [7/20], Loss: 0.0368\n",
      "Epoch [8/20], Loss: 0.0118\n",
      "Epoch [9/20], Loss: 0.0058\n",
      "Epoch [10/20], Loss: 0.0112\n",
      "Epoch [11/20], Loss: 0.0302\n",
      "Epoch [12/20], Loss: 0.0080\n",
      "Epoch [13/20], Loss: 0.0006\n",
      "Epoch [14/20], Loss: 0.0017\n",
      "Epoch [15/20], Loss: 0.0062\n",
      "Epoch [16/20], Loss: 0.0025\n",
      "Epoch [17/20], Loss: 0.0173\n",
      "Epoch [18/20], Loss: 0.0131\n",
      "Epoch [19/20], Loss: 0.0192\n",
      "Epoch [20/20], Loss: 0.0113\n",
      "Train Set Accuracy: 99.93%, Correct: 1529, Total: 1530\n",
      "Test Set Accuracy: 97.65%, Correct: 166, Total: 170\n"
     ]
    }
   ],
   "source": [
    "for fold, (train_idx, test_idx) in enumerate(kf.split(cross_dataset)):\n",
    "    print(f\"Fold {fold + 1}\")\n",
    "    print(\"-------\")\n",
    "    \n",
    "    epoch  = 20\n",
    "    \n",
    "    # Define the data loaders for the current fold\n",
    "    train_loader = DataLoader(\n",
    "        dataset=cross_dataset,\n",
    "        batch_size=64,\n",
    "        sampler=torch.utils.data.SubsetRandomSampler(train_idx),\n",
    "    )\n",
    "    test_loader = DataLoader(\n",
    "        dataset=cross_dataset,\n",
    "        batch_size=64,\n",
    "        sampler=torch.utils.data.SubsetRandomSampler(test_idx),\n",
    "    )\n",
    "\n",
    "    # Initialize the model and optimizer\n",
    "    model = ImageClassifier_V2().to(device)\n",
    "    criterion = nn.CrossEntropyLoss()\n",
    "    optimizer = optim.Adam(model.parameters(), lr=0.0001)\n",
    "\n",
    "    # Train the model on the current fold\n",
    "    train_accuracy,test_accuracy = train_test(model, device, train_loader,test_loader, optimizer,criterion, epoch)\n",
    "        \n",
    "    # Append accuracies to lists\n",
    "    train_accuracies_V2_1.append(train_accuracy)\n",
    "    test_accuracies_V2_1.append(test_accuracy)"
   ]
  },
  {
   "cell_type": "code",
   "execution_count": null,
   "id": "0737a6fd-b523-4cce-b6e8-102a9981ef60",
   "metadata": {
    "tags": []
   },
   "outputs": [
    {
     "name": "stdout",
     "output_type": "stream",
     "text": [
      "Average Train Set Accuracy: 99.99%\n",
      "Average Test Set Accuracy: 98.12%\n"
     ]
    }
   ],
   "source": [
    "# Calculate average accuracies\n",
    "avg_train_accuracy = np.mean(train_accuracies_V2_1)\n",
    "avg_test_accuracy = np.mean(test_accuracies_V2_1)\n",
    "\n",
    "print(f\"Average Train Set Accuracy: {avg_train_accuracy:.2f}%\")\n",
    "print(f\"Average Test Set Accuracy: {avg_test_accuracy:.2f}%\")"
   ]
  },
  {
   "cell_type": "markdown",
   "id": "d7eb7573-0923-4028-9327-1eb85bbb1b42",
   "metadata": {},
   "source": [
    "#### Check on validation set"
   ]
  },
  {
   "cell_type": "code",
   "execution_count": null,
   "id": "614b3b83-3b54-4da3-9b02-965d9b1d4fa2",
   "metadata": {
    "tags": []
   },
   "outputs": [
    {
     "name": "stdout",
     "output_type": "stream",
     "text": [
      "Validation Set Accuracy: 98.00%, Correct: 98, Total: 100\n"
     ]
    }
   ],
   "source": [
    "validation_accuracy, validation_correct, validation_total = check_accuracy(validation_loader, model)\n",
    "\n",
    "print(f\"Validation Set Accuracy: {validation_accuracy:.2f}%, Correct: {validation_correct}, Total: {validation_total}\")"
   ]
  }
 ],
 "metadata": {
  "colab": {
   "collapsed_sections": [
    "4CvUl3s6fOET"
   ],
   "provenance": []
  },
  "kernelspec": {
   "display_name": "PyTorch 2.0 (Local)",
   "language": "python",
   "name": "pytorch-2-0"
  },
  "language_info": {
   "codemirror_mode": {
    "name": "ipython",
    "version": 3
   },
   "file_extension": ".py",
   "mimetype": "text/x-python",
   "name": "python",
   "nbconvert_exporter": "python",
   "pygments_lexer": "ipython3",
   "version": "3.10.13"
  }
 },
 "nbformat": 4,
 "nbformat_minor": 5
}
