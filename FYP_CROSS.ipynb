{
 "cells": [
  {
   "cell_type": "markdown",
   "id": "EBPvaANLadO3",
   "metadata": {
    "id": "EBPvaANLadO3",
    "jp-MarkdownHeadingCollapsed": true,
    "tags": []
   },
   "source": [
    "# Imports"
   ]
  },
  {
   "cell_type": "code",
   "execution_count": 2,
   "id": "06e33a7e-aaf0-4e6d-9e19-6c2a94c81a1f",
   "metadata": {
    "tags": []
   },
   "outputs": [
    {
     "name": "stdout",
     "output_type": "stream",
     "text": [
      "Collecting opencv-python-headless\n",
      "  Using cached opencv_python_headless-4.9.0.80-cp37-abi3-manylinux_2_17_x86_64.manylinux2014_x86_64.whl.metadata (20 kB)\n",
      "Requirement already satisfied: numpy>=1.21.2 in /opt/conda/lib/python3.10/site-packages (from opencv-python-headless) (1.25.2)\n",
      "Using cached opencv_python_headless-4.9.0.80-cp37-abi3-manylinux_2_17_x86_64.manylinux2014_x86_64.whl (49.6 MB)\n",
      "Installing collected packages: opencv-python-headless\n",
      "Successfully installed opencv-python-headless-4.9.0.80\n",
      "Note: you may need to restart the kernel to use updated packages.\n"
     ]
    }
   ],
   "source": [
    "pip install opencv-python-headless"
   ]
  },
  {
   "cell_type": "code",
   "execution_count": 4,
   "id": "88b6d2c3-27cb-4926-884e-50077acfa8d9",
   "metadata": {
    "tags": []
   },
   "outputs": [
    {
     "name": "stdout",
     "output_type": "stream",
     "text": [
      "Collecting albumentations\n",
      "  Using cached albumentations-1.4.3-py3-none-any.whl.metadata (37 kB)\n",
      "Requirement already satisfied: numpy>=1.24.4 in /opt/conda/lib/python3.10/site-packages (from albumentations) (1.25.2)\n",
      "Requirement already satisfied: scipy>=1.10.0 in /opt/conda/lib/python3.10/site-packages (from albumentations) (1.11.4)\n",
      "Requirement already satisfied: scikit-image>=0.21.0 in /opt/conda/lib/python3.10/site-packages (from albumentations) (0.22.0)\n",
      "Requirement already satisfied: PyYAML in /opt/conda/lib/python3.10/site-packages (from albumentations) (6.0.1)\n",
      "Requirement already satisfied: typing-extensions>=4.9.0 in /opt/conda/lib/python3.10/site-packages (from albumentations) (4.10.0)\n",
      "Requirement already satisfied: scikit-learn>=1.3.2 in /opt/conda/lib/python3.10/site-packages (from albumentations) (1.4.1.post1)\n",
      "Requirement already satisfied: opencv-python-headless>=4.9.0 in /opt/conda/lib/python3.10/site-packages (from albumentations) (4.9.0.80)\n",
      "Requirement already satisfied: networkx>=2.8 in /opt/conda/lib/python3.10/site-packages (from scikit-image>=0.21.0->albumentations) (3.2.1)\n",
      "Requirement already satisfied: pillow>=9.0.1 in /opt/conda/lib/python3.10/site-packages (from scikit-image>=0.21.0->albumentations) (10.2.0)\n",
      "Requirement already satisfied: imageio>=2.27 in /opt/conda/lib/python3.10/site-packages (from scikit-image>=0.21.0->albumentations) (2.34.0)\n",
      "Requirement already satisfied: tifffile>=2022.8.12 in /opt/conda/lib/python3.10/site-packages (from scikit-image>=0.21.0->albumentations) (2024.2.12)\n",
      "Requirement already satisfied: packaging>=21 in /opt/conda/lib/python3.10/site-packages (from scikit-image>=0.21.0->albumentations) (24.0)\n",
      "Requirement already satisfied: lazy_loader>=0.3 in /opt/conda/lib/python3.10/site-packages (from scikit-image>=0.21.0->albumentations) (0.3)\n",
      "Requirement already satisfied: joblib>=1.2.0 in /opt/conda/lib/python3.10/site-packages (from scikit-learn>=1.3.2->albumentations) (1.3.2)\n",
      "Requirement already satisfied: threadpoolctl>=2.0.0 in /opt/conda/lib/python3.10/site-packages (from scikit-learn>=1.3.2->albumentations) (3.3.0)\n",
      "Using cached albumentations-1.4.3-py3-none-any.whl (137 kB)\n",
      "Installing collected packages: albumentations\n",
      "Successfully installed albumentations-1.4.3\n",
      "Note: you may need to restart the kernel to use updated packages.\n"
     ]
    }
   ],
   "source": [
    "pip install albumentations"
   ]
  },
  {
   "cell_type": "code",
   "execution_count": 5,
   "id": "a2acf731-3c8f-4152-8457-a3feedd86695",
   "metadata": {
    "tags": []
   },
   "outputs": [],
   "source": [
    "import torch\n",
    "import cv2\n",
    "import shutil\n",
    "import os\n",
    "import zipfile\n",
    "import gzip\n",
    "import random\n",
    "from pprint import pprint\n",
    "\n",
    "from sklearn.model_selection import train_test_split\n",
    "\n",
    "import torchvision.transforms as transforms\n",
    "from torchvision.datasets import ImageFolder\n",
    "from torchvision.transforms import ToTensor\n",
    "import torchvision.transforms.functional as TF\n",
    "import torchvision.models as models\n",
    "\n",
    "from torch.utils.data import Dataset\n",
    "from torch.utils.data import DataLoader\n",
    "import torch.nn as nn\n",
    "import torch.optim as optim\n",
    "\n",
    "import albumentations as A\n",
    "from albumentations.pytorch import ToTensorV2\n",
    "\n",
    "from sklearn.preprocessing import LabelEncoder\n",
    "from sklearn.model_selection import KFold\n",
    "\n",
    "import numpy as np\n",
    "import matplotlib.pyplot as plt\n",
    "import random"
   ]
  },
  {
   "cell_type": "markdown",
   "id": "2ee6f16f-05fd-41cd-81b5-7875513a5032",
   "metadata": {
    "tags": []
   },
   "source": [
    "## Unzipping the dataset"
   ]
  },
  {
   "cell_type": "markdown",
   "id": "5d24c8d5-ae15-40d4-974d-3c7221344bb9",
   "metadata": {
    "tags": []
   },
   "source": [
    "### DONT USE UNTIL PORTING A NEW DATASET"
   ]
  },
  {
   "cell_type": "code",
   "execution_count": null,
   "id": "yb5zCzk2pOVv",
   "metadata": {
    "colab": {
     "base_uri": "https://localhost:8080/"
    },
    "executionInfo": {
     "elapsed": 1051,
     "status": "ok",
     "timestamp": 1710291501576,
     "user": {
      "displayName": "",
      "userId": ""
     },
     "user_tz": 0
    },
    "id": "yb5zCzk2pOVv",
    "outputId": "0c6b2a32-f147-47bf-8a8b-6db099dd424d",
    "tags": []
   },
   "outputs": [],
   "source": [
    "directory_to_remove = 'data_cloud_final/data_cloud_final/imgs/train_set'\n",
    "\n",
    "try:\n",
    "    shutil.rmtree(directory_to_remove)\n",
    "    print(f\"Directory '{directory_to_remove}' successfully removed.\")\n",
    "except OSError as e:\n",
    "    print(f\"Error: {directory_to_remove} : {e.strerror}\")"
   ]
  },
  {
   "cell_type": "code",
   "execution_count": null,
   "id": "8uaQG_XKsouR",
   "metadata": {
    "colab": {
     "base_uri": "https://localhost:8080/"
    },
    "executionInfo": {
     "elapsed": 150,
     "status": "ok",
     "timestamp": 1710291532134,
     "user": {
      "displayName": "",
      "userId": ""
     },
     "user_tz": 0
    },
    "id": "8uaQG_XKsouR",
    "outputId": "beb4cdaf-0ac8-4527-e533-564bc82d8c7f",
    "tags": []
   },
   "outputs": [],
   "source": [
    "current_directory = os.getcwd()\n",
    "print(\"Current working directory:\", current_directory)\n",
    "\n",
    "# Change the working directory to the parent directory\n",
    "os.chdir('..')\n",
    "\n",
    "# Verify the change\n",
    "new_directory = os.getcwd()\n",
    "print(\"New working directory:\", new_directory)"
   ]
  },
  {
   "cell_type": "code",
   "execution_count": 33,
   "id": "RqgOperxU4Uq",
   "metadata": {
    "colab": {
     "base_uri": "https://localhost:8080/"
    },
    "executionInfo": {
     "elapsed": 8797,
     "status": "ok",
     "timestamp": 1710291545625,
     "user": {
      "displayName": "",
      "userId": ""
     },
     "user_tz": 0
    },
    "id": "RqgOperxU4Uq",
    "outputId": "df38980d-7e9f-425c-a628-95fee4f4ec89",
    "tags": []
   },
   "outputs": [
    {
     "name": "stdout",
     "output_type": "stream",
     "text": [
      "Files unzipped successfully.\n"
     ]
    }
   ],
   "source": [
    "# Path to your ZIP file\n",
    "zip_file = \"data_cloud_final.zip\"\n",
    "destination_folder = \"data_cloud_final\"\n",
    "\n",
    "try:\n",
    "    # Create the destination folder if it doesn't exist\n",
    "    if not os.path.exists(destination_folder):\n",
    "        os.makedirs(destination_folder)\n",
    "\n",
    "        # Unzip the contents of the gzip file\n",
    "        with zipfile.ZipFile(zip_file, 'r') as zip_ref:\n",
    "            zip_ref.extractall(destination_folder)\n",
    "\n",
    "        print(\"Files unzipped successfully.\")\n",
    "    else:\n",
    "        print(\"Destination folder already exists. Skipping extraction.\")\n",
    "except Exception as e:\n",
    "    print(f\"Error: {e}\")"
   ]
  },
  {
   "cell_type": "markdown",
   "id": "ca9ea696-83dd-46ba-ac84-37f2b9d440fe",
   "metadata": {
    "jp-MarkdownHeadingCollapsed": true,
    "tags": []
   },
   "source": [
    "# Original Data check"
   ]
  },
  {
   "cell_type": "code",
   "execution_count": 34,
   "id": "O4R8fSj1VVli",
   "metadata": {
    "executionInfo": {
     "elapsed": 20,
     "status": "ok",
     "timestamp": 1710291545626,
     "user": {
      "displayName": "",
      "userId": ""
     },
     "user_tz": 0
    },
    "id": "O4R8fSj1VVli",
    "tags": []
   },
   "outputs": [],
   "source": [
    "imgs = r'data_cloud_final/data_cloud_final/imgs/train'"
   ]
  },
  {
   "cell_type": "code",
   "execution_count": 51,
   "id": "i7C6wIZlWn0z",
   "metadata": {
    "colab": {
     "base_uri": "https://localhost:8080/"
    },
    "executionInfo": {
     "elapsed": 19,
     "status": "ok",
     "timestamp": 1710291545626,
     "user": {
      "displayName": "",
      "userId": ""
     },
     "user_tz": 0
    },
    "id": "i7C6wIZlWn0z",
    "outputId": "dc0f5357-0222-4d34-e6d1-d0433dd9c3c7",
    "tags": []
   },
   "outputs": [
    {
     "name": "stdout",
     "output_type": "stream",
     "text": [
      "['data_cloud_final/data_cloud_final/imgs/train/YES', 'data_cloud_final/data_cloud_final/imgs/train/NO', 'data_cloud_final/data_cloud_final/imgs/train/.ipynb_checkpoints']\n"
     ]
    }
   ],
   "source": [
    "# Number of images to pick from each subfolder\n",
    "num_images_to_train_test = 100\n",
    "\n",
    "# Get the list of subfolders in the main directory\n",
    "subfolders = [f.path for f in os.scandir(imgs) if f.is_dir()]\n",
    "print(subfolders)"
   ]
  },
  {
   "cell_type": "code",
   "execution_count": 52,
   "id": "dcQ0taVJWrz3",
   "metadata": {
    "colab": {
     "base_uri": "https://localhost:8080/",
     "height": 35
    },
    "executionInfo": {
     "elapsed": 18,
     "status": "ok",
     "timestamp": 1710291545626,
     "user": {
      "displayName": "",
      "userId": ""
     },
     "user_tz": 0
    },
    "id": "dcQ0taVJWrz3",
    "outputId": "0648b7ff-fcfb-4f00-ef6a-5c7dda22bb31",
    "tags": []
   },
   "outputs": [
    {
     "data": {
      "text/plain": [
       "'data_cloud_final/data_cloud_final/imgs/train/YES'"
      ]
     },
     "execution_count": 52,
     "metadata": {},
     "output_type": "execute_result"
    }
   ],
   "source": [
    "yes_subfolder = subfolders[0]\n",
    "yes_subfolder"
   ]
  },
  {
   "cell_type": "code",
   "execution_count": 53,
   "id": "js8eewr5WysR",
   "metadata": {
    "colab": {
     "base_uri": "https://localhost:8080/"
    },
    "executionInfo": {
     "elapsed": 17,
     "status": "ok",
     "timestamp": 1710291545626,
     "user": {
      "displayName": "",
      "userId": ""
     },
     "user_tz": 0
    },
    "id": "js8eewr5WysR",
    "outputId": "06329d86-9219-44fa-9914-ed78017cd2ab",
    "tags": []
   },
   "outputs": [
    {
     "data": {
      "text/plain": [
       "['data_cloud_final/data_cloud_final/imgs/train/YES/c3',\n",
       " 'data_cloud_final/data_cloud_final/imgs/train/YES/c1',\n",
       " 'data_cloud_final/data_cloud_final/imgs/train/YES/c6',\n",
       " 'data_cloud_final/data_cloud_final/imgs/train/YES/c7',\n",
       " 'data_cloud_final/data_cloud_final/imgs/train/YES/c4',\n",
       " 'data_cloud_final/data_cloud_final/imgs/train/YES/c5',\n",
       " 'data_cloud_final/data_cloud_final/imgs/train/YES/c2',\n",
       " 'data_cloud_final/data_cloud_final/imgs/train/YES/c8',\n",
       " 'data_cloud_final/data_cloud_final/imgs/train/YES/c9']"
      ]
     },
     "execution_count": 53,
     "metadata": {},
     "output_type": "execute_result"
    }
   ],
   "source": [
    "yes_subfolder_subfolder = [f.path for f in os.scandir(yes_subfolder) if f.is_dir()]\n",
    "yes_subfolder_subfolder"
   ]
  },
  {
   "cell_type": "code",
   "execution_count": 54,
   "id": "sgYytBMvW0oW",
   "metadata": {
    "colab": {
     "base_uri": "https://localhost:8080/",
     "height": 35
    },
    "executionInfo": {
     "elapsed": 15,
     "status": "ok",
     "timestamp": 1710291545626,
     "user": {
      "displayName": "",
      "userId": ""
     },
     "user_tz": 0
    },
    "id": "sgYytBMvW0oW",
    "outputId": "af7e5d9b-403c-4317-dbc7-34af47c71b88",
    "tags": []
   },
   "outputs": [
    {
     "data": {
      "text/plain": [
       "'data_cloud_final/data_cloud_final/imgs/train/NO'"
      ]
     },
     "execution_count": 54,
     "metadata": {},
     "output_type": "execute_result"
    }
   ],
   "source": [
    "no_subfolder=subfolders[1]\n",
    "no_subfolder"
   ]
  },
  {
   "cell_type": "code",
   "execution_count": 55,
   "id": "iNYu8-zy-TXQ",
   "metadata": {
    "colab": {
     "base_uri": "https://localhost:8080/"
    },
    "executionInfo": {
     "elapsed": 13,
     "status": "ok",
     "timestamp": 1710291545626,
     "user": {
      "displayName": "",
      "userId": ""
     },
     "user_tz": 0
    },
    "id": "iNYu8-zy-TXQ",
    "outputId": "4997de0c-93d6-4e59-e532-ef1e2ec3cea8",
    "tags": []
   },
   "outputs": [
    {
     "data": {
      "text/plain": [
       "['data_cloud_final/data_cloud_final/imgs/train/NO/c0']"
      ]
     },
     "execution_count": 55,
     "metadata": {},
     "output_type": "execute_result"
    }
   ],
   "source": [
    "no_subfolder_subfolder = [f.path for f in os.scandir(no_subfolder) if f.is_dir()]\n",
    "no_subfolder_subfolder"
   ]
  },
  {
   "cell_type": "code",
   "execution_count": 56,
   "id": "nRc9PBUaW178",
   "metadata": {
    "executionInfo": {
     "elapsed": 12,
     "status": "ok",
     "timestamp": 1710291545627,
     "user": {
      "displayName": "",
      "userId": ""
     },
     "user_tz": 0
    },
    "id": "nRc9PBUaW178",
    "tags": []
   },
   "outputs": [],
   "source": [
    "images_yes = []\n",
    "\n",
    "for subfolder in yes_subfolder_subfolder:\n",
    "    files = [f.path for f in os.scandir(subfolder) if f.is_file() and f.name.endswith('.jpg')]\n",
    "    images_yes.extend(files)"
   ]
  },
  {
   "cell_type": "code",
   "execution_count": 57,
   "id": "hHivO3FiW3bA",
   "metadata": {
    "colab": {
     "base_uri": "https://localhost:8080/"
    },
    "executionInfo": {
     "elapsed": 12,
     "status": "ok",
     "timestamp": 1710291545627,
     "user": {
      "displayName": "",
      "userId": ""
     },
     "user_tz": 0
    },
    "id": "hHivO3FiW3bA",
    "outputId": "0cb0003e-d942-4058-b47a-49f6532cd2b6",
    "tags": []
   },
   "outputs": [
    {
     "data": {
      "text/plain": [
       "2259"
      ]
     },
     "execution_count": 57,
     "metadata": {},
     "output_type": "execute_result"
    }
   ],
   "source": [
    "len(images_yes)"
   ]
  },
  {
   "cell_type": "code",
   "execution_count": 58,
   "id": "uBW8JpTBZLz-",
   "metadata": {
    "executionInfo": {
     "elapsed": 100,
     "status": "ok",
     "timestamp": 1710291549239,
     "user": {
      "displayName": "",
      "userId": ""
     },
     "user_tz": 0
    },
    "id": "uBW8JpTBZLz-",
    "tags": []
   },
   "outputs": [],
   "source": [
    "image_no=[]\n",
    "\n",
    "for subfolder in no_subfolder_subfolder:\n",
    "    files = [f.path for f in os.scandir(subfolder) if f.is_file() and f.name.endswith('.jpg')]\n",
    "    image_no.extend(files)"
   ]
  },
  {
   "cell_type": "code",
   "execution_count": 59,
   "id": "dkzRqdkZaE_c",
   "metadata": {
    "colab": {
     "base_uri": "https://localhost:8080/"
    },
    "executionInfo": {
     "elapsed": 124,
     "status": "ok",
     "timestamp": 1710291549882,
     "user": {
      "displayName": "",
      "userId": ""
     },
     "user_tz": 0
    },
    "id": "dkzRqdkZaE_c",
    "outputId": "a3956895-c196-40ff-d56a-da0e938c2b56",
    "tags": []
   },
   "outputs": [
    {
     "data": {
      "text/plain": [
       "2259"
      ]
     },
     "execution_count": 59,
     "metadata": {},
     "output_type": "execute_result"
    }
   ],
   "source": [
    "len(image_no)"
   ]
  },
  {
   "cell_type": "markdown",
   "id": "wxD1H7YMaVyv",
   "metadata": {
    "id": "wxD1H7YMaVyv",
    "jp-MarkdownHeadingCollapsed": true,
    "tags": []
   },
   "source": [
    "# Training set creation {Balanced}"
   ]
  },
  {
   "cell_type": "code",
   "execution_count": 60,
   "id": "767b2be0-345d-43a7-8740-7f461655e7d9",
   "metadata": {
    "tags": []
   },
   "outputs": [],
   "source": [
    "def count_jpg_files_in_directory(path):\n",
    "    # Initialize a counter\n",
    "    jpg_count = 0\n",
    "\n",
    "    # Walk through the directory and count JPG files\n",
    "    for root, dirs, files in os.walk(path):\n",
    "        for file in files:\n",
    "            if file.lower().endswith('.jpg'):\n",
    "                jpg_count += 1\n",
    "\n",
    "    return jpg_count"
   ]
  },
  {
   "cell_type": "markdown",
   "id": "4tN4D_RLayvy",
   "metadata": {
    "id": "4tN4D_RLayvy"
   },
   "source": [
    "### NO"
   ]
  },
  {
   "cell_type": "code",
   "execution_count": 61,
   "id": "c2ePhEN4akSC",
   "metadata": {
    "colab": {
     "base_uri": "https://localhost:8080/"
    },
    "executionInfo": {
     "elapsed": 447,
     "status": "ok",
     "timestamp": 1710291558729,
     "user": {
      "displayName": "",
      "userId": ""
     },
     "user_tz": 0
    },
    "id": "c2ePhEN4akSC",
    "outputId": "37ab5c27-596f-46ac-d368-7f34b218a8ba",
    "tags": []
   },
   "outputs": [
    {
     "name": "stdout",
     "output_type": "stream",
     "text": [
      "100 images from each subfolder have been copied to training_set/.\n"
     ]
    }
   ],
   "source": [
    "# Pick the specified number of images\n",
    "selected_images_train = random.sample(image_no, num_images_to_train_test)\n",
    "\n",
    "# make destination directory\n",
    "destination_dir_train = r'training_set/'\n",
    "\n",
    "# Remove existing directories and create new ones\n",
    "shutil.rmtree(destination_dir_train, ignore_errors=True)\n",
    "os.makedirs(destination_dir_train)\n",
    "\n",
    "for image_path in selected_images_train:\n",
    "    # Create the destination subfolder structure in the destination directory\n",
    "    relative_path = os.path.relpath(image_path, imgs)\n",
    "    relative_path = relative_path.replace(\"/c0\",\"\")\n",
    "    destination_path = os.path.join(destination_dir_train, relative_path)\n",
    "    os.makedirs(os.path.dirname(destination_path), exist_ok=True)\n",
    "    # Copy the image\n",
    "    shutil.copyfile(image_path, destination_path)\n",
    "\n",
    "print(f\"{num_images_to_train_test} images from each subfolder have been copied to {destination_dir_train}.\")"
   ]
  },
  {
   "cell_type": "code",
   "execution_count": 63,
   "id": "b4e05e37-dfb4-4949-8d69-e7bbdcff3973",
   "metadata": {
    "tags": []
   },
   "outputs": [
    {
     "name": "stdout",
     "output_type": "stream",
     "text": [
      "Number of NO images in directory: 100\n"
     ]
    }
   ],
   "source": [
    "path = r'training_set/NO'\n",
    "file_count = count_jpg_files_in_directory(path)\n",
    "print(\"Number of NO images in directory:\", file_count)"
   ]
  },
  {
   "cell_type": "markdown",
   "id": "pV-nQGk7bEnZ",
   "metadata": {
    "id": "pV-nQGk7bEnZ"
   },
   "source": [
    "### YES"
   ]
  },
  {
   "cell_type": "code",
   "execution_count": 66,
   "id": "BrcP4Uw1bG6v",
   "metadata": {
    "colab": {
     "base_uri": "https://localhost:8080/"
    },
    "executionInfo": {
     "elapsed": 284,
     "status": "ok",
     "timestamp": 1710291562218,
     "user": {
      "displayName": "",
      "userId": ""
     },
     "user_tz": 0
    },
    "id": "BrcP4Uw1bG6v",
    "outputId": "3b91a9ea-5a6d-4084-f33e-2365e4000f3c",
    "tags": []
   },
   "outputs": [
    {
     "name": "stdout",
     "output_type": "stream",
     "text": [
      "11 images from  data_cloud_final/data_cloud_final/imgs/train/YES/c3 have been copied to training_set/.\n",
      "11 images from  data_cloud_final/data_cloud_final/imgs/train/YES/c1 have been copied to training_set/.\n",
      "11 images from  data_cloud_final/data_cloud_final/imgs/train/YES/c6 have been copied to training_set/.\n",
      "11 images from  data_cloud_final/data_cloud_final/imgs/train/YES/c7 have been copied to training_set/.\n",
      "11 images from  data_cloud_final/data_cloud_final/imgs/train/YES/c4 have been copied to training_set/.\n",
      "11 images from  data_cloud_final/data_cloud_final/imgs/train/YES/c5 have been copied to training_set/.\n",
      "11 images from  data_cloud_final/data_cloud_final/imgs/train/YES/c2 have been copied to training_set/.\n",
      "11 images from  data_cloud_final/data_cloud_final/imgs/train/YES/c8 have been copied to training_set/.\n",
      "11 images from  data_cloud_final/data_cloud_final/imgs/train/YES/c9 have been copied to training_set/.\n"
     ]
    }
   ],
   "source": [
    "for folder in yes_subfolder_subfolder:\n",
    "\n",
    "    images = [f.path for f in os.scandir(folder) if f.is_file() and f.name.endswith(('.jpg'))]\n",
    "    # print(images[:3])\n",
    "    # Pick the specified number of images\n",
    "    selected_images_train = random.sample(images, int(num_images_to_train_test / 9))\n",
    "\n",
    "    # make destination directory\n",
    "    destination_dir_train = r'training_set/'\n",
    "\n",
    "    os.makedirs(destination_dir_train,exist_ok=True)\n",
    "\n",
    "    for image_path in selected_images_train:\n",
    "        # Create the destination subfolder structure in the destination directory\n",
    "        relative_path = os.path.relpath(image_path, imgs)\n",
    "\n",
    "         # Define the list of 'cX' values to replace\n",
    "        c_values_to_replace = [f'/c{i}' for i in range(10)]\n",
    "\n",
    "        # Remove 'cX' values from the relative_path\n",
    "        for c_value in c_values_to_replace:\n",
    "            relative_path = relative_path.replace(c_value, '')\n",
    "\n",
    "        destination_path = os.path.join(destination_dir_train, relative_path)\n",
    "        os.makedirs(os.path.dirname(destination_path), exist_ok=True)\n",
    "        # Copy the image\n",
    "        shutil.copyfile(image_path, destination_path)\n",
    "\n",
    "    print(f\"{int(num_images_to_train_test / 9)} images from  {folder} have been copied to {destination_dir_train}.\")"
   ]
  },
  {
   "cell_type": "code",
   "execution_count": 67,
   "id": "69f063b3-8a43-409d-ba69-33a21d0fd315",
   "metadata": {
    "tags": []
   },
   "outputs": [
    {
     "name": "stdout",
     "output_type": "stream",
     "text": [
      "Number of YES images in directory: 99\n"
     ]
    }
   ],
   "source": [
    "path = r'training_set/YES'\n",
    "file_count = count_jpg_files_in_directory(path)\n",
    "print(\"Number of YES images in directory:\", file_count)"
   ]
  },
  {
   "cell_type": "markdown",
   "id": "4eWw9fvGbfEt",
   "metadata": {
    "id": "4eWw9fvGbfEt",
    "tags": []
   },
   "source": [
    "# Loading Images"
   ]
  },
  {
   "cell_type": "code",
   "execution_count": 68,
   "id": "eXl9h4ZFbjgl",
   "metadata": {
    "colab": {
     "base_uri": "https://localhost:8080/"
    },
    "executionInfo": {
     "elapsed": 792,
     "status": "ok",
     "timestamp": 1710291566697,
     "user": {
      "displayName": "",
      "userId": ""
     },
     "user_tz": 0
    },
    "id": "eXl9h4ZFbjgl",
    "outputId": "584bd064-41d3-4f52-c6dc-1cf81ba35d47",
    "tags": []
   },
   "outputs": [],
   "source": [
    "# Define the directory path\n",
    "directory = 'training_set/'\n",
    "\n",
    "# Function to recursively find image files in subfolders\n",
    "def find_images(directory):\n",
    "    image_files = []\n",
    "    for root, dirs, files in os.walk(directory):\n",
    "        for file in files:\n",
    "            # Check if the file has an image extension\n",
    "            if file.lower().endswith(('.png', '.jpg', '.jpeg', '.gif', '.bmp')):\n",
    "                image_files.append(os.path.join(root, file))\n",
    "    return image_files\n",
    "\n",
    "# Find all image files in subfolders\n",
    "all_image_paths = find_images(directory)"
   ]
  },
  {
   "cell_type": "code",
   "execution_count": 69,
   "id": "KlskbvCxbtN1",
   "metadata": {
    "executionInfo": {
     "elapsed": 130,
     "status": "ok",
     "timestamp": 1710291570149,
     "user": {
      "displayName": "",
      "userId": ""
     },
     "user_tz": 0
    },
    "id": "KlskbvCxbtN1",
    "tags": []
   },
   "outputs": [],
   "source": [
    "all_image_paths_sorted = sorted(all_image_paths)"
   ]
  },
  {
   "cell_type": "code",
   "execution_count": 70,
   "id": "5z0S5fwlc5GL",
   "metadata": {
    "colab": {
     "base_uri": "https://localhost:8080/"
    },
    "executionInfo": {
     "elapsed": 215,
     "status": "ok",
     "timestamp": 1710291570798,
     "user": {
      "displayName": "",
      "userId": ""
     },
     "user_tz": 0
    },
    "id": "5z0S5fwlc5GL",
    "outputId": "5af77681-e853-469b-ae53-23e9c97988e9",
    "tags": []
   },
   "outputs": [
    {
     "data": {
      "text/plain": [
       "199"
      ]
     },
     "execution_count": 70,
     "metadata": {},
     "output_type": "execute_result"
    }
   ],
   "source": [
    "len(all_image_paths_sorted)"
   ]
  },
  {
   "cell_type": "markdown",
   "id": "bb2f35c1-50b0-41d1-a515-a221800a54e4",
   "metadata": {
    "tags": []
   },
   "source": [
    "# Import CUDA"
   ]
  },
  {
   "cell_type": "code",
   "execution_count": 71,
   "id": "4z1QaDP5bor5",
   "metadata": {
    "colab": {
     "base_uri": "https://localhost:8080/"
    },
    "executionInfo": {
     "elapsed": 3,
     "status": "ok",
     "timestamp": 1710291568571,
     "user": {
      "displayName": "",
      "userId": ""
     },
     "user_tz": 0
    },
    "id": "4z1QaDP5bor5",
    "outputId": "d56c29fa-adcb-4d34-ce3a-4ca25ffe3b7a",
    "tags": []
   },
   "outputs": [
    {
     "name": "stdout",
     "output_type": "stream",
     "text": [
      "Number of available GPUs: 1\n",
      "GPU 0: Tesla T4\n",
      "\n",
      "Default device set to GPU.\n",
      "PyTorch is currently using GPU: Tesla T4\n"
     ]
    }
   ],
   "source": [
    "# Check if GPU is available\n",
    "if torch.cuda.is_available():\n",
    "    # Get the number of available GPUs\n",
    "    num_gpus = torch.cuda.device_count()\n",
    "\n",
    "    print(f\"Number of available GPUs: {num_gpus}\")\n",
    "\n",
    "    # Print information about each GPU\n",
    "    for i in range(num_gpus):\n",
    "        print(f\"GPU {i}: {torch.cuda.get_device_name(i)}\")\n",
    "\n",
    "    # Set the default device to the first GPU\n",
    "    torch.cuda.set_device(torch.device('cuda:0'))\n",
    "    print(\"\\nDefault device set to GPU.\")\n",
    "\n",
    "    # Check if PyTorch is currently using GPU\n",
    "    current_device = torch.cuda.current_device()\n",
    "    print(f\"PyTorch is currently using GPU: {torch.cuda.get_device_name(current_device)}\")\n",
    "else:\n",
    "    print(\"No GPU available. PyTorch is using CPU.\")"
   ]
  },
  {
   "cell_type": "code",
   "execution_count": 72,
   "id": "HEL2X3alc6Mh",
   "metadata": {
    "executionInfo": {
     "elapsed": 124,
     "status": "ok",
     "timestamp": 1710291572139,
     "user": {
      "displayName": "",
      "userId": ""
     },
     "user_tz": 0
    },
    "id": "HEL2X3alc6Mh",
    "tags": []
   },
   "outputs": [],
   "source": [
    "train_x = all_image_paths_sorted\n",
    "train_y = [path.split('/')[-2] for path in all_image_paths_sorted]"
   ]
  },
  {
   "cell_type": "code",
   "execution_count": 73,
   "id": "duyuoLXwdODU",
   "metadata": {
    "executionInfo": {
     "elapsed": 129,
     "status": "ok",
     "timestamp": 1710291572948,
     "user": {
      "displayName": "",
      "userId": ""
     },
     "user_tz": 0
    },
    "id": "duyuoLXwdODU",
    "tags": []
   },
   "outputs": [],
   "source": [
    "train_x, test_x, train_y, test_y = train_test_split(train_x, train_y, test_size=0.2, random_state=5, stratify=train_y)"
   ]
  },
  {
   "cell_type": "code",
   "execution_count": 157,
   "id": "7IFcFl5JdSlv",
   "metadata": {
    "executionInfo": {
     "elapsed": 184,
     "status": "ok",
     "timestamp": 1710291575867,
     "user": {
      "displayName": "",
      "userId": ""
     },
     "user_tz": 0
    },
    "id": "7IFcFl5JdSlv",
    "tags": []
   },
   "outputs": [],
   "source": [
    "transforms = A.Compose(\n",
    "    [\n",
    "        A.Resize(height=300, width=300), # Resize to 300x300\"\n",
    "        A.ToFloat(),\n",
    "        ToTensorV2(),\n",
    "    ]\n",
    ")"
   ]
  },
  {
   "cell_type": "code",
   "execution_count": 158,
   "id": "X2_jXph-dYTh",
   "metadata": {
    "colab": {
     "base_uri": "https://localhost:8080/"
    },
    "executionInfo": {
     "elapsed": 140,
     "status": "ok",
     "timestamp": 1710291577009,
     "user": {
      "displayName": "",
      "userId": ""
     },
     "user_tz": 0
    },
    "id": "X2_jXph-dYTh",
    "outputId": "95968e55-d6c9-491f-c636-39a2084e060e",
    "tags": []
   },
   "outputs": [
    {
     "name": "stdout",
     "output_type": "stream",
     "text": [
      "tensor([3, 7, 0,  ..., 0, 0, 6])\n",
      "tensor([0, 0, 9, 0, 0, 0, 0, 1, 3, 6, 1, 0, 0, 0, 9, 3, 0, 0, 3, 2, 0, 0, 1, 0,\n",
      "        3, 3, 8, 4, 8, 6, 0, 4, 0, 4, 3, 0, 1, 9, 0, 0, 0, 0, 0, 0, 1, 0, 4, 8,\n",
      "        6, 0, 0, 0, 0, 9, 0, 5, 2, 1, 1, 0, 8, 0, 0, 0, 0, 9, 0, 0, 6, 5, 0, 5,\n",
      "        6, 0, 0, 5, 8, 3, 5, 0, 0, 0, 0, 7, 7, 5, 1, 2, 0, 3, 9, 1, 7, 8, 3, 6,\n",
      "        8, 5, 0, 8, 5, 0, 0, 0, 5, 9, 3, 1, 4, 0, 0, 0, 0, 0, 0, 0, 1, 7, 6, 0,\n",
      "        4, 0, 0, 0, 0, 0, 3, 0, 0, 0, 1, 0, 2, 0, 5, 8, 1, 3, 1, 7, 5, 0, 0, 6,\n",
      "        0, 0, 0, 7, 9, 8, 0, 0, 0, 8, 0, 5, 7, 0, 4, 0, 0, 4, 7, 0, 2, 5, 3, 0,\n",
      "        0, 0, 7, 0, 8, 4, 1, 4, 6, 0, 8, 4, 2, 2, 3, 0, 2, 0, 3, 0, 2, 0, 0, 3,\n",
      "        0, 0, 0, 0, 0, 6, 1, 0, 2, 0, 9, 7, 0, 0, 0, 0, 6, 1, 0, 0, 6, 0, 8, 5,\n",
      "        0, 0, 5, 4, 0, 0, 0, 0, 8, 6, 0, 3, 0, 0, 0, 0, 3, 0, 0, 9, 0, 0, 3, 0,\n",
      "        1, 0, 0, 0, 0, 0, 6, 0, 0, 0, 4, 4, 5, 9, 0, 3, 9, 0, 4, 0, 1, 3, 5, 0,\n",
      "        0, 6, 7, 0, 0, 0, 0, 0, 0, 0, 1, 1, 0, 0, 0, 4, 0, 8, 2, 0, 3, 5, 0, 3,\n",
      "        0, 0, 0, 6, 0, 2, 8, 0, 0, 5, 9, 0, 0, 0, 0, 0, 5, 2, 0, 8, 5, 1, 0, 9,\n",
      "        0, 7, 7, 7, 0, 3, 6, 0, 0, 5, 0, 5, 0, 0, 4, 7, 8, 3, 0, 0, 5, 7, 0, 9,\n",
      "        0, 0, 2, 9, 6, 9, 0, 2, 2, 4, 0, 0, 0, 1, 2, 5, 0, 0, 6, 0, 7, 0, 0, 2,\n",
      "        0, 1, 4, 6, 0, 0, 1, 2, 4, 0, 0, 0, 2, 0, 6, 0, 0, 0, 6, 0, 0, 0, 0, 0,\n",
      "        8, 8, 0, 3, 5, 7, 1, 0, 0, 3, 0, 9, 4, 2, 2, 0, 0, 2, 5, 4, 0, 0, 6, 3,\n",
      "        4, 7, 9, 0, 0, 0, 8, 0, 3, 0, 5, 5, 9, 0, 0, 6, 0, 6, 0, 0, 0, 0, 0, 0,\n",
      "        0, 2, 6, 0, 4, 8, 0, 5, 7, 8, 0, 4, 9, 0, 0, 0, 0, 1, 3, 0, 0, 2, 7, 3,\n",
      "        0, 9, 3, 0, 0, 4, 8, 6, 8, 6, 4, 9, 6, 0, 0, 7, 1, 0, 0, 9, 0, 0, 0, 0,\n",
      "        2, 9, 9, 0, 2, 0, 7, 0, 0, 0, 0, 0, 4, 7, 8, 0, 1, 0, 0, 3, 0, 0, 9, 4,\n",
      "        5, 4, 8, 4, 0, 8, 9, 0, 0, 2, 0, 0, 0, 0, 9, 7, 5, 4, 0, 0, 0, 7, 0, 0,\n",
      "        8, 0, 1, 1, 9, 8, 0, 7, 7, 0, 0, 1, 0, 0, 0, 0, 5, 9, 8, 1, 9, 0, 0, 0,\n",
      "        8, 0, 3, 2, 0, 0, 3, 0, 0, 8, 9, 8, 0, 6, 4, 0, 0, 6, 3, 1, 0, 0, 0, 0,\n",
      "        0, 8, 9, 0, 7, 0, 0, 0, 7, 0, 6, 0, 0, 0, 3, 0, 3, 0, 1, 0, 5, 6, 2, 0,\n",
      "        0, 8, 0, 8, 0, 7, 0, 2, 0, 6, 6, 0, 0, 0, 7, 8, 4, 9, 0, 0, 2, 0, 7, 5,\n",
      "        9, 5, 0, 0, 8, 0, 0, 0, 0, 0, 0, 6, 0, 0, 0, 0, 0, 0, 0, 0, 2, 0, 9, 7,\n",
      "        2, 0, 6, 4, 0, 7, 0, 0, 0, 0, 6, 3, 6, 2, 0, 0, 9, 6, 6, 0, 3, 6, 0, 0,\n",
      "        0, 0, 1, 0, 2, 0, 0, 9, 4, 4, 4, 4, 5, 2, 1, 5, 0, 2, 0, 4, 0, 7, 0, 9,\n",
      "        5, 0, 0, 0, 0, 0, 8, 7, 0, 0, 0, 4, 2, 4, 3, 5, 7, 2, 0, 1, 4, 3, 4, 0,\n",
      "        0, 0, 6, 1, 8, 0, 9, 0, 0, 0, 0, 5, 0, 0, 7, 7, 1, 0, 0, 3, 8, 5, 0, 0,\n",
      "        0, 0, 3, 7, 0, 0, 8, 2, 8, 0, 0, 7, 5, 2, 0, 7, 0, 0, 0, 4, 0, 8, 0, 0,\n",
      "        0, 5, 2, 5, 5, 0, 9, 8, 0, 7, 3, 0, 0, 0, 9, 0, 0, 0, 0, 9, 0, 6, 0, 0,\n",
      "        0, 3, 0, 1, 0, 1, 0, 0, 0, 0, 0, 1, 2, 9, 0, 0, 0, 0, 1, 0, 0, 0, 0, 7,\n",
      "        4, 7, 2, 9, 0, 0, 0, 0, 0, 1, 5, 6, 0, 0, 6, 0, 0, 5, 0, 0, 0, 0, 0, 9,\n",
      "        4, 4, 3, 6, 9, 0, 0, 0, 7, 9, 7, 0, 0, 0, 0, 1, 1, 4, 6, 4, 0, 7, 0, 0,\n",
      "        0, 0, 1, 6, 0, 8, 0, 0, 7, 0, 9, 0, 2, 7, 0, 0, 8, 3, 0, 0, 0, 2, 0, 3,\n",
      "        1, 5, 5, 0, 2, 0, 6, 8, 0, 2, 2, 0, 3, 1, 0, 4])\n"
     ]
    }
   ],
   "source": [
    "# Initialize the label encoder\n",
    "label_encoder = LabelEncoder()\n",
    "\n",
    "# Fit label encoder and transform labels\n",
    "encoded_labels_train = label_encoder.fit_transform(train_y)\n",
    "tensor_encoded_labels_train = torch.tensor(encoded_labels_train)\n",
    "pprint(tensor_encoded_labels_train)\n",
    "\n",
    "\n",
    "# Fit label encoder and transform labels\n",
    "encoded_labels_test = label_encoder.fit_transform(test_y)\n",
    "tensor_encoded_labels_test = torch.tensor(encoded_labels_test)\n",
    "pprint(tensor_encoded_labels_test)"
   ]
  },
  {
   "cell_type": "code",
   "execution_count": 18,
   "id": "zbu2gpGadpGY",
   "metadata": {
    "executionInfo": {
     "elapsed": 2,
     "status": "ok",
     "timestamp": 1710291579259,
     "user": {
      "displayName": "",
      "userId": ""
     },
     "user_tz": 0
    },
    "id": "zbu2gpGadpGY",
    "tags": []
   },
   "outputs": [
    {
     "ename": "ImportError",
     "evalue": "libGL.so.1: cannot open shared object file: No such file or directory",
     "output_type": "error",
     "traceback": [
      "\u001b[0;31m---------------------------------------------------------------------------\u001b[0m",
      "\u001b[0;31mImportError\u001b[0m                               Traceback (most recent call last)",
      "Cell \u001b[0;32mIn[18], line 1\u001b[0m\n\u001b[0;32m----> 1\u001b[0m \u001b[38;5;28;01mimport\u001b[39;00m \u001b[38;5;21;01mcv2\u001b[39;00m\n\u001b[1;32m      2\u001b[0m \u001b[38;5;28;01mfrom\u001b[39;00m \u001b[38;5;21;01mtorch\u001b[39;00m\u001b[38;5;21;01m.\u001b[39;00m\u001b[38;5;21;01mutils\u001b[39;00m\u001b[38;5;21;01m.\u001b[39;00m\u001b[38;5;21;01mdata\u001b[39;00m \u001b[38;5;28;01mimport\u001b[39;00m Dataset\n\u001b[1;32m      3\u001b[0m \u001b[38;5;28;01mfrom\u001b[39;00m \u001b[38;5;21;01mtorchvision\u001b[39;00m\u001b[38;5;21;01m.\u001b[39;00m\u001b[38;5;21;01mtransforms\u001b[39;00m \u001b[38;5;28;01mimport\u001b[39;00m ToTensor\n",
      "\u001b[0;31mImportError\u001b[0m: libGL.so.1: cannot open shared object file: No such file or directory"
     ]
    }
   ],
   "source": [
    "class image_Dataset(Dataset):\n",
    "    def __init__(self, image_paths, tensor_encoded_labels, transform=None):\n",
    "        \"\"\"\n",
    "        Args:\n",
    "            image_paths (list): List of file paths to images.\n",
    "            labels (list): List of labels corresponding to the images.\n",
    "            transform (callable, optional): Optional transform to be applied on a sample.\n",
    "        \"\"\"\n",
    "        self.image_paths = image_paths\n",
    "        self.labels = tensor_encoded_labels\n",
    "        self.transform = transform\n",
    "\n",
    "\n",
    "    def __len__(self):\n",
    "        return len(self.image_paths)\n",
    "\n",
    "    def __getitem__(self, idx):\n",
    "        image_filepath = self.image_paths[idx]\n",
    "        image = cv2.imread(image_filepath)\n",
    "        image = cv2.cvtColor(image, cv2.COLOR_BGR2RGB)\n",
    "\n",
    "        if self.transform is not None and callable(self.transform):\n",
    "            image = self.transform(image=image)[\"image\"]\n",
    "\n",
    "        # Convert label to PyTorch tensor\n",
    "        label = self.labels[idx]\n",
    "\n",
    "        return image, label"
   ]
  },
  {
   "cell_type": "markdown",
   "id": "03874653-06dc-4281-8ef7-52d99822ae49",
   "metadata": {
    "tags": []
   },
   "source": [
    "## dataset check"
   ]
  },
  {
   "cell_type": "code",
   "execution_count": 187,
   "id": "9c1FJiJSds5G",
   "metadata": {
    "executionInfo": {
     "elapsed": 157,
     "status": "ok",
     "timestamp": 1710291580112,
     "user": {
      "displayName": "",
      "userId": ""
     },
     "user_tz": 0
    },
    "id": "9c1FJiJSds5G",
    "tags": []
   },
   "outputs": [],
   "source": [
    "#######################################################\n",
    "#                  Create Dataset\n",
    "#######################################################\n",
    "\n",
    "train_dataset = image_Dataset(train_x,tensor_encoded_labels_train,transforms)\n",
    "test_dataset = image_Dataset(test_x,tensor_encoded_labels_test,transforms)"
   ]
  },
  {
   "cell_type": "code",
   "execution_count": 188,
   "id": "hKckYCVedwcE",
   "metadata": {
    "colab": {
     "base_uri": "https://localhost:8080/",
     "height": 463
    },
    "executionInfo": {
     "elapsed": 376,
     "status": "ok",
     "timestamp": 1710291582044,
     "user": {
      "displayName": "",
      "userId": ""
     },
     "user_tz": 0
    },
    "id": "hKckYCVedwcE",
    "outputId": "0f3164f4-e958-4a0e-cfa0-75396dfa2d32",
    "tags": []
   },
   "outputs": [
    {
     "data": {
      "image/png": "[encoded data removed]",
      "text/plain": [
       "<Figure size 640x480 with 1 Axes>"
      ]
     },
     "metadata": {},
     "output_type": "display_data"
    },
    {
     "name": "stdout",
     "output_type": "stream",
     "text": [
      "The shape of tensor for 50th image in train dataset:  torch.Size([3, 300, 300])\n",
      "The label for 50th image in train dataset:  tensor(3)\n"
     ]
    }
   ],
   "source": [
    "for i in range(1):\n",
    "  image, label = train_dataset[i]\n",
    "  image = TF.to_pil_image(image)  # Convert the tensor to a PIL Image\n",
    "  image = np.array(image)\n",
    "  plt.imshow(image)\n",
    "  plt.title(f\"Label: {label}\")\n",
    "  plt.axis('off')  # Turn off axis\n",
    "  plt.show()\n",
    "\n",
    "print('The shape of tensor for 50th image in train dataset: ',train_dataset[0][0].shape)\n",
    "print('The label for 50th image in train dataset: ',train_dataset[0][1])"
   ]
  },
  {
   "cell_type": "code",
   "execution_count": 189,
   "id": "IAtQlb1Bdv-6",
   "metadata": {
    "executionInfo": {
     "elapsed": 2,
     "status": "ok",
     "timestamp": 1710291580820,
     "user": {
      "displayName": "",
      "userId": ""
     },
     "user_tz": 0
    },
    "id": "IAtQlb1Bdv-6",
    "tags": []
   },
   "outputs": [],
   "source": [
    "#######################################################\n",
    "#                  load Dataset\n",
    "#######################################################\n",
    "\n",
    "train_loader = DataLoader(train_dataset, batch_size=64, shuffle=False)\n",
    "test_loader = DataLoader(test_dataset, batch_size=64, shuffle=True)"
   ]
  },
  {
   "cell_type": "markdown",
   "id": "95868fe5-2b16-409b-81ac-03632e21cddd",
   "metadata": {
    "tags": []
   },
   "source": [
    "# Different Model Architectures"
   ]
  },
  {
   "cell_type": "markdown",
   "id": "lhgroKKweFln",
   "metadata": {
    "id": "lhgroKKweFln",
    "tags": []
   },
   "source": [
    "## Architecture-1"
   ]
  },
  {
   "cell_type": "code",
   "execution_count": 1,
   "id": "NYqPejahdx5E",
   "metadata": {
    "executionInfo": {
     "elapsed": 148,
     "status": "ok",
     "timestamp": 1710291583766,
     "user": {
      "displayName": "",
      "userId": ""
     },
     "user_tz": 0
    },
    "id": "NYqPejahdx5E",
    "tags": []
   },
   "outputs": [],
   "source": []
  },
  {
   "cell_type": "code",
   "execution_count": 2,
   "id": "ryyuI8lneM36",
   "metadata": {
    "executionInfo": {
     "elapsed": 192,
     "status": "ok",
     "timestamp": 1710291585264,
     "user": {
      "displayName": "",
      "userId": ""
     },
     "user_tz": 0
    },
    "id": "ryyuI8lneM36",
    "tags": []
   },
   "outputs": [
    {
     "ename": "NameError",
     "evalue": "name 'torch' is not defined",
     "output_type": "error",
     "traceback": [
      "\u001b[0;31m---------------------------------------------------------------------------\u001b[0m",
      "\u001b[0;31mNameError\u001b[0m                                 Traceback (most recent call last)",
      "Cell \u001b[0;32mIn[2], line 1\u001b[0m\n\u001b[0;32m----> 1\u001b[0m \u001b[38;5;28;01mclass\u001b[39;00m \u001b[38;5;21;01mImageClassifier\u001b[39;00m(nn\u001b[38;5;241m.\u001b[39mModule):\n\u001b[1;32m      2\u001b[0m     \u001b[38;5;28;01mdef\u001b[39;00m \u001b[38;5;21m__init__\u001b[39m(\u001b[38;5;28mself\u001b[39m, num_classes\u001b[38;5;241m=\u001b[39m\u001b[38;5;241m2\u001b[39m):\n\u001b[1;32m      3\u001b[0m         \u001b[38;5;28msuper\u001b[39m(ImageClassifier, \u001b[38;5;28mself\u001b[39m)\u001b[38;5;241m.\u001b[39m\u001b[38;5;21m__init__\u001b[39m()\n",
      "Cell \u001b[0;32mIn[2], line 18\u001b[0m, in \u001b[0;36mImageClassifier\u001b[0;34m()\u001b[0m\n\u001b[1;32m      9\u001b[0m     \u001b[38;5;28mself\u001b[39m\u001b[38;5;241m.\u001b[39mconv_layer_2 \u001b[38;5;241m=\u001b[39m nn\u001b[38;5;241m.\u001b[39mSequential(\n\u001b[1;32m     10\u001b[0m         nn\u001b[38;5;241m.\u001b[39mConv2d(in_channels\u001b[38;5;241m=\u001b[39m\u001b[38;5;241m64\u001b[39m, out_channels\u001b[38;5;241m=\u001b[39m\u001b[38;5;241m128\u001b[39m, kernel_size\u001b[38;5;241m=\u001b[39m\u001b[38;5;241m3\u001b[39m, padding\u001b[38;5;241m=\u001b[39m\u001b[38;5;241m1\u001b[39m),\n\u001b[1;32m     11\u001b[0m         nn\u001b[38;5;241m.\u001b[39mReLU(),\n\u001b[1;32m     12\u001b[0m         nn\u001b[38;5;241m.\u001b[39mBatchNorm2d(\u001b[38;5;241m128\u001b[39m),\n\u001b[1;32m     13\u001b[0m         nn\u001b[38;5;241m.\u001b[39mMaxPool2d(\u001b[38;5;241m3\u001b[39m))\n\u001b[1;32m     14\u001b[0m     \u001b[38;5;28mself\u001b[39m\u001b[38;5;241m.\u001b[39mclassifier \u001b[38;5;241m=\u001b[39m nn\u001b[38;5;241m.\u001b[39mSequential(\n\u001b[1;32m     15\u001b[0m         nn\u001b[38;5;241m.\u001b[39mFlatten(),\n\u001b[1;32m     16\u001b[0m         nn\u001b[38;5;241m.\u001b[39mLinear(in_features\u001b[38;5;241m=\u001b[39m\u001b[38;5;241m128\u001b[39m\u001b[38;5;241m*\u001b[39m\u001b[38;5;241m33\u001b[39m\u001b[38;5;241m*\u001b[39m\u001b[38;5;241m33\u001b[39m, out_features\u001b[38;5;241m=\u001b[39mnum_classes))\n\u001b[0;32m---> 18\u001b[0m \u001b[38;5;28;01mdef\u001b[39;00m \u001b[38;5;21mforward\u001b[39m(\u001b[38;5;28mself\u001b[39m, x: \u001b[43mtorch\u001b[49m\u001b[38;5;241m.\u001b[39mTensor):\n\u001b[1;32m     19\u001b[0m     x \u001b[38;5;241m=\u001b[39m \u001b[38;5;28mself\u001b[39m\u001b[38;5;241m.\u001b[39mconv_layer_1(x)\n\u001b[1;32m     20\u001b[0m     x \u001b[38;5;241m=\u001b[39m \u001b[38;5;28mself\u001b[39m\u001b[38;5;241m.\u001b[39mconv_layer_2(x)\n",
      "\u001b[0;31mNameError\u001b[0m: name 'torch' is not defined"
     ]
    }
   ],
   "source": [
    "class ImageClassifier(nn.Module):\n",
    "    def __init__(self, num_classes=2):\n",
    "        super(ImageClassifier, self).__init__()\n",
    "        self.conv_layer_1 = nn.Sequential(\n",
    "            nn.Conv2d(in_channels=3, out_channels=64, kernel_size=3, padding=1),\n",
    "            nn.ReLU(),\n",
    "            nn.BatchNorm2d(64),\n",
    "            nn.MaxPool2d(3))\n",
    "        self.conv_layer_2 = nn.Sequential(\n",
    "            nn.Conv2d(in_channels=64, out_channels=128, kernel_size=3, padding=1),\n",
    "            nn.ReLU(),\n",
    "            nn.BatchNorm2d(128),\n",
    "            nn.MaxPool2d(3))\n",
    "        self.classifier = nn.Sequential(\n",
    "            nn.Flatten(),\n",
    "            nn.Linear(in_features=128*33*33, out_features=num_classes))\n",
    "\n",
    "    def forward(self, x: torch.Tensor):\n",
    "        x = self.conv_layer_1(x)\n",
    "        x = self.conv_layer_2(x)\n",
    "        x = self.classifier(x)\n",
    "        return x"
   ]
  },
  {
   "cell_type": "code",
   "execution_count": null,
   "id": "c555246b-7da3-4bf0-8d29-7e4cc98185fc",
   "metadata": {
    "tags": []
   },
   "outputs": [],
   "source": [
    "model_test = ImageClassifier()\n",
    "model_test.cuda()"
   ]
  },
  {
   "cell_type": "code",
   "execution_count": 202,
   "id": "368de7be-5148-4a65-a5f2-a60690dad8a9",
   "metadata": {
    "tags": []
   },
   "outputs": [
    {
     "ename": "RuntimeError",
     "evalue": "CUDA error: device-side assert triggered\nCUDA kernel errors might be asynchronously reported at some other API call, so the stacktrace below might be incorrect.\nFor debugging consider passing CUDA_LAUNCH_BLOCKING=1.\nCompile with `TORCH_USE_CUDA_DSA` to enable device-side assertions.\n",
     "output_type": "error",
     "traceback": [
      "\u001b[0;31m---------------------------------------------------------------------------\u001b[0m",
      "\u001b[0;31mRuntimeError\u001b[0m                              Traceback (most recent call last)",
      "Cell \u001b[0;32mIn[202], line 4\u001b[0m\n\u001b[1;32m      2\u001b[0m optimizer \u001b[38;5;241m=\u001b[39m torch\u001b[38;5;241m.\u001b[39moptim\u001b[38;5;241m.\u001b[39mSGD(model_test\u001b[38;5;241m.\u001b[39mparameters(), lr\u001b[38;5;241m=\u001b[39m\u001b[38;5;241m0.001\u001b[39m, momentum\u001b[38;5;241m=\u001b[39m\u001b[38;5;241m0.75\u001b[39m)\n\u001b[1;32m      3\u001b[0m num_epochs \u001b[38;5;241m=\u001b[39m \u001b[38;5;241m20\u001b[39m\n\u001b[0;32m----> 4\u001b[0m \u001b[43mmodel_test\u001b[49m\u001b[38;5;241;43m.\u001b[39;49m\u001b[43mtrain\u001b[49m\u001b[43m(\u001b[49m\u001b[43m)\u001b[49m\u001b[38;5;241;43m.\u001b[39;49m\u001b[43mcuda\u001b[49m\u001b[43m(\u001b[49m\u001b[43m)\u001b[49m\n",
      "File \u001b[0;32m/opt/conda/lib/python3.10/site-packages/torch/nn/modules/module.py:905\u001b[0m, in \u001b[0;36mModule.cuda\u001b[0;34m(self, device)\u001b[0m\n\u001b[1;32m    888\u001b[0m \u001b[38;5;28;01mdef\u001b[39;00m \u001b[38;5;21mcuda\u001b[39m(\u001b[38;5;28mself\u001b[39m: T, device: Optional[Union[\u001b[38;5;28mint\u001b[39m, device]] \u001b[38;5;241m=\u001b[39m \u001b[38;5;28;01mNone\u001b[39;00m) \u001b[38;5;241m-\u001b[39m\u001b[38;5;241m>\u001b[39m T:\n\u001b[1;32m    889\u001b[0m \u001b[38;5;250m    \u001b[39m\u001b[38;5;124mr\u001b[39m\u001b[38;5;124;03m\"\"\"Moves all model parameters and buffers to the GPU.\u001b[39;00m\n\u001b[1;32m    890\u001b[0m \n\u001b[1;32m    891\u001b[0m \u001b[38;5;124;03m    This also makes associated parameters and buffers different objects. So\u001b[39;00m\n\u001b[0;32m   (...)\u001b[0m\n\u001b[1;32m    903\u001b[0m \u001b[38;5;124;03m        Module: self\u001b[39;00m\n\u001b[1;32m    904\u001b[0m \u001b[38;5;124;03m    \"\"\"\u001b[39;00m\n\u001b[0;32m--> 905\u001b[0m     \u001b[38;5;28;01mreturn\u001b[39;00m \u001b[38;5;28;43mself\u001b[39;49m\u001b[38;5;241;43m.\u001b[39;49m\u001b[43m_apply\u001b[49m\u001b[43m(\u001b[49m\u001b[38;5;28;43;01mlambda\u001b[39;49;00m\u001b[43m \u001b[49m\u001b[43mt\u001b[49m\u001b[43m:\u001b[49m\u001b[43m \u001b[49m\u001b[43mt\u001b[49m\u001b[38;5;241;43m.\u001b[39;49m\u001b[43mcuda\u001b[49m\u001b[43m(\u001b[49m\u001b[43mdevice\u001b[49m\u001b[43m)\u001b[49m\u001b[43m)\u001b[49m\n",
      "File \u001b[0;32m/opt/conda/lib/python3.10/site-packages/torch/nn/modules/module.py:797\u001b[0m, in \u001b[0;36mModule._apply\u001b[0;34m(self, fn)\u001b[0m\n\u001b[1;32m    795\u001b[0m \u001b[38;5;28;01mdef\u001b[39;00m \u001b[38;5;21m_apply\u001b[39m(\u001b[38;5;28mself\u001b[39m, fn):\n\u001b[1;32m    796\u001b[0m     \u001b[38;5;28;01mfor\u001b[39;00m module \u001b[38;5;129;01min\u001b[39;00m \u001b[38;5;28mself\u001b[39m\u001b[38;5;241m.\u001b[39mchildren():\n\u001b[0;32m--> 797\u001b[0m         \u001b[43mmodule\u001b[49m\u001b[38;5;241;43m.\u001b[39;49m\u001b[43m_apply\u001b[49m\u001b[43m(\u001b[49m\u001b[43mfn\u001b[49m\u001b[43m)\u001b[49m\n\u001b[1;32m    799\u001b[0m     \u001b[38;5;28;01mdef\u001b[39;00m \u001b[38;5;21mcompute_should_use_set_data\u001b[39m(tensor, tensor_applied):\n\u001b[1;32m    800\u001b[0m         \u001b[38;5;28;01mif\u001b[39;00m torch\u001b[38;5;241m.\u001b[39m_has_compatible_shallow_copy_type(tensor, tensor_applied):\n\u001b[1;32m    801\u001b[0m             \u001b[38;5;66;03m# If the new tensor has compatible tensor type as the existing tensor,\u001b[39;00m\n\u001b[1;32m    802\u001b[0m             \u001b[38;5;66;03m# the current behavior is to change the tensor in-place using `.data =`,\u001b[39;00m\n\u001b[0;32m   (...)\u001b[0m\n\u001b[1;32m    807\u001b[0m             \u001b[38;5;66;03m# global flag to let the user control whether they want the future\u001b[39;00m\n\u001b[1;32m    808\u001b[0m             \u001b[38;5;66;03m# behavior of overwriting the existing tensor or not.\u001b[39;00m\n",
      "File \u001b[0;32m/opt/conda/lib/python3.10/site-packages/torch/nn/modules/module.py:797\u001b[0m, in \u001b[0;36mModule._apply\u001b[0;34m(self, fn)\u001b[0m\n\u001b[1;32m    795\u001b[0m \u001b[38;5;28;01mdef\u001b[39;00m \u001b[38;5;21m_apply\u001b[39m(\u001b[38;5;28mself\u001b[39m, fn):\n\u001b[1;32m    796\u001b[0m     \u001b[38;5;28;01mfor\u001b[39;00m module \u001b[38;5;129;01min\u001b[39;00m \u001b[38;5;28mself\u001b[39m\u001b[38;5;241m.\u001b[39mchildren():\n\u001b[0;32m--> 797\u001b[0m         \u001b[43mmodule\u001b[49m\u001b[38;5;241;43m.\u001b[39;49m\u001b[43m_apply\u001b[49m\u001b[43m(\u001b[49m\u001b[43mfn\u001b[49m\u001b[43m)\u001b[49m\n\u001b[1;32m    799\u001b[0m     \u001b[38;5;28;01mdef\u001b[39;00m \u001b[38;5;21mcompute_should_use_set_data\u001b[39m(tensor, tensor_applied):\n\u001b[1;32m    800\u001b[0m         \u001b[38;5;28;01mif\u001b[39;00m torch\u001b[38;5;241m.\u001b[39m_has_compatible_shallow_copy_type(tensor, tensor_applied):\n\u001b[1;32m    801\u001b[0m             \u001b[38;5;66;03m# If the new tensor has compatible tensor type as the existing tensor,\u001b[39;00m\n\u001b[1;32m    802\u001b[0m             \u001b[38;5;66;03m# the current behavior is to change the tensor in-place using `.data =`,\u001b[39;00m\n\u001b[0;32m   (...)\u001b[0m\n\u001b[1;32m    807\u001b[0m             \u001b[38;5;66;03m# global flag to let the user control whether they want the future\u001b[39;00m\n\u001b[1;32m    808\u001b[0m             \u001b[38;5;66;03m# behavior of overwriting the existing tensor or not.\u001b[39;00m\n",
      "File \u001b[0;32m/opt/conda/lib/python3.10/site-packages/torch/nn/modules/module.py:820\u001b[0m, in \u001b[0;36mModule._apply\u001b[0;34m(self, fn)\u001b[0m\n\u001b[1;32m    816\u001b[0m \u001b[38;5;66;03m# Tensors stored in modules are graph leaves, and we don't want to\u001b[39;00m\n\u001b[1;32m    817\u001b[0m \u001b[38;5;66;03m# track autograd history of `param_applied`, so we have to use\u001b[39;00m\n\u001b[1;32m    818\u001b[0m \u001b[38;5;66;03m# `with torch.no_grad():`\u001b[39;00m\n\u001b[1;32m    819\u001b[0m \u001b[38;5;28;01mwith\u001b[39;00m torch\u001b[38;5;241m.\u001b[39mno_grad():\n\u001b[0;32m--> 820\u001b[0m     param_applied \u001b[38;5;241m=\u001b[39m \u001b[43mfn\u001b[49m\u001b[43m(\u001b[49m\u001b[43mparam\u001b[49m\u001b[43m)\u001b[49m\n\u001b[1;32m    821\u001b[0m should_use_set_data \u001b[38;5;241m=\u001b[39m compute_should_use_set_data(param, param_applied)\n\u001b[1;32m    822\u001b[0m \u001b[38;5;28;01mif\u001b[39;00m should_use_set_data:\n",
      "File \u001b[0;32m/opt/conda/lib/python3.10/site-packages/torch/nn/modules/module.py:905\u001b[0m, in \u001b[0;36mModule.cuda.<locals>.<lambda>\u001b[0;34m(t)\u001b[0m\n\u001b[1;32m    888\u001b[0m \u001b[38;5;28;01mdef\u001b[39;00m \u001b[38;5;21mcuda\u001b[39m(\u001b[38;5;28mself\u001b[39m: T, device: Optional[Union[\u001b[38;5;28mint\u001b[39m, device]] \u001b[38;5;241m=\u001b[39m \u001b[38;5;28;01mNone\u001b[39;00m) \u001b[38;5;241m-\u001b[39m\u001b[38;5;241m>\u001b[39m T:\n\u001b[1;32m    889\u001b[0m \u001b[38;5;250m    \u001b[39m\u001b[38;5;124mr\u001b[39m\u001b[38;5;124;03m\"\"\"Moves all model parameters and buffers to the GPU.\u001b[39;00m\n\u001b[1;32m    890\u001b[0m \n\u001b[1;32m    891\u001b[0m \u001b[38;5;124;03m    This also makes associated parameters and buffers different objects. So\u001b[39;00m\n\u001b[0;32m   (...)\u001b[0m\n\u001b[1;32m    903\u001b[0m \u001b[38;5;124;03m        Module: self\u001b[39;00m\n\u001b[1;32m    904\u001b[0m \u001b[38;5;124;03m    \"\"\"\u001b[39;00m\n\u001b[0;32m--> 905\u001b[0m     \u001b[38;5;28;01mreturn\u001b[39;00m \u001b[38;5;28mself\u001b[39m\u001b[38;5;241m.\u001b[39m_apply(\u001b[38;5;28;01mlambda\u001b[39;00m t: \u001b[43mt\u001b[49m\u001b[38;5;241;43m.\u001b[39;49m\u001b[43mcuda\u001b[49m\u001b[43m(\u001b[49m\u001b[43mdevice\u001b[49m\u001b[43m)\u001b[49m)\n",
      "\u001b[0;31mRuntimeError\u001b[0m: CUDA error: device-side assert triggered\nCUDA kernel errors might be asynchronously reported at some other API call, so the stacktrace below might be incorrect.\nFor debugging consider passing CUDA_LAUNCH_BLOCKING=1.\nCompile with `TORCH_USE_CUDA_DSA` to enable device-side assertions.\n"
     ]
    }
   ],
   "source": [
    "criterion = nn.CrossEntropyLoss()\n",
    "optimizer = torch.optim.SGD(model_test.parameters(), lr=0.001, momentum=0.75)\n",
    "num_epochs = 20\n",
    "model_test.train().cuda()"
   ]
  },
  {
   "cell_type": "code",
   "execution_count": 199,
   "id": "01db2676-9531-4d6d-abc6-1fee9368abcb",
   "metadata": {
    "tags": []
   },
   "outputs": [
    {
     "ename": "RuntimeError",
     "evalue": "CUDA error: device-side assert triggered\nCUDA kernel errors might be asynchronously reported at some other API call, so the stacktrace below might be incorrect.\nFor debugging consider passing CUDA_LAUNCH_BLOCKING=1.\nCompile with `TORCH_USE_CUDA_DSA` to enable device-side assertions.\n",
     "output_type": "error",
     "traceback": [
      "\u001b[0;31m---------------------------------------------------------------------------\u001b[0m",
      "\u001b[0;31mRuntimeError\u001b[0m                              Traceback (most recent call last)",
      "Cell \u001b[0;32mIn[199], line 4\u001b[0m\n\u001b[1;32m      2\u001b[0m total_loss \u001b[38;5;241m=\u001b[39m \u001b[38;5;241m0.0\u001b[39m\n\u001b[1;32m      3\u001b[0m \u001b[38;5;28;01mfor\u001b[39;00m inputs, labels \u001b[38;5;129;01min\u001b[39;00m train_loader:\n\u001b[0;32m----> 4\u001b[0m     inputs, labels \u001b[38;5;241m=\u001b[39m inputs, \u001b[43mlabels\u001b[49m\u001b[38;5;241;43m.\u001b[39;49m\u001b[43mcuda\u001b[49m\u001b[43m(\u001b[49m\u001b[43m)\u001b[49m\n\u001b[1;32m      5\u001b[0m     optimizer\u001b[38;5;241m.\u001b[39mzero_grad()\n\u001b[1;32m      6\u001b[0m     outputs \u001b[38;5;241m=\u001b[39m model_test(inputs)\n",
      "\u001b[0;31mRuntimeError\u001b[0m: CUDA error: device-side assert triggered\nCUDA kernel errors might be asynchronously reported at some other API call, so the stacktrace below might be incorrect.\nFor debugging consider passing CUDA_LAUNCH_BLOCKING=1.\nCompile with `TORCH_USE_CUDA_DSA` to enable device-side assertions.\n"
     ]
    }
   ],
   "source": [
    "for epoch in range(num_epochs):\n",
    "    total_loss = 0.0\n",
    "    for inputs, labels in train_loader:\n",
    "        inputs, labels = inputs.cuda(), labels.cuda()\n",
    "        optimizer.zero_grad()\n",
    "        outputs = model_test(inputs)\n",
    "        loss = criterion(outputs, labels)\n",
    "        loss.backward()\n",
    "        optimizer.step()\n",
    "        total_loss += loss.item()*inputs.size(0)\n",
    "\n",
    "    average_loss = total_loss / len(train_loader.sampler)\n",
    "    print(f'Epoch [{epoch + 1}/{num_epochs}], Loss: {average_loss:.4f}')"
   ]
  },
  {
   "cell_type": "markdown",
   "id": "e1f76ae6-a415-4664-b9bc-6bd3dafcc7f4",
   "metadata": {
    "tags": []
   },
   "source": [
    "### V0"
   ]
  },
  {
   "cell_type": "code",
   "execution_count": null,
   "id": "a2bf1401-7f59-4fb2-81aa-c5f3e2cb0e9e",
   "metadata": {
    "tags": []
   },
   "outputs": [],
   "source": [
    "modelV0 = ImageClassifier()\n",
    "modelV0.cuda()"
   ]
  },
  {
   "cell_type": "code",
   "execution_count": null,
   "id": "34f20b36-0cf6-4f1b-9f80-724eb5491c2b",
   "metadata": {
    "tags": []
   },
   "outputs": [],
   "source": [
    "criterion = nn.CrossEntropyLoss()\n",
    "optimizer = torch.optim.SGD(modelV0.parameters(), lr=0.001, momentum=0.75)\n",
    "num_epochs = 20\n",
    "modelV0.train()"
   ]
  },
  {
   "cell_type": "code",
   "execution_count": null,
   "id": "1f852d36-fe9f-4ba1-9e66-bb8012f3ae33",
   "metadata": {
    "tags": []
   },
   "outputs": [],
   "source": [
    "for epoch in range(num_epochs):\n",
    "    total_loss = 0.0\n",
    "    for inputs, labels in train_loader:\n",
    "        inputs, labels = inputs.cuda(), labels.cuda()\n",
    "        optimizer.zero_grad()\n",
    "        outputs = modelV0(inputs)\n",
    "        loss = criterion(outputs, labels)\n",
    "        loss.backward()\n",
    "        optimizer.step()\n",
    "        total_loss += loss.item()*inputs.size(0)\n",
    "\n",
    "    average_loss = total_loss / len(train_loader.sampler)\n",
    "    print(f'Epoch [{epoch + 1}/{num_epochs}], Loss: {average_loss:.4f}')"
   ]
  },
  {
   "cell_type": "code",
   "execution_count": null,
   "id": "37a69380-5ca3-42f7-bddd-3b30bf7602f1",
   "metadata": {
    "tags": []
   },
   "outputs": [],
   "source": [
    "torch.save(modelV0, 'modelV0.pth')"
   ]
  },
  {
   "cell_type": "markdown",
   "id": "488782f6-9b76-4148-ac1c-af843ffed04c",
   "metadata": {
    "jp-MarkdownHeadingCollapsed": true,
    "tags": []
   },
   "source": [
    "### V1"
   ]
  },
  {
   "cell_type": "code",
   "execution_count": null,
   "id": "05_o2KcYeNNb",
   "metadata": {
    "executionInfo": {
     "elapsed": 179,
     "status": "ok",
     "timestamp": 1710291586120,
     "user": {
      "displayName": "",
      "userId": ""
     },
     "user_tz": 0
    },
    "id": "05_o2KcYeNNb",
    "tags": []
   },
   "outputs": [],
   "source": [
    "modelV1 = ImageClassifier()\n",
    "modelV1 = modelV1.to('cuda')"
   ]
  },
  {
   "cell_type": "code",
   "execution_count": null,
   "id": "s3V7lVS0eOlN",
   "metadata": {
    "colab": {
     "base_uri": "https://localhost:8080/"
    },
    "executionInfo": {
     "elapsed": 166,
     "status": "ok",
     "timestamp": 1710291586941,
     "user": {
      "displayName": "",
      "userId": ""
     },
     "user_tz": 0
    },
    "id": "s3V7lVS0eOlN",
    "outputId": "e66835a0-e069-48cc-ed44-877f4f46f6cc",
    "tags": []
   },
   "outputs": [],
   "source": [
    "criterion = nn.CrossEntropyLoss()\n",
    "optimizer = torch.optim.SGD(modelV1.parameters(), lr=0.005, momentum=0.50)\n",
    "num_epochs = 20\n",
    "modelV1.train()"
   ]
  },
  {
   "cell_type": "code",
   "execution_count": null,
   "id": "2gV_jx_sEw9F",
   "metadata": {
    "colab": {
     "base_uri": "https://localhost:8080/"
    },
    "executionInfo": {
     "elapsed": 262858,
     "status": "ok",
     "timestamp": 1710291850709,
     "user": {
      "displayName": "",
      "userId": ""
     },
     "user_tz": 0
    },
    "id": "2gV_jx_sEw9F",
    "outputId": "dd2038a3-dd1f-4e88-a989-59c3753d265e",
    "tags": []
   },
   "outputs": [],
   "source": [
    "for epoch in range(num_epochs):\n",
    "    total_loss = 0.0\n",
    "    for inputs, labels in train_loader:\n",
    "        inputs, labels = inputs.cuda(), labels.cuda()\n",
    "        optimizer.zero_grad()\n",
    "        outputs = modelV1(inputs)\n",
    "        loss = criterion(outputs, labels)\n",
    "        loss.backward()\n",
    "        optimizer.step()\n",
    "        total_loss += loss.item()*inputs.size(0)\n",
    "\n",
    "    average_loss = total_loss / len(train_loader.sampler)\n",
    "    print(f'Epoch [{epoch + 1}/{num_epochs}], Loss: {average_loss:.4f}')"
   ]
  },
  {
   "cell_type": "code",
   "execution_count": null,
   "id": "3zB5J4JBJ8V1",
   "metadata": {
    "executionInfo": {
     "elapsed": 115,
     "status": "ok",
     "timestamp": 1710291878122,
     "user": {
      "displayName": "",
      "userId": ""
     },
     "user_tz": 0
    },
    "id": "3zB5J4JBJ8V1",
    "tags": []
   },
   "outputs": [],
   "source": [
    "torch.save(modelV1, 'modelV1.pth')"
   ]
  },
  {
   "cell_type": "markdown",
   "id": "EWtqYSVle1DL",
   "metadata": {
    "id": "EWtqYSVle1DL",
    "jp-MarkdownHeadingCollapsed": true,
    "tags": []
   },
   "source": [
    "## Architecture-2"
   ]
  },
  {
   "cell_type": "code",
   "execution_count": 179,
   "id": "9d93c057-f106-45f3-b0f4-2b10741c1f23",
   "metadata": {
    "executionInfo": {
     "elapsed": 3,
     "status": "ok",
     "timestamp": 1710291881838,
     "user": {
      "displayName": "",
      "userId": ""
     },
     "user_tz": 0
    },
    "id": "0SCBGfKoe6Og",
    "tags": []
   },
   "outputs": [],
   "source": [
    "class ImageClassifier_V2(nn.Module):\n",
    "    def __init__(self, num_classes=2):\n",
    "        super(ImageClassifier_V2, self).__init__()\n",
    "        self.conv_layer_1 = nn.Sequential(\n",
    "            nn.Conv2d(in_channels=3, out_channels=128, kernel_size=7, padding=3),\n",
    "            nn.ReLU(),\n",
    "            nn.BatchNorm2d(128),\n",
    "            nn.MaxPool2d(kernel_size=3, stride=3))\n",
    "\n",
    "        self.conv_layer_2 = nn.Sequential(\n",
    "            nn.Conv2d(in_channels=128, out_channels=256, kernel_size=3, padding=2),\n",
    "            nn.ReLU(),\n",
    "            nn.BatchNorm2d(256),\n",
    "            nn.MaxPool2d(kernel_size=3, stride=3))\n",
    "\n",
    "        self.conv_layer_3 = nn.Sequential(\n",
    "            nn.Conv2d(in_channels=256, out_channels=512, kernel_size=3, padding=2),  # Adjusted kernel_size\n",
    "            nn.ReLU(),\n",
    "            nn.BatchNorm2d(512),\n",
    "            nn.MaxPool2d(kernel_size=3, stride=1))  # Adjusted kernel_size and stride\n",
    "\n",
    "        # Calculate the input size for the linear layer based on the output of conv_layer_3\n",
    "        self.classifier_input_size = 512*34*34  # Adjusted based on the spatial dimensions\n",
    "\n",
    "        self.classifier = nn.Sequential(\n",
    "            nn.Flatten(),\n",
    "            nn.Linear(in_features=self.classifier_input_size, out_features=num_classes)\n",
    "        )\n",
    "\n",
    "    def forward(self, x: torch.Tensor):\n",
    "        x = self.conv_layer_1(x)\n",
    "        #print(\"Shape after conv_layer_1:\", x.shape)\n",
    "\n",
    "        x = self.conv_layer_2(x)\n",
    "\n",
    "        #print(\"Shape after conv_layer_2:\", x.shape)\n",
    "        x = self.conv_layer_3(x)\n",
    "\n",
    "        #print(\"Shape after conv_layer_3:\", x.shape)\n",
    "\n",
    "\n",
    "        x = self.classifier(x)\n",
    "        return x"
   ]
  },
  {
   "cell_type": "markdown",
   "id": "3d355908-235a-49b3-a848-304393bc9001",
   "metadata": {
    "jp-MarkdownHeadingCollapsed": true,
    "tags": []
   },
   "source": [
    "### V2"
   ]
  },
  {
   "cell_type": "code",
   "execution_count": null,
   "id": "vrn2JRg3eRuU",
   "metadata": {
    "executionInfo": {
     "elapsed": 139,
     "status": "ok",
     "timestamp": 1710291885541,
     "user": {
      "displayName": "",
      "userId": ""
     },
     "user_tz": 0
    },
    "id": "vrn2JRg3eRuU",
    "tags": []
   },
   "outputs": [],
   "source": [
    "modelV2 = ImageClassifier_V2()\n",
    "modelV2 = modelV2.to('cuda')"
   ]
  },
  {
   "cell_type": "code",
   "execution_count": null,
   "id": "NZfYuNU3hP0y",
   "metadata": {
    "colab": {
     "base_uri": "https://localhost:8080/"
    },
    "executionInfo": {
     "elapsed": 4,
     "status": "ok",
     "timestamp": 1710291907689,
     "user": {
      "displayName": "",
      "userId": ""
     },
     "user_tz": 0
    },
    "id": "NZfYuNU3hP0y",
    "outputId": "0b70de11-1c73-4e77-df8f-663ad9eea77c",
    "tags": []
   },
   "outputs": [],
   "source": [
    "criterion = nn.CrossEntropyLoss()\n",
    "optimizer = torch.optim.SGD(modelV2.parameters(), lr=0.005, momentum=0.03)\n",
    "num_epochs = 20\n",
    "modelV2.train()"
   ]
  },
  {
   "cell_type": "code",
   "execution_count": null,
   "id": "Da3eqWMbffYJ",
   "metadata": {
    "colab": {
     "base_uri": "https://localhost:8080/"
    },
    "executionInfo": {
     "elapsed": 470860,
     "status": "ok",
     "timestamp": 1710292380395,
     "user": {
      "displayName": "",
      "userId": ""
     },
     "user_tz": 0
    },
    "id": "Da3eqWMbffYJ",
    "outputId": "ce325713-942e-47ad-8a63-9ba3f9e0a690",
    "tags": []
   },
   "outputs": [],
   "source": [
    "# Assuming you have a DataLoader named 'train_loader'\n",
    "for epoch in range(num_epochs):\n",
    "    total_loss = 0.0\n",
    "    for inputs, labels in train_loader:\n",
    "        inputs, labels = inputs.cuda(), labels.cuda()\n",
    "        optimizer.zero_grad()\n",
    "        outputs = modelV2(inputs)\n",
    "        loss = criterion(outputs, labels)\n",
    "        loss.backward()\n",
    "        optimizer.step()\n",
    "        total_loss += loss.item()*inputs.size(0)\n",
    "\n",
    "    average_loss = total_loss / len(train_loader.sampler)\n",
    "    print(f'Epoch [{epoch + 1}/{num_epochs}], Loss: {average_loss:.4f}')"
   ]
  },
  {
   "cell_type": "markdown",
   "id": "b9861f8b-33dc-4901-a8eb-e77ada9c28b2",
   "metadata": {
    "id": "v6yP2n1UcB0i",
    "jp-MarkdownHeadingCollapsed": true,
    "tags": []
   },
   "source": [
    "### V3"
   ]
  },
  {
   "cell_type": "code",
   "execution_count": null,
   "id": "u5EFrcDZYam3",
   "metadata": {
    "colab": {
     "base_uri": "https://localhost:8080/"
    },
    "executionInfo": {
     "elapsed": 147,
     "status": "ok",
     "timestamp": 1710292633448,
     "user": {
      "displayName": "",
      "userId": ""
     },
     "user_tz": 0
    },
    "id": "u5EFrcDZYam3",
    "outputId": "7b736428-a9f2-4ce6-9eab-79be6a6d1a35",
    "tags": []
   },
   "outputs": [],
   "source": [
    "modelV3 = ImageClassifier_V2()\n",
    "modelV3 = modelV3.to('cuda')\n",
    "modelV3.train()"
   ]
  },
  {
   "cell_type": "code",
   "execution_count": null,
   "id": "PykKvrURaXYt",
   "metadata": {
    "executionInfo": {
     "elapsed": 119,
     "status": "ok",
     "timestamp": 1710293319752,
     "user": {
      "displayName": "",
      "userId": ""
     },
     "user_tz": 0
    },
    "id": "PykKvrURaXYt",
    "tags": []
   },
   "outputs": [],
   "source": [
    "criterion = nn.CrossEntropyLoss()\n",
    "optimizer = optim.Adam(modelV3.parameters(), lr=0.0001)\n",
    "num_epochs = 20"
   ]
  },
  {
   "cell_type": "code",
   "execution_count": null,
   "id": "gSOxrhk1RZeI",
   "metadata": {
    "colab": {
     "base_uri": "https://localhost:8080/"
    },
    "executionInfo": {
     "elapsed": 475152,
     "status": "ok",
     "timestamp": 1710293844800,
     "user": {
      "displayName": "",
      "userId": ""
     },
     "user_tz": 0
    },
    "id": "gSOxrhk1RZeI",
    "outputId": "c3cb31f7-038d-4ca9-8994-b10a9f929129",
    "tags": []
   },
   "outputs": [],
   "source": [
    "for epoch in range(num_epochs):\n",
    "    total_loss = 0.0\n",
    "    for inputs, labels in train_loader:\n",
    "        inputs, labels  = inputs.cuda(), labels.cuda()\n",
    "        optimizer.zero_grad()\n",
    "        outputs = modelV3(inputs)\n",
    "        loss1 = criterion(outputs, labels)\n",
    "        loss1.backward()\n",
    "        optimizer.step()\n",
    "        total_loss += (loss1.item())*inputs.size(0)\n",
    "\n",
    "\n",
    "    average_loss = total_loss / len(train_loader.sampler)\n",
    "    print(f'Epoch [{epoch + 1}/{num_epochs}], Loss: {average_loss:.4f}')"
   ]
  },
  {
   "cell_type": "code",
   "execution_count": null,
   "id": "ckT2s5FcSvg_",
   "metadata": {
    "executionInfo": {
     "elapsed": 139,
     "status": "ok",
     "timestamp": 1710293848893,
     "user": {
      "displayName": "",
      "userId": ""
     },
     "user_tz": 0
    },
    "id": "ckT2s5FcSvg_",
    "tags": []
   },
   "outputs": [],
   "source": [
    "torch.save(modelV3, 'modelV3.pth')"
   ]
  },
  {
   "cell_type": "markdown",
   "id": "4eb93ae8-c65a-44ed-8621-360cb3ccb5ac",
   "metadata": {
    "tags": []
   },
   "source": [
    "### V4"
   ]
  },
  {
   "cell_type": "code",
   "execution_count": null,
   "id": "54d16421-68f7-49cd-9d7f-864adb9ed66f",
   "metadata": {
    "tags": []
   },
   "outputs": [],
   "source": [
    "modelV4 = ImageClassifier_V2()\n",
    "modelV4 = modelV4.to('cuda')\n",
    "modelV4.train()"
   ]
  },
  {
   "cell_type": "code",
   "execution_count": null,
   "id": "16709255-80bb-441a-83d1-92eb51838298",
   "metadata": {
    "tags": []
   },
   "outputs": [],
   "source": [
    "criterion = nn.CrossEntropyLoss()\n",
    "optimizer = optim.SGD(modelV4.parameters(), lr=0.001, momentum=0.75)\n",
    "num_epochs = 20"
   ]
  },
  {
   "cell_type": "code",
   "execution_count": null,
   "id": "a1336bd0-0a33-4839-aed8-7759569148e7",
   "metadata": {
    "tags": []
   },
   "outputs": [],
   "source": [
    "for epoch in range(num_epochs):\n",
    "    total_loss = 0.0\n",
    "    for inputs, labels in train_loader:\n",
    "        inputs, labels  = inputs.cuda(), labels.cuda()\n",
    "        optimizer.zero_grad()\n",
    "        outputs = modelV4(inputs)\n",
    "        loss1 = criterion(outputs, labels)\n",
    "        loss1.backward()\n",
    "        optimizer.step()\n",
    "        total_loss += (loss1.item())*inputs.size(0)\n",
    "\n",
    "\n",
    "    average_loss = total_loss / len(train_loader.sampler)\n",
    "    print(f'Epoch [{epoch + 1}/{num_epochs}], Loss: {average_loss:.4f}')"
   ]
  },
  {
   "cell_type": "code",
   "execution_count": null,
   "id": "0cea6cf0-86a9-46a6-9400-683e3bdf8678",
   "metadata": {
    "tags": []
   },
   "outputs": [],
   "source": [
    "torch.save(modelV4, 'modelV4.pth')"
   ]
  },
  {
   "cell_type": "markdown",
   "id": "L2iq2l1hhzca",
   "metadata": {
    "id": "L2iq2l1hhzca"
   },
   "source": [
    "# Basic Evaluation"
   ]
  },
  {
   "cell_type": "code",
   "execution_count": 169,
   "id": "nZ3d-Kv8I3V9",
   "metadata": {
    "executionInfo": {
     "elapsed": 167,
     "status": "ok",
     "timestamp": 1710292387687,
     "user": {
      "displayName": "",
      "userId": ""
     },
     "user_tz": 0
    },
    "id": "nZ3d-Kv8I3V9",
    "tags": []
   },
   "outputs": [],
   "source": [
    "def check_accuracy(loader, model):\n",
    "    num_correct = 0\n",
    "    num_samples = 0\n",
    "    model.eval()\n",
    "\n",
    "    with torch.no_grad():\n",
    "        for x, y in loader:\n",
    "            x = x.cuda()\n",
    "            y = y.cuda()\n",
    "\n",
    "            scores = model(x)\n",
    "            _, predictions = scores.max(1)\n",
    "            num_correct += (predictions == y).sum()\n",
    "            num_samples += predictions.size(0)\n",
    "            \n",
    "            accuracy = float(num_correct) / float(num_samples) * 100\n",
    "\n",
    "    return accuracy , num_correct , num_samples"
   ]
  },
  {
   "cell_type": "markdown",
   "id": "V0Y3ljM7X99r",
   "metadata": {
    "id": "V0Y3ljM7X99r",
    "tags": []
   },
   "source": [
    "### V0"
   ]
  },
  {
   "cell_type": "code",
   "execution_count": 185,
   "id": "7e14409e-355c-44b8-b3c1-27e8470f63c1",
   "metadata": {
    "tags": []
   },
   "outputs": [
    {
     "name": "stdout",
     "output_type": "stream",
     "text": [
      "Train Set Accuracy: 55.37%, Correct: 2001, Total: 3614\n",
      "Test Set Accuracy: 55.20%, Correct: 499, Total: 904\n"
     ]
    }
   ],
   "source": [
    "modelV0 = torch.load(\"modelV0.pth\").to('cuda')\n",
    "\n",
    "train_accuracy, train_correct, train_total = check_accuracy(train_loader, modelV0)\n",
    "test_accuracy, test_correct, test_total = check_accuracy(test_loader, modelV0)\n",
    "\n",
    "print(f\"Train Set Accuracy: {train_accuracy:.2f}%, Correct: {train_correct}, Total: {train_total}\")\n",
    "print(f\"Test Set Accuracy: {test_accuracy:.2f}%, Correct: {test_correct}, Total: {test_total}\")"
   ]
  },
  {
   "cell_type": "markdown",
   "id": "G3sywYOEiX26",
   "metadata": {
    "id": "G3sywYOEiX26",
    "tags": []
   },
   "source": [
    "### V1"
   ]
  },
  {
   "cell_type": "code",
   "execution_count": null,
   "id": "XBdQYGZzI6Z9",
   "metadata": {
    "colab": {
     "base_uri": "https://localhost:8080/"
    },
    "executionInfo": {
     "elapsed": 2055,
     "status": "ok",
     "timestamp": 1710293889177,
     "user": {
      "displayName": "",
      "userId": ""
     },
     "user_tz": 0
    },
    "id": "XBdQYGZzI6Z9",
    "outputId": "cf1827a5-808b-4f58-9412-b44f4210b10b",
    "tags": []
   },
   "outputs": [],
   "source": [
    "modelV1 = torch.load(\"modelV1.pth\").to('cuda')\n",
    "\n",
    "train_accuracy, train_correct, train_total = check_accuracy(train_loader, modelV1)\n",
    "test_accuracy, test_correct, test_total = check_accuracy(test_loader, modelV1)\n",
    "\n",
    "print(f\"Train Set Accuracy: {train_accuracy:.2f}%, Correct: {train_correct}, Total: {train_total}\")\n",
    "print(f\"Test Set Accuracy: {test_accuracy:.2f}%, Correct: {test_correct}, Total: {test_total}\")"
   ]
  },
  {
   "cell_type": "markdown",
   "id": "N0X2lM7-kQhs",
   "metadata": {
    "id": "N0X2lM7-kQhs",
    "tags": []
   },
   "source": [
    "### V2"
   ]
  },
  {
   "cell_type": "code",
   "execution_count": null,
   "id": "c8c6a1ab-8b60-49a4-9af4-3a8836eed222",
   "metadata": {
    "tags": []
   },
   "outputs": [],
   "source": [
    "train_accuracy, train_correct, train_total = check_accuracy(train_loader, modelV2)\n",
    "test_accuracy, test_correct, test_total = check_accuracy(test_loader, modelV2)\n",
    "\n",
    "print(f\"Train Set Accuracy: {train_accuracy:.2f}%, Correct: {train_correct}, Total: {train_total}\")\n",
    "print(f\"Test Set Accuracy: {test_accuracy:.2f}%, Correct: {test_correct}, Total: {test_total}\")"
   ]
  },
  {
   "cell_type": "markdown",
   "id": "a0e9694a-8485-4baf-960f-2be9418e6644",
   "metadata": {
    "tags": []
   },
   "source": [
    "### V3"
   ]
  },
  {
   "cell_type": "code",
   "execution_count": null,
   "id": "f63d90af-4434-4a35-9c94-c55a7896da4c",
   "metadata": {
    "tags": []
   },
   "outputs": [],
   "source": [
    "train_accuracy, train_correct, train_total = check_accuracy(train_loader, modelV3)\n",
    "test_accuracy, test_correct, test_total = check_accuracy(test_loader, modelV3)\n",
    "\n",
    "print(f\"Train Set Accuracy: {train_accuracy:.2f}%, Correct: {train_correct}, Total: {train_total}\")\n",
    "print(f\"Test Set Accuracy: {test_accuracy:.2f}%, Correct: {test_correct}, Total: {test_total}\")"
   ]
  },
  {
   "cell_type": "markdown",
   "id": "a0667065-4af0-4f96-bc58-295b2aff2928",
   "metadata": {},
   "source": [
    "### V4"
   ]
  },
  {
   "cell_type": "code",
   "execution_count": null,
   "id": "5bc765a7-7fe5-4a7e-8322-838747b41957",
   "metadata": {
    "tags": []
   },
   "outputs": [],
   "source": [
    "train_accuracy, train_correct, train_total = check_accuracy(train_loader, modelV4)\n",
    "test_accuracy, test_correct, test_total = check_accuracy(test_loader, modelV4)\n",
    "\n",
    "print(f\"Train Set Accuracy: {train_accuracy:.2f}%, Correct: {train_correct}, Total: {train_total}\")\n",
    "print(f\"Test Set Accuracy: {test_accuracy:.2f}%, Correct: {test_correct}, Total: {test_total}\")"
   ]
  },
  {
   "cell_type": "markdown",
   "id": "23540dc0-548f-4249-8dab-4a461521bbe3",
   "metadata": {},
   "source": [
    "# CROSS VALIDATION TEST"
   ]
  },
  {
   "cell_type": "code",
   "execution_count": null,
   "id": "a959f987-779a-4eb9-9efe-9cc26af9a656",
   "metadata": {
    "tags": []
   },
   "outputs": [],
   "source": [
    "\n",
    "\n",
    "def train(model, device, train_loader, optimizer,criterion, epoch):\n",
    "    model.train()\n",
    "    \n",
    "    for epoch in range(num_epochs):\n",
    "        total_loss = 0.0\n",
    "        for inputs, labels in train_loader:\n",
    "            inputs, labels  = inputs.to(device), labels.to(device)\n",
    "            optimizer.zero_grad()\n",
    "            outputs = model(inputs)\n",
    "            loss = criterion(outputs, labels)\n",
    "            loss.backward()\n",
    "            optimizer.step()\n",
    "            total_loss += (loss.item())*inputs.size(0)\n",
    "\n",
    "\n",
    "        average_loss = total_loss / len(train_loader.sampler)\n",
    "        print(f'Epoch [{epoch + 1}/{num_epochs}], Loss: {average_loss:.4f}')"
   ]
  },
  {
   "cell_type": "code",
   "execution_count": null,
   "id": "ec8e8a1d-fded-44d8-98bd-8bf017fcd2f1",
   "metadata": {
    "tags": []
   },
   "outputs": [],
   "source": [
    "\n",
    "\n",
    "yes_image_paths = [path for path in all_image_paths_sorted if 'YES' in path]\n",
    "no_image_paths = [path for path in all_image_paths_sorted if 'NO' in path]\n",
    "\n",
    "# Randomly select 50 YES and 50 NO image paths\n",
    "selected_yes_image_paths = random.sample(yes_image_paths, 50)\n",
    "selected_no_image_paths = random.sample(no_image_paths, 50)\n",
    "\n",
    "# Create validation set containing selected image paths\n",
    "validation_set = selected_yes_image_paths + selected_no_image_paths"
   ]
  },
  {
   "cell_type": "code",
   "execution_count": null,
   "id": "d7de562a-159f-49e6-b725-000f52c1f091",
   "metadata": {
    "tags": []
   },
   "outputs": [],
   "source": [
    "validation_X = validation_set"
   ]
  },
  {
   "cell_type": "code",
   "execution_count": null,
   "id": "671e22f1-98f4-4882-a389-51345c26ab36",
   "metadata": {
    "tags": []
   },
   "outputs": [],
   "source": [
    "validation_Y = [path.split('/')[-2] for path in validation_X]"
   ]
  },
  {
   "cell_type": "code",
   "execution_count": null,
   "id": "002a1c8a-6e2a-4452-8b38-dab8f15a23c2",
   "metadata": {
    "tags": []
   },
   "outputs": [],
   "source": [
    "encoded_labels_validation_dataset = label_encoder.fit_transform(validation_Y)\n",
    "tensor_encoded_labels_validation_dataset = torch.tensor(encoded_labels_validation_dataset)\n",
    "pprint(tensor_encoded_labels_validation_dataset)"
   ]
  },
  {
   "cell_type": "code",
   "execution_count": null,
   "id": "3c8f49c4-779c-4639-8730-103838c0be85",
   "metadata": {
    "tags": []
   },
   "outputs": [],
   "source": [
    "validation_dataset = image_Dataset(validation_X,tensor_encoded_labels_validation_dataset,transforms)"
   ]
  },
  {
   "cell_type": "code",
   "execution_count": null,
   "id": "488eb590-c790-42ed-86b3-a289df5dc841",
   "metadata": {
    "tags": []
   },
   "outputs": [],
   "source": [
    "validation_dataset = list(zip(validation_X, validation_Y))"
   ]
  },
  {
   "cell_type": "code",
   "execution_count": null,
   "id": "53e6acb0-7488-4790-94bf-17ec8eb438ff",
   "metadata": {
    "tags": []
   },
   "outputs": [],
   "source": [
    "validation_dataset[0]"
   ]
  },
  {
   "cell_type": "code",
   "execution_count": null,
   "id": "3ce3ccf3-1419-4327-a3e5-24b0daba5c83",
   "metadata": {
    "tags": []
   },
   "outputs": [],
   "source": [
    "train_set = [path for path in all_image_paths_sorted if path not in validation_set]"
   ]
  },
  {
   "cell_type": "code",
   "execution_count": null,
   "id": "3a8148d8-a252-4f72-9595-8e7d13b7c220",
   "metadata": {
    "tags": []
   },
   "outputs": [],
   "source": [
    "X = train_set\n",
    "Y = [path.split('/')[-2] for path in train_set]"
   ]
  },
  {
   "cell_type": "code",
   "execution_count": null,
   "id": "a7481606-7b39-4f25-a2a6-58a61c08a385",
   "metadata": {
    "tags": []
   },
   "outputs": [],
   "source": [
    "dataset = list(zip(X, Y))"
   ]
  },
  {
   "cell_type": "code",
   "execution_count": null,
   "id": "98d8bc24-61ce-4c88-996c-bb5624a65067",
   "metadata": {
    "tags": []
   },
   "outputs": [],
   "source": [
    "dataset[0]"
   ]
  },
  {
   "cell_type": "code",
   "execution_count": null,
   "id": "5a565ac6-1494-4736-89c3-5d4d89ef44d7",
   "metadata": {
    "tags": []
   },
   "outputs": [],
   "source": [
    "encoded_labels_Kfold_dataset = label_encoder.fit_transform(Y)\n",
    "tensor_encoded_labels_Kfold_dataset = torch.tensor(encoded_labels_Kfold_dataset)\n",
    "pprint(tensor_encoded_labels_Kfold_dataset)"
   ]
  },
  {
   "cell_type": "code",
   "execution_count": null,
   "id": "b681e200-9f1b-480e-afd2-e79f19d58662",
   "metadata": {
    "tags": []
   },
   "outputs": [],
   "source": [
    "#######################################################\n",
    "#                  Create Dataset\n",
    "#######################################################\n",
    "\n",
    "dataset_dataset = image_Dataset(X,tensor_encoded_labels_Kfold_dataset,transforms)"
   ]
  },
  {
   "cell_type": "code",
   "execution_count": null,
   "id": "3eea7f18-9dd0-496a-b696-4539a71f2a01",
   "metadata": {
    "tags": []
   },
   "outputs": [],
   "source": [
    "# Define the number of folds and batch size\n",
    "k_folds = 10\n",
    "batch_size = 64\n",
    "\n",
    "# Define the device (CPU or GPU)\n",
    "device = torch.device(\"cuda\" if torch.cuda.is_available() else \"cpu\")\n",
    "\n",
    "# Initialize the k-fold cross validation\n",
    "kf = KFold(n_splits=k_folds, shuffle=True)"
   ]
  },
  {
   "cell_type": "code",
   "execution_count": null,
   "id": "63c9aeed-7677-410f-b7fa-2d89cc349b63",
   "metadata": {
    "tags": []
   },
   "outputs": [],
   "source": [
    "train_accuracies = []\n",
    "test_accuracies = []"
   ]
  },
  {
   "cell_type": "code",
   "execution_count": null,
   "id": "4983e89b-70b0-479b-b7c5-97c13ce9f17c",
   "metadata": {
    "tags": []
   },
   "outputs": [],
   "source": [
    "for fold, (train_idx, test_idx) in enumerate(kf.split(dataset_dataset)):\n",
    "    print(f\"Fold {fold + 1}\")\n",
    "    print(\"-------\")\n",
    "    \n",
    "\n",
    "    # Define the data loaders for the current fold\n",
    "    train_loader = DataLoader(\n",
    "        dataset=dataset_dataset,\n",
    "        batch_size=batch_size,\n",
    "        sampler=torch.utils.data.SubsetRandomSampler(train_idx),\n",
    "    )\n",
    "    test_loader = DataLoader(\n",
    "        dataset=dataset_dataset,\n",
    "        batch_size=batch_size,\n",
    "        sampler=torch.utils.data.SubsetRandomSampler(test_idx),\n",
    "    )\n",
    "\n",
    "    # Initialize the model and optimizer\n",
    "    model = ImageClassifier_V2().to(device)\n",
    "    optimizer = optim.Adam(model.parameters(), lr=0.0001)\n",
    "    criterion = nn.CrossEntropyLoss()\n",
    "\n",
    "    # Train the model on the current fold\n",
    "    train(model, device, train_loader, optimizer,criterion, epoch)\n",
    "\n",
    "    # Evaluate the model on the test set\n",
    "    model.eval()\n",
    " \n",
    "    with torch.no_grad():\n",
    "        train_accuracy, train_correct, train_total = check_accuracy(train_loader, model)\n",
    "        test_accuracy, test_correct, test_total = check_accuracy(test_loader, model)\n",
    "\n",
    "        print(f\"Train Set Accuracy: {train_accuracy:.2f}%, Correct: {train_correct}, Total: {train_total}\")\n",
    "        print(f\"Test Set Accuracy: {test_accuracy:.2f}%, Correct: {test_correct}, Total: {test_total}\")\n",
    "        \n",
    "        # Append accuracies to lists\n",
    "        train_accuracies.append(train_accuracy)\n",
    "        test_accuracies.append(test_accuracy)"
   ]
  },
  {
   "cell_type": "code",
   "execution_count": null,
   "id": "3ddcc149-06d8-44e3-aa18-6c459330a3b8",
   "metadata": {
    "tags": []
   },
   "outputs": [],
   "source": [
    "# Calculate average accuracies\n",
    "avg_train_accuracy = np.mean(train_accuracies)\n",
    "avg_test_accuracy = np.mean(test_accuracies)\n",
    "\n",
    "print(f\"Average Train Set Accuracy: {avg_train_accuracy:.2f}%\")\n",
    "print(f\"Average Test Set Accuracy: {avg_test_accuracy:.2f}%\")"
   ]
  },
  {
   "cell_type": "markdown",
   "id": "de69d180-06ff-4927-9256-487213ac6499",
   "metadata": {},
   "source": [
    "# Test on validation Set Model V3"
   ]
  },
  {
   "cell_type": "code",
   "execution_count": null,
   "id": "e3404288-bf8a-4767-b54b-29d0e45d9231",
   "metadata": {
    "tags": []
   },
   "outputs": [],
   "source": [
    "validation_loader = DataLoader(dataset=validation_dataset, batch_size=64)"
   ]
  },
  {
   "cell_type": "markdown",
   "id": "18c04328-ef97-4634-92c3-6f7968e43762",
   "metadata": {
    "tags": []
   },
   "source": [
    "### modelV3 last in kfold"
   ]
  },
  {
   "cell_type": "code",
   "execution_count": null,
   "id": "b26db0c9-ec47-498b-b8a4-f6b96ccaa01f",
   "metadata": {
    "tags": []
   },
   "outputs": [],
   "source": [
    "validation_accuracy, validation_correct, validation_total = check_accuracy(validation_loader, model)\n",
    "\n",
    "print(f\"Validation Set Accuracy: {validation_accuracy:.2f}%, Correct: {validation_correct}, Total: {validation_total}\")\n"
   ]
  },
  {
   "cell_type": "markdown",
   "id": "7ff0f69f-b3fd-486d-8af2-4b289d650894",
   "metadata": {},
   "source": [
    "### modelV3"
   ]
  },
  {
   "cell_type": "code",
   "execution_count": null,
   "id": "19ad7640-1dc3-47d0-bf58-dfdfa500e732",
   "metadata": {
    "tags": []
   },
   "outputs": [],
   "source": [
    "validation_accuracy, validation_correct, validation_total = check_accuracy(validation_loader, modelV3)\n",
    "\n",
    "print(f\"Validation Set Accuracy: {validation_accuracy:.2f}%, Correct: {validation_correct}, Total: {validation_total}\")\n"
   ]
  },
  {
   "cell_type": "markdown",
   "id": "8bbb84b8-6612-4727-9d6e-5b6b28acd01a",
   "metadata": {
    "tags": []
   },
   "source": [
    "# Save all in google bucket"
   ]
  },
  {
   "cell_type": "code",
   "execution_count": null,
   "id": "d081b42a-6058-4148-aeae-b2562fc4815a",
   "metadata": {
    "tags": []
   },
   "outputs": [],
   "source": [
    "!gsutil cp * gs://igneous-core-416413-eu-notebooks"
   ]
  }
 ],
 "metadata": {
  "colab": {
   "collapsed_sections": [
    "4CvUl3s6fOET"
   ],
   "provenance": []
  },
  "kernelspec": {
   "display_name": "PyTorch 2.0 (Local)",
   "language": "python",
   "name": "pytorch-2-0"
  },
  "language_info": {
   "codemirror_mode": {
    "name": "ipython",
    "version": 3
   },
   "file_extension": ".py",
   "mimetype": "text/x-python",
   "name": "python",
   "nbconvert_exporter": "python",
   "pygments_lexer": "ipython3",
   "version": "3.10.13"
  }
 },
 "nbformat": 4,
 "nbformat_minor": 5
}
