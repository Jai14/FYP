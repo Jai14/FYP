{
 "cells": [
  {
   "cell_type": "markdown",
   "id": "EBPvaANLadO3",
   "metadata": {
    "id": "EBPvaANLadO3",
    "tags": []
   },
   "source": [
    "# Imports"
   ]
  },
  {
   "cell_type": "code",
   "execution_count": 1,
   "id": "06e33a7e-aaf0-4e6d-9e19-6c2a94c81a1f",
   "metadata": {
    "tags": []
   },
   "outputs": [
    {
     "name": "stdout",
     "output_type": "stream",
     "text": [
      "Collecting opencv-python-headless\n",
      "  Using cached opencv_python_headless-4.9.0.80-cp37-abi3-manylinux_2_17_x86_64.manylinux2014_x86_64.whl.metadata (20 kB)\n",
      "Requirement already satisfied: numpy>=1.21.2 in /opt/conda/lib/python3.10/site-packages (from opencv-python-headless) (1.25.2)\n",
      "Using cached opencv_python_headless-4.9.0.80-cp37-abi3-manylinux_2_17_x86_64.manylinux2014_x86_64.whl (49.6 MB)\n",
      "Installing collected packages: opencv-python-headless\n",
      "Successfully installed opencv-python-headless-4.9.0.80\n",
      "Note: you may need to restart the kernel to use updated packages.\n"
     ]
    }
   ],
   "source": [
    "pip install opencv-python-headless"
   ]
  },
  {
   "cell_type": "code",
   "execution_count": 2,
   "id": "88b6d2c3-27cb-4926-884e-50077acfa8d9",
   "metadata": {
    "tags": []
   },
   "outputs": [
    {
     "name": "stdout",
     "output_type": "stream",
     "text": [
      "Collecting albumentations\n",
      "  Using cached albumentations-1.4.3-py3-none-any.whl.metadata (37 kB)\n",
      "Requirement already satisfied: numpy>=1.24.4 in /opt/conda/lib/python3.10/site-packages (from albumentations) (1.25.2)\n",
      "Requirement already satisfied: scipy>=1.10.0 in /opt/conda/lib/python3.10/site-packages (from albumentations) (1.11.4)\n",
      "Requirement already satisfied: scikit-image>=0.21.0 in /opt/conda/lib/python3.10/site-packages (from albumentations) (0.22.0)\n",
      "Requirement already satisfied: PyYAML in /opt/conda/lib/python3.10/site-packages (from albumentations) (6.0.1)\n",
      "Requirement already satisfied: typing-extensions>=4.9.0 in /opt/conda/lib/python3.10/site-packages (from albumentations) (4.10.0)\n",
      "Requirement already satisfied: scikit-learn>=1.3.2 in /opt/conda/lib/python3.10/site-packages (from albumentations) (1.4.1.post1)\n",
      "Requirement already satisfied: opencv-python-headless>=4.9.0 in /opt/conda/lib/python3.10/site-packages (from albumentations) (4.9.0.80)\n",
      "Requirement already satisfied: networkx>=2.8 in /opt/conda/lib/python3.10/site-packages (from scikit-image>=0.21.0->albumentations) (3.2.1)\n",
      "Requirement already satisfied: pillow>=9.0.1 in /opt/conda/lib/python3.10/site-packages (from scikit-image>=0.21.0->albumentations) (10.2.0)\n",
      "Requirement already satisfied: imageio>=2.27 in /opt/conda/lib/python3.10/site-packages (from scikit-image>=0.21.0->albumentations) (2.34.0)\n",
      "Requirement already satisfied: tifffile>=2022.8.12 in /opt/conda/lib/python3.10/site-packages (from scikit-image>=0.21.0->albumentations) (2024.2.12)\n",
      "Requirement already satisfied: packaging>=21 in /opt/conda/lib/python3.10/site-packages (from scikit-image>=0.21.0->albumentations) (24.0)\n",
      "Requirement already satisfied: lazy_loader>=0.3 in /opt/conda/lib/python3.10/site-packages (from scikit-image>=0.21.0->albumentations) (0.3)\n",
      "Requirement already satisfied: joblib>=1.2.0 in /opt/conda/lib/python3.10/site-packages (from scikit-learn>=1.3.2->albumentations) (1.3.2)\n",
      "Requirement already satisfied: threadpoolctl>=2.0.0 in /opt/conda/lib/python3.10/site-packages (from scikit-learn>=1.3.2->albumentations) (3.3.0)\n",
      "Using cached albumentations-1.4.3-py3-none-any.whl (137 kB)\n",
      "Installing collected packages: albumentations\n",
      "Successfully installed albumentations-1.4.3\n",
      "Note: you may need to restart the kernel to use updated packages.\n"
     ]
    }
   ],
   "source": [
    "pip install albumentations"
   ]
  },
  {
   "cell_type": "code",
   "execution_count": 3,
   "id": "a2acf731-3c8f-4152-8457-a3feedd86695",
   "metadata": {
    "tags": []
   },
   "outputs": [],
   "source": [
    "import torch\n",
    "import cv2\n",
    "import shutil\n",
    "import os\n",
    "import zipfile\n",
    "import gzip\n",
    "import random\n",
    "from pprint import pprint\n",
    "\n",
    "from sklearn.model_selection import train_test_split\n",
    "\n",
    "import torchvision.transforms as transforms\n",
    "from torchvision.datasets import ImageFolder\n",
    "from torchvision.transforms import ToTensor\n",
    "import torchvision.transforms.functional as TF\n",
    "import torchvision.models as models\n",
    "\n",
    "from torch.utils.data import Dataset\n",
    "from torch.utils.data import DataLoader\n",
    "import torch.nn as nn\n",
    "import torch.optim as optim\n",
    "\n",
    "import albumentations as A\n",
    "from albumentations.pytorch import ToTensorV2\n",
    "\n",
    "from sklearn.preprocessing import LabelEncoder\n",
    "from sklearn.model_selection import KFold\n",
    "\n",
    "import numpy as np\n",
    "import matplotlib.pyplot as plt\n",
    "import random"
   ]
  },
  {
   "cell_type": "markdown",
   "id": "2ee6f16f-05fd-41cd-81b5-7875513a5032",
   "metadata": {
    "jp-MarkdownHeadingCollapsed": true,
    "tags": []
   },
   "source": [
    "## Unzipping the dataset"
   ]
  },
  {
   "cell_type": "markdown",
   "id": "5d24c8d5-ae15-40d4-974d-3c7221344bb9",
   "metadata": {
    "tags": []
   },
   "source": [
    "### DONT USE UNTIL PORTING A NEW DATASET"
   ]
  },
  {
   "cell_type": "code",
   "execution_count": null,
   "id": "yb5zCzk2pOVv",
   "metadata": {
    "colab": {
     "base_uri": "https://localhost:8080/"
    },
    "executionInfo": {
     "elapsed": 1051,
     "status": "ok",
     "timestamp": 1710291501576,
     "user": {
      "displayName": "",
      "userId": ""
     },
     "user_tz": 0
    },
    "id": "yb5zCzk2pOVv",
    "outputId": "0c6b2a32-f147-47bf-8a8b-6db099dd424d",
    "tags": []
   },
   "outputs": [],
   "source": [
    "directory_to_remove = 'data_cloud_final/data_cloud_final/imgs/train_set'\n",
    "\n",
    "try:\n",
    "    shutil.rmtree(directory_to_remove)\n",
    "    print(f\"Directory '{directory_to_remove}' successfully removed.\")\n",
    "except OSError as e:\n",
    "    print(f\"Error: {directory_to_remove} : {e.strerror}\")"
   ]
  },
  {
   "cell_type": "code",
   "execution_count": null,
   "id": "8uaQG_XKsouR",
   "metadata": {
    "colab": {
     "base_uri": "https://localhost:8080/"
    },
    "executionInfo": {
     "elapsed": 150,
     "status": "ok",
     "timestamp": 1710291532134,
     "user": {
      "displayName": "",
      "userId": ""
     },
     "user_tz": 0
    },
    "id": "8uaQG_XKsouR",
    "outputId": "beb4cdaf-0ac8-4527-e533-564bc82d8c7f",
    "tags": []
   },
   "outputs": [],
   "source": [
    "current_directory = os.getcwd()\n",
    "print(\"Current working directory:\", current_directory)\n",
    "\n",
    "# Change the working directory to the parent directory\n",
    "os.chdir('..')\n",
    "\n",
    "# Verify the change\n",
    "new_directory = os.getcwd()\n",
    "print(\"New working directory:\", new_directory)"
   ]
  },
  {
   "cell_type": "code",
   "execution_count": 33,
   "id": "RqgOperxU4Uq",
   "metadata": {
    "colab": {
     "base_uri": "https://localhost:8080/"
    },
    "executionInfo": {
     "elapsed": 8797,
     "status": "ok",
     "timestamp": 1710291545625,
     "user": {
      "displayName": "",
      "userId": ""
     },
     "user_tz": 0
    },
    "id": "RqgOperxU4Uq",
    "outputId": "df38980d-7e9f-425c-a628-95fee4f4ec89",
    "tags": []
   },
   "outputs": [
    {
     "name": "stdout",
     "output_type": "stream",
     "text": [
      "Files unzipped successfully.\n"
     ]
    }
   ],
   "source": [
    "# Path to your ZIP file\n",
    "zip_file = \"data_cloud_final.zip\"\n",
    "destination_folder = \"data_cloud_final\"\n",
    "\n",
    "try:\n",
    "    # Create the destination folder if it doesn't exist\n",
    "    if not os.path.exists(destination_folder):\n",
    "        os.makedirs(destination_folder)\n",
    "\n",
    "        # Unzip the contents of the gzip file\n",
    "        with zipfile.ZipFile(zip_file, 'r') as zip_ref:\n",
    "            zip_ref.extractall(destination_folder)\n",
    "\n",
    "        print(\"Files unzipped successfully.\")\n",
    "    else:\n",
    "        print(\"Destination folder already exists. Skipping extraction.\")\n",
    "except Exception as e:\n",
    "    print(f\"Error: {e}\")"
   ]
  },
  {
   "cell_type": "markdown",
   "id": "ca9ea696-83dd-46ba-ac84-37f2b9d440fe",
   "metadata": {
    "tags": []
   },
   "source": [
    "# Original Data check"
   ]
  },
  {
   "cell_type": "code",
   "execution_count": 22,
   "id": "O4R8fSj1VVli",
   "metadata": {
    "executionInfo": {
     "elapsed": 20,
     "status": "ok",
     "timestamp": 1710291545626,
     "user": {
      "displayName": "",
      "userId": ""
     },
     "user_tz": 0
    },
    "id": "O4R8fSj1VVli",
    "tags": []
   },
   "outputs": [],
   "source": [
    "imgs = r'data_cloud_final/data_cloud_final/imgs/train'"
   ]
  },
  {
   "cell_type": "code",
   "execution_count": 23,
   "id": "i7C6wIZlWn0z",
   "metadata": {
    "colab": {
     "base_uri": "https://localhost:8080/"
    },
    "executionInfo": {
     "elapsed": 19,
     "status": "ok",
     "timestamp": 1710291545626,
     "user": {
      "displayName": "",
      "userId": ""
     },
     "user_tz": 0
    },
    "id": "i7C6wIZlWn0z",
    "outputId": "dc0f5357-0222-4d34-e6d1-d0433dd9c3c7",
    "tags": []
   },
   "outputs": [
    {
     "name": "stdout",
     "output_type": "stream",
     "text": [
      "['data_cloud_final/data_cloud_final/imgs/train/YES', 'data_cloud_final/data_cloud_final/imgs/train/NO', 'data_cloud_final/data_cloud_final/imgs/train/.ipynb_checkpoints']\n"
     ]
    }
   ],
   "source": [
    "# Get the list of subfolders in the main directory\n",
    "subfolders = [f.path for f in os.scandir(imgs) if f.is_dir()]\n",
    "print(subfolders)"
   ]
  },
  {
   "cell_type": "code",
   "execution_count": 24,
   "id": "dcQ0taVJWrz3",
   "metadata": {
    "colab": {
     "base_uri": "https://localhost:8080/",
     "height": 35
    },
    "executionInfo": {
     "elapsed": 18,
     "status": "ok",
     "timestamp": 1710291545626,
     "user": {
      "displayName": "",
      "userId": ""
     },
     "user_tz": 0
    },
    "id": "dcQ0taVJWrz3",
    "outputId": "0648b7ff-fcfb-4f00-ef6a-5c7dda22bb31",
    "tags": []
   },
   "outputs": [
    {
     "data": {
      "text/plain": [
       "'data_cloud_final/data_cloud_final/imgs/train/YES'"
      ]
     },
     "execution_count": 24,
     "metadata": {},
     "output_type": "execute_result"
    }
   ],
   "source": [
    "yes_subfolder = subfolders[0]\n",
    "yes_subfolder"
   ]
  },
  {
   "cell_type": "code",
   "execution_count": 25,
   "id": "js8eewr5WysR",
   "metadata": {
    "colab": {
     "base_uri": "https://localhost:8080/"
    },
    "executionInfo": {
     "elapsed": 17,
     "status": "ok",
     "timestamp": 1710291545626,
     "user": {
      "displayName": "",
      "userId": ""
     },
     "user_tz": 0
    },
    "id": "js8eewr5WysR",
    "outputId": "06329d86-9219-44fa-9914-ed78017cd2ab",
    "tags": []
   },
   "outputs": [
    {
     "data": {
      "text/plain": [
       "['data_cloud_final/data_cloud_final/imgs/train/YES/c3',\n",
       " 'data_cloud_final/data_cloud_final/imgs/train/YES/c1',\n",
       " 'data_cloud_final/data_cloud_final/imgs/train/YES/c6',\n",
       " 'data_cloud_final/data_cloud_final/imgs/train/YES/c7',\n",
       " 'data_cloud_final/data_cloud_final/imgs/train/YES/c4',\n",
       " 'data_cloud_final/data_cloud_final/imgs/train/YES/c5',\n",
       " 'data_cloud_final/data_cloud_final/imgs/train/YES/c2',\n",
       " 'data_cloud_final/data_cloud_final/imgs/train/YES/c8',\n",
       " 'data_cloud_final/data_cloud_final/imgs/train/YES/c9']"
      ]
     },
     "execution_count": 25,
     "metadata": {},
     "output_type": "execute_result"
    }
   ],
   "source": [
    "yes_subfolder_subfolder = [f.path for f in os.scandir(yes_subfolder) if f.is_dir()]\n",
    "yes_subfolder_subfolder"
   ]
  },
  {
   "cell_type": "code",
   "execution_count": 26,
   "id": "sgYytBMvW0oW",
   "metadata": {
    "colab": {
     "base_uri": "https://localhost:8080/",
     "height": 35
    },
    "executionInfo": {
     "elapsed": 15,
     "status": "ok",
     "timestamp": 1710291545626,
     "user": {
      "displayName": "",
      "userId": ""
     },
     "user_tz": 0
    },
    "id": "sgYytBMvW0oW",
    "outputId": "af7e5d9b-403c-4317-dbc7-34af47c71b88",
    "tags": []
   },
   "outputs": [
    {
     "data": {
      "text/plain": [
       "'data_cloud_final/data_cloud_final/imgs/train/NO'"
      ]
     },
     "execution_count": 26,
     "metadata": {},
     "output_type": "execute_result"
    }
   ],
   "source": [
    "no_subfolder=subfolders[1]\n",
    "no_subfolder"
   ]
  },
  {
   "cell_type": "code",
   "execution_count": 27,
   "id": "iNYu8-zy-TXQ",
   "metadata": {
    "colab": {
     "base_uri": "https://localhost:8080/"
    },
    "executionInfo": {
     "elapsed": 13,
     "status": "ok",
     "timestamp": 1710291545626,
     "user": {
      "displayName": "",
      "userId": ""
     },
     "user_tz": 0
    },
    "id": "iNYu8-zy-TXQ",
    "outputId": "4997de0c-93d6-4e59-e532-ef1e2ec3cea8",
    "tags": []
   },
   "outputs": [
    {
     "data": {
      "text/plain": [
       "['data_cloud_final/data_cloud_final/imgs/train/NO/c0']"
      ]
     },
     "execution_count": 27,
     "metadata": {},
     "output_type": "execute_result"
    }
   ],
   "source": [
    "no_subfolder_subfolder = [f.path for f in os.scandir(no_subfolder) if f.is_dir()]\n",
    "no_subfolder_subfolder"
   ]
  },
  {
   "cell_type": "code",
   "execution_count": 28,
   "id": "nRc9PBUaW178",
   "metadata": {
    "executionInfo": {
     "elapsed": 12,
     "status": "ok",
     "timestamp": 1710291545627,
     "user": {
      "displayName": "",
      "userId": ""
     },
     "user_tz": 0
    },
    "id": "nRc9PBUaW178",
    "tags": []
   },
   "outputs": [],
   "source": [
    "images_yes = []\n",
    "\n",
    "for subfolder in yes_subfolder_subfolder:\n",
    "    files = [f.path for f in os.scandir(subfolder) if f.is_file() and f.name.endswith('.jpg')]\n",
    "    images_yes.extend(files)"
   ]
  },
  {
   "cell_type": "code",
   "execution_count": 29,
   "id": "hHivO3FiW3bA",
   "metadata": {
    "colab": {
     "base_uri": "https://localhost:8080/"
    },
    "executionInfo": {
     "elapsed": 12,
     "status": "ok",
     "timestamp": 1710291545627,
     "user": {
      "displayName": "",
      "userId": ""
     },
     "user_tz": 0
    },
    "id": "hHivO3FiW3bA",
    "outputId": "0cb0003e-d942-4058-b47a-49f6532cd2b6",
    "tags": []
   },
   "outputs": [
    {
     "data": {
      "text/plain": [
       "2259"
      ]
     },
     "execution_count": 29,
     "metadata": {},
     "output_type": "execute_result"
    }
   ],
   "source": [
    "len(images_yes)"
   ]
  },
  {
   "cell_type": "code",
   "execution_count": 30,
   "id": "uBW8JpTBZLz-",
   "metadata": {
    "executionInfo": {
     "elapsed": 100,
     "status": "ok",
     "timestamp": 1710291549239,
     "user": {
      "displayName": "",
      "userId": ""
     },
     "user_tz": 0
    },
    "id": "uBW8JpTBZLz-",
    "tags": []
   },
   "outputs": [],
   "source": [
    "image_no=[]\n",
    "\n",
    "for subfolder in no_subfolder_subfolder:\n",
    "    files = [f.path for f in os.scandir(subfolder) if f.is_file() and f.name.endswith('.jpg')]\n",
    "    image_no.extend(files)"
   ]
  },
  {
   "cell_type": "code",
   "execution_count": 31,
   "id": "dkzRqdkZaE_c",
   "metadata": {
    "colab": {
     "base_uri": "https://localhost:8080/"
    },
    "executionInfo": {
     "elapsed": 124,
     "status": "ok",
     "timestamp": 1710291549882,
     "user": {
      "displayName": "",
      "userId": ""
     },
     "user_tz": 0
    },
    "id": "dkzRqdkZaE_c",
    "outputId": "a3956895-c196-40ff-d56a-da0e938c2b56",
    "tags": []
   },
   "outputs": [
    {
     "data": {
      "text/plain": [
       "2259"
      ]
     },
     "execution_count": 31,
     "metadata": {},
     "output_type": "execute_result"
    }
   ],
   "source": [
    "len(image_no)"
   ]
  },
  {
   "cell_type": "markdown",
   "id": "wxD1H7YMaVyv",
   "metadata": {
    "id": "wxD1H7YMaVyv",
    "jp-MarkdownHeadingCollapsed": true,
    "tags": []
   },
   "source": [
    "# Training set creation {Balanced}"
   ]
  },
  {
   "cell_type": "code",
   "execution_count": 32,
   "id": "767b2be0-345d-43a7-8740-7f461655e7d9",
   "metadata": {
    "tags": []
   },
   "outputs": [],
   "source": [
    "def count_jpg_files_in_directory(path):\n",
    "    # Initialize a counter\n",
    "    jpg_count = 0\n",
    "\n",
    "    # Walk through the directory and count JPG files\n",
    "    for root, dirs, files in os.walk(path):\n",
    "        for file in files:\n",
    "            if file.lower().endswith('.jpg'):\n",
    "                jpg_count += 1\n",
    "\n",
    "    return jpg_count"
   ]
  },
  {
   "cell_type": "code",
   "execution_count": 33,
   "id": "ec5d2e27-0482-4af2-90e0-adca5ee33ce0",
   "metadata": {
    "tags": []
   },
   "outputs": [],
   "source": [
    "# Number of images to pick from each subfolder\n",
    "num_images_to_train_test = 900"
   ]
  },
  {
   "cell_type": "markdown",
   "id": "4tN4D_RLayvy",
   "metadata": {
    "id": "4tN4D_RLayvy"
   },
   "source": [
    "### NO"
   ]
  },
  {
   "cell_type": "code",
   "execution_count": 34,
   "id": "c2ePhEN4akSC",
   "metadata": {
    "colab": {
     "base_uri": "https://localhost:8080/"
    },
    "executionInfo": {
     "elapsed": 447,
     "status": "ok",
     "timestamp": 1710291558729,
     "user": {
      "displayName": "",
      "userId": ""
     },
     "user_tz": 0
    },
    "id": "c2ePhEN4akSC",
    "outputId": "37ab5c27-596f-46ac-d368-7f34b218a8ba",
    "tags": []
   },
   "outputs": [
    {
     "name": "stdout",
     "output_type": "stream",
     "text": [
      "900 images from each subfolder have been copied to training_set/.\n"
     ]
    }
   ],
   "source": [
    "# Pick the specified number of images\n",
    "selected_images_train = random.sample(image_no, num_images_to_train_test)\n",
    "\n",
    "# make destination directory\n",
    "destination_dir_train = r'training_set/'\n",
    "\n",
    "# Remove existing directories and create new ones\n",
    "shutil.rmtree(destination_dir_train, ignore_errors=True)\n",
    "os.makedirs(destination_dir_train)\n",
    "\n",
    "for image_path in selected_images_train:\n",
    "    # Create the destination subfolder structure in the destination directory\n",
    "    relative_path = os.path.relpath(image_path, imgs)\n",
    "    relative_path = relative_path.replace(\"/c0\",\"\")\n",
    "    destination_path = os.path.join(destination_dir_train, relative_path)\n",
    "    os.makedirs(os.path.dirname(destination_path), exist_ok=True)\n",
    "    # Copy the image\n",
    "    shutil.copyfile(image_path, destination_path)\n",
    "\n",
    "print(f\"{num_images_to_train_test} images from each subfolder have been copied to {destination_dir_train}.\")"
   ]
  },
  {
   "cell_type": "code",
   "execution_count": 35,
   "id": "b4e05e37-dfb4-4949-8d69-e7bbdcff3973",
   "metadata": {
    "tags": []
   },
   "outputs": [
    {
     "name": "stdout",
     "output_type": "stream",
     "text": [
      "Number of NO images in directory: 900\n"
     ]
    }
   ],
   "source": [
    "path = r'training_set/NO'\n",
    "file_count = count_jpg_files_in_directory(path)\n",
    "print(\"Number of NO images in directory:\", file_count)"
   ]
  },
  {
   "cell_type": "markdown",
   "id": "pV-nQGk7bEnZ",
   "metadata": {
    "id": "pV-nQGk7bEnZ"
   },
   "source": [
    "### YES"
   ]
  },
  {
   "cell_type": "code",
   "execution_count": 36,
   "id": "BrcP4Uw1bG6v",
   "metadata": {
    "colab": {
     "base_uri": "https://localhost:8080/"
    },
    "executionInfo": {
     "elapsed": 284,
     "status": "ok",
     "timestamp": 1710291562218,
     "user": {
      "displayName": "",
      "userId": ""
     },
     "user_tz": 0
    },
    "id": "BrcP4Uw1bG6v",
    "outputId": "3b91a9ea-5a6d-4084-f33e-2365e4000f3c",
    "tags": []
   },
   "outputs": [
    {
     "name": "stdout",
     "output_type": "stream",
     "text": [
      "100 images from  data_cloud_final/data_cloud_final/imgs/train/YES/c3 have been copied to training_set/.\n",
      "100 images from  data_cloud_final/data_cloud_final/imgs/train/YES/c1 have been copied to training_set/.\n",
      "100 images from  data_cloud_final/data_cloud_final/imgs/train/YES/c6 have been copied to training_set/.\n",
      "100 images from  data_cloud_final/data_cloud_final/imgs/train/YES/c7 have been copied to training_set/.\n",
      "100 images from  data_cloud_final/data_cloud_final/imgs/train/YES/c4 have been copied to training_set/.\n",
      "100 images from  data_cloud_final/data_cloud_final/imgs/train/YES/c5 have been copied to training_set/.\n",
      "100 images from  data_cloud_final/data_cloud_final/imgs/train/YES/c2 have been copied to training_set/.\n",
      "100 images from  data_cloud_final/data_cloud_final/imgs/train/YES/c8 have been copied to training_set/.\n",
      "100 images from  data_cloud_final/data_cloud_final/imgs/train/YES/c9 have been copied to training_set/.\n"
     ]
    }
   ],
   "source": [
    "for folder in yes_subfolder_subfolder:\n",
    "\n",
    "    images = [f.path for f in os.scandir(folder) if f.is_file() and f.name.endswith(('.jpg'))]\n",
    "    # print(images[:3])\n",
    "    # Pick the specified number of images\n",
    "    selected_images_train = random.sample(images, int(num_images_to_train_test / 9))\n",
    "\n",
    "    # make destination directory\n",
    "    destination_dir_train = r'training_set/'\n",
    "\n",
    "    os.makedirs(destination_dir_train,exist_ok=True)\n",
    "\n",
    "    for image_path in selected_images_train:\n",
    "        # Create the destination subfolder structure in the destination directory\n",
    "        relative_path = os.path.relpath(image_path, imgs)\n",
    "\n",
    "         # Define the list of 'cX' values to replace\n",
    "        c_values_to_replace = [f'/c{i}' for i in range(10)]\n",
    "\n",
    "        # Remove 'cX' values from the relative_path\n",
    "        for c_value in c_values_to_replace:\n",
    "            relative_path = relative_path.replace(c_value, '')\n",
    "\n",
    "        destination_path = os.path.join(destination_dir_train, relative_path)\n",
    "        os.makedirs(os.path.dirname(destination_path), exist_ok=True)\n",
    "        # Copy the image\n",
    "        shutil.copyfile(image_path, destination_path)\n",
    "\n",
    "    print(f\"{int(num_images_to_train_test / 9)} images from  {folder} have been copied to {destination_dir_train}.\")"
   ]
  },
  {
   "cell_type": "code",
   "execution_count": 38,
   "id": "69f063b3-8a43-409d-ba69-33a21d0fd315",
   "metadata": {
    "tags": []
   },
   "outputs": [
    {
     "name": "stdout",
     "output_type": "stream",
     "text": [
      "Number of YES images in directory: 900\n"
     ]
    }
   ],
   "source": [
    "path = r'training_set/YES'\n",
    "file_count = count_jpg_files_in_directory(path)\n",
    "print(\"Number of YES images in directory:\", file_count)"
   ]
  },
  {
   "cell_type": "markdown",
   "id": "4eWw9fvGbfEt",
   "metadata": {
    "id": "4eWw9fvGbfEt",
    "tags": []
   },
   "source": [
    "# Loading Images"
   ]
  },
  {
   "cell_type": "code",
   "execution_count": 4,
   "id": "eXl9h4ZFbjgl",
   "metadata": {
    "colab": {
     "base_uri": "https://localhost:8080/"
    },
    "executionInfo": {
     "elapsed": 792,
     "status": "ok",
     "timestamp": 1710291566697,
     "user": {
      "displayName": "",
      "userId": ""
     },
     "user_tz": 0
    },
    "id": "eXl9h4ZFbjgl",
    "outputId": "584bd064-41d3-4f52-c6dc-1cf81ba35d47",
    "tags": []
   },
   "outputs": [],
   "source": [
    "# Define the directory path\n",
    "directory = 'training_set/'\n",
    "\n",
    "# Function to recursively find image files in subfolders\n",
    "def find_images(directory):\n",
    "    image_files = []\n",
    "    for root, dirs, files in os.walk(directory):\n",
    "        for file in files:\n",
    "            # Check if the file has an image extension\n",
    "            if file.lower().endswith(('.png', '.jpg', '.jpeg', '.gif', '.bmp')):\n",
    "                image_files.append(os.path.join(root, file))\n",
    "    return image_files\n",
    "\n",
    "# Find all image files in subfolders\n",
    "all_image_paths = find_images(directory)"
   ]
  },
  {
   "cell_type": "code",
   "execution_count": 5,
   "id": "KlskbvCxbtN1",
   "metadata": {
    "executionInfo": {
     "elapsed": 130,
     "status": "ok",
     "timestamp": 1710291570149,
     "user": {
      "displayName": "",
      "userId": ""
     },
     "user_tz": 0
    },
    "id": "KlskbvCxbtN1",
    "tags": []
   },
   "outputs": [],
   "source": [
    "all_image_paths_sorted = sorted(all_image_paths)"
   ]
  },
  {
   "cell_type": "code",
   "execution_count": 6,
   "id": "5z0S5fwlc5GL",
   "metadata": {
    "colab": {
     "base_uri": "https://localhost:8080/"
    },
    "executionInfo": {
     "elapsed": 215,
     "status": "ok",
     "timestamp": 1710291570798,
     "user": {
      "displayName": "",
      "userId": ""
     },
     "user_tz": 0
    },
    "id": "5z0S5fwlc5GL",
    "outputId": "5af77681-e853-469b-ae53-23e9c97988e9",
    "tags": []
   },
   "outputs": [
    {
     "data": {
      "text/plain": [
       "1800"
      ]
     },
     "execution_count": 6,
     "metadata": {},
     "output_type": "execute_result"
    }
   ],
   "source": [
    "len(all_image_paths_sorted)"
   ]
  },
  {
   "cell_type": "markdown",
   "id": "bb2f35c1-50b0-41d1-a515-a221800a54e4",
   "metadata": {
    "tags": []
   },
   "source": [
    "# Import CUDA"
   ]
  },
  {
   "cell_type": "code",
   "execution_count": 7,
   "id": "4z1QaDP5bor5",
   "metadata": {
    "colab": {
     "base_uri": "https://localhost:8080/"
    },
    "executionInfo": {
     "elapsed": 3,
     "status": "ok",
     "timestamp": 1710291568571,
     "user": {
      "displayName": "",
      "userId": ""
     },
     "user_tz": 0
    },
    "id": "4z1QaDP5bor5",
    "outputId": "d56c29fa-adcb-4d34-ce3a-4ca25ffe3b7a",
    "tags": []
   },
   "outputs": [
    {
     "name": "stdout",
     "output_type": "stream",
     "text": [
      "Number of available GPUs: 1\n",
      "GPU 0: Tesla T4\n"
     ]
    }
   ],
   "source": [
    "# Check if GPU is available\n",
    "if torch.cuda.is_available():\n",
    "    # Get the number of available GPUs\n",
    "    num_gpus = torch.cuda.device_count()\n",
    "\n",
    "    print(f\"Number of available GPUs: {num_gpus}\")\n",
    "\n",
    "    # Print information about each GPU\n",
    "    for i in range(num_gpus):\n",
    "        print(f\"GPU {i}: {torch.cuda.get_device_name(i)}\")\n",
    "else:\n",
    "    print(\"No GPU available. PyTorch is using CPU.\")"
   ]
  },
  {
   "cell_type": "markdown",
   "id": "15255462-deda-48eb-845a-a4c40a2ed973",
   "metadata": {},
   "source": [
    "# Train / Test {Creation}"
   ]
  },
  {
   "cell_type": "code",
   "execution_count": 15,
   "id": "HEL2X3alc6Mh",
   "metadata": {
    "executionInfo": {
     "elapsed": 124,
     "status": "ok",
     "timestamp": 1710291572139,
     "user": {
      "displayName": "",
      "userId": ""
     },
     "user_tz": 0
    },
    "id": "HEL2X3alc6Mh",
    "tags": []
   },
   "outputs": [],
   "source": [
    "train_x = all_image_paths_sorted\n",
    "train_y = [path.split('/')[-2] for path in all_image_paths_sorted]"
   ]
  },
  {
   "cell_type": "code",
   "execution_count": 16,
   "id": "duyuoLXwdODU",
   "metadata": {
    "executionInfo": {
     "elapsed": 129,
     "status": "ok",
     "timestamp": 1710291572948,
     "user": {
      "displayName": "",
      "userId": ""
     },
     "user_tz": 0
    },
    "id": "duyuoLXwdODU",
    "tags": []
   },
   "outputs": [],
   "source": [
    "train_x, test_x, train_y, test_y = train_test_split(train_x, train_y, test_size=0.2, random_state=5, stratify=train_y)"
   ]
  },
  {
   "cell_type": "markdown",
   "id": "d5ba7da8-9ba7-4903-af5e-09920bc058de",
   "metadata": {
    "tags": []
   },
   "source": [
    "## Trainsform "
   ]
  },
  {
   "cell_type": "code",
   "execution_count": 55,
   "id": "7IFcFl5JdSlv",
   "metadata": {
    "executionInfo": {
     "elapsed": 184,
     "status": "ok",
     "timestamp": 1710291575867,
     "user": {
      "displayName": "",
      "userId": ""
     },
     "user_tz": 0
    },
    "id": "7IFcFl5JdSlv",
    "tags": []
   },
   "outputs": [],
   "source": [
    "transforms = A.Compose(\n",
    "    [\n",
    "        A.Resize(height=300, width=300), # Resize to 300x300\"\n",
    "        A.ToFloat(),\n",
    "        ToTensorV2(),\n",
    "    ]\n",
    ")"
   ]
  },
  {
   "cell_type": "code",
   "execution_count": 18,
   "id": "X2_jXph-dYTh",
   "metadata": {
    "colab": {
     "base_uri": "https://localhost:8080/"
    },
    "executionInfo": {
     "elapsed": 140,
     "status": "ok",
     "timestamp": 1710291577009,
     "user": {
      "displayName": "",
      "userId": ""
     },
     "user_tz": 0
    },
    "id": "X2_jXph-dYTh",
    "outputId": "95968e55-d6c9-491f-c636-39a2084e060e",
    "tags": []
   },
   "outputs": [
    {
     "name": "stdout",
     "output_type": "stream",
     "text": [
      "tensor([0, 0, 1,  ..., 0, 0, 0])\n",
      "tensor([1, 1, 1, 1, 1, 0, 1, 0, 1, 0, 0, 1, 0, 0, 0, 1, 1, 0, 1, 1, 1, 0, 0, 1,\n",
      "        1, 0, 0, 0, 0, 0, 1, 1, 1, 1, 1, 0, 0, 1, 1, 1, 0, 0, 1, 1, 1, 0, 0, 0,\n",
      "        0, 0, 0, 0, 0, 0, 0, 0, 0, 1, 0, 1, 1, 1, 1, 1, 1, 1, 1, 0, 1, 1, 1, 0,\n",
      "        1, 0, 0, 1, 1, 1, 1, 0, 0, 1, 1, 1, 0, 1, 0, 1, 0, 1, 1, 0, 0, 0, 0, 1,\n",
      "        1, 1, 0, 1, 1, 1, 0, 0, 0, 1, 1, 0, 0, 0, 0, 1, 1, 0, 1, 0, 0, 1, 1, 0,\n",
      "        0, 0, 0, 0, 1, 0, 0, 0, 0, 0, 0, 1, 1, 1, 1, 1, 0, 1, 1, 1, 1, 0, 1, 1,\n",
      "        1, 1, 0, 1, 0, 1, 0, 1, 0, 0, 1, 1, 0, 1, 0, 1, 0, 1, 1, 0, 1, 0, 0, 0,\n",
      "        0, 0, 0, 1, 1, 0, 1, 0, 0, 0, 1, 1, 1, 0, 1, 1, 0, 1, 0, 0, 0, 0, 1, 0,\n",
      "        0, 0, 0, 1, 1, 1, 0, 0, 1, 1, 0, 0, 0, 1, 1, 0, 0, 1, 1, 0, 1, 1, 1, 1,\n",
      "        1, 0, 0, 0, 0, 1, 0, 0, 1, 1, 1, 1, 1, 1, 0, 0, 0, 0, 1, 0, 0, 0, 1, 0,\n",
      "        0, 0, 1, 0, 0, 0, 1, 1, 0, 0, 0, 0, 0, 0, 1, 1, 1, 0, 0, 1, 1, 0, 1, 0,\n",
      "        0, 0, 0, 1, 0, 0, 0, 1, 0, 1, 1, 0, 0, 0, 0, 1, 1, 0, 0, 0, 0, 1, 0, 1,\n",
      "        1, 0, 1, 1, 0, 1, 1, 1, 1, 1, 0, 1, 0, 0, 0, 1, 1, 1, 0, 1, 1, 1, 1, 0,\n",
      "        0, 1, 0, 0, 1, 1, 1, 1, 1, 0, 1, 1, 1, 1, 1, 0, 1, 0, 0, 0, 1, 0, 0, 1,\n",
      "        1, 0, 1, 0, 0, 0, 1, 1, 1, 0, 0, 1, 0, 1, 1, 1, 0, 1, 1, 1, 0, 0, 1, 0])\n"
     ]
    }
   ],
   "source": [
    "# Initialize the label encoder\n",
    "label_encoder = LabelEncoder()\n",
    "\n",
    "# Fit label encoder and transform labels\n",
    "encoded_labels_train = label_encoder.fit_transform(train_y)\n",
    "tensor_encoded_labels_train = torch.tensor(encoded_labels_train)\n",
    "pprint(tensor_encoded_labels_train)\n",
    "\n",
    "\n",
    "# Fit label encoder and transform labels\n",
    "encoded_labels_test = label_encoder.fit_transform(test_y)\n",
    "tensor_encoded_labels_test = torch.tensor(encoded_labels_test)\n",
    "pprint(tensor_encoded_labels_test)"
   ]
  },
  {
   "cell_type": "markdown",
   "id": "486cab70-474c-4c3f-b03f-06bae7a404d4",
   "metadata": {
    "tags": []
   },
   "source": [
    "# Image Dataset Class"
   ]
  },
  {
   "cell_type": "code",
   "execution_count": 23,
   "id": "zbu2gpGadpGY",
   "metadata": {
    "executionInfo": {
     "elapsed": 2,
     "status": "ok",
     "timestamp": 1710291579259,
     "user": {
      "displayName": "",
      "userId": ""
     },
     "user_tz": 0
    },
    "id": "zbu2gpGadpGY",
    "tags": []
   },
   "outputs": [],
   "source": [
    "class image_Dataset(Dataset):\n",
    "    def __init__(self, image_paths, tensor_encoded_labels, transform=None):\n",
    "        \"\"\"\n",
    "        Args:\n",
    "            image_paths (list): List of file paths to images.\n",
    "            labels (list): List of labels corresponding to the images.\n",
    "            transform (callable, optional): Optional transform to be applied on a sample.\n",
    "        \"\"\"\n",
    "        self.image_paths = image_paths\n",
    "        self.labels = tensor_encoded_labels\n",
    "        self.transform = transform\n",
    "\n",
    "\n",
    "    def __len__(self):\n",
    "        return len(self.image_paths)\n",
    "\n",
    "    def __getitem__(self, idx):\n",
    "        image_filepath = self.image_paths[idx]\n",
    "        image = cv2.imread(image_filepath)\n",
    "        image = cv2.cvtColor(image, cv2.COLOR_BGR2RGB)\n",
    "\n",
    "        if self.transform is not None and callable(self.transform):\n",
    "            image = self.transform(image=image)[\"image\"]\n",
    "\n",
    "        # Convert label to PyTorch tensor\n",
    "        label = self.labels[idx]\n",
    "\n",
    "        return image, label"
   ]
  },
  {
   "cell_type": "markdown",
   "id": "03874653-06dc-4281-8ef7-52d99822ae49",
   "metadata": {
    "tags": []
   },
   "source": [
    "## Dataset check"
   ]
  },
  {
   "cell_type": "code",
   "execution_count": 20,
   "id": "9c1FJiJSds5G",
   "metadata": {
    "executionInfo": {
     "elapsed": 157,
     "status": "ok",
     "timestamp": 1710291580112,
     "user": {
      "displayName": "",
      "userId": ""
     },
     "user_tz": 0
    },
    "id": "9c1FJiJSds5G",
    "tags": []
   },
   "outputs": [],
   "source": [
    "#######################################################\n",
    "#                  Create Dataset\n",
    "#######################################################\n",
    "\n",
    "train_dataset = image_Dataset(train_x,tensor_encoded_labels_train,transforms)\n",
    "test_dataset = image_Dataset(test_x,tensor_encoded_labels_test,transforms)"
   ]
  },
  {
   "cell_type": "code",
   "execution_count": 21,
   "id": "hKckYCVedwcE",
   "metadata": {
    "colab": {
     "base_uri": "https://localhost:8080/",
     "height": 463
    },
    "executionInfo": {
     "elapsed": 376,
     "status": "ok",
     "timestamp": 1710291582044,
     "user": {
      "displayName": "",
      "userId": ""
     },
     "user_tz": 0
    },
    "id": "hKckYCVedwcE",
    "outputId": "0f3164f4-e958-4a0e-cfa0-75396dfa2d32",
    "tags": []
   },
   "outputs": [
    {
     "data": {
      "image/png": "[encoded data removed]",
      "text/plain": [
       "<Figure size 640x480 with 1 Axes>"
      ]
     },
     "metadata": {},
     "output_type": "display_data"
    },
    {
     "name": "stdout",
     "output_type": "stream",
     "text": [
      "The shape of tensor for 50th image in train dataset:  torch.Size([3, 300, 300])\n",
      "The label for 50th image in train dataset:  tensor(0)\n"
     ]
    }
   ],
   "source": [
    "for i in range(1):\n",
    "  image, label = train_dataset[i]\n",
    "  image = TF.to_pil_image(image)  # Convert the tensor to a PIL Image\n",
    "  image = np.array(image)\n",
    "  plt.imshow(image)\n",
    "  plt.title(f\"Label: {label}\")\n",
    "  plt.axis('off')  # Turn off axis\n",
    "  plt.show()\n",
    "\n",
    "print('The shape of tensor for 50th image in train dataset: ',train_dataset[0][0].shape)\n",
    "print('The label for 50th image in train dataset: ',train_dataset[0][1])"
   ]
  },
  {
   "cell_type": "code",
   "execution_count": 22,
   "id": "IAtQlb1Bdv-6",
   "metadata": {
    "executionInfo": {
     "elapsed": 2,
     "status": "ok",
     "timestamp": 1710291580820,
     "user": {
      "displayName": "",
      "userId": ""
     },
     "user_tz": 0
    },
    "id": "IAtQlb1Bdv-6",
    "tags": []
   },
   "outputs": [],
   "source": [
    "#######################################################\n",
    "#                  load Dataset\n",
    "#######################################################\n",
    "\n",
    "train_loader = DataLoader(train_dataset, batch_size=64, shuffle=False)\n",
    "test_loader = DataLoader(test_dataset, batch_size=64, shuffle=True)"
   ]
  },
  {
   "cell_type": "markdown",
   "id": "95868fe5-2b16-409b-81ac-03632e21cddd",
   "metadata": {
    "tags": []
   },
   "source": [
    "# Different Model Architectures"
   ]
  },
  {
   "cell_type": "markdown",
   "id": "lhgroKKweFln",
   "metadata": {
    "id": "lhgroKKweFln",
    "tags": []
   },
   "source": [
    "## Architecture-1"
   ]
  },
  {
   "cell_type": "code",
   "execution_count": 56,
   "id": "ryyuI8lneM36",
   "metadata": {
    "executionInfo": {
     "elapsed": 192,
     "status": "ok",
     "timestamp": 1710291585264,
     "user": {
      "displayName": "",
      "userId": ""
     },
     "user_tz": 0
    },
    "id": "ryyuI8lneM36",
    "tags": []
   },
   "outputs": [],
   "source": [
    "class ImageClassifier(nn.Module):\n",
    "    def __init__(self, num_classes=2):\n",
    "        super(ImageClassifier, self).__init__()\n",
    "        self.conv_layer_1 = nn.Sequential(\n",
    "            nn.Conv2d(in_channels=3, out_channels=64, kernel_size=3, padding=1),\n",
    "            nn.ReLU(),\n",
    "            nn.BatchNorm2d(64),\n",
    "            nn.MaxPool2d(3))\n",
    "        self.conv_layer_2 = nn.Sequential(\n",
    "            nn.Conv2d(in_channels=64, out_channels=128, kernel_size=3, padding=1),\n",
    "            nn.ReLU(),\n",
    "            nn.BatchNorm2d(128),\n",
    "            nn.MaxPool2d(3))\n",
    "        self.classifier = nn.Sequential(\n",
    "            nn.Flatten(),\n",
    "            nn.Linear(in_features=128*33*33, out_features=num_classes))\n",
    "\n",
    "    def forward(self, x: torch.Tensor):\n",
    "        x = self.conv_layer_1(x)\n",
    "        x = self.conv_layer_2(x)\n",
    "        x = self.classifier(x)\n",
    "        return x"
   ]
  },
  {
   "cell_type": "markdown",
   "id": "81d1d36f-f5b8-4824-ae7b-446422d5bff7",
   "metadata": {
    "jp-MarkdownHeadingCollapsed": true,
    "tags": []
   },
   "source": [
    "### Version 1"
   ]
  },
  {
   "cell_type": "markdown",
   "id": "e1f76ae6-a415-4664-b9bc-6bd3dafcc7f4",
   "metadata": {
    "tags": []
   },
   "source": [
    "#### V1.0"
   ]
  },
  {
   "cell_type": "code",
   "execution_count": 52,
   "id": "a2bf1401-7f59-4fb2-81aa-c5f3e2cb0e9e",
   "metadata": {
    "tags": []
   },
   "outputs": [
    {
     "data": {
      "text/plain": [
       "ImageClassifier(\n",
       "  (conv_layer_1): Sequential(\n",
       "    (0): Conv2d(3, 64, kernel_size=(3, 3), stride=(1, 1), padding=(1, 1))\n",
       "    (1): ReLU()\n",
       "    (2): BatchNorm2d(64, eps=1e-05, momentum=0.1, affine=True, track_running_stats=True)\n",
       "    (3): MaxPool2d(kernel_size=3, stride=3, padding=0, dilation=1, ceil_mode=False)\n",
       "  )\n",
       "  (conv_layer_2): Sequential(\n",
       "    (0): Conv2d(64, 128, kernel_size=(3, 3), stride=(1, 1), padding=(1, 1))\n",
       "    (1): ReLU()\n",
       "    (2): BatchNorm2d(128, eps=1e-05, momentum=0.1, affine=True, track_running_stats=True)\n",
       "    (3): MaxPool2d(kernel_size=3, stride=3, padding=0, dilation=1, ceil_mode=False)\n",
       "  )\n",
       "  (classifier): Sequential(\n",
       "    (0): Flatten(start_dim=1, end_dim=-1)\n",
       "    (1): Linear(in_features=139392, out_features=2, bias=True)\n",
       "  )\n",
       ")"
      ]
     },
     "execution_count": 52,
     "metadata": {},
     "output_type": "execute_result"
    }
   ],
   "source": [
    "modelV1_0 = ImageClassifier()\n",
    "modelV1_0.cuda()\n",
    "modelV1_0.train()"
   ]
  },
  {
   "cell_type": "code",
   "execution_count": 53,
   "id": "34f20b36-0cf6-4f1b-9f80-724eb5491c2b",
   "metadata": {
    "tags": []
   },
   "outputs": [],
   "source": [
    "criterion = nn.CrossEntropyLoss()\n",
    "optimizer = torch.optim.SGD(modelV1_0.parameters(), lr=0.001, momentum=0.75)\n",
    "num_epochs = 20"
   ]
  },
  {
   "cell_type": "code",
   "execution_count": 54,
   "id": "1f852d36-fe9f-4ba1-9e66-bb8012f3ae33",
   "metadata": {
    "tags": []
   },
   "outputs": [
    {
     "name": "stdout",
     "output_type": "stream",
     "text": [
      "Epoch [1/20], Loss: 7.9078\n",
      "Epoch [2/20], Loss: 1.0761\n",
      "Epoch [3/20], Loss: 1.7510\n",
      "Epoch [4/20], Loss: 0.5155\n",
      "Epoch [5/20], Loss: 0.0493\n",
      "Epoch [6/20], Loss: 0.0195\n",
      "Epoch [7/20], Loss: 0.0011\n",
      "Epoch [8/20], Loss: 0.0006\n",
      "Epoch [9/20], Loss: 0.0001\n",
      "Epoch [10/20], Loss: 0.0000\n",
      "Epoch [11/20], Loss: 0.0000\n",
      "Epoch [12/20], Loss: 0.0000\n",
      "Epoch [13/20], Loss: 0.0000\n",
      "Epoch [14/20], Loss: 0.0000\n",
      "Epoch [15/20], Loss: 0.0000\n",
      "Epoch [16/20], Loss: 0.0000\n",
      "Epoch [17/20], Loss: 0.0000\n",
      "Epoch [18/20], Loss: 0.0000\n",
      "Epoch [19/20], Loss: 0.0000\n",
      "Epoch [20/20], Loss: 0.0000\n"
     ]
    }
   ],
   "source": [
    "for epoch in range(num_epochs):\n",
    "    total_loss = 0.0\n",
    "    for inputs, labels in train_loader:\n",
    "        inputs, labels = inputs.cuda(), labels.cuda()\n",
    "        optimizer.zero_grad()\n",
    "        outputs = modelV1_0(inputs)\n",
    "        loss = criterion(outputs, labels)\n",
    "        loss.backward()\n",
    "        optimizer.step()\n",
    "        total_loss += loss.item()*inputs.size(0)\n",
    "\n",
    "    average_loss = total_loss / len(train_loader.sampler)\n",
    "    print(f'Epoch [{epoch + 1}/{num_epochs}], Loss: {average_loss:.4f}')"
   ]
  },
  {
   "cell_type": "code",
   "execution_count": 55,
   "id": "37a69380-5ca3-42f7-bddd-3b30bf7602f1",
   "metadata": {
    "tags": []
   },
   "outputs": [],
   "source": [
    "torch.save(modelV1_0, 'modelV1_0.pth')"
   ]
  },
  {
   "cell_type": "markdown",
   "id": "488782f6-9b76-4148-ac1c-af843ffed04c",
   "metadata": {
    "tags": []
   },
   "source": [
    "#### V1.1"
   ]
  },
  {
   "cell_type": "code",
   "execution_count": 56,
   "id": "05_o2KcYeNNb",
   "metadata": {
    "executionInfo": {
     "elapsed": 179,
     "status": "ok",
     "timestamp": 1710291586120,
     "user": {
      "displayName": "",
      "userId": ""
     },
     "user_tz": 0
    },
    "id": "05_o2KcYeNNb",
    "tags": []
   },
   "outputs": [
    {
     "data": {
      "text/plain": [
       "ImageClassifier(\n",
       "  (conv_layer_1): Sequential(\n",
       "    (0): Conv2d(3, 64, kernel_size=(3, 3), stride=(1, 1), padding=(1, 1))\n",
       "    (1): ReLU()\n",
       "    (2): BatchNorm2d(64, eps=1e-05, momentum=0.1, affine=True, track_running_stats=True)\n",
       "    (3): MaxPool2d(kernel_size=3, stride=3, padding=0, dilation=1, ceil_mode=False)\n",
       "  )\n",
       "  (conv_layer_2): Sequential(\n",
       "    (0): Conv2d(64, 128, kernel_size=(3, 3), stride=(1, 1), padding=(1, 1))\n",
       "    (1): ReLU()\n",
       "    (2): BatchNorm2d(128, eps=1e-05, momentum=0.1, affine=True, track_running_stats=True)\n",
       "    (3): MaxPool2d(kernel_size=3, stride=3, padding=0, dilation=1, ceil_mode=False)\n",
       "  )\n",
       "  (classifier): Sequential(\n",
       "    (0): Flatten(start_dim=1, end_dim=-1)\n",
       "    (1): Linear(in_features=139392, out_features=2, bias=True)\n",
       "  )\n",
       ")"
      ]
     },
     "execution_count": 56,
     "metadata": {},
     "output_type": "execute_result"
    }
   ],
   "source": [
    "modelV1_1 = ImageClassifier()\n",
    "modelV1_1 = modelV1_1.to('cuda')\n",
    "modelV1_1.train()"
   ]
  },
  {
   "cell_type": "code",
   "execution_count": 57,
   "id": "s3V7lVS0eOlN",
   "metadata": {
    "colab": {
     "base_uri": "https://localhost:8080/"
    },
    "executionInfo": {
     "elapsed": 166,
     "status": "ok",
     "timestamp": 1710291586941,
     "user": {
      "displayName": "",
      "userId": ""
     },
     "user_tz": 0
    },
    "id": "s3V7lVS0eOlN",
    "outputId": "e66835a0-e069-48cc-ed44-877f4f46f6cc",
    "tags": []
   },
   "outputs": [],
   "source": [
    "criterion = nn.CrossEntropyLoss()\n",
    "optimizer = torch.optim.SGD(modelV1_1.parameters(), lr=0.0001, momentum=0.50)\n",
    "num_epochs = 20"
   ]
  },
  {
   "cell_type": "code",
   "execution_count": 58,
   "id": "2gV_jx_sEw9F",
   "metadata": {
    "colab": {
     "base_uri": "https://localhost:8080/"
    },
    "executionInfo": {
     "elapsed": 262858,
     "status": "ok",
     "timestamp": 1710291850709,
     "user": {
      "displayName": "",
      "userId": ""
     },
     "user_tz": 0
    },
    "id": "2gV_jx_sEw9F",
    "outputId": "dd2038a3-dd1f-4e88-a989-59c3753d265e",
    "tags": []
   },
   "outputs": [
    {
     "name": "stdout",
     "output_type": "stream",
     "text": [
      "Epoch [1/20], Loss: 1.2609\n",
      "Epoch [2/20], Loss: 0.3261\n",
      "Epoch [3/20], Loss: 0.1339\n",
      "Epoch [4/20], Loss: 0.1013\n",
      "Epoch [5/20], Loss: 0.0552\n",
      "Epoch [6/20], Loss: 0.0393\n",
      "Epoch [7/20], Loss: 0.0317\n",
      "Epoch [8/20], Loss: 0.0271\n",
      "Epoch [9/20], Loss: 0.0238\n",
      "Epoch [10/20], Loss: 0.0213\n",
      "Epoch [11/20], Loss: 0.0192\n",
      "Epoch [12/20], Loss: 0.0176\n",
      "Epoch [13/20], Loss: 0.0163\n",
      "Epoch [14/20], Loss: 0.0152\n",
      "Epoch [15/20], Loss: 0.0142\n",
      "Epoch [16/20], Loss: 0.0134\n",
      "Epoch [17/20], Loss: 0.0127\n",
      "Epoch [18/20], Loss: 0.0121\n",
      "Epoch [19/20], Loss: 0.0115\n",
      "Epoch [20/20], Loss: 0.0110\n"
     ]
    }
   ],
   "source": [
    "for epoch in range(num_epochs):\n",
    "    total_loss = 0.0\n",
    "    for inputs, labels in train_loader:\n",
    "        inputs, labels = inputs.cuda(), labels.cuda()\n",
    "        optimizer.zero_grad()\n",
    "        outputs = modelV1_1(inputs)\n",
    "        loss = criterion(outputs, labels)\n",
    "        loss.backward()\n",
    "        optimizer.step()\n",
    "        total_loss += loss.item()*inputs.size(0)\n",
    "\n",
    "    average_loss = total_loss / len(train_loader.sampler)\n",
    "    print(f'Epoch [{epoch + 1}/{num_epochs}], Loss: {average_loss:.4f}')"
   ]
  },
  {
   "cell_type": "code",
   "execution_count": 59,
   "id": "3zB5J4JBJ8V1",
   "metadata": {
    "executionInfo": {
     "elapsed": 115,
     "status": "ok",
     "timestamp": 1710291878122,
     "user": {
      "displayName": "",
      "userId": ""
     },
     "user_tz": 0
    },
    "id": "3zB5J4JBJ8V1",
    "tags": []
   },
   "outputs": [],
   "source": [
    "torch.save(modelV1_1, 'modelV1_1.pth')"
   ]
  },
  {
   "cell_type": "markdown",
   "id": "055cceee-d147-44de-a233-d27d6bc87156",
   "metadata": {
    "tags": []
   },
   "source": [
    "#### V1.2"
   ]
  },
  {
   "cell_type": "code",
   "execution_count": 60,
   "id": "b08e1bc2-ac09-4876-ae1c-20b8638ca74e",
   "metadata": {
    "tags": []
   },
   "outputs": [
    {
     "data": {
      "text/plain": [
       "ImageClassifier(\n",
       "  (conv_layer_1): Sequential(\n",
       "    (0): Conv2d(3, 64, kernel_size=(3, 3), stride=(1, 1), padding=(1, 1))\n",
       "    (1): ReLU()\n",
       "    (2): BatchNorm2d(64, eps=1e-05, momentum=0.1, affine=True, track_running_stats=True)\n",
       "    (3): MaxPool2d(kernel_size=3, stride=3, padding=0, dilation=1, ceil_mode=False)\n",
       "  )\n",
       "  (conv_layer_2): Sequential(\n",
       "    (0): Conv2d(64, 128, kernel_size=(3, 3), stride=(1, 1), padding=(1, 1))\n",
       "    (1): ReLU()\n",
       "    (2): BatchNorm2d(128, eps=1e-05, momentum=0.1, affine=True, track_running_stats=True)\n",
       "    (3): MaxPool2d(kernel_size=3, stride=3, padding=0, dilation=1, ceil_mode=False)\n",
       "  )\n",
       "  (classifier): Sequential(\n",
       "    (0): Flatten(start_dim=1, end_dim=-1)\n",
       "    (1): Linear(in_features=139392, out_features=2, bias=True)\n",
       "  )\n",
       ")"
      ]
     },
     "execution_count": 60,
     "metadata": {},
     "output_type": "execute_result"
    }
   ],
   "source": [
    "modelV1_2 = ImageClassifier()\n",
    "modelV1_2 = modelV1_2.to('cuda')\n",
    "modelV1_2.train()"
   ]
  },
  {
   "cell_type": "code",
   "execution_count": 61,
   "id": "22cfda17-34fc-4034-81fc-018805f2f8eb",
   "metadata": {
    "tags": []
   },
   "outputs": [],
   "source": [
    "criterion = nn.CrossEntropyLoss()\n",
    "optimizer = optim.Adam(modelV1_2.parameters(), lr=0.0001)\n",
    "num_epochs = 20"
   ]
  },
  {
   "cell_type": "code",
   "execution_count": 62,
   "id": "0c8f0b74-8d24-4b07-a80e-5dc389fc9187",
   "metadata": {
    "tags": []
   },
   "outputs": [
    {
     "name": "stdout",
     "output_type": "stream",
     "text": [
      "Epoch [1/20], Loss: 2.0248\n",
      "Epoch [2/20], Loss: 0.2243\n",
      "Epoch [3/20], Loss: 0.0764\n",
      "Epoch [4/20], Loss: 0.0348\n",
      "Epoch [5/20], Loss: 0.0184\n",
      "Epoch [6/20], Loss: 0.0088\n",
      "Epoch [7/20], Loss: 0.0052\n",
      "Epoch [8/20], Loss: 0.0038\n",
      "Epoch [9/20], Loss: 0.0028\n",
      "Epoch [10/20], Loss: 0.0021\n",
      "Epoch [11/20], Loss: 0.0019\n",
      "Epoch [12/20], Loss: 0.0018\n",
      "Epoch [13/20], Loss: 0.0016\n",
      "Epoch [14/20], Loss: 0.0015\n",
      "Epoch [15/20], Loss: 0.0014\n",
      "Epoch [16/20], Loss: 0.0013\n",
      "Epoch [17/20], Loss: 0.0013\n",
      "Epoch [18/20], Loss: 0.0012\n",
      "Epoch [19/20], Loss: 0.0011\n",
      "Epoch [20/20], Loss: 0.0011\n"
     ]
    }
   ],
   "source": [
    "for epoch in range(num_epochs):\n",
    "    total_loss = 0.0\n",
    "    for inputs, labels in train_loader:\n",
    "        inputs, labels = inputs.cuda(), labels.cuda()\n",
    "        optimizer.zero_grad()\n",
    "        outputs = modelV1_2(inputs)\n",
    "        loss = criterion(outputs, labels)\n",
    "        loss.backward()\n",
    "        optimizer.step()\n",
    "        total_loss += loss.item()*inputs.size(0)\n",
    "\n",
    "    average_loss = total_loss / len(train_loader.sampler)\n",
    "    print(f'Epoch [{epoch + 1}/{num_epochs}], Loss: {average_loss:.4f}')"
   ]
  },
  {
   "cell_type": "code",
   "execution_count": 63,
   "id": "8ce05024-57be-4b47-b13b-91c635c71053",
   "metadata": {
    "tags": []
   },
   "outputs": [],
   "source": [
    "torch.save(modelV1_2, 'modelV1_2.pth')"
   ]
  },
  {
   "cell_type": "markdown",
   "id": "EWtqYSVle1DL",
   "metadata": {
    "id": "EWtqYSVle1DL",
    "tags": []
   },
   "source": [
    "## Architecture-2"
   ]
  },
  {
   "cell_type": "code",
   "execution_count": 28,
   "id": "9d93c057-f106-45f3-b0f4-2b10741c1f23",
   "metadata": {
    "executionInfo": {
     "elapsed": 3,
     "status": "ok",
     "timestamp": 1710291881838,
     "user": {
      "displayName": "",
      "userId": ""
     },
     "user_tz": 0
    },
    "id": "0SCBGfKoe6Og",
    "tags": []
   },
   "outputs": [],
   "source": [
    "class ImageClassifier_V2(nn.Module):\n",
    "    def __init__(self, num_classes=2):\n",
    "        super(ImageClassifier_V2, self).__init__()\n",
    "        self.conv_layer_1 = nn.Sequential(\n",
    "            nn.Conv2d(in_channels=3, out_channels=128, kernel_size=7, padding=3),\n",
    "            nn.ReLU(),\n",
    "            nn.BatchNorm2d(128),\n",
    "            nn.MaxPool2d(kernel_size=3, stride=3))\n",
    "\n",
    "        self.conv_layer_2 = nn.Sequential(\n",
    "            nn.Conv2d(in_channels=128, out_channels=256, kernel_size=3, padding=2),\n",
    "            nn.ReLU(),\n",
    "            nn.BatchNorm2d(256),\n",
    "            nn.MaxPool2d(kernel_size=3, stride=3))\n",
    "\n",
    "        self.conv_layer_3 = nn.Sequential(\n",
    "            nn.Conv2d(in_channels=256, out_channels=512, kernel_size=3, padding=2),  # Adjusted kernel_size\n",
    "            nn.ReLU(),\n",
    "            nn.BatchNorm2d(512),\n",
    "            nn.MaxPool2d(kernel_size=3, stride=1))  # Adjusted kernel_size and stride\n",
    "\n",
    "        # Calculate the input size for the linear layer based on the output of conv_layer_3\n",
    "        self.classifier_input_size = 512*34*34  # Adjusted based on the spatial dimensions\n",
    "\n",
    "        self.classifier = nn.Sequential(\n",
    "            nn.Flatten(),\n",
    "            nn.Linear(in_features=self.classifier_input_size, out_features=num_classes)\n",
    "        )\n",
    "\n",
    "    def forward(self, x: torch.Tensor):\n",
    "        x = self.conv_layer_1(x)\n",
    "        #print(\"Shape after conv_layer_1:\", x.shape)\n",
    "\n",
    "        x = self.conv_layer_2(x)\n",
    "\n",
    "        #print(\"Shape after conv_layer_2:\", x.shape)\n",
    "        x = self.conv_layer_3(x)\n",
    "\n",
    "        #print(\"Shape after conv_layer_3:\", x.shape)\n",
    "\n",
    "\n",
    "        x = self.classifier(x)\n",
    "        return x"
   ]
  },
  {
   "cell_type": "markdown",
   "id": "37944900-8d50-44d4-b8e9-42cc766eaf6e",
   "metadata": {
    "jp-MarkdownHeadingCollapsed": true,
    "tags": []
   },
   "source": [
    "### Version 2"
   ]
  },
  {
   "cell_type": "markdown",
   "id": "3d355908-235a-49b3-a848-304393bc9001",
   "metadata": {
    "tags": []
   },
   "source": [
    "#### V2.0"
   ]
  },
  {
   "cell_type": "code",
   "execution_count": 24,
   "id": "38a82c19-b18a-4323-85e2-16b85f596e6e",
   "metadata": {
    "tags": []
   },
   "outputs": [],
   "source": [
    "torch.cuda.empty_cache()"
   ]
  },
  {
   "cell_type": "code",
   "execution_count": 67,
   "id": "de04a925-bc89-49ec-b845-7c5da008cfb4",
   "metadata": {},
   "outputs": [
    {
     "data": {
      "text/plain": [
       "'|===========================================================================|\\n|                  PyTorch CUDA memory summary, device ID 0                 |\\n|---------------------------------------------------------------------------|\\n|            CUDA OOMs: 0            |        cudaMalloc retries: 0         |\\n|===========================================================================|\\n|        Metric         | Cur Usage  | Peak Usage | Tot Alloc  | Tot Freed  |\\n|---------------------------------------------------------------------------|\\n| Allocated memory      |  73814 KiB |   4910 MiB |  18868 GiB |  18868 GiB |\\n|---------------------------------------------------------------------------|\\n| Active memory         |  73814 KiB |   4910 MiB |  18868 GiB |  18868 GiB |\\n|---------------------------------------------------------------------------|\\n| Requested memory      |  71958 KiB |   4909 MiB |  18866 GiB |  18866 GiB |\\n|---------------------------------------------------------------------------|\\n| GPU reserved memory   |   2868 MiB |   7212 MiB |   7212 MiB |   4344 MiB |\\n|---------------------------------------------------------------------------|\\n| Non-releasable memory |   2795 MiB |   3150 MiB |   6494 GiB |   6492 GiB |\\n|---------------------------------------------------------------------------|\\n| Allocations           |     127    |     147    |   75553    |   75426    |\\n|---------------------------------------------------------------------------|\\n| Active allocs         |     127    |     147    |   75553    |   75426    |\\n|---------------------------------------------------------------------------|\\n| GPU reserved segments |       7    |      12    |      12    |       5    |\\n|---------------------------------------------------------------------------|\\n| Non-releasable allocs |      10    |      18    |   41927    |   41917    |\\n|---------------------------------------------------------------------------|\\n| Oversize allocations  |       0    |       0    |       0    |       0    |\\n|---------------------------------------------------------------------------|\\n| Oversize GPU segments |       0    |       0    |       0    |       0    |\\n|===========================================================================|\\n'"
      ]
     },
     "execution_count": 67,
     "metadata": {},
     "output_type": "execute_result"
    }
   ],
   "source": [
    "torch.cuda.memory_summary(device=None, abbreviated=True)"
   ]
  },
  {
   "cell_type": "code",
   "execution_count": 68,
   "id": "vrn2JRg3eRuU",
   "metadata": {
    "executionInfo": {
     "elapsed": 139,
     "status": "ok",
     "timestamp": 1710291885541,
     "user": {
      "displayName": "",
      "userId": ""
     },
     "user_tz": 0
    },
    "id": "vrn2JRg3eRuU",
    "tags": []
   },
   "outputs": [
    {
     "data": {
      "text/plain": [
       "ImageClassifier_V2(\n",
       "  (conv_layer_1): Sequential(\n",
       "    (0): Conv2d(3, 128, kernel_size=(7, 7), stride=(1, 1), padding=(3, 3))\n",
       "    (1): ReLU()\n",
       "    (2): BatchNorm2d(128, eps=1e-05, momentum=0.1, affine=True, track_running_stats=True)\n",
       "    (3): MaxPool2d(kernel_size=3, stride=3, padding=0, dilation=1, ceil_mode=False)\n",
       "  )\n",
       "  (conv_layer_2): Sequential(\n",
       "    (0): Conv2d(128, 256, kernel_size=(3, 3), stride=(1, 1), padding=(2, 2))\n",
       "    (1): ReLU()\n",
       "    (2): BatchNorm2d(256, eps=1e-05, momentum=0.1, affine=True, track_running_stats=True)\n",
       "    (3): MaxPool2d(kernel_size=3, stride=3, padding=0, dilation=1, ceil_mode=False)\n",
       "  )\n",
       "  (conv_layer_3): Sequential(\n",
       "    (0): Conv2d(256, 512, kernel_size=(3, 3), stride=(1, 1), padding=(2, 2))\n",
       "    (1): ReLU()\n",
       "    (2): BatchNorm2d(512, eps=1e-05, momentum=0.1, affine=True, track_running_stats=True)\n",
       "    (3): MaxPool2d(kernel_size=3, stride=1, padding=0, dilation=1, ceil_mode=False)\n",
       "  )\n",
       "  (classifier): Sequential(\n",
       "    (0): Flatten(start_dim=1, end_dim=-1)\n",
       "    (1): Linear(in_features=591872, out_features=2, bias=True)\n",
       "  )\n",
       ")"
      ]
     },
     "execution_count": 68,
     "metadata": {},
     "output_type": "execute_result"
    }
   ],
   "source": [
    "modelV2_0 = ImageClassifier_V2()\n",
    "modelV2_0 = modelV2_0.to('cuda')\n",
    "modelV2_0.train()"
   ]
  },
  {
   "cell_type": "code",
   "execution_count": 69,
   "id": "NZfYuNU3hP0y",
   "metadata": {
    "colab": {
     "base_uri": "https://localhost:8080/"
    },
    "executionInfo": {
     "elapsed": 4,
     "status": "ok",
     "timestamp": 1710291907689,
     "user": {
      "displayName": "",
      "userId": ""
     },
     "user_tz": 0
    },
    "id": "NZfYuNU3hP0y",
    "outputId": "0b70de11-1c73-4e77-df8f-663ad9eea77c",
    "tags": []
   },
   "outputs": [],
   "source": [
    "criterion = nn.CrossEntropyLoss()\n",
    "optimizer = torch.optim.SGD(modelV2_0.parameters(), lr=0.005, momentum=0.03)\n",
    "num_epochs = 20"
   ]
  },
  {
   "cell_type": "code",
   "execution_count": 70,
   "id": "Da3eqWMbffYJ",
   "metadata": {
    "colab": {
     "base_uri": "https://localhost:8080/"
    },
    "executionInfo": {
     "elapsed": 470860,
     "status": "ok",
     "timestamp": 1710292380395,
     "user": {
      "displayName": "",
      "userId": ""
     },
     "user_tz": 0
    },
    "id": "Da3eqWMbffYJ",
    "outputId": "ce325713-942e-47ad-8a63-9ba3f9e0a690",
    "tags": []
   },
   "outputs": [
    {
     "name": "stdout",
     "output_type": "stream",
     "text": [
      "Epoch [1/20], Loss: 548.7681\n",
      "Epoch [2/20], Loss: 200.1508\n",
      "Epoch [3/20], Loss: 76.6271\n",
      "Epoch [4/20], Loss: 48.4247\n",
      "Epoch [5/20], Loss: 29.3480\n",
      "Epoch [6/20], Loss: 19.6634\n",
      "Epoch [7/20], Loss: 24.5027\n",
      "Epoch [8/20], Loss: 11.8800\n",
      "Epoch [9/20], Loss: 5.0428\n",
      "Epoch [10/20], Loss: 5.9622\n",
      "Epoch [11/20], Loss: 4.4721\n",
      "Epoch [12/20], Loss: 2.5547\n",
      "Epoch [13/20], Loss: 2.5249\n",
      "Epoch [14/20], Loss: 23.8425\n",
      "Epoch [15/20], Loss: 2.8775\n",
      "Epoch [16/20], Loss: 2.0994\n",
      "Epoch [17/20], Loss: 1.4300\n",
      "Epoch [18/20], Loss: 1.2479\n",
      "Epoch [19/20], Loss: 0.7647\n",
      "Epoch [20/20], Loss: 0.4781\n"
     ]
    }
   ],
   "source": [
    "# Assuming you have a DataLoader named 'train_loader'\n",
    "for epoch in range(num_epochs):\n",
    "    total_loss = 0.0\n",
    "    for inputs, labels in train_loader:\n",
    "        inputs, labels = inputs.cuda(), labels.cuda()\n",
    "        optimizer.zero_grad()\n",
    "        outputs = modelV2_0(inputs)\n",
    "        loss = criterion(outputs, labels)\n",
    "        loss.backward()\n",
    "        optimizer.step()\n",
    "        total_loss += loss.item()*inputs.size(0)\n",
    "\n",
    "    average_loss = total_loss / len(train_loader.sampler)\n",
    "    print(f'Epoch [{epoch + 1}/{num_epochs}], Loss: {average_loss:.4f}')"
   ]
  },
  {
   "cell_type": "code",
   "execution_count": 75,
   "id": "3258f0b6-d771-485a-ac3a-bb855efde2cb",
   "metadata": {
    "tags": []
   },
   "outputs": [],
   "source": [
    "torch.save(modelV2_0, 'modelV2_0.pth')"
   ]
  },
  {
   "cell_type": "markdown",
   "id": "b9861f8b-33dc-4901-a8eb-e77ada9c28b2",
   "metadata": {
    "id": "v6yP2n1UcB0i",
    "tags": []
   },
   "source": [
    "#### V2.1"
   ]
  },
  {
   "cell_type": "code",
   "execution_count": 71,
   "id": "u5EFrcDZYam3",
   "metadata": {
    "colab": {
     "base_uri": "https://localhost:8080/"
    },
    "executionInfo": {
     "elapsed": 147,
     "status": "ok",
     "timestamp": 1710292633448,
     "user": {
      "displayName": "",
      "userId": ""
     },
     "user_tz": 0
    },
    "id": "u5EFrcDZYam3",
    "outputId": "7b736428-a9f2-4ce6-9eab-79be6a6d1a35",
    "tags": []
   },
   "outputs": [
    {
     "data": {
      "text/plain": [
       "ImageClassifier_V2(\n",
       "  (conv_layer_1): Sequential(\n",
       "    (0): Conv2d(3, 128, kernel_size=(7, 7), stride=(1, 1), padding=(3, 3))\n",
       "    (1): ReLU()\n",
       "    (2): BatchNorm2d(128, eps=1e-05, momentum=0.1, affine=True, track_running_stats=True)\n",
       "    (3): MaxPool2d(kernel_size=3, stride=3, padding=0, dilation=1, ceil_mode=False)\n",
       "  )\n",
       "  (conv_layer_2): Sequential(\n",
       "    (0): Conv2d(128, 256, kernel_size=(3, 3), stride=(1, 1), padding=(2, 2))\n",
       "    (1): ReLU()\n",
       "    (2): BatchNorm2d(256, eps=1e-05, momentum=0.1, affine=True, track_running_stats=True)\n",
       "    (3): MaxPool2d(kernel_size=3, stride=3, padding=0, dilation=1, ceil_mode=False)\n",
       "  )\n",
       "  (conv_layer_3): Sequential(\n",
       "    (0): Conv2d(256, 512, kernel_size=(3, 3), stride=(1, 1), padding=(2, 2))\n",
       "    (1): ReLU()\n",
       "    (2): BatchNorm2d(512, eps=1e-05, momentum=0.1, affine=True, track_running_stats=True)\n",
       "    (3): MaxPool2d(kernel_size=3, stride=1, padding=0, dilation=1, ceil_mode=False)\n",
       "  )\n",
       "  (classifier): Sequential(\n",
       "    (0): Flatten(start_dim=1, end_dim=-1)\n",
       "    (1): Linear(in_features=591872, out_features=2, bias=True)\n",
       "  )\n",
       ")"
      ]
     },
     "execution_count": 71,
     "metadata": {},
     "output_type": "execute_result"
    }
   ],
   "source": [
    "modelV2_1 = ImageClassifier_V2()\n",
    "modelV2_1 = modelV2_1.to('cuda')\n",
    "modelV2_1.train()"
   ]
  },
  {
   "cell_type": "code",
   "execution_count": 72,
   "id": "PykKvrURaXYt",
   "metadata": {
    "executionInfo": {
     "elapsed": 119,
     "status": "ok",
     "timestamp": 1710293319752,
     "user": {
      "displayName": "",
      "userId": ""
     },
     "user_tz": 0
    },
    "id": "PykKvrURaXYt",
    "tags": []
   },
   "outputs": [],
   "source": [
    "criterion = nn.CrossEntropyLoss()\n",
    "optimizer = optim.Adam(modelV2_1.parameters(), lr=0.0001)\n",
    "num_epochs = 20"
   ]
  },
  {
   "cell_type": "code",
   "execution_count": 73,
   "id": "gSOxrhk1RZeI",
   "metadata": {
    "colab": {
     "base_uri": "https://localhost:8080/"
    },
    "executionInfo": {
     "elapsed": 475152,
     "status": "ok",
     "timestamp": 1710293844800,
     "user": {
      "displayName": "",
      "userId": ""
     },
     "user_tz": 0
    },
    "id": "gSOxrhk1RZeI",
    "outputId": "c3cb31f7-038d-4ca9-8994-b10a9f929129",
    "tags": []
   },
   "outputs": [
    {
     "name": "stdout",
     "output_type": "stream",
     "text": [
      "Epoch [1/20], Loss: 8.3365\n",
      "Epoch [2/20], Loss: 1.3942\n",
      "Epoch [3/20], Loss: 0.2351\n",
      "Epoch [4/20], Loss: 0.0691\n",
      "Epoch [5/20], Loss: 0.1152\n",
      "Epoch [6/20], Loss: 0.1939\n",
      "Epoch [7/20], Loss: 0.0586\n",
      "Epoch [8/20], Loss: 0.0235\n",
      "Epoch [9/20], Loss: 0.0033\n",
      "Epoch [10/20], Loss: 0.0131\n",
      "Epoch [11/20], Loss: 0.0194\n",
      "Epoch [12/20], Loss: 0.0010\n",
      "Epoch [13/20], Loss: 0.0021\n",
      "Epoch [14/20], Loss: 0.0005\n",
      "Epoch [15/20], Loss: 0.0002\n",
      "Epoch [16/20], Loss: 0.0000\n",
      "Epoch [17/20], Loss: 0.0000\n",
      "Epoch [18/20], Loss: 0.0000\n",
      "Epoch [19/20], Loss: 0.0000\n",
      "Epoch [20/20], Loss: 0.0000\n"
     ]
    }
   ],
   "source": [
    "for epoch in range(num_epochs):\n",
    "    total_loss = 0.0\n",
    "    for inputs, labels in train_loader:\n",
    "        inputs, labels  = inputs.cuda(), labels.cuda()\n",
    "        optimizer.zero_grad()\n",
    "        outputs = modelV2_1(inputs)\n",
    "        loss1 = criterion(outputs, labels)\n",
    "        loss1.backward()\n",
    "        optimizer.step()\n",
    "        total_loss += (loss1.item())*inputs.size(0)\n",
    "\n",
    "\n",
    "    average_loss = total_loss / len(train_loader.sampler)\n",
    "    print(f'Epoch [{epoch + 1}/{num_epochs}], Loss: {average_loss:.4f}')"
   ]
  },
  {
   "cell_type": "code",
   "execution_count": 74,
   "id": "ckT2s5FcSvg_",
   "metadata": {
    "executionInfo": {
     "elapsed": 139,
     "status": "ok",
     "timestamp": 1710293848893,
     "user": {
      "displayName": "",
      "userId": ""
     },
     "user_tz": 0
    },
    "id": "ckT2s5FcSvg_",
    "tags": []
   },
   "outputs": [],
   "source": [
    "torch.save(modelV2_1, 'modelV2_1.pth')"
   ]
  },
  {
   "cell_type": "markdown",
   "id": "4eb93ae8-c65a-44ed-8621-360cb3ccb5ac",
   "metadata": {
    "tags": []
   },
   "source": [
    "#### V2.2"
   ]
  },
  {
   "cell_type": "code",
   "execution_count": null,
   "id": "54d16421-68f7-49cd-9d7f-864adb9ed66f",
   "metadata": {
    "tags": []
   },
   "outputs": [],
   "source": [
    "modelV2_2 = ImageClassifier_V2()\n",
    "modelV2_2 = modelV2_2.to('cuda')\n",
    "modelV2_2.train()"
   ]
  },
  {
   "cell_type": "code",
   "execution_count": null,
   "id": "16709255-80bb-441a-83d1-92eb51838298",
   "metadata": {
    "tags": []
   },
   "outputs": [],
   "source": [
    "criterion = nn.CrossEntropyLoss()\n",
    "optimizer = optim.SGD(modelV2_2.parameters(), lr=0.001, momentum=0.75)\n",
    "num_epochs = 20"
   ]
  },
  {
   "cell_type": "code",
   "execution_count": null,
   "id": "a1336bd0-0a33-4839-aed8-7759569148e7",
   "metadata": {
    "tags": []
   },
   "outputs": [],
   "source": [
    "for epoch in range(num_epochs):\n",
    "    total_loss = 0.0\n",
    "    for inputs, labels in train_loader:\n",
    "        inputs, labels  = inputs.cuda(), labels.cuda()\n",
    "        optimizer.zero_grad()\n",
    "        outputs = modelV2_2(inputs)\n",
    "        loss1 = criterion(outputs, labels)\n",
    "        loss1.backward()\n",
    "        optimizer.step()\n",
    "        total_loss += (loss1.item())*inputs.size(0)\n",
    "\n",
    "\n",
    "    average_loss = total_loss / len(train_loader.sampler)\n",
    "    print(f'Epoch [{epoch + 1}/{num_epochs}], Loss: {average_loss:.4f}')"
   ]
  },
  {
   "cell_type": "code",
   "execution_count": null,
   "id": "0cea6cf0-86a9-46a6-9400-683e3bdf8678",
   "metadata": {
    "tags": []
   },
   "outputs": [],
   "source": [
    "torch.save(modelV2_2, 'modelV2_2.pth')"
   ]
  },
  {
   "cell_type": "markdown",
   "id": "L2iq2l1hhzca",
   "metadata": {
    "id": "L2iq2l1hhzca"
   },
   "source": [
    "# Basic Evaluation"
   ]
  },
  {
   "cell_type": "code",
   "execution_count": 83,
   "id": "nZ3d-Kv8I3V9",
   "metadata": {
    "executionInfo": {
     "elapsed": 167,
     "status": "ok",
     "timestamp": 1710292387687,
     "user": {
      "displayName": "",
      "userId": ""
     },
     "user_tz": 0
    },
    "id": "nZ3d-Kv8I3V9",
    "tags": []
   },
   "outputs": [],
   "source": [
    "def check_accuracy(loader, model):\n",
    "    num_correct = 0\n",
    "    num_samples = 0\n",
    "    model.eval()\n",
    "\n",
    "    with torch.no_grad():\n",
    "        for x, y in loader:\n",
    "            x = x.cuda()\n",
    "            y = y.cuda()\n",
    "\n",
    "            scores = model(x)\n",
    "            _, predictions = scores.max(1)\n",
    "            num_correct += (predictions == y).sum()\n",
    "            num_samples += predictions.size(0)\n",
    "            \n",
    "            accuracy = float(num_correct) / float(num_samples) * 100\n",
    "\n",
    "    return accuracy , num_correct , num_samples"
   ]
  },
  {
   "cell_type": "markdown",
   "id": "3c293c56-b342-4c00-8cba-3409165f84b8",
   "metadata": {
    "tags": []
   },
   "source": [
    "# Architecture - 1"
   ]
  },
  {
   "cell_type": "markdown",
   "id": "V0Y3ljM7X99r",
   "metadata": {
    "id": "V0Y3ljM7X99r",
    "tags": []
   },
   "source": [
    "### modelV1_0"
   ]
  },
  {
   "cell_type": "code",
   "execution_count": 45,
   "id": "119decc5-3eac-4593-8da1-3dcc1cf86d69",
   "metadata": {
    "tags": []
   },
   "outputs": [],
   "source": [
    "modelV1_0 = torch.load(\"modelV1_0.pth\").to('cuda')"
   ]
  },
  {
   "cell_type": "code",
   "execution_count": 29,
   "id": "7e14409e-355c-44b8-b3c1-27e8470f63c1",
   "metadata": {
    "tags": []
   },
   "outputs": [
    {
     "name": "stdout",
     "output_type": "stream",
     "text": [
      "Train Set Accuracy: 100.00%, Correct: 1440, Total: 1440\n",
      "Test Set Accuracy: 97.22%, Correct: 350, Total: 360\n"
     ]
    }
   ],
   "source": [
    "train_accuracy, train_correct, train_total = check_accuracy(train_loader, modelV1_0)\n",
    "test_accuracy, test_correct, test_total = check_accuracy(test_loader, modelV1_0)\n",
    "\n",
    "print(f\"Train Set Accuracy: {train_accuracy:.2f}%, Correct: {train_correct}, Total: {train_total}\")\n",
    "print(f\"Test Set Accuracy: {test_accuracy:.2f}%, Correct: {test_correct}, Total: {test_total}\")"
   ]
  },
  {
   "cell_type": "markdown",
   "id": "G3sywYOEiX26",
   "metadata": {
    "id": "G3sywYOEiX26",
    "tags": []
   },
   "source": [
    "### modelV1_1"
   ]
  },
  {
   "cell_type": "code",
   "execution_count": null,
   "id": "5f2b3d16-d4cf-4d79-a411-abb4e4658d6a",
   "metadata": {},
   "outputs": [],
   "source": [
    "modelV1_1 = torch.load(\"modelV1_1.pth\").to('cuda')"
   ]
  },
  {
   "cell_type": "code",
   "execution_count": 30,
   "id": "XBdQYGZzI6Z9",
   "metadata": {
    "colab": {
     "base_uri": "https://localhost:8080/"
    },
    "executionInfo": {
     "elapsed": 2055,
     "status": "ok",
     "timestamp": 1710293889177,
     "user": {
      "displayName": "",
      "userId": ""
     },
     "user_tz": 0
    },
    "id": "XBdQYGZzI6Z9",
    "outputId": "cf1827a5-808b-4f58-9412-b44f4210b10b",
    "tags": []
   },
   "outputs": [
    {
     "name": "stdout",
     "output_type": "stream",
     "text": [
      "Train Set Accuracy: 100.00%, Correct: 1440, Total: 1440\n",
      "Test Set Accuracy: 98.06%, Correct: 353, Total: 360\n"
     ]
    }
   ],
   "source": [
    "train_accuracy, train_correct, train_total = check_accuracy(train_loader, modelV1_1)\n",
    "test_accuracy, test_correct, test_total = check_accuracy(test_loader, modelV1_1)\n",
    "\n",
    "print(f\"Train Set Accuracy: {train_accuracy:.2f}%, Correct: {train_correct}, Total: {train_total}\")\n",
    "print(f\"Test Set Accuracy: {test_accuracy:.2f}%, Correct: {test_correct}, Total: {test_total}\")"
   ]
  },
  {
   "cell_type": "markdown",
   "id": "N0X2lM7-kQhs",
   "metadata": {
    "id": "N0X2lM7-kQhs",
    "tags": []
   },
   "source": [
    "### modelV1_2"
   ]
  },
  {
   "cell_type": "code",
   "execution_count": null,
   "id": "73b52ecc-f646-43a4-8122-9104f994e5c2",
   "metadata": {},
   "outputs": [],
   "source": [
    "modelV1_2 = torch.load(\"modelV1_2.pth\").to('cuda')"
   ]
  },
  {
   "cell_type": "code",
   "execution_count": 31,
   "id": "c8c6a1ab-8b60-49a4-9af4-3a8836eed222",
   "metadata": {
    "tags": []
   },
   "outputs": [
    {
     "name": "stdout",
     "output_type": "stream",
     "text": [
      "Train Set Accuracy: 100.00%, Correct: 1440, Total: 1440\n",
      "Test Set Accuracy: 98.33%, Correct: 354, Total: 360\n"
     ]
    }
   ],
   "source": [
    "train_accuracy, train_correct, train_total = check_accuracy(train_loader, modelV1_2)\n",
    "test_accuracy, test_correct, test_total = check_accuracy(test_loader, modelV1_2)\n",
    "\n",
    "print(f\"Train Set Accuracy: {train_accuracy:.2f}%, Correct: {train_correct}, Total: {train_total}\")\n",
    "print(f\"Test Set Accuracy: {test_accuracy:.2f}%, Correct: {test_correct}, Total: {test_total}\")"
   ]
  },
  {
   "cell_type": "markdown",
   "id": "42197268-2b38-46c5-bc77-fe55c221ba1f",
   "metadata": {
    "jp-MarkdownHeadingCollapsed": true,
    "tags": []
   },
   "source": [
    "# Architecture - 2"
   ]
  },
  {
   "cell_type": "markdown",
   "id": "a0e9694a-8485-4baf-960f-2be9418e6644",
   "metadata": {
    "tags": []
   },
   "source": [
    "### modelV2_0"
   ]
  },
  {
   "cell_type": "code",
   "execution_count": 32,
   "id": "f63d90af-4434-4a35-9c94-c55a7896da4c",
   "metadata": {
    "tags": []
   },
   "outputs": [
    {
     "name": "stdout",
     "output_type": "stream",
     "text": [
      "Train Set Accuracy: 98.75%, Correct: 1422, Total: 1440\n",
      "Test Set Accuracy: 91.67%, Correct: 330, Total: 360\n"
     ]
    }
   ],
   "source": [
    "modelV2_0 = torch.load(\"modelV2_0.pth\").to('cuda')\n",
    "train_accuracy, train_correct, train_total = check_accuracy(train_loader, modelV2_0)\n",
    "test_accuracy, test_correct, test_total = check_accuracy(test_loader, modelV2_0)\n",
    "\n",
    "print(f\"Train Set Accuracy: {train_accuracy:.2f}%, Correct: {train_correct}, Total: {train_total}\")\n",
    "print(f\"Test Set Accuracy: {test_accuracy:.2f}%, Correct: {test_correct}, Total: {test_total}\")"
   ]
  },
  {
   "cell_type": "markdown",
   "id": "a0667065-4af0-4f96-bc58-295b2aff2928",
   "metadata": {},
   "source": [
    "### modelV2_1"
   ]
  },
  {
   "cell_type": "code",
   "execution_count": 33,
   "id": "5bc765a7-7fe5-4a7e-8322-838747b41957",
   "metadata": {
    "tags": []
   },
   "outputs": [
    {
     "name": "stdout",
     "output_type": "stream",
     "text": [
      "Train Set Accuracy: 100.00%, Correct: 1440, Total: 1440\n",
      "Test Set Accuracy: 99.17%, Correct: 357, Total: 360\n"
     ]
    }
   ],
   "source": [
    "modelV2_1 = torch.load(\"modelV2_1.pth\").to('cuda')\n",
    "train_accuracy, train_correct, train_total = check_accuracy(train_loader, modelV2_1)\n",
    "test_accuracy, test_correct, test_total = check_accuracy(test_loader, modelV2_1)\n",
    "\n",
    "print(f\"Train Set Accuracy: {train_accuracy:.2f}%, Correct: {train_correct}, Total: {train_total}\")\n",
    "print(f\"Test Set Accuracy: {test_accuracy:.2f}%, Correct: {test_correct}, Total: {test_total}\")"
   ]
  },
  {
   "cell_type": "markdown",
   "id": "23540dc0-548f-4249-8dab-4a461521bbe3",
   "metadata": {},
   "source": [
    "# CROSS VALIDATION TEST"
   ]
  },
  {
   "cell_type": "code",
   "execution_count": 69,
   "id": "a959f987-779a-4eb9-9efe-9cc26af9a656",
   "metadata": {
    "tags": []
   },
   "outputs": [],
   "source": [
    "def train_test(model, device, train_loader, test_loader,optimizer,criterion, num_epochs):\n",
    "    model.train()\n",
    "    \n",
    "    for epoch in range(num_epochs):\n",
    "        total_loss = 0.0\n",
    "        for inputs, labels in train_loader:\n",
    "            inputs, labels  = inputs.to(device), labels.to(device)\n",
    "            optimizer.zero_grad()\n",
    "            outputs = model(inputs)\n",
    "            loss = criterion(outputs, labels)\n",
    "            loss.backward()\n",
    "            optimizer.step()\n",
    "            total_loss += (loss.item())*inputs.size(0)\n",
    "\n",
    "\n",
    "        average_loss = total_loss / len(train_loader.sampler)\n",
    "        print(f'Epoch [{epoch + 1}/{num_epochs}], Loss: {average_loss:.4f}')\n",
    "        \n",
    "    model.eval()\n",
    "        \n",
    "    train_accuracy, train_correct, train_total = check_accuracy(train_loader, model)\n",
    "    test_accuracy, test_correct, test_total = check_accuracy(test_loader, model)\n",
    "\n",
    "    print(f\"Train Set Accuracy: {train_accuracy:.2f}%, Correct: {train_correct}, Total: {train_total}\")\n",
    "    print(f\"Test Set Accuracy: {test_accuracy:.2f}%, Correct: {test_correct}, Total: {test_total}\")    \n",
    "    \n",
    "    return train_accuracy, test_accuracy"
   ]
  },
  {
   "cell_type": "markdown",
   "id": "b0d32cf3-1b3b-4a48-bbfc-111449666527",
   "metadata": {
    "tags": []
   },
   "source": [
    "### validation / test / train split for Kfold"
   ]
  },
  {
   "cell_type": "code",
   "execution_count": 25,
   "id": "ec8e8a1d-fded-44d8-98bd-8bf017fcd2f1",
   "metadata": {
    "tags": []
   },
   "outputs": [],
   "source": [
    "yes_image_paths = [path for path in all_image_paths_sorted if 'YES' in path]\n",
    "no_image_paths = [path for path in all_image_paths_sorted if 'NO' in path]\n",
    "\n",
    "# Randomly select 50 YES and 50 NO image paths\n",
    "selected_yes_image_paths = random.sample(yes_image_paths, 50)\n",
    "selected_no_image_paths = random.sample(no_image_paths, 50)\n",
    "\n",
    "# Create validation set containing selected image paths\n",
    "validation_set = selected_yes_image_paths + selected_no_image_paths"
   ]
  },
  {
   "cell_type": "code",
   "execution_count": 26,
   "id": "d7de562a-159f-49e6-b725-000f52c1f091",
   "metadata": {
    "tags": []
   },
   "outputs": [],
   "source": [
    "validation_X = validation_set"
   ]
  },
  {
   "cell_type": "code",
   "execution_count": 27,
   "id": "671e22f1-98f4-4882-a389-51345c26ab36",
   "metadata": {
    "tags": []
   },
   "outputs": [],
   "source": [
    "validation_Y = [path.split('/')[-2] for path in validation_X]"
   ]
  },
  {
   "cell_type": "code",
   "execution_count": 28,
   "id": "002a1c8a-6e2a-4452-8b38-dab8f15a23c2",
   "metadata": {
    "tags": []
   },
   "outputs": [
    {
     "name": "stdout",
     "output_type": "stream",
     "text": [
      "tensor([1, 1, 1, 1, 1, 1, 1, 1, 1, 1, 1, 1, 1, 1, 1, 1, 1, 1, 1, 1, 1, 1, 1, 1,\n",
      "        1, 1, 1, 1, 1, 1, 1, 1, 1, 1, 1, 1, 1, 1, 1, 1, 1, 1, 1, 1, 1, 1, 1, 1,\n",
      "        1, 1, 0, 0, 0, 0, 0, 0, 0, 0, 0, 0, 0, 0, 0, 0, 0, 0, 0, 0, 0, 0, 0, 0,\n",
      "        0, 0, 0, 0, 0, 0, 0, 0, 0, 0, 0, 0, 0, 0, 0, 0, 0, 0, 0, 0, 0, 0, 0, 0,\n",
      "        0, 0, 0, 0])\n"
     ]
    }
   ],
   "source": [
    "label_encoder = LabelEncoder()\n",
    "encoded_labels_validation_dataset = label_encoder.fit_transform(validation_Y)\n",
    "tensor_encoded_labels_validation_dataset = torch.tensor(encoded_labels_validation_dataset)\n",
    "pprint(tensor_encoded_labels_validation_dataset)"
   ]
  },
  {
   "cell_type": "code",
   "execution_count": 88,
   "id": "3c8f49c4-779c-4639-8730-103838c0be85",
   "metadata": {
    "tags": []
   },
   "outputs": [],
   "source": [
    "validation_dataset = image_Dataset(validation_X,tensor_encoded_labels_validation_dataset,transforms)"
   ]
  },
  {
   "cell_type": "code",
   "execution_count": 89,
   "id": "53e6acb0-7488-4790-94bf-17ec8eb438ff",
   "metadata": {
    "tags": []
   },
   "outputs": [
    {
     "data": {
      "text/plain": [
       "(tensor([[[0.0588, 0.0588, 0.0588,  ..., 0.9373, 0.8745, 0.6627],\n",
       "          [0.0588, 0.0588, 0.0588,  ..., 0.9569, 0.9843, 0.9804],\n",
       "          [0.0627, 0.0627, 0.0627,  ..., 0.9216, 0.9373, 0.9529],\n",
       "          ...,\n",
       "          [0.0510, 0.0510, 0.0471,  ..., 0.0392, 0.0353, 0.0314],\n",
       "          [0.0471, 0.0431, 0.0392,  ..., 0.0392, 0.0353, 0.0314],\n",
       "          [0.0431, 0.0392, 0.0353,  ..., 0.0392, 0.0353, 0.0314]],\n",
       " \n",
       "         [[0.0627, 0.0627, 0.0627,  ..., 0.9725, 0.8863, 0.6588],\n",
       "          [0.0627, 0.0627, 0.0627,  ..., 1.0000, 0.9961, 0.9843],\n",
       "          [0.0667, 0.0667, 0.0667,  ..., 1.0000, 0.9961, 1.0000],\n",
       "          ...,\n",
       "          [0.0588, 0.0588, 0.0549,  ..., 0.0314, 0.0275, 0.0235],\n",
       "          [0.0549, 0.0510, 0.0471,  ..., 0.0314, 0.0275, 0.0235],\n",
       "          [0.0510, 0.0471, 0.0431,  ..., 0.0314, 0.0275, 0.0235]],\n",
       " \n",
       "         [[0.0431, 0.0431, 0.0431,  ..., 0.8902, 0.8118, 0.5922],\n",
       "          [0.0431, 0.0431, 0.0431,  ..., 0.9137, 0.9333, 0.9176],\n",
       "          [0.0471, 0.0471, 0.0471,  ..., 0.8941, 0.9020, 0.9176],\n",
       "          ...,\n",
       "          [0.0471, 0.0471, 0.0431,  ..., 0.0353, 0.0314, 0.0275],\n",
       "          [0.0431, 0.0392, 0.0353,  ..., 0.0353, 0.0314, 0.0275],\n",
       "          [0.0392, 0.0353, 0.0314,  ..., 0.0353, 0.0314, 0.0275]]]),\n",
       " tensor(1))"
      ]
     },
     "execution_count": 89,
     "metadata": {},
     "output_type": "execute_result"
    }
   ],
   "source": [
    "validation_dataset[0]"
   ]
  },
  {
   "cell_type": "code",
   "execution_count": 78,
   "id": "3ce3ccf3-1419-4327-a3e5-24b0daba5c83",
   "metadata": {
    "tags": []
   },
   "outputs": [],
   "source": [
    "train_set = [path for path in all_image_paths_sorted if path not in validation_set]"
   ]
  },
  {
   "cell_type": "code",
   "execution_count": 33,
   "id": "3a8148d8-a252-4f72-9595-8e7d13b7c220",
   "metadata": {
    "tags": []
   },
   "outputs": [],
   "source": [
    "X = train_set\n",
    "Y = [path.split('/')[-2] for path in train_set]"
   ]
  },
  {
   "cell_type": "code",
   "execution_count": 34,
   "id": "a7481606-7b39-4f25-a2a6-58a61c08a385",
   "metadata": {
    "tags": []
   },
   "outputs": [],
   "source": [
    "dataset = list(zip(X, Y))"
   ]
  },
  {
   "cell_type": "code",
   "execution_count": 35,
   "id": "98d8bc24-61ce-4c88-996c-bb5624a65067",
   "metadata": {
    "tags": []
   },
   "outputs": [
    {
     "data": {
      "text/plain": [
       "('training_set/NO/img_16990.jpg', 'NO')"
      ]
     },
     "execution_count": 35,
     "metadata": {},
     "output_type": "execute_result"
    }
   ],
   "source": [
    "dataset[0]"
   ]
  },
  {
   "cell_type": "code",
   "execution_count": 36,
   "id": "5a565ac6-1494-4736-89c3-5d4d89ef44d7",
   "metadata": {
    "tags": []
   },
   "outputs": [
    {
     "name": "stdout",
     "output_type": "stream",
     "text": [
      "tensor([0, 0, 0,  ..., 1, 1, 1])\n"
     ]
    }
   ],
   "source": [
    "encoded_labels_Kfold_dataset = label_encoder.fit_transform(Y)\n",
    "tensor_encoded_labels_Kfold_dataset = torch.tensor(encoded_labels_Kfold_dataset)\n",
    "pprint(tensor_encoded_labels_Kfold_dataset)"
   ]
  },
  {
   "cell_type": "code",
   "execution_count": 60,
   "id": "b681e200-9f1b-480e-afd2-e79f19d58662",
   "metadata": {
    "tags": []
   },
   "outputs": [],
   "source": [
    "#######################################################\n",
    "#                  Create Dataset\n",
    "#######################################################\n",
    "\n",
    "cross_dataset = image_Dataset(X,tensor_encoded_labels_Kfold_dataset,transforms)"
   ]
  },
  {
   "cell_type": "code",
   "execution_count": 91,
   "id": "e492f3b1-ebd8-434f-8b29-78f3d4f025c0",
   "metadata": {
    "tags": []
   },
   "outputs": [],
   "source": [
    "validation_loader = DataLoader(dataset=validation_dataset, batch_size=64)"
   ]
  },
  {
   "cell_type": "code",
   "execution_count": 39,
   "id": "3eea7f18-9dd0-496a-b696-4539a71f2a01",
   "metadata": {
    "tags": []
   },
   "outputs": [],
   "source": [
    "# Define the number of folds and batch size\n",
    "k_folds = 10\n",
    "batch_size = 64\n",
    "\n",
    "# Define the device (CPU or GPU)\n",
    "device = torch.device(\"cuda\" if torch.cuda.is_available() else \"cpu\")\n",
    "\n",
    "# Initialize the k-fold cross validation\n",
    "kf = KFold(n_splits=k_folds, shuffle=True)"
   ]
  },
  {
   "cell_type": "markdown",
   "id": "44294a79-2030-4f7e-8b24-9e77699cb1a2",
   "metadata": {},
   "source": [
    "### Cross validation of V1.0"
   ]
  },
  {
   "cell_type": "code",
   "execution_count": 71,
   "id": "63c9aeed-7677-410f-b7fa-2d89cc349b63",
   "metadata": {
    "tags": []
   },
   "outputs": [],
   "source": [
    "train_accuracies_V1_0 = []\n",
    "test_accuracies_V1_0 = []"
   ]
  },
  {
   "cell_type": "code",
   "execution_count": 72,
   "id": "4983e89b-70b0-479b-b7c5-97c13ce9f17c",
   "metadata": {
    "tags": []
   },
   "outputs": [
    {
     "name": "stdout",
     "output_type": "stream",
     "text": [
      "Fold 1\n",
      "-------\n",
      "Epoch [1/20], Loss: 12.4184\n",
      "Epoch [2/20], Loss: 1.3795\n",
      "Epoch [3/20], Loss: 0.2342\n",
      "Epoch [4/20], Loss: 0.0869\n",
      "Epoch [5/20], Loss: 0.0562\n",
      "Epoch [6/20], Loss: 0.0169\n",
      "Epoch [7/20], Loss: 0.0173\n",
      "Epoch [8/20], Loss: 0.0040\n",
      "Epoch [9/20], Loss: 0.0011\n",
      "Epoch [10/20], Loss: 0.0006\n",
      "Epoch [11/20], Loss: 0.0003\n",
      "Epoch [12/20], Loss: 0.0002\n",
      "Epoch [13/20], Loss: 0.0002\n",
      "Epoch [14/20], Loss: 0.0002\n",
      "Epoch [15/20], Loss: 0.0002\n",
      "Epoch [16/20], Loss: 0.0002\n",
      "Epoch [17/20], Loss: 0.0001\n",
      "Epoch [18/20], Loss: 0.0002\n",
      "Epoch [19/20], Loss: 0.0001\n",
      "Epoch [20/20], Loss: 0.0002\n",
      "Train Set Accuracy: 100.00%, Correct: 1530, Total: 1530\n",
      "Test Set Accuracy: 97.65%, Correct: 166, Total: 170\n",
      "Fold 2\n",
      "-------\n",
      "Epoch [1/20], Loss: 19.2928\n",
      "Epoch [2/20], Loss: 1.9742\n",
      "Epoch [3/20], Loss: 0.4999\n",
      "Epoch [4/20], Loss: 0.2158\n",
      "Epoch [5/20], Loss: 0.1003\n",
      "Epoch [6/20], Loss: 0.0499\n",
      "Epoch [7/20], Loss: 0.0414\n",
      "Epoch [8/20], Loss: 0.0185\n",
      "Epoch [9/20], Loss: 0.0100\n",
      "Epoch [10/20], Loss: 0.0085\n",
      "Epoch [11/20], Loss: 0.0021\n",
      "Epoch [12/20], Loss: 0.0014\n",
      "Epoch [13/20], Loss: 0.0005\n",
      "Epoch [14/20], Loss: 0.0004\n",
      "Epoch [15/20], Loss: 0.0004\n",
      "Epoch [16/20], Loss: 0.0003\n",
      "Epoch [17/20], Loss: 0.0003\n",
      "Epoch [18/20], Loss: 0.0003\n",
      "Epoch [19/20], Loss: 0.0003\n",
      "Epoch [20/20], Loss: 0.0003\n",
      "Train Set Accuracy: 100.00%, Correct: 1530, Total: 1530\n",
      "Test Set Accuracy: 96.47%, Correct: 164, Total: 170\n",
      "Fold 3\n",
      "-------\n",
      "Epoch [1/20], Loss: 21.1580\n",
      "Epoch [2/20], Loss: 3.0040\n",
      "Epoch [3/20], Loss: 0.7087\n",
      "Epoch [4/20], Loss: 0.2130\n",
      "Epoch [5/20], Loss: 0.1431\n",
      "Epoch [6/20], Loss: 0.0603\n",
      "Epoch [7/20], Loss: 0.0440\n",
      "Epoch [8/20], Loss: 0.0328\n",
      "Epoch [9/20], Loss: 0.0591\n",
      "Epoch [10/20], Loss: 0.0187\n",
      "Epoch [11/20], Loss: 0.0099\n",
      "Epoch [12/20], Loss: 0.0051\n",
      "Epoch [13/20], Loss: 0.0014\n",
      "Epoch [14/20], Loss: 0.0002\n",
      "Epoch [15/20], Loss: 0.0003\n",
      "Epoch [16/20], Loss: 0.0003\n",
      "Epoch [17/20], Loss: 0.0003\n",
      "Epoch [18/20], Loss: 0.0002\n",
      "Epoch [19/20], Loss: 0.0002\n",
      "Epoch [20/20], Loss: 0.0002\n",
      "Train Set Accuracy: 100.00%, Correct: 1530, Total: 1530\n",
      "Test Set Accuracy: 98.24%, Correct: 167, Total: 170\n",
      "Fold 4\n",
      "-------\n",
      "Epoch [1/20], Loss: 20.6038\n",
      "Epoch [2/20], Loss: 5.6286\n",
      "Epoch [3/20], Loss: 0.9040\n",
      "Epoch [4/20], Loss: 0.3286\n",
      "Epoch [5/20], Loss: 0.2103\n",
      "Epoch [6/20], Loss: 0.1090\n",
      "Epoch [7/20], Loss: 0.0448\n",
      "Epoch [8/20], Loss: 0.0268\n",
      "Epoch [9/20], Loss: 0.0182\n",
      "Epoch [10/20], Loss: 0.0094\n",
      "Epoch [11/20], Loss: 0.0032\n",
      "Epoch [12/20], Loss: 0.0009\n",
      "Epoch [13/20], Loss: 0.0005\n",
      "Epoch [14/20], Loss: 0.0004\n",
      "Epoch [15/20], Loss: 0.0004\n",
      "Epoch [16/20], Loss: 0.0004\n",
      "Epoch [17/20], Loss: 0.0003\n",
      "Epoch [18/20], Loss: 0.0003\n",
      "Epoch [19/20], Loss: 0.0003\n",
      "Epoch [20/20], Loss: 0.0002\n",
      "Train Set Accuracy: 100.00%, Correct: 1530, Total: 1530\n",
      "Test Set Accuracy: 96.47%, Correct: 164, Total: 170\n",
      "Fold 5\n",
      "-------\n",
      "Epoch [1/20], Loss: 25.2904\n",
      "Epoch [2/20], Loss: 1.8888\n",
      "Epoch [3/20], Loss: 0.4680\n",
      "Epoch [4/20], Loss: 0.2160\n",
      "Epoch [5/20], Loss: 0.2876\n",
      "Epoch [6/20], Loss: 0.2036\n",
      "Epoch [7/20], Loss: 0.0423\n",
      "Epoch [8/20], Loss: 0.0180\n",
      "Epoch [9/20], Loss: 0.0107\n",
      "Epoch [10/20], Loss: 0.0086\n",
      "Epoch [11/20], Loss: 0.0014\n",
      "Epoch [12/20], Loss: 0.0005\n",
      "Epoch [13/20], Loss: 0.0004\n",
      "Epoch [14/20], Loss: 0.0003\n",
      "Epoch [15/20], Loss: 0.0003\n",
      "Epoch [16/20], Loss: 0.0004\n",
      "Epoch [17/20], Loss: 0.0003\n",
      "Epoch [18/20], Loss: 0.0003\n",
      "Epoch [19/20], Loss: 0.0002\n",
      "Epoch [20/20], Loss: 0.0002\n",
      "Train Set Accuracy: 100.00%, Correct: 1530, Total: 1530\n",
      "Test Set Accuracy: 96.47%, Correct: 164, Total: 170\n",
      "Fold 6\n",
      "-------\n",
      "Epoch [1/20], Loss: 17.2901\n",
      "Epoch [2/20], Loss: 6.3149\n",
      "Epoch [3/20], Loss: 1.0547\n",
      "Epoch [4/20], Loss: 0.4808\n",
      "Epoch [5/20], Loss: 0.1169\n",
      "Epoch [6/20], Loss: 0.0793\n",
      "Epoch [7/20], Loss: 0.0397\n",
      "Epoch [8/20], Loss: 0.0435\n",
      "Epoch [9/20], Loss: 0.0167\n",
      "Epoch [10/20], Loss: 0.0086\n",
      "Epoch [11/20], Loss: 0.0023\n",
      "Epoch [12/20], Loss: 0.0002\n",
      "Epoch [13/20], Loss: 0.0002\n",
      "Epoch [14/20], Loss: 0.0001\n",
      "Epoch [15/20], Loss: 0.0001\n",
      "Epoch [16/20], Loss: 0.0001\n",
      "Epoch [17/20], Loss: 0.0001\n",
      "Epoch [18/20], Loss: 0.0001\n",
      "Epoch [19/20], Loss: 0.0001\n",
      "Epoch [20/20], Loss: 0.0001\n",
      "Train Set Accuracy: 100.00%, Correct: 1530, Total: 1530\n",
      "Test Set Accuracy: 96.47%, Correct: 164, Total: 170\n",
      "Fold 7\n",
      "-------\n",
      "Epoch [1/20], Loss: 14.6196\n",
      "Epoch [2/20], Loss: 2.8056\n",
      "Epoch [3/20], Loss: 0.5913\n",
      "Epoch [4/20], Loss: 0.3193\n",
      "Epoch [5/20], Loss: 0.0803\n",
      "Epoch [6/20], Loss: 0.0484\n",
      "Epoch [7/20], Loss: 0.0195\n",
      "Epoch [8/20], Loss: 0.0256\n",
      "Epoch [9/20], Loss: 0.0029\n",
      "Epoch [10/20], Loss: 0.0009\n",
      "Epoch [11/20], Loss: 0.0004\n",
      "Epoch [12/20], Loss: 0.0001\n",
      "Epoch [13/20], Loss: 0.0001\n",
      "Epoch [14/20], Loss: 0.0001\n",
      "Epoch [15/20], Loss: 0.0001\n",
      "Epoch [16/20], Loss: 0.0001\n",
      "Epoch [17/20], Loss: 0.0000\n",
      "Epoch [18/20], Loss: 0.0001\n",
      "Epoch [19/20], Loss: 0.0000\n",
      "Epoch [20/20], Loss: 0.0000\n",
      "Train Set Accuracy: 100.00%, Correct: 1530, Total: 1530\n",
      "Test Set Accuracy: 96.47%, Correct: 164, Total: 170\n",
      "Fold 8\n",
      "-------\n",
      "Epoch [1/20], Loss: 29.5078\n",
      "Epoch [2/20], Loss: 4.5548\n",
      "Epoch [3/20], Loss: 1.1782\n",
      "Epoch [4/20], Loss: 0.5065\n",
      "Epoch [5/20], Loss: 0.1717\n",
      "Epoch [6/20], Loss: 0.1020\n",
      "Epoch [7/20], Loss: 0.0594\n",
      "Epoch [8/20], Loss: 0.0421\n",
      "Epoch [9/20], Loss: 0.0215\n",
      "Epoch [10/20], Loss: 0.0152\n",
      "Epoch [11/20], Loss: 0.0119\n",
      "Epoch [12/20], Loss: 0.0061\n",
      "Epoch [13/20], Loss: 0.0031\n",
      "Epoch [14/20], Loss: 0.0006\n",
      "Epoch [15/20], Loss: 0.0002\n",
      "Epoch [16/20], Loss: 0.0003\n",
      "Epoch [17/20], Loss: 0.0002\n",
      "Epoch [18/20], Loss: 0.0002\n",
      "Epoch [19/20], Loss: 0.0001\n",
      "Epoch [20/20], Loss: 0.0001\n",
      "Train Set Accuracy: 100.00%, Correct: 1530, Total: 1530\n",
      "Test Set Accuracy: 98.24%, Correct: 167, Total: 170\n",
      "Fold 9\n",
      "-------\n",
      "Epoch [1/20], Loss: 26.7108\n",
      "Epoch [2/20], Loss: 4.6113\n",
      "Epoch [3/20], Loss: 0.6790\n",
      "Epoch [4/20], Loss: 0.2982\n",
      "Epoch [5/20], Loss: 0.2205\n",
      "Epoch [6/20], Loss: 0.1074\n",
      "Epoch [7/20], Loss: 0.0624\n",
      "Epoch [8/20], Loss: 0.0691\n",
      "Epoch [9/20], Loss: 0.1266\n",
      "Epoch [10/20], Loss: 0.0347\n",
      "Epoch [11/20], Loss: 0.0163\n",
      "Epoch [12/20], Loss: 0.0077\n",
      "Epoch [13/20], Loss: 0.0020\n",
      "Epoch [14/20], Loss: 0.0005\n",
      "Epoch [15/20], Loss: 0.0003\n",
      "Epoch [16/20], Loss: 0.0002\n",
      "Epoch [17/20], Loss: 0.0002\n",
      "Epoch [18/20], Loss: 0.0002\n",
      "Epoch [19/20], Loss: 0.0012\n",
      "Epoch [20/20], Loss: 0.0009\n",
      "Train Set Accuracy: 100.00%, Correct: 1530, Total: 1530\n",
      "Test Set Accuracy: 98.24%, Correct: 167, Total: 170\n",
      "Fold 10\n",
      "-------\n",
      "Epoch [1/20], Loss: 10.6948\n",
      "Epoch [2/20], Loss: 1.5388\n",
      "Epoch [3/20], Loss: 0.3027\n",
      "Epoch [4/20], Loss: 0.0943\n",
      "Epoch [5/20], Loss: 0.0702\n",
      "Epoch [6/20], Loss: 0.0169\n",
      "Epoch [7/20], Loss: 0.0038\n",
      "Epoch [8/20], Loss: 0.0019\n",
      "Epoch [9/20], Loss: 0.0015\n",
      "Epoch [10/20], Loss: 0.0019\n",
      "Epoch [11/20], Loss: 0.0033\n",
      "Epoch [12/20], Loss: 0.0004\n",
      "Epoch [13/20], Loss: 0.0001\n",
      "Epoch [14/20], Loss: 0.0001\n",
      "Epoch [15/20], Loss: 0.0001\n",
      "Epoch [16/20], Loss: 0.0001\n",
      "Epoch [17/20], Loss: 0.0001\n",
      "Epoch [18/20], Loss: 0.0001\n",
      "Epoch [19/20], Loss: 0.0001\n",
      "Epoch [20/20], Loss: 0.0001\n",
      "Train Set Accuracy: 100.00%, Correct: 1530, Total: 1530\n",
      "Test Set Accuracy: 98.24%, Correct: 167, Total: 170\n"
     ]
    }
   ],
   "source": [
    "for fold, (train_idx, test_idx) in enumerate(kf.split(cross_dataset)):\n",
    "    print(f\"Fold {fold + 1}\")\n",
    "    print(\"-------\")\n",
    "    \n",
    "    epoch  = 20\n",
    "    \n",
    "    # Define the data loaders for the current fold\n",
    "    train_loader = DataLoader(\n",
    "        dataset=cross_dataset,\n",
    "        batch_size=128,\n",
    "        sampler=torch.utils.data.SubsetRandomSampler(train_idx),\n",
    "    )\n",
    "    test_loader = DataLoader(\n",
    "        dataset=cross_dataset,\n",
    "        batch_size=128,\n",
    "        sampler=torch.utils.data.SubsetRandomSampler(test_idx),\n",
    "    )\n",
    "\n",
    "    # Initialize the model and optimizer\n",
    "    model = ImageClassifier().to(device)\n",
    "    criterion = nn.CrossEntropyLoss()\n",
    "    optimizer = torch.optim.SGD(model.parameters(), lr=0.001, momentum=0.75)\n",
    "\n",
    "    # Train the model on the current fold\n",
    "    train_accuracy,test_accuracy = train_test(model, device, train_loader,test_loader, optimizer,criterion, epoch)\n",
    "        \n",
    "    # Append accuracies to lists\n",
    "    train_accuracies_V1_0.append(train_accuracy)\n",
    "    test_accuracies_V1_0.append(test_accuracy)"
   ]
  },
  {
   "cell_type": "code",
   "execution_count": 73,
   "id": "3ddcc149-06d8-44e3-aa18-6c459330a3b8",
   "metadata": {
    "tags": []
   },
   "outputs": [
    {
     "name": "stdout",
     "output_type": "stream",
     "text": [
      "Average Train Set Accuracy: 100.00%\n",
      "Average Test Set Accuracy: 97.29%\n"
     ]
    }
   ],
   "source": [
    "# Calculate average accuracies\n",
    "avg_train_accuracy = np.mean(train_accuracies_V1_0)\n",
    "avg_test_accuracy = np.mean(test_accuracies_V1_0)\n",
    "\n",
    "print(f\"Average Train Set Accuracy: {avg_train_accuracy:.2f}%\")\n",
    "print(f\"Average Test Set Accuracy: {avg_test_accuracy:.2f}%\")"
   ]
  },
  {
   "cell_type": "markdown",
   "id": "2a8de346-0acf-442e-881c-053bb8e8b6bb",
   "metadata": {},
   "source": [
    "#### Check on validation set"
   ]
  },
  {
   "cell_type": "code",
   "execution_count": 92,
   "id": "5e137961-86b0-499c-bcbf-809995b3735b",
   "metadata": {
    "tags": []
   },
   "outputs": [
    {
     "name": "stdout",
     "output_type": "stream",
     "text": [
      "Validation Set Accuracy: 96.00%, Correct: 96, Total: 100\n"
     ]
    }
   ],
   "source": [
    "validation_accuracy, validation_correct, validation_total = check_accuracy(validation_loader, model)\n",
    "\n",
    "print(f\"Validation Set Accuracy: {validation_accuracy:.2f}%, Correct: {validation_correct}, Total: {validation_total}\")"
   ]
  },
  {
   "cell_type": "markdown",
   "id": "8bbb84b8-6612-4727-9d6e-5b6b28acd01a",
   "metadata": {
    "tags": []
   },
   "source": [
    "# Save all in google bucket"
   ]
  },
  {
   "cell_type": "code",
   "execution_count": 79,
   "id": "d081b42a-6058-4148-aeae-b2562fc4815a",
   "metadata": {
    "tags": []
   },
   "outputs": [
    {
     "name": "stdout",
     "output_type": "stream",
     "text": [
      "Copying file://Completed_Jai_Audio&Speech_comp47700_PL1.ipynb [Content-Type=application/octet-stream]...\n",
      "Copying file://Copy_of_fyp.ipynb [Content-Type=application/octet-stream]...     \n",
      "Copying file://FYP_CROSS.ipynb [Content-Type=application/octet-stream]...       \n",
      "Copying file://README.md [Content-Type=text/markdown]...                        \n",
      "Omitting directory \"file://data_cloud_final\". (Did you mean to do cp -r?)       \n",
      "\n",
      "==> NOTE: You are performing a sequence of gsutil operations that may\n",
      "run significantly faster if you instead use gsutil -m cp ... Please\n",
      "see the -m section under \"gsutil help options\" for further information\n",
      "about when gsutil -m can be advantageous.\n",
      "\n",
      "Copying file://data_cloud_final.zip [Content-Type=application/zip]...\n",
      "==> NOTE: You are uploading one or more large file(s), which would run          \n",
      "significantly faster if you enable parallel composite uploads. This\n",
      "feature can be enabled by editing the\n",
      "\"parallel_composite_upload_threshold\" value in your .boto\n",
      "configuration file. However, note that if you do this large files will\n",
      "be uploaded as `composite objects\n",
      "<https://cloud.google.com/storage/docs/composite-objects>`_,which\n",
      "means that any user who downloads such objects will need to have a\n",
      "compiled crcmod installed (see \"gsutil help crcmod\"). This is because\n",
      "without a compiled crcmod, computing checksums on composite objects is\n",
      "so slow that gsutil disables downloads of composite objects.\n",
      "\n",
      "Copying file://fyp.ipynb [Content-Type=application/octet-stream]...             \n",
      "Copying file://fyp_test.ipynb [Content-Type=application/octet-stream]...        \n",
      "Copying file://modelV1_0.pth [Content-Type=application/octet-stream]...         \n",
      "Copying file://modelV1_1.pth [Content-Type=application/octet-stream]...         \n",
      "Copying file://modelV1_2.pth [Content-Type=application/octet-stream]...         \n",
      "Copying file://modelV2_0.pth [Content-Type=application/octet-stream]...         \n",
      "Copying file://modelV2_1.pth [Content-Type=application/octet-stream]...         \n",
      "Omitting directory \"file://training_set\". (Did you mean to do cp -r?)           \n",
      "\n",
      "Operation completed over 12 objects/247.7 MiB.                                   \n"
     ]
    }
   ],
   "source": [
    "!gsutil cp * gs://igneous-core-416413-eu-notebooks"
   ]
  },
  {
   "cell_type": "code",
   "execution_count": null,
   "id": "6b4a8a12-4b42-44ac-ab8b-15bb933e6198",
   "metadata": {},
   "outputs": [],
   "source": []
  }
 ],
 "metadata": {
  "colab": {
   "collapsed_sections": [
    "4CvUl3s6fOET"
   ],
   "provenance": []
  },
  "kernelspec": {
   "display_name": "PyTorch 2.0 (Local)",
   "language": "python",
   "name": "pytorch-2-0"
  },
  "language_info": {
   "codemirror_mode": {
    "name": "ipython",
    "version": 3
   },
   "file_extension": ".py",
   "mimetype": "text/x-python",
   "name": "python",
   "nbconvert_exporter": "python",
   "pygments_lexer": "ipython3",
   "version": "3.10.13"
  }
 },
 "nbformat": 4,
 "nbformat_minor": 5
}
